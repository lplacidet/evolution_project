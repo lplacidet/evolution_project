{
 "cells": [
  {
   "cell_type": "markdown",
   "metadata": {},
   "source": [
    "\n",
    "\n",
    "# Project: Comparison of Existing Algorithms applied on Flappy Bird\n",
    "\n",
    "<a href=\"https://github.com/lplacidet/evolution_project\">https://github.com/lplacidet/evolution_project</a>"
   ]
  },
  {
   "cell_type": "markdown",
   "metadata": {},
   "source": [
    "Importing Libraries"
   ]
  },
  {
   "cell_type": "code",
   "execution_count": 1,
   "metadata": {},
   "outputs": [
    {
     "data": {
      "text/plain": [
       "Plots.GRBackend()"
      ]
     },
     "execution_count": 1,
     "metadata": {},
     "output_type": "execute_result"
    }
   ],
   "source": [
    "using Random\n",
    "using LinearAlgebra\n",
    "using Statistics\n",
    "using Plots\n",
    "\n",
    "using Cxx, Libdl\n",
    "\n",
    "gr(reuse=true)"
   ]
  },
  {
   "cell_type": "code",
   "execution_count": 2,
   "metadata": {},
   "outputs": [
    {
     "name": "stdout",
     "output_type": "stream",
     "text": [
      "ggre-gg"
     ]
    }
   ],
   "source": [
    "const path_to_lib = pwd()\n",
    "addHeaderDir(path_to_lib*\"/world/\", kind=C_System)\n",
    "cxxinclude(\"runWorld.h\")\n",
    "print(\"gg\")\n",
    "#objective = @cxx FlappyXP->evaluate\n",
    "print(\"re-gg\")"
   ]
  },
  {
   "cell_type": "code",
   "execution_count": 3,
   "metadata": {},
   "outputs": [
    {
     "data": {
      "text/plain": [
       "Individu"
      ]
     },
     "execution_count": 3,
     "metadata": {},
     "output_type": "execute_result"
    }
   ],
   "source": [
    "mutable struct Individu\n",
    "    genes::Array{Float64}\n",
    "    fitness::Float64\n",
    "end\n",
    "\n",
    "function Individu(n::Int)\n",
    "    newgenes = [0.0,0.0,0.0,0.0]\n",
    "    for i in 1:4\n",
    "        newgenes[i] = rand()\n",
    "    end\n",
    "    Individu(newgenes, -Inf)\n",
    "end "
   ]
  },
  {
   "cell_type": "code",
   "execution_count": 4,
   "metadata": {},
   "outputs": [
    {
     "data": {
      "text/plain": [
       "true"
      ]
     },
     "execution_count": 4,
     "metadata": {},
     "output_type": "execute_result"
    }
   ],
   "source": [
    "cxx\"\"\"\n",
    "\n",
    "static double evaluate_bird(float g1, float g2, float g3, float g4) {\n",
    "float ind[4] = {g1,g2,g3,g4};\n",
    "bool dbg = false;\n",
    "#ifdef DISPLAY\n",
    "\tinitscr();\n",
    "\ttimeout(0);\n",
    "\tnoecho();\n",
    "\tcurs_set(FALSE);\n",
    "#endif\n",
    "\tconst int NRUN = 3;\n",
    "\tauto &g = ind;\n",
    "\tdouble d = 0;\n",
    "\tfor (int r = 0; r < NRUN; ++r) {\n",
    "\t\tWorld world;\n",
    "\t\tworld.gen.seed(r * 100);\n",
    "\t\twhile (world.bestiau.vivant) {\n",
    "#ifdef DISPLAY\n",
    "            std::this_thread::sleep_for(std::chrono::milliseconds(25));\n",
    "            display(world, world.dist == 0);\n",
    "#endif\n",
    "            world.update();\n",
    "            // update inputs\n",
    "            float birdY = world.bestiau.y;\n",
    "            float birdVY = world.bestiau.vit;\n",
    "            float obsX;\n",
    "            float obsY;\n",
    "            if (world.obstacles.size() > 0) {\n",
    "                const auto &o = world.obstacles.front();\n",
    "                obsY = o.y + world.hauteurPassage * 0.5;\n",
    "                obsX = o.x / world.W;\n",
    "            } else {\n",
    "                obsY = world.H * 0.5;\n",
    "                obsX = 1000.0;\n",
    "            }\n",
    "            if ((g[0]*birdY+g[1]*birdVY+g[2]*obsX+g[3]*obsY)>0.0) world.bestiauUp();\n",
    "        }\n",
    "        d += world.dist;\n",
    "    }\n",
    "#ifdef DISPLAY\n",
    "    endwin();\n",
    "#endif\n",
    "    return d;\n",
    "}\n",
    "\"\"\""
   ]
  },
  {
   "cell_type": "code",
   "execution_count": 5,
   "metadata": {},
   "outputs": [
    {
     "data": {
      "text/plain": [
       "cpptojulia (generic function with 1 method)"
      ]
     },
     "execution_count": 5,
     "metadata": {},
     "output_type": "execute_result"
    }
   ],
   "source": [
    "cpptojulia(g1::Float64, g2::Float64, g3::Float64, g4::Float64) = @cxx evaluate_bird(g1,g2,g3,g4)"
   ]
  },
  {
   "cell_type": "code",
   "execution_count": 6,
   "metadata": {},
   "outputs": [
    {
     "data": {
      "text/plain": [
       "evaluate_bird (generic function with 1 method)"
      ]
     },
     "execution_count": 6,
     "metadata": {},
     "output_type": "execute_result"
    }
   ],
   "source": [
    "function evaluate_bird(g::Array{Float64})\n",
    "    -1*cpptojulia(g[1],g[2],g[3],g[4])\n",
    "end"
   ]
  },
  {
   "cell_type": "code",
   "execution_count": 7,
   "metadata": {},
   "outputs": [
    {
     "name": "stdout",
     "output_type": "stream",
     "text": [
      "Individu([0.2008675276698526, 0.20573898714439087, 0.07595708292498915, 0.7700564538033077], -Inf)\n"
     ]
    },
    {
     "data": {
      "text/plain": [
       "0.3024"
      ]
     },
     "execution_count": 7,
     "metadata": {},
     "output_type": "execute_result"
    }
   ],
   "source": [
    "test_ind = Individu(4)\n",
    "println(test_ind)\n",
    "cpptojulia(test_ind.genes[1], test_ind.genes[2],test_ind.genes[3], test_ind.genes[4])"
   ]
  },
  {
   "cell_type": "markdown",
   "metadata": {},
   "source": [
    "\n",
    "\n",
    "## I. CMA-ES Algorithm\n"
   ]
  },
  {
   "cell_type": "code",
   "execution_count": 8,
   "metadata": {},
   "outputs": [
    {
     "data": {
      "text/plain": [
       "rastrigin (generic function with 1 method)"
      ]
     },
     "execution_count": 8,
     "metadata": {},
     "output_type": "execute_result"
    }
   ],
   "source": [
    "sphere(x::Array{Float64}) = sum((x .- solution).^2)\n",
    "himmelblau(x::Array{Float64}) = (x[1]^2 + x[2] - 11)^2 + (x[1] + x[2]^2 - 7)^2\n",
    "styblinski_tang(x::Array{Float64}) = sum(x.^4 .- 16 .* x.^2 .+ 5 .* x) / 2.0\n",
    "rastrigin(x::Array{Float64}) = 10.0 * length(x) .+ sum((x .- solution).^2 .- 10 .* cos.(2*pi.*(x .- solution)))"
   ]
  },
  {
   "cell_type": "code",
   "execution_count": 9,
   "metadata": {},
   "outputs": [],
   "source": [
    "mutable struct CMAES\n",
    "    N::Int\n",
    "    μ::Int\n",
    "    λ::Int\n",
    "    τ::Float64\n",
    "    τ_c::Float64\n",
    "    τ_σ::Float64\n",
    "    population::Array{Array{Float64}}\n",
    "    offspring::Array{Array{Float64}}\n",
    "    F_μ::Array{Float64}\n",
    "    F_λ::Array{Float64}\n",
    "    C::Array{Float64}\n",
    "    s::Array{Float64}\n",
    "    s_σ::Array{Float64}\n",
    "    σ::Float64\n",
    "    E::Array{Float64}\n",
    "    W::Array{Float64}\n",
    "    x::Array{Float64}\n",
    "end"
   ]
  },
  {
   "cell_type": "code",
   "execution_count": 10,
   "metadata": {},
   "outputs": [
    {
     "data": {
      "text/plain": [
       "evaluate_bird (generic function with 1 method)"
      ]
     },
     "execution_count": 10,
     "metadata": {},
     "output_type": "execute_result"
    }
   ],
   "source": [
    "N_value = 4\n",
    "mu = 5\n",
    "lambda = 150\n",
    "objective = evaluate_bird"
   ]
  },
  {
   "cell_type": "code",
   "execution_count": 83,
   "metadata": {},
   "outputs": [
    {
     "data": {
      "text/plain": [
       "CMAES"
      ]
     },
     "execution_count": 83,
     "metadata": {},
     "output_type": "execute_result"
    }
   ],
   "source": [
    "function CMAES(;N=N_value, μ=mu, λ=lambda, τ=sqrt(N), τ_c=N^2, τ_σ=sqrt(N))\n",
    "    x = randn(N)\n",
    "    population = fill(x, µ)\n",
    "    offspring = Array{Array{Float64}}(undef, λ)\n",
    "    F_µ = Inf .* ones(µ)\n",
    "    F_λ = Inf .* ones(λ)\n",
    "    C = Array(Diagonal{Float64}(I, N))\n",
    "    s = zeros(N)\n",
    "    s_σ = zeros(N)\n",
    "    σ = 0.05\n",
    "    E = zeros(N, λ)\n",
    "    W = zeros(N, λ);\n",
    "    CMAES(N, μ, λ, τ, τ_c, τ_σ, population, offspring, F_µ, F_λ, C, s, s_σ, σ, E, W, x)\n",
    "end"
   ]
  },
  {
   "cell_type": "code",
   "execution_count": 12,
   "metadata": {},
   "outputs": [
    {
     "data": {
      "text/plain": [
       "4-element Array{Float64,1}:\n",
       " -2.5674941612741753   \n",
       " -1.7791981018740126   \n",
       "  0.0010024560681872819\n",
       "  0.8201403236630794   "
      ]
     },
     "execution_count": 12,
     "metadata": {},
     "output_type": "execute_result"
    }
   ],
   "source": [
    "randn(4)"
   ]
  },
  {
   "cell_type": "code",
   "execution_count": 13,
   "metadata": {
    "scrolled": true
   },
   "outputs": [
    {
     "data": {
      "text/plain": [
       "CMAES(4, 5, 150, 2.0, 16.0, 2.0, Array{Float64,N} where N[[-0.30613317850313165, -0.30885092792154883, -1.8529861160266794, -0.21983409934777637], [-0.30613317850313165, -0.30885092792154883, -1.8529861160266794, -0.21983409934777637], [-0.30613317850313165, -0.30885092792154883, -1.8529861160266794, -0.21983409934777637], [-0.30613317850313165, -0.30885092792154883, -1.8529861160266794, -0.21983409934777637], [-0.30613317850313165, -0.30885092792154883, -1.8529861160266794, -0.21983409934777637]], Array{Float64,N} where N[#undef, #undef, #undef, #undef, #undef, #undef, #undef, #undef, #undef, #undef  …  #undef, #undef, #undef, #undef, #undef, #undef, #undef, #undef, #undef, #undef], [Inf, Inf, Inf, Inf, Inf], [Inf, Inf, Inf, Inf, Inf, Inf, Inf, Inf, Inf, Inf  …  Inf, Inf, Inf, Inf, Inf, Inf, Inf, Inf, Inf, Inf], [1.0 0.0 0.0 0.0; 0.0 1.0 0.0 0.0; 0.0 0.0 1.0 0.0; 0.0 0.0 0.0 1.0], [0.0, 0.0, 0.0, 0.0], [0.0, 0.0, 0.0, 0.0], 1.0, [0.0 0.0 … 0.0 0.0; 0.0 0.0 … 0.0 0.0; 0.0 0.0 … 0.0 0.0; 0.0 0.0 … 0.0 0.0], [0.0 0.0 … 0.0 0.0; 0.0 0.0 … 0.0 0.0; 0.0 0.0 … 0.0 0.0; 0.0 0.0 … 0.0 0.0], [-0.30613317850313165, -0.30885092792154883, -1.8529861160266794, -0.21983409934777637])"
      ]
     },
     "execution_count": 13,
     "metadata": {},
     "output_type": "execute_result"
    }
   ],
   "source": [
    "c = CMAES()"
   ]
  },
  {
   "cell_type": "code",
   "execution_count": 96,
   "metadata": {},
   "outputs": [
    {
     "data": {
      "text/plain": [
       "step_cmaes! (generic function with 1 method)"
      ]
     },
     "execution_count": 96,
     "metadata": {},
     "output_type": "execute_result"
    }
   ],
   "source": [
    "function step_cmaes!(c::CMAES; obj=objective, visualize=false, anim=Nothing)\n",
    "    # L1\n",
    "    mod = norm(c.C)\n",
    "    for j in 1:N_value\n",
    "        for k in 1:N_value\n",
    "            c.C[j,k] = c.C[j,k]/mod\n",
    "        end\n",
    "    end\n",
    "    sqrt_c = cholesky((c.C + c.C') / 2.0).U\n",
    "    for i in 1:c.λ\n",
    "        c.E[:,i] = randn(c.N)\n",
    "        mod = norm(c.E[:,i])\n",
    "        for j in 1:4\n",
    "            c.E[:,i][j] = c.E[:,i][j]/mod\n",
    "        end\n",
    "        c.W[:,i] = c.σ * (sqrt_c * c.E[:,i])\n",
    "        c.offspring[i] = c.x + c.W[:,i]\n",
    "        mod = norm(c.offspring[i])\n",
    "        for j in 1:4\n",
    "            c.offspring[i][j] = c.offspring[i][j]/mod\n",
    "        end\n",
    "        c.F_λ[i] =  obj(c.offspring[i])\n",
    "    end    \n",
    "    # Select new parent population\n",
    "    idx = sortperm(c.F_λ)[1:c.μ]\n",
    "    for i in 1:c.μ\n",
    "        c.population[i] = c.offspring[idx[i]]\n",
    "        c.F_μ[i] = c.F_λ[idx[i]]\n",
    "    end    \n",
    "    # L2\n",
    "    w = vec(mean(c.W[:,idx], dims=2))\n",
    "    c.x += w \n",
    "    mod = norm(c.x)\n",
    "    for j in 1:4\n",
    "        c.x[j] = c.x[j]/mod\n",
    "    end\n",
    "    # L3\n",
    "    c.s = (1.0 - 1.0/c.τ)*c.s + (sqrt(c.μ/c.τ * (2.0 - 1.0/c.τ))/c.σ)*w   \n",
    "    # L4\n",
    "    c.C = (1.0 - 1.0/c.τ_c).*c.C + (c.s./c.τ_c)*c.s'    \n",
    "    # L5\n",
    "    ɛ = vec(mean(c.E[:,idx], dims=2))\n",
    "    c.s_σ = (1.0 - 1.0/c.τ_σ)*c.s_σ + sqrt(c.μ/c.τ_σ*(2.0 - 1.0/c.τ_σ))*ɛ    \n",
    "    # L6\n",
    "    c.σ = c.σ*exp(((c.s_σ'*c.s_σ)[1] - c.N)/(2*c.N*sqrt(c.N)))\n",
    "    #println(\"this is old sigma ---> \",c.σ)\n",
    "    if c.σ > 1.0\n",
    "        c.σ = 1.0\n",
    "    end\n",
    "    #println(\"this is new sigma ---> \",c.σ)\n",
    "    if visualize\n",
    "        plot(xs, ys, fz, st=:contour)\n",
    "        scatter!([c.offspring[i][1] for i in 1:λ], [c.offspring[i][2] for i in 1:λ], \n",
    "            xlims=(-5, 5), ylims=(-5, 5), legend=:none)\n",
    "        scatter!([c.x[1]], [c.x[2]], color=:black, marker=:rect,\n",
    "            xlims=(-5, 5), ylims=(-5, 5), legend=:none)\n",
    "        frame(anim)\n",
    "    end\n",
    "    c\n",
    "end"
   ]
  },
  {
   "cell_type": "code",
   "execution_count": 65,
   "metadata": {},
   "outputs": [
    {
     "name": "stdout",
     "output_type": "stream",
     "text": [
      "[2.0169281555851915, 2.3170365630410967, -0.9384957011230115, 0.7502249907175266] ----- 0.5\n",
      "[0.6741490440576522, 0.5305228999967009, -0.4834324601607518, 0.17424573291236597] ----- 0.6486808500881223\n",
      "[0.6365676549051631, 0.6553708329736999, -0.4040496432825109, 0.044884048159402445] ----- 0.7915384104211979\n"
     ]
    }
   ],
   "source": [
    "c = CMAES()\n",
    "println(c.population[5],\" ----- \", c.σ)\n",
    "step_cmaes!(c)\n",
    "println(c.population[5],\" ----- \", c.σ)\n",
    "step_cmaes!(c)\n",
    "println(c.population[5],\" ----- \", c.σ)"
   ]
  },
  {
   "cell_type": "code",
   "execution_count": 61,
   "metadata": {},
   "outputs": [
    {
     "data": {
      "text/plain": [
       "1.0"
      ]
     },
     "execution_count": 61,
     "metadata": {},
     "output_type": "execute_result"
    }
   ],
   "source": [
    "m=[1.0 0.0 0.0 0.0; 0.0 1.0 0.0 0.0; 0.0 0.0 1.0 0.0; 0.0 0.0 0.0 1.0]\n",
    "norm(m)\n",
    "m[4,4]"
   ]
  },
  {
   "cell_type": "code",
   "execution_count": 26,
   "metadata": {},
   "outputs": [
    {
     "data": {
      "text/plain": [
       "plot_obj_cmaes (generic function with 1 method)"
      ]
     },
     "execution_count": 26,
     "metadata": {},
     "output_type": "execute_result"
    }
   ],
   "source": [
    "function plot_obj_cmaes()\n",
    "    c = CMAES()\n",
    "    println(\"x initial: \", c.x)\n",
    "    anim = Animation()\n",
    "    for i in 1:100\n",
    "        v = mod(i, 1) == 0\n",
    "        step_cmaes!(c, visualize=v, anim=anim)\n",
    "    end\n",
    "    println(\"x final: \", c.x)\n",
    "    gif(anim)\n",
    "end"
   ]
  },
  {
   "cell_type": "code",
   "execution_count": 106,
   "metadata": {},
   "outputs": [
    {
     "data": {
      "text/plain": [
       "not_plot_obj_cmaes (generic function with 1 method)"
      ]
     },
     "execution_count": 106,
     "metadata": {},
     "output_type": "execute_result"
    }
   ],
   "source": [
    "function not_plot_obj_cmaes(nbgen::Int)\n",
    "    c = CMAES()\n",
    "    for i in 1:nbgen\n",
    "        v = mod(i, 1) == 0\n",
    "        if i%50==0\n",
    "            println(i,\" : \",-1*evaluate_bird(c.x))\n",
    "        end\n",
    "        step_cmaes!(c, visualize=false)\n",
    "    end\n",
    "    c.x\n",
    "end"
   ]
  },
  {
   "cell_type": "code",
   "execution_count": 107,
   "metadata": {},
   "outputs": [
    {
     "name": "stdout",
     "output_type": "stream",
     "text": [
      "50 : 44.24424000000001\n",
      "100 : 44.24424000000001\n",
      "150 : 172.3200799999977\n",
      "200 : 171.5691199999977\n",
      "250 : 175.07967999999764\n",
      "300 : 175.07967999999764\n",
      "350 : 175.07967999999764\n",
      "400 : 175.07967999999764\n",
      "450 : 175.07967999999764\n",
      "500 : 175.07967999999764\n",
      "550 : 175.07967999999764\n",
      "600 : 175.07967999999764\n",
      "650 : 175.07967999999764\n",
      "700 : 175.07967999999764\n",
      "750 : 175.07967999999764\n",
      "800 : 175.07967999999764\n",
      "850 : 175.07967999999764\n",
      "900 : 175.07967999999764\n",
      "950 : 175.07967999999764\n",
      "1000 : 175.07967999999764\n",
      "1050 : 175.07967999999764\n",
      "1100 : 175.07967999999764\n",
      "1150 : 175.07967999999764\n",
      "1200 : 175.07967999999764\n",
      "1250 : 175.07967999999764\n",
      "1300 : 175.07967999999764\n",
      "1350 : 175.07967999999764\n",
      "1400 : 175.07967999999764\n",
      "1450 : 175.07967999999764\n",
      "1500 : 175.07967999999764\n",
      "-175.07967999999764\n"
     ]
    },
    {
     "data": {
      "text/plain": [
       "4-element Array{Float64,1}:\n",
       " -0.7783477229507804 \n",
       " -0.15074936366742475\n",
       " -0.16228513028695093\n",
       "  0.5874631801389334 "
      ]
     },
     "execution_count": 107,
     "metadata": {},
     "output_type": "execute_result"
    }
   ],
   "source": [
    "fz(x, y) = objective([x, y])\n",
    "my_guess = not_plot_obj_cmaes(1500)\n",
    "println(evaluate_bird(my_guess))\n",
    "my_guess"
   ]
  },
  {
   "cell_type": "code",
   "execution_count": 82,
   "metadata": {},
   "outputs": [
    {
     "data": {
      "text/plain": [
       "3.7131686565287767"
      ]
     },
     "execution_count": 82,
     "metadata": {},
     "output_type": "execute_result"
    }
   ],
   "source": [
    "norm([0.35208954887234667, -3.4358274688486206, 1.0413801214669456, 0.8799269676066064])"
   ]
  },
  {
   "cell_type": "markdown",
   "metadata": {},
   "source": [
    "\n",
    "\n",
    "## II. ES (mu/signam, lambda)\n"
   ]
  },
  {
   "cell_type": "code",
   "execution_count": 19,
   "metadata": {},
   "outputs": [
    {
     "data": {
      "text/plain": [
       "sphere (generic function with 1 method)"
      ]
     },
     "execution_count": 19,
     "metadata": {},
     "output_type": "execute_result"
    }
   ],
   "source": [
    "s = [3.5, -0.2]\n",
    "sphere(x::Array{Float64}) = -sum((x .- s).^2)"
   ]
  },
  {
   "cell_type": "code",
   "execution_count": 20,
   "metadata": {},
   "outputs": [
    {
     "data": {
      "text/plain": [
       "2-element Array{Float64,1}:\n",
       " 0.16643686217522202\n",
       " 2.948094281794701  "
      ]
     },
     "execution_count": 20,
     "metadata": {},
     "output_type": "execute_result"
    }
   ],
   "source": [
    "npop = 50     # population size\n",
    "sigma = 0.1   # noise standard deviation\n",
    "alpha = 0.001 # step size\n",
    "x = randn(2)  # initial expert"
   ]
  },
  {
   "cell_type": "code",
   "execution_count": 21,
   "metadata": {},
   "outputs": [
    {
     "data": {
      "text/plain": [
       "step_es (generic function with 1 method)"
      ]
     },
     "execution_count": 21,
     "metadata": {},
     "output_type": "execute_result"
    }
   ],
   "source": [
    "xs = -5.0:0.1:5.0\n",
    "ys = -5.0:0.1:5.0\n",
    "#fz(x, y) = objective([x, y]);\n",
    "\n",
    "function step_es(x::Array{Float64}; npop=50, sigma=0.1, alpha=0.01, visualize=false, anim=Nothing)\n",
    "    N = randn(npop, 2)\n",
    "    P = repeat(x, 1, npop)' .+ sigma .* N\n",
    "    R = zeros(npop)\n",
    "    for i in eachindex(R)\n",
    "        R[i] = objective(P[i, :]) #evaluation\n",
    "    end\n",
    "    A = (R .- mean(R)) ./ std(R) #the selection is done here: we are giving a higher porbability to individuals that did well\n",
    "    \n",
    "    if visualize\n",
    "        plot(xs, ys, fz, st=:contour)\n",
    "        scatter!(P[:, 1], P[:, 2], xlims=(-5, 5), ylims=(-5, 5), zcolor=R)\n",
    "        scatter!([x[1]], [x[2]], legend=:none, color=:black, marker=:rect)\n",
    "        frame(anim)\n",
    "    end\n",
    "    \n",
    "    x .+ alpha/(npop * sigma) .* [dot(N[:, i], A) for i in 1:size(N, 2)] #modification step: changing the center of gravity\n",
    "end"
   ]
  },
  {
   "cell_type": "code",
   "execution_count": 22,
   "metadata": {},
   "outputs": [
    {
     "data": {
      "text/plain": [
       "plot_obj_es (generic function with 1 method)"
      ]
     },
     "execution_count": 22,
     "metadata": {},
     "output_type": "execute_result"
    }
   ],
   "source": [
    "function plot_obj_es()\n",
    "    x = randn(2) #initial population: which is a single point\n",
    "    println(\"x initial: \", x)\n",
    "    anim = Animation()\n",
    "    for i in 1:500\n",
    "        v = mod(i, 10) == 0\n",
    "        x = step_es(x, npop=50, sigma=0.1, alpha=0.001, visualize=v, anim=anim)\n",
    "    end\n",
    "    println(\"x final: \", x)\n",
    "    gif(anim)\n",
    "end"
   ]
  },
  {
   "cell_type": "code",
   "execution_count": 23,
   "metadata": {},
   "outputs": [
    {
     "ename": "UndefVarError",
     "evalue": "UndefVarError: solution not defined",
     "output_type": "error",
     "traceback": [
      "UndefVarError: solution not defined",
      "",
      "Stacktrace:",
      " [1] top-level scope at In[23]:3"
     ]
    }
   ],
   "source": [
    "xs = -5.0:0.1:5.0\n",
    "ys = -5.0:0.1:5.0\n",
    "\n",
    "#fz(x, y) = objective_es([x, y])\n",
    "println(solution) # optimal for sphere and rastrigin\n",
    "#plot_obj_cmaes()"
   ]
  }
 ],
 "metadata": {
  "@webio": {
   "lastCommId": null,
   "lastKernelId": null
  },
  "kernelspec": {
   "display_name": "Julia 1.3.1",
   "language": "julia",
   "name": "julia-1.3"
  },
  "language_info": {
   "file_extension": ".jl",
   "mimetype": "application/julia",
   "name": "julia",
   "version": "1.3.1"
  }
 },
 "nbformat": 4,
 "nbformat_minor": 2
}
