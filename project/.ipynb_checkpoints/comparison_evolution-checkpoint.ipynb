{
 "cells": [
  {
   "cell_type": "markdown",
   "metadata": {},
   "source": [
    "\n",
    "\n",
    "# Project: Comparison of Existing Algorithms applied on Flappy Bird\n",
    "\n",
    "<a href=\"https://github.com/lplacidet/evolution_project\">https://github.com/lplacidet/evolution_project</a>"
   ]
  },
  {
   "cell_type": "markdown",
   "metadata": {},
   "source": [
    "Importing Libraries"
   ]
  },
  {
   "cell_type": "code",
   "execution_count": 1,
   "metadata": {},
   "outputs": [
    {
     "data": {
      "text/plain": [
       "Plots.GRBackend()"
      ]
     },
     "execution_count": 1,
     "metadata": {},
     "output_type": "execute_result"
    }
   ],
   "source": [
    "using Random\n",
    "using LinearAlgebra\n",
    "using Statistics\n",
    "using Plots\n",
    "\n",
    "using Cxx, Libdl\n",
    "\n",
    "gr(reuse=true)"
   ]
  },
  {
   "cell_type": "code",
   "execution_count": 2,
   "metadata": {},
   "outputs": [
    {
     "name": "stdout",
     "output_type": "stream",
     "text": [
      "ggre-gg"
     ]
    }
   ],
   "source": [
    "const path_to_lib = pwd()\n",
    "addHeaderDir(path_to_lib*\"/world/\", kind=C_System)\n",
    "cxxinclude(\"runWorld.h\")\n",
    "print(\"gg\")\n",
    "#objective = @cxx FlappyXP->evaluate\n",
    "print(\"re-gg\")"
   ]
  },
  {
   "cell_type": "code",
   "execution_count": 3,
   "metadata": {},
   "outputs": [
    {
     "data": {
      "text/plain": [
       "Individu([0.14076849819132997, 0.3158533149474594, 0.5480205731600551, 0.7927490444006593, 0.5668609218714298], -Inf)"
      ]
     },
     "execution_count": 3,
     "metadata": {},
     "output_type": "execute_result"
    }
   ],
   "source": [
    "N_genes = 5\n",
    "\n",
    "mutable struct Individu\n",
    "    genes::Array{Float64}\n",
    "    fitness::Float64\n",
    "end\n",
    "\n",
    "function Individu(n::Int)\n",
    "    newgenes = zeros(n)\n",
    "    for i in 1:n\n",
    "        newgenes[i] = rand()\n",
    "    end\n",
    "    Individu(newgenes, -Inf)\n",
    "end \n",
    "\n",
    "Individu(N_genes)"
   ]
  },
  {
   "cell_type": "code",
   "execution_count": 4,
   "metadata": {},
   "outputs": [
    {
     "data": {
      "text/plain": [
       "true"
      ]
     },
     "execution_count": 4,
     "metadata": {},
     "output_type": "execute_result"
    }
   ],
   "source": [
    "cxx\"\"\"\n",
    "\n",
    "static double evaluate_bird(float g1, float g2, float g3, float g4, float g5) {\n",
    "float ind[5] = {g1,g2,g3,g4,g5};\n",
    "bool dbg = false;\n",
    "#ifdef DISPLAY\n",
    "\tinitscr();\n",
    "\ttimeout(0);\n",
    "\tnoecho();\n",
    "\tcurs_set(FALSE);\n",
    "#endif\n",
    "\tconst int NRUN = 3;\n",
    "\tauto &g = ind;\n",
    "\tdouble d = 0;\n",
    "\tfor (int r = 0; r < NRUN; ++r) {\n",
    "\t\tWorld world;\n",
    "\t\tworld.gen.seed(r * 100);\n",
    "\t\twhile (world.bestiau.vivant) {\n",
    "#ifdef DISPLAY\n",
    "            std::this_thread::sleep_for(std::chrono::milliseconds(25));\n",
    "            display(world, world.dist == 0);\n",
    "#endif\n",
    "            world.update();\n",
    "            // update inputs\n",
    "            float birdY = world.bestiau.y;\n",
    "            float birdVY = world.bestiau.vit;\n",
    "            float obsX;\n",
    "            float obsY;\n",
    "            if (world.obstacles.size() > 0) {\n",
    "                const auto &o = world.obstacles.front();\n",
    "                obsY = o.y + world.hauteurPassage * 0.5;\n",
    "                obsX = o.x / world.W;\n",
    "            } else {\n",
    "                obsY = world.H * 0.5;\n",
    "                obsX = 1000.0;\n",
    "            }\n",
    "            if ((g[0]*birdY+g[1]*birdVY+g[2]*obsX+g[3]*obsY+g[4]*world.dist)>1.0) world.bestiauUp();\n",
    "        }\n",
    "        d += world.dist;\n",
    "        float distToTunnel = world.bestiau.y-(world.obstacles.front().y+world.hauteurPassage*0.5);\n",
    "        d += 0.3*(1-((distToTunnel*distToTunnel)/(world.H*world.H)));\n",
    "    }\n",
    "#ifdef DISPLAY\n",
    "    endwin();\n",
    "#endif\n",
    "    return d;\n",
    "}\n",
    "\"\"\""
   ]
  },
  {
   "cell_type": "code",
   "execution_count": 5,
   "metadata": {},
   "outputs": [
    {
     "name": "stderr",
     "output_type": "stream",
     "text": [
      "In file included from /Cxx.cpp:1:\n",
      "\u001b[1mIn[5]:30:13: \u001b[0m\u001b[0;1;31merror: \u001b[0m\u001b[1muse of undeclared identifier 'display'\u001b[0m\n",
      "            display(world, world.dist == 0);\n",
      "\u001b[0;1;32m            ^\n",
      "\u001b[0m"
     ]
    },
    {
     "data": {
      "text/plain": [
       "true"
      ]
     },
     "execution_count": 5,
     "metadata": {},
     "output_type": "execute_result"
    }
   ],
   "source": [
    "cxx\"\"\"\n",
    "#define DISPLAY\n",
    "#include <chrono>\n",
    "#include \"coverage.hpp\"\n",
    "#include \"include/gaga/gaga.hpp\"\n",
    "#include \"include/grgen/multiint.hpp\"\n",
    "#include \"include/grgen/real.hpp\"\n",
    "#include \"include/grgen/grn.hpp\"\n",
    "#include \"signalxp.hpp\"\n",
    "#include \"bestiau.hpp\"\n",
    "#include <curses.h>\n",
    "\n",
    "static double evaluate_bird_display(float g1, float g2, float g3, float g4, float g5) {\n",
    "float ind[5] = {g1,g2,g3,g4,g5};\n",
    "bool dbg = false;\n",
    "#ifdef DISPLAY\n",
    "\tinitscr();\n",
    "\ttimeout(0);\n",
    "\tnoecho();\n",
    "\tcurs_set(FALSE);\n",
    "#endif\n",
    "\tconst int NRUN = 3;\n",
    "\tauto &g = ind;\n",
    "\tdouble d = 0;\n",
    "\tfor (int r = 0; r < NRUN; ++r) {\n",
    "\t\tWorld world;\n",
    "\t\tworld.gen.seed(r * 100);\n",
    "\t\twhile (world.bestiau.vivant) {\n",
    "#ifdef DISPLAY\n",
    "            std::this_thread::sleep_for(std::chrono::milliseconds(25));\n",
    "            display(world, world.dist == 0);\n",
    "#endif\n",
    "            world.update();\n",
    "            // update inputs\n",
    "            float birdY = world.bestiau.y;\n",
    "            float birdVY = world.bestiau.vit;\n",
    "            float obsX;\n",
    "            float obsY;\n",
    "            if (world.obstacles.size() > 0) {\n",
    "                const auto &o = world.obstacles.front();\n",
    "                obsY = o.y + world.hauteurPassage * 0.5;\n",
    "                obsX = o.x / world.W;\n",
    "            } else {\n",
    "                obsY = world.H * 0.5;\n",
    "                obsX = 1000.0;\n",
    "            }\n",
    "            if ((g[0]*birdY+g[1]*birdVY+g[2]*obsX+g[3]*obsY+g[4]*world.dist)>1.0) world.bestiauUp();\n",
    "        }\n",
    "        d += world.dist;\n",
    "        float distToTunnel = world.bestiau.y-(world.obstacles.front().y+world.hauteurPassage*0.5);\n",
    "        d += 0.3*(1-((distToTunnel*distToTunnel)/(world.H*world.H)));\n",
    "    }\n",
    "#ifdef DISPLAY\n",
    "    endwin();\n",
    "#endif\n",
    "    return d;\n",
    "}\n",
    "\"\"\""
   ]
  },
  {
   "cell_type": "code",
   "execution_count": 6,
   "metadata": {},
   "outputs": [
    {
     "data": {
      "text/plain": [
       "cpptojulia (generic function with 1 method)"
      ]
     },
     "execution_count": 6,
     "metadata": {},
     "output_type": "execute_result"
    }
   ],
   "source": [
    "cpptojulia(g1::Float64, g2::Float64, g3::Float64, g4::Float64, g5::Float64) = @cxx evaluate_bird(g1,g2,g3,g4,g5)"
   ]
  },
  {
   "cell_type": "code",
   "execution_count": 7,
   "metadata": {},
   "outputs": [
    {
     "data": {
      "text/plain": [
       "evaluate_bird (generic function with 1 method)"
      ]
     },
     "execution_count": 7,
     "metadata": {},
     "output_type": "execute_result"
    }
   ],
   "source": [
    "function evaluate_bird(g::Array{Float64})\n",
    "    -1*cpptojulia(g[1],g[2],g[3],g[4],g[5])\n",
    "end"
   ]
  },
  {
   "cell_type": "code",
   "execution_count": 8,
   "metadata": {},
   "outputs": [
    {
     "name": "stdout",
     "output_type": "stream",
     "text": [
      "Individu([0.49502804564770564, 0.10002648856758878, 0.4295914142692099, 0.018568052095682352, 0.21696039225478825], -Inf)\n"
     ]
    },
    {
     "data": {
      "text/plain": [
       "1.8873729519689084"
      ]
     },
     "execution_count": 8,
     "metadata": {},
     "output_type": "execute_result"
    }
   ],
   "source": [
    "test_ind = Individu(N_genes)\n",
    "println(test_ind)\n",
    "cpptojulia(test_ind.genes[1], test_ind.genes[2],test_ind.genes[3], test_ind.genes[4], test_ind.genes[5])"
   ]
  },
  {
   "cell_type": "markdown",
   "metadata": {},
   "source": [
    "\n",
    "\n",
    "## I. CMA-ES Algorithm\n"
   ]
  },
  {
   "cell_type": "code",
   "execution_count": 9,
   "metadata": {},
   "outputs": [],
   "source": [
    "mutable struct CMAES\n",
    "    N::Int\n",
    "    μ::Int\n",
    "    λ::Int\n",
    "    τ::Float64\n",
    "    τ_c::Float64\n",
    "    τ_σ::Float64\n",
    "    population::Array{Array{Float64}}\n",
    "    offspring::Array{Array{Float64}}\n",
    "    F_μ::Array{Float64}\n",
    "    F_λ::Array{Float64}\n",
    "    C::Array{Float64}\n",
    "    s::Array{Float64}\n",
    "    s_σ::Array{Float64}\n",
    "    σ::Float64\n",
    "    E::Array{Float64}\n",
    "    W::Array{Float64}\n",
    "    x::Array{Float64}\n",
    "end"
   ]
  },
  {
   "cell_type": "code",
   "execution_count": 10,
   "metadata": {},
   "outputs": [
    {
     "data": {
      "text/plain": [
       "evaluate_bird (generic function with 1 method)"
      ]
     },
     "execution_count": 10,
     "metadata": {},
     "output_type": "execute_result"
    }
   ],
   "source": [
    "N_value = N_genes\n",
    "mu = 5\n",
    "lambda = 5\n",
    "objective = evaluate_bird"
   ]
  },
  {
   "cell_type": "code",
   "execution_count": 11,
   "metadata": {},
   "outputs": [
    {
     "data": {
      "text/plain": [
       "CMAES"
      ]
     },
     "execution_count": 11,
     "metadata": {},
     "output_type": "execute_result"
    }
   ],
   "source": [
    "function CMAES(;N=N_value, μ=mu, λ=lambda, τ=sqrt(N), τ_c=N^2, τ_σ=sqrt(N))\n",
    "    x = randn(N)\n",
    "    population = fill(x, µ)\n",
    "    offspring = Array{Array{Float64}}(undef, λ)\n",
    "    F_µ = Inf .* ones(µ)\n",
    "    F_λ = Inf .* ones(λ)\n",
    "    C = Array(Diagonal{Float64}(I, N))\n",
    "    s = zeros(N)\n",
    "    s_σ = zeros(N)\n",
    "    σ = 0.1\n",
    "    E = zeros(N, λ)\n",
    "    W = zeros(N, λ);\n",
    "    CMAES(N, μ, λ, τ, τ_c, τ_σ, population, offspring, F_µ, F_λ, C, s, s_σ, σ, E, W, x)\n",
    "end"
   ]
  },
  {
   "cell_type": "code",
   "execution_count": 12,
   "metadata": {},
   "outputs": [
    {
     "data": {
      "text/plain": [
       "step_cmaes! (generic function with 1 method)"
      ]
     },
     "execution_count": 12,
     "metadata": {},
     "output_type": "execute_result"
    }
   ],
   "source": [
    "function step_cmaes!(c::CMAES; obj=objective, visualize=false, anim=Nothing)\n",
    "    # L1\n",
    "    sqrt_c = cholesky((c.C + c.C') / 2.0).U\n",
    "    for i in 1:c.λ\n",
    "        c.E[:,i] = randn(c.N)\n",
    "        c.W[:,i] = c.σ * (sqrt_c * c.E[:,i])\n",
    "        c.offspring[i] = c.x + c.W[:,i]\n",
    "        c.F_λ[i] =  obj(c.offspring[i])\n",
    "    end    \n",
    "    # Select new parent population\n",
    "    idx = sortperm(c.F_λ)[1:c.μ]\n",
    "    for i in 1:c.μ\n",
    "        c.population[i] = c.offspring[idx[i]]\n",
    "        c.F_μ[i] = c.F_λ[idx[i]]\n",
    "    end    \n",
    "    # L2\n",
    "    w = vec(mean(c.W[:,idx], dims=2))\n",
    "    c.x += w \n",
    "    # L3\n",
    "    c.s = (1.0 - 1.0/c.τ)*c.s + (sqrt(c.μ/c.τ * (2.0 - 1.0/c.τ))/c.σ)*w   \n",
    "    # L4\n",
    "    c.C = (1.0 - 1.0/c.τ_c).*c.C + (c.s./c.τ_c)*c.s'    \n",
    "    # L5\n",
    "    ɛ = vec(mean(c.E[:,idx], dims=2))\n",
    "    c.s_σ = (1.0 - 1.0/c.τ_σ)*c.s_σ + sqrt(c.μ/c.τ_σ*(2.0 - 1.0/c.τ_σ))*ɛ    \n",
    "    # L6\n",
    "    c.σ = c.σ*exp(((c.s_σ'*c.s_σ)[1] - c.N)/(2*c.N*sqrt(c.N)))\n",
    "    #println(\"this is old sigma ---> \",c.σ)\n",
    "    if c.σ > 1.0\n",
    "        c.σ = 1.0\n",
    "        print(\" -cs\") #stands for \"capping sigma\"\n",
    "    end\n",
    "    #println(\"this is new sigma ---> \",c.σ)\n",
    "    if visualize\n",
    "        plot(xs, ys, fz, st=:contour)\n",
    "        scatter!([c.offspring[i][1] for i in 1:λ], [c.offspring[i][2] for i in 1:λ], \n",
    "            xlims=(-5, 5), ylims=(-5, 5), legend=:none)\n",
    "        scatter!([c.x[1]], [c.x[2]], color=:black, marker=:rect,\n",
    "            xlims=(-5, 5), ylims=(-5, 5), legend=:none)\n",
    "        frame(anim)\n",
    "    end\n",
    "    c\n",
    "end"
   ]
  },
  {
   "cell_type": "code",
   "execution_count": 13,
   "metadata": {},
   "outputs": [
    {
     "data": {
      "text/plain": [
       "plot_obj_cmaes (generic function with 1 method)"
      ]
     },
     "execution_count": 13,
     "metadata": {},
     "output_type": "execute_result"
    }
   ],
   "source": [
    "function plot_obj_cmaes()\n",
    "    c = CMAES()\n",
    "    println(\"x initial: \", c.x)\n",
    "    anim = Animation()\n",
    "    for i in 1:100\n",
    "        v = mod(i, 1) == 0\n",
    "        step_cmaes!(c, visualize=v, anim=anim)\n",
    "    end\n",
    "    println(\"x final: \", c.x)\n",
    "    gif(anim)\n",
    "end"
   ]
  },
  {
   "cell_type": "code",
   "execution_count": 14,
   "metadata": {},
   "outputs": [
    {
     "data": {
      "text/plain": [
       "not_plot_obj_cmaes (generic function with 1 method)"
      ]
     },
     "execution_count": 14,
     "metadata": {},
     "output_type": "execute_result"
    }
   ],
   "source": [
    "function not_plot_obj_cmaes(nbgen::Int)\n",
    "    freq = 1 #frequence d'echantillonage du graphique\n",
    "    freq_purcent = 5 #afficher complétion tous les n%\n",
    "    c = CMAES()\n",
    "    gen = zeros(Int(nbgen/freq))\n",
    "    fitness = zeros(Int(nbgen/freq))\n",
    "    next_purcentage = freq_purcent\n",
    "    for i in 1:nbgen\n",
    "        v = mod(i, 1) == 0\n",
    "        if i%freq==0\n",
    "            gen[Int(i/freq)] = i\n",
    "            fitness[Int(i/freq)] = -1*evaluate_bird(c.population[1])\n",
    "        end\n",
    "        step_cmaes!(c, visualize=false)\n",
    "        if i/nbgen >= next_purcentage/100\n",
    "            println(next_purcentage,\"% done ...\", c.σ)\n",
    "            next_purcentage += freq_purcent\n",
    "        end\n",
    "    end\n",
    "    c.population[1], gen, fitness\n",
    "end"
   ]
  },
  {
   "cell_type": "code",
   "execution_count": null,
   "metadata": {
    "scrolled": false
   },
   "outputs": [
    {
     "name": "stdout",
     "output_type": "stream",
     "text": [
      "5% done ...0.12043869809948325\n",
      "10% done ...0.19273522664144496\n",
      "15% done ...0.08629885944496787\n",
      "20% done ...0.5376352767467851\n",
      "25% done ...0.37716154841338034\n",
      "30% done ...0.3990906148097789\n",
      "35% done ...0.3782290304704809\n",
      " -cs -cs -cs40% done ...0.34684917658160974\n",
      "45% done ...0.7624643874096249\n",
      "50% done ...0.2263584829832987\n",
      "55% done ...0.07396004571735226\n",
      "60% done ...0.7102856140796715\n",
      " -cs -cs -cs65% done ...0.704172357293118\n",
      "70% done ...0.11582728373583627\n",
      "75% done ...0.04229154503656534\n",
      "80% done ...0.05689132862783365\n",
      "85% done ...0.0028046996767542775\n",
      "90% done ...0.005765610769420498\n",
      "95% done ...0.005635737557302602\n",
      "100% done ...0.0023487722946985375\n",
      "1.8873729519689084\n"
     ]
    }
   ],
   "source": [
    "fz(x, y) = objective([x, y])\n",
    "my_guess, liste_generations, liste_fitness = not_plot_obj_cmaes(1000)\n",
    "\n",
    "println(-1*evaluate_bird(my_guess))\n",
    "println(my_guess)\n",
    "\n",
    "plot(liste_generations, liste_fitness, title = \"Evolution de la fitness pour CMA-ES\")\n",
    "xlabel!(\"Génération\")\n",
    "ylabel!(\"Fitness du meilleur individu\")"
   ]
  },
  {
   "cell_type": "markdown",
   "metadata": {},
   "source": [
    "\n",
    "\n",
    "## II. ES (mu/signam, lambda)\n"
   ]
  },
  {
   "cell_type": "code",
   "execution_count": null,
   "metadata": {},
   "outputs": [],
   "source": [
    "npop = 50     # population size\n",
    "sigma = 0.1   # noise standard deviation\n",
    "alpha = 0.001 # step size\n",
    "x = randn(2)  # initial expert"
   ]
  },
  {
   "cell_type": "code",
   "execution_count": null,
   "metadata": {},
   "outputs": [],
   "source": [
    "xs = -5.0:0.1:5.0\n",
    "ys = -5.0:0.1:5.0\n",
    "#fz(x, y) = objective([x, y]);\n",
    "\n",
    "function step_es(x::Array{Float64}; npop=50, sigma=0.1, alpha=0.01, visualize=false, anim=Nothing)\n",
    "    N = randn(npop, 2)\n",
    "    P = repeat(x, 1, npop)' .+ sigma .* N\n",
    "    R = zeros(npop)\n",
    "    for i in eachindex(R)\n",
    "        R[i] = objective(P[i, :]) #evaluation\n",
    "    end\n",
    "    A = (R .- mean(R)) ./ std(R) #the selection is done here: we are giving a higher porbability to individuals that did well\n",
    "    \n",
    "    if visualize\n",
    "        plot(xs, ys, fz, st=:contour)\n",
    "        scatter!(P[:, 1], P[:, 2], xlims=(-5, 5), ylims=(-5, 5), zcolor=R)\n",
    "        scatter!([x[1]], [x[2]], legend=:none, color=:black, marker=:rect)\n",
    "        frame(anim)\n",
    "    end\n",
    "    \n",
    "    x .+ alpha/(npop * sigma) .* [dot(N[:, i], A) for i in 1:size(N, 2)] #modification step: changing the center of gravity\n",
    "end"
   ]
  },
  {
   "cell_type": "code",
   "execution_count": null,
   "metadata": {},
   "outputs": [],
   "source": [
    "function plot_obj_es()\n",
    "    x = randn(2) #initial population: which is a single point\n",
    "    println(\"x initial: \", x)\n",
    "    anim = Animation()\n",
    "    for i in 1:500\n",
    "        v = mod(i, 10) == 0\n",
    "        x = step_es(x, npop=50, sigma=0.1, alpha=0.001, visualize=v, anim=anim)\n",
    "    end\n",
    "    println(\"x final: \", x)\n",
    "    gif(anim)\n",
    "end"
   ]
  },
  {
   "cell_type": "code",
   "execution_count": null,
   "metadata": {},
   "outputs": [],
   "source": [
    "xs = -5.0:0.1:5.0\n",
    "ys = -5.0:0.1:5.0\n",
    "\n",
    "#fz(x, y) = objective_es([x, y])\n",
    "println(solution) # optimal for sphere and rastrigin\n",
    "#plot_obj_cmaes()"
   ]
  }
 ],
 "metadata": {
  "@webio": {
   "lastCommId": null,
   "lastKernelId": null
  },
  "kernelspec": {
   "display_name": "Julia 1.3.1",
   "language": "julia",
   "name": "julia-1.3"
  },
  "language_info": {
   "file_extension": ".jl",
   "mimetype": "application/julia",
   "name": "julia",
   "version": "1.3.1"
  }
 },
 "nbformat": 4,
 "nbformat_minor": 2
}
