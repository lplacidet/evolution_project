{
 "cells": [
  {
   "cell_type": "markdown",
   "metadata": {},
   "source": [
    "\n",
    "\n",
    "# Project: Comparison of Existing Algorithms applied on Flappy Bird\n",
    "\n",
    "<a href=\"https://github.com/lplacidet/evolution_project\">https://github.com/lplacidet/evolution_project</a>"
   ]
  },
  {
   "cell_type": "markdown",
   "metadata": {},
   "source": [
    "Importing Libraries"
   ]
  },
  {
   "cell_type": "code",
   "execution_count": 1,
   "metadata": {},
   "outputs": [
    {
     "data": {
      "text/plain": [
       "Plots.GRBackend()"
      ]
     },
     "execution_count": 1,
     "metadata": {},
     "output_type": "execute_result"
    }
   ],
   "source": [
    "using Random\n",
    "using LinearAlgebra\n",
    "using Statistics\n",
    "using Plots\n",
    "\n",
    "using Cxx, Libdl\n",
    "\n",
    "gr(reuse=true)"
   ]
  },
  {
   "cell_type": "code",
   "execution_count": 2,
   "metadata": {},
   "outputs": [
    {
     "name": "stdout",
     "output_type": "stream",
     "text": [
      "ggre-gg"
     ]
    }
   ],
   "source": [
    "const path_to_lib = pwd()\n",
    "addHeaderDir(path_to_lib*\"/world/\", kind=C_System)\n",
    "cxxinclude(\"runWorld.h\")\n",
    "print(\"gg\")\n",
    "#objective = @cxx FlappyXP->evaluate\n",
    "print(\"re-gg\")"
   ]
  },
  {
   "cell_type": "code",
   "execution_count": 3,
   "metadata": {},
   "outputs": [
    {
     "data": {
      "text/plain": [
       "Individu"
      ]
     },
     "execution_count": 3,
     "metadata": {},
     "output_type": "execute_result"
    }
   ],
   "source": [
    "mutable struct Individu\n",
    "    genes::Array{Float64}\n",
    "    fitness::Float64\n",
    "end\n",
    "\n",
    "function Individu(n::Int)\n",
    "    newgenes = [0.0,0.0,0.0,0.0]\n",
    "    for i in 1:4\n",
    "        newgenes[i] = rand()\n",
    "    end\n",
    "    Individu(newgenes, -Inf)\n",
    "end "
   ]
  },
  {
   "cell_type": "code",
   "execution_count": 28,
   "metadata": {},
   "outputs": [
    {
     "name": "stderr",
     "output_type": "stream",
     "text": [
      "In file included from /Cxx.cpp:1:\n",
      "\u001b[1mIn[28]:2:15: \u001b[0m\u001b[0;1;31merror: \u001b[0m\u001b[1mredefinition of 'evaluate_bird'\u001b[0m\n",
      "static double evaluate_bird(float g1, float g2, float g3, float g4) {\n",
      "\u001b[0;1;32m              ^\n",
      "\u001b[0m\u001b[1mIn[4]:2:15: \u001b[0m\u001b[0;1;30mnote: \u001b[0mprevious definition is here\u001b[0m\n",
      "static double evaluate_bird(float g1, float g2, float g3, float g4) {\n",
      "\u001b[0;1;32m              ^\n",
      "\u001b[0m"
     ]
    },
    {
     "data": {
      "text/plain": [
       "true"
      ]
     },
     "execution_count": 28,
     "metadata": {},
     "output_type": "execute_result"
    }
   ],
   "source": [
    "cxx\"\"\"\n",
    "\n",
    "static double evaluate_bird(float g1, float g2, float g3, float g4) {\n",
    "float ind[4] = {g1,g2,g3,g4};\n",
    "bool dbg = false;\n",
    "#ifdef DISPLAY\n",
    "\tinitscr();\n",
    "\ttimeout(0);\n",
    "\tnoecho();\n",
    "\tcurs_set(FALSE);\n",
    "#endif\n",
    "\tconst int NRUN = 3;\n",
    "\tauto &g = ind;\n",
    "\tdouble d = 0;\n",
    "\tfor (int r = 0; r < NRUN; ++r) {\n",
    "\t\tWorld world;\n",
    "\t\tworld.gen.seed(r * 100);\n",
    "\t\twhile (world.bestiau.vivant) {\n",
    "#ifdef DISPLAY\n",
    "            std::this_thread::sleep_for(std::chrono::milliseconds(25));\n",
    "            display(world, world.dist == 0);\n",
    "#endif\n",
    "            world.update();\n",
    "            // update inputs\n",
    "            float birdY = world.bestiau.y;\n",
    "            float birdVY = world.bestiau.vit;\n",
    "            float obsX;\n",
    "            float obsY;\n",
    "            if (world.obstacles.size() > 0) {\n",
    "                const auto &o = world.obstacles.front();\n",
    "                obsY = o.y + world.hauteurPassage * 0.5;\n",
    "                obsX = o.x / world.W;\n",
    "            } else {\n",
    "                obsY = world.H * 0.5;\n",
    "                obsX = 1000.0;\n",
    "            }\n",
    "            if ((g[0]*birdY+g[1]*birdVY+g[2]*obsX+g[3]*obsY)>1.0) world.bestiauUp();\n",
    "        }\n",
    "        d += world.dist;\n",
    "    }\n",
    "#ifdef DISPLAY\n",
    "    endwin();\n",
    "#endif\n",
    "    return d;\n",
    "}\n",
    "\"\"\""
   ]
  },
  {
   "cell_type": "code",
   "execution_count": 5,
   "metadata": {},
   "outputs": [
    {
     "data": {
      "text/plain": [
       "cpptojulia (generic function with 1 method)"
      ]
     },
     "execution_count": 5,
     "metadata": {},
     "output_type": "execute_result"
    }
   ],
   "source": [
    "cpptojulia(g1::Float64, g2::Float64, g3::Float64, g4::Float64) = @cxx evaluate_bird(g1,g2,g3,g4)"
   ]
  },
  {
   "cell_type": "code",
   "execution_count": 6,
   "metadata": {},
   "outputs": [
    {
     "data": {
      "text/plain": [
       "evaluate_bird (generic function with 1 method)"
      ]
     },
     "execution_count": 6,
     "metadata": {},
     "output_type": "execute_result"
    }
   ],
   "source": [
    "function evaluate_bird(g::Array{Float64})\n",
    "    cpptojulia(g[1],g[2],g[3],g[4])\n",
    "end"
   ]
  },
  {
   "cell_type": "code",
   "execution_count": null,
   "metadata": {},
   "outputs": [],
   "source": [
    "test_ind = Individu(4)\n",
    "println(test_ind)\n",
    "cpptojulia(test_ind.genes[1], test_ind.genes[2],test_ind.genes[3], test_ind.genes[4])"
   ]
  },
  {
   "cell_type": "markdown",
   "metadata": {},
   "source": [
    "\n",
    "\n",
    "## I. CMA-ES Algorithm\n"
   ]
  },
  {
   "cell_type": "code",
   "execution_count": null,
   "metadata": {},
   "outputs": [],
   "source": [
    "sphere(x::Array{Float64}) = sum((x .- solution).^2)\n",
    "himmelblau(x::Array{Float64}) = (x[1]^2 + x[2] - 11)^2 + (x[1] + x[2]^2 - 7)^2\n",
    "styblinski_tang(x::Array{Float64}) = sum(x.^4 .- 16 .* x.^2 .+ 5 .* x) / 2.0\n",
    "rastrigin(x::Array{Float64}) = 10.0 * length(x) .+ sum((x .- solution).^2 .- 10 .* cos.(2*pi.*(x .- solution)))"
   ]
  },
  {
   "cell_type": "code",
   "execution_count": null,
   "metadata": {},
   "outputs": [],
   "source": [
    "mutable struct CMAES\n",
    "    N::Int\n",
    "    μ::Int\n",
    "    λ::Int\n",
    "    τ::Float64\n",
    "    τ_c::Float64\n",
    "    τ_σ::Float64\n",
    "    population::Array{Array{Float64}}\n",
    "    offspring::Array{Array{Float64}}\n",
    "    F_μ::Array{Float64}\n",
    "    F_λ::Array{Float64}\n",
    "    C::Array{Float64}\n",
    "    s::Array{Float64}\n",
    "    s_σ::Array{Float64}\n",
    "    σ::Float64\n",
    "    E::Array{Float64}\n",
    "    W::Array{Float64}\n",
    "    x::Array{Float64}\n",
    "end"
   ]
  },
  {
   "cell_type": "code",
   "execution_count": null,
   "metadata": {},
   "outputs": [],
   "source": [
    "N_value = 4\n",
    "mu = 5\n",
    "lambda = 150\n",
    "objective = evaluate_bird"
   ]
  },
  {
   "cell_type": "code",
   "execution_count": null,
   "metadata": {},
   "outputs": [],
   "source": [
    "function CMAES(;N=N_value, μ=mu, λ=lambda, τ=sqrt(N), τ_c=N^2, τ_σ=sqrt(N))\n",
    "    x = randn(N)\n",
    "    population = fill(x, µ)\n",
    "    offspring = Array{Array{Float64}}(undef, λ)\n",
    "    F_µ = Inf .* ones(µ)\n",
    "    F_λ = Inf .* ones(λ)\n",
    "    C = Array(Diagonal{Float64}(I, N))\n",
    "    s = zeros(N)\n",
    "    s_σ = zeros(N)\n",
    "    σ = 0.05\n",
    "    E = zeros(N, λ)\n",
    "    W = zeros(N, λ);\n",
    "    CMAES(N, μ, λ, τ, τ_c, τ_σ, population, offspring, F_µ, F_λ, C, s, s_σ, σ, E, W, x)\n",
    "end"
   ]
  },
  {
   "cell_type": "code",
   "metadata": {
    "scrolled": true
   },
   "outputs": [],
   "source": [
    "c = CMAES()"
   ]
  },
  {
   "cell_type": "code",
   "execution_count": null,
   "metadata": {},
   "outputs": [],
   "source": [
    "function step_cmaes!(c::CMAES; obj=objective, visualize=false, anim=Nothing)\n",
    "    # L1\n",
    "    sqrt_c = cholesky((c.C + c.C') / 2.0).U\n",
    "    for i in 1:c.λ\n",
    "        c.E[:,i] = randn(c.N)\n",
    "        c.W[:,i] = c.σ * (sqrt_c * c.E[:,i])\n",
    "        c.offspring[i] = c.x + c.W[:,i]\n",
    "        c.F_λ[i] =  obj(c.offspring[i])\n",
    "    end    \n",
    "    # Select new parent population\n",
    "    idx = sortperm(c.F_λ)[1:c.μ]\n",
    "    for i in 1:c.μ\n",
    "        c.population[i] = c.offspring[idx[i]]\n",
    "        c.F_μ[i] = c.F_λ[idx[i]]\n",
    "    end    \n",
    "    # L2\n",
    "    w = vec(mean(c.W[:,idx], dims=2))\n",
    "    c.x += w \n",
    "    # L3\n",
    "    c.s = (1.0 - 1.0/c.τ)*c.s + (sqrt(c.μ/c.τ * (2.0 - 1.0/c.τ))/c.σ)*w   \n",
    "    # L4\n",
    "    c.C = (1.0 - 1.0/c.τ_c).*c.C + (c.s./c.τ_c)*c.s'    \n",
    "    # L5\n",
    "    ɛ = vec(mean(c.E[:,idx], dims=2))\n",
    "    c.s_σ = (1.0 - 1.0/c.τ_σ)*c.s_σ + sqrt(c.μ/c.τ_σ*(2.0 - 1.0/c.τ_σ))*ɛ    \n",
    "    # L6\n",
    "    c.σ = c.σ*exp(((c.s_σ'*c.s_σ)[1] - c.N)/(2*c.N*sqrt(c.N)))\n",
    "    #println(\"this is old sigma ---> \",c.σ)\n",
    "    if c.σ > 5.0\n",
    "        c.σ = 5.0\n",
    "    end\n",
    "    #println(\"this is new sigma ---> \",c.σ)\n",
    "    if visualize\n",
    "        plot(xs, ys, fz, st=:contour)\n",
    "        scatter!([c.offspring[i][1] for i in 1:λ], [c.offspring[i][2] for i in 1:λ], \n",
    "            xlims=(-5, 5), ylims=(-5, 5), legend=:none)\n",
    "        scatter!([c.x[1]], [c.x[2]], color=:black, marker=:rect,\n",
    "            xlims=(-5, 5), ylims=(-5, 5), legend=:none)\n",
    "        frame(anim)\n",
    "    end\n",
    "    c\n",
    "end"
   ]
  },
  {
   "cell_type": "code",
   "execution_count": null,
   "metadata": {},
   "outputs": [],
   "source": [
    "c = CMAES()\n",
    "println(c.population[5],\" ----- \", c.σ)\n",
    "step_cmaes!(c)\n",
    "println(c.population[5],\" ----- \", c.σ)\n",
    "step_cmaes!(c)\n",
    "println(c.population[5],\" ----- \", c.σ)"
   ]
  },
  {
   "cell_type": "code",
   "execution_count": null,
   "metadata": {},
   "source": [
    "function plot_obj_cmaes()\n",
    "    c = CMAES()\n",
    "    println(\"x initial: \", c.x)\n",
    "    anim = Animation()\n",
    "    for i in 1:100\n",
    "        v = mod(i, 1) == 0\n",
    "        step_cmaes!(c, visualize=v, anim=anim)\n",
    "    end\n",
    "    println(\"x final: \", c.x)\n",
    "    gif(anim)\n",
    "end"
   ]
  },
  {
   "cell_type": "code",
   "execution_count": null,
   "metadata": {},
   "outputs": [],
   "source": [
    "function not_plot_obj_cmaes(nbgen::Int)\n",
    "    c = CMAES()\n",
    "    gen = zeros(Int(nbgen/10))\n",
    "    fitness = zeros(Int(nbgen/10))\n",
    "    for i in 1:nbgen\n",
    "        v = mod(i, 1) == 0\n",
    "        if i%10==0\n",
    "            gen[Int(i/10)] = i\n",
    "            fitness[Int(i/10)] = -1*evaluate_bird(c.x)\n",
    "        end\n",
    "        step_cmaes!(c, visualize=false)\n",
    "    end\n",
    "    c.x, gen, fitness\n",
    "end"
   ]
  },
  {
   "cell_type": "code",
   "execution_count": null,
   "metadata": {},
   "outputs": [],
   "source": [
    "fz(x, y) = objective([x, y])\n",
    "my_guess, liste_generations, liste_fitness = not_plot_obj_cmaes(500)\n",
    "\n",
    "println(evaluate_bird(my_guess))\n",
    "println(my_guess)\n",
    "\n",
    "plot(liste_generations, liste_fitness, title = \"Evolution de la fitness pour CMA-ES\")\n",
    "xlabel!(\"Génération\")\n",
    "ylabel!(\"Fitness du meilleur individu\")"
   ]
  },
  {
   "cell_type": "code",
   "execution_count": 20,
   "metadata": {},
   "outputs": [
    {
     "data": {
      "text/plain": [
       "3.7131686565287767"
      ]
     },
     "execution_count": 20,
     "metadata": {},
     "output_type": "execute_result"
    }
   ],
   "source": [
    "norm([0.35208954887234667, -3.4358274688486206, 1.0413801214669456, 0.8799269676066064])"
   ]
  },
  {
   "cell_type": "markdown",
   "metadata": {},
   "source": [
    "\n",
    "\n",
    "## II. ES (mu/signam, lambda)\n"
   ]
  },
  {
   "cell_type": "code",
   "execution_count": null,
   "metadata": {},
   "outputs": [],
   "source": [
    "s = [3.5, -0.2]\n",
    "sphere(x::Array{Float64}) = -sum((x .- s).^2)\n"
   ]
  },
  {
   "cell_type": "code",
   "execution_count": null,
   "metadata": {},
   "outputs": [],
   "source": [
    "npop = 50     # population size\n",
    "sigma = 0.1   # noise standard deviation\n",
    "alpha = 0.001 # step size\n",
    "x = randn(2)  # initial expert"
   ]
  },
  {
   "cell_type": "code",
   "execution_count": null,
   "metadata": {},
   "outputs": [],
   "source": [
    "xs = -5.0:0.1:5.0\n",
    "ys = -5.0:0.1:5.0\n",
    "#fz(x, y) = objective([x, y]);\n",
    "\n",
    "function step_es(x::Array{Float64}; npop=50, sigma=0.1, alpha=0.01, visualize=false, anim=Nothing)\n",
    "    N = randn(npop, 2)\n",
    "    P = repeat(x, 1, npop)' .+ sigma .* N\n",
    "    R = zeros(npop)\n",
    "    for i in eachindex(R)\n",
    "        R[i] = objective(P[i, :]) #evaluation\n",
    "    end\n",
    "    A = (R .- mean(R)) ./ std(R) #the selection is done here: we are giving a higher porbability to individuals that did well\n",
    "    \n",
    "    if visualize\n",
    "        plot(xs, ys, fz, st=:contour)\n",
    "        scatter!(P[:, 1], P[:, 2], xlims=(-5, 5), ylims=(-5, 5), zcolor=R)\n",
    "        scatter!([x[1]], [x[2]], legend=:none, color=:black, marker=:rect)\n",
    "        frame(anim)\n",
    "    end\n",
    "    \n",
    "    x .+ alpha/(npop * sigma) .* [dot(N[:, i], A) for i in 1:size(N, 2)] #modification step: changing the center of gravity\n",
    "end"
   ]
  },
  {
   "cell_type": "code",
   "execution_count": null,
   "metadata": {},
   "outputs": [],
   "source": [
    "test_array = randn(4)\n",
    "println(test_array)\n",
    "norm1 = norm.(test_array)\n",
    "norm2 = norm(test_array)\n",
    "#norm3 = vecnorm.(test_array)\n",
    "#norm4 = vecnorm(test_array)\n",
    "println(norm1)\n",
    "println(norm2)\n",
    "#println(norm3)\n",
    "#println(norm4)\n",
    "\n",
    "println(1.0/0.0)\n",
    "println(isinf(1.0/0.0))"
   ]
  },
  {
   "cell_type": "code",
   "execution_count": 113,
   "metadata": {},
   "outputs": [
    {
     "data": {
      "text/plain": [
       "step_birds (generic function with 1 method)"
      ]
     },
     "execution_count": 113,
     "metadata": {},
     "output_type": "execute_result"
    }
   ],
   "source": [
    "function step_birds(best::Array{Float64};dim=4, npop=50, sigma=0.01, alpha=sigma/10)\n",
    "    N = randn(npop,dim)\n",
    "    P = repeat(best, 1, npop)' .+ sigma .* N\n",
    "    \"\"\"\n",
    "    println(\"P avant :\",P)\n",
    "    for i in eachindex(P[:,1])\n",
    "        P[i,:] = P[i,:]./norm(P[i,:])\n",
    "        if isinf(norm(P[i,:]))\n",
    "            println(\"whola j'suis bloque\")\n",
    "        end\n",
    "    end\n",
    "    println(\"P apres :\",P)\n",
    "    \"\"\"\n",
    "    R = zeros(npop)\n",
    "    for i in eachindex(R)\n",
    "        R[i] = objective(P[i, :]) #evaluation\n",
    "    end\n",
    "    \n",
    "    \n",
    "    #println(\"  R    :\", R)\n",
    "    \n",
    "    A = (R .- mean(R)) ./ std(R)\n",
    "    #println(\"____________________\")\n",
    "    #println(\" A :\", A)\n",
    "    #println(\"____________________\")\n",
    "    #println(\" N : \", N[:,1])\n",
    "    \n",
    "    test = dot(N[:, 1], A)\n",
    "    #println(\" test :\", test)\n",
    "    if isnan(test)\n",
    "        println(\"failed\")\n",
    "    end\n",
    "    mat = [dot(N[:, i], A) for i in 1:size(N, 2)]\n",
    "    #println(\"mat : \", mat)\n",
    "    #println(alpha/(npop * sigma) .* mat)\n",
    "    w = alpha/(npop * sigma) .* mat#[dot(N[:, i], A) for i in 1:size(N, dim)]\n",
    "    #println(\" w : \", w)\n",
    "    best = best .+ w #modification step: changing the center of gravity\n",
    "    best#./norm(best)\n",
    "end\n",
    "\n",
    "    "
   ]
  },
  {
   "cell_type": "code",
   "execution_count": 38,
   "metadata": {},
   "outputs": [
    {
     "data": {
      "text/plain": [
       "run_es_bird (generic function with 1 method)"
      ]
     },
     "execution_count": 38,
     "metadata": {},
     "output_type": "execute_result"
    }
   ],
   "source": [
   ]
  },
  {
   "cell_type": "code",
   "execution_count": 116,
   "metadata": {},
   "outputs": [
    {
     "name": "stdout",
     "output_type": "stream",
     "text": [
      "best initial: [0.11388110994237689, -0.3264066649514551, 0.525277774231744, 0.7775429517214505]\n",
      "best final: [-3.620985588627914, -1.6569955104791283, -0.2669593742764806, 3.3938602090094565]\n",
      "best final norm: 5.238962223628915\n"
     ]
    },
    {
     "data": {
      "image/svg+xml": [
       "<?xml version=\"1.0\" encoding=\"utf-8\"?>\n",
       "<svg xmlns=\"http://www.w3.org/2000/svg\" xmlns:xlink=\"http://www.w3.org/1999/xlink\" width=\"600\" height=\"400\" viewBox=\"0 0 2400 1600\">\n",
       "<defs>\n",
       "  <clipPath id=\"clip020\">\n",
       "    <rect x=\"0\" y=\"0\" width=\"2400\" height=\"1600\"/>\n",
       "  </clipPath>\n",
       "</defs>\n",
       "<path clip-path=\"url(#clip020)\" d=\"\n",
       "M0 1600 L2400 1600 L2400 0 L0 0  Z\n",
       "  \" fill=\"#ffffff\" fill-rule=\"evenodd\" fill-opacity=\"1\"/>\n",
       "<defs>\n",
       "  <clipPath id=\"clip021\">\n",
       "    <rect x=\"480\" y=\"0\" width=\"1681\" height=\"1600\"/>\n",
       "  </clipPath>\n",
       "</defs>\n",
       "<path clip-path=\"url(#clip020)\" d=\"\n",
       "M163.774 1486.45 L2352.76 1486.45 L2352.76 47.2441 L163.774 47.2441  Z\n",
       "  \" fill=\"#ffffff\" fill-rule=\"evenodd\" fill-opacity=\"1\"/>\n",
       "<defs>\n",
       "  <clipPath id=\"clip022\">\n",
       "    <rect x=\"163\" y=\"47\" width=\"2190\" height=\"1440\"/>\n",
       "  </clipPath>\n",
       "</defs>\n",
       "<polyline clip-path=\"url(#clip022)\" style=\"stroke:#000000; stroke-width:2; stroke-opacity:0.1; fill:none\" points=\"\n",
       "  221.588,1486.45 221.588,47.2441 \n",
       "  \"/>\n",
       "<polyline clip-path=\"url(#clip022)\" style=\"stroke:#000000; stroke-width:2; stroke-opacity:0.1; fill:none\" points=\"\n",
       "  635.431,1486.45 635.431,47.2441 \n",
       "  \"/>\n",
       "<polyline clip-path=\"url(#clip022)\" style=\"stroke:#000000; stroke-width:2; stroke-opacity:0.1; fill:none\" points=\"\n",
       "  1049.27,1486.45 1049.27,47.2441 \n",
       "  \"/>\n",
       "<polyline clip-path=\"url(#clip022)\" style=\"stroke:#000000; stroke-width:2; stroke-opacity:0.1; fill:none\" points=\"\n",
       "  1463.12,1486.45 1463.12,47.2441 \n",
       "  \"/>\n",
       "<polyline clip-path=\"url(#clip022)\" style=\"stroke:#000000; stroke-width:2; stroke-opacity:0.1; fill:none\" points=\"\n",
       "  1876.96,1486.45 1876.96,47.2441 \n",
       "  \"/>\n",
       "<polyline clip-path=\"url(#clip022)\" style=\"stroke:#000000; stroke-width:2; stroke-opacity:0.1; fill:none\" points=\"\n",
       "  2290.8,1486.45 2290.8,47.2441 \n",
       "  \"/>\n",
       "<polyline clip-path=\"url(#clip022)\" style=\"stroke:#000000; stroke-width:2; stroke-opacity:0.1; fill:none\" points=\"\n",
       "  163.774,1465.28 2352.76,1465.28 \n",
       "  \"/>\n",
       "<polyline clip-path=\"url(#clip022)\" style=\"stroke:#000000; stroke-width:2; stroke-opacity:0.1; fill:none\" points=\"\n",
       "  163.774,1050.81 2352.76,1050.81 \n",
       "  \"/>\n",
       "<polyline clip-path=\"url(#clip022)\" style=\"stroke:#000000; stroke-width:2; stroke-opacity:0.1; fill:none\" points=\"\n",
       "  163.774,636.333 2352.76,636.333 \n",
       "  \"/>\n",
       "<polyline clip-path=\"url(#clip022)\" style=\"stroke:#000000; stroke-width:2; stroke-opacity:0.1; fill:none\" points=\"\n",
       "  163.774,221.859 2352.76,221.859 \n",
       "  \"/>\n",
       "<polyline clip-path=\"url(#clip020)\" style=\"stroke:#000000; stroke-width:4; stroke-opacity:1; fill:none\" points=\"\n",
       "  163.774,1486.45 2352.76,1486.45 \n",
       "  \"/>\n",
       "<polyline clip-path=\"url(#clip020)\" style=\"stroke:#000000; stroke-width:4; stroke-opacity:1; fill:none\" points=\"\n",
       "  163.774,1486.45 163.774,47.2441 \n",
       "  \"/>\n",
       "<polyline clip-path=\"url(#clip020)\" style=\"stroke:#000000; stroke-width:4; stroke-opacity:1; fill:none\" points=\"\n",
       "  221.588,1486.45 221.588,1469.18 \n",
       "  \"/>\n",
       "<polyline clip-path=\"url(#clip020)\" style=\"stroke:#000000; stroke-width:4; stroke-opacity:1; fill:none\" points=\"\n",
       "  635.431,1486.45 635.431,1469.18 \n",
       "  \"/>\n",
       "<polyline clip-path=\"url(#clip020)\" style=\"stroke:#000000; stroke-width:4; stroke-opacity:1; fill:none\" points=\"\n",
       "  1049.27,1486.45 1049.27,1469.18 \n",
       "  \"/>\n",
       "<polyline clip-path=\"url(#clip020)\" style=\"stroke:#000000; stroke-width:4; stroke-opacity:1; fill:none\" points=\"\n",
       "  1463.12,1486.45 1463.12,1469.18 \n",
       "  \"/>\n",
       "<polyline clip-path=\"url(#clip020)\" style=\"stroke:#000000; stroke-width:4; stroke-opacity:1; fill:none\" points=\"\n",
       "  1876.96,1486.45 1876.96,1469.18 \n",
       "  \"/>\n",
       "<polyline clip-path=\"url(#clip020)\" style=\"stroke:#000000; stroke-width:4; stroke-opacity:1; fill:none\" points=\"\n",
       "  2290.8,1486.45 2290.8,1469.18 \n",
       "  \"/>\n",
       "<polyline clip-path=\"url(#clip020)\" style=\"stroke:#000000; stroke-width:4; stroke-opacity:1; fill:none\" points=\"\n",
       "  163.774,1465.28 190.042,1465.28 \n",
       "  \"/>\n",
       "<polyline clip-path=\"url(#clip020)\" style=\"stroke:#000000; stroke-width:4; stroke-opacity:1; fill:none\" points=\"\n",
       "  163.774,1050.81 190.042,1050.81 \n",
       "  \"/>\n",
       "<polyline clip-path=\"url(#clip020)\" style=\"stroke:#000000; stroke-width:4; stroke-opacity:1; fill:none\" points=\"\n",
       "  163.774,636.333 190.042,636.333 \n",
       "  \"/>\n",
       "<polyline clip-path=\"url(#clip020)\" style=\"stroke:#000000; stroke-width:4; stroke-opacity:1; fill:none\" points=\"\n",
       "  163.774,221.859 190.042,221.859 \n",
       "  \"/>\n",
       "<path clip-path=\"url(#clip020)\" d=\"M 0 0 M221.588 1508.44 Q217.977 1508.44 216.148 1512 Q214.343 1515.55 214.343 1522.67 Q214.343 1529.78 216.148 1533.35 Q217.977 1536.89 221.588 1536.89 Q225.222 1536.89 227.028 1533.35 Q228.856 1529.78 228.856 1522.67 Q228.856 1515.55 227.028 1512 Q225.222 1508.44 221.588 1508.44 M221.588 1504.73 Q227.398 1504.73 230.454 1509.34 Q233.532 1513.92 233.532 1522.67 Q233.532 1531.4 230.454 1536.01 Q227.398 1540.59 221.588 1540.59 Q215.778 1540.59 212.699 1536.01 Q209.644 1531.4 209.644 1522.67 Q209.644 1513.92 212.699 1509.34 Q215.778 1504.73 221.588 1504.73 Z\" fill=\"#000000\" fill-rule=\"evenodd\" fill-opacity=\"1\" /><path clip-path=\"url(#clip020)\" d=\"M 0 0 M598.799 1535.98 L606.438 1535.98 L606.438 1509.62 L598.128 1511.29 L598.128 1507.03 L606.392 1505.36 L611.068 1505.36 L611.068 1535.98 L618.707 1535.98 L618.707 1539.92 L598.799 1539.92 L598.799 1535.98 Z\" fill=\"#000000\" fill-rule=\"evenodd\" fill-opacity=\"1\" /><path clip-path=\"url(#clip020)\" d=\"M 0 0 M633.776 1508.44 Q630.165 1508.44 628.336 1512 Q626.531 1515.55 626.531 1522.67 Q626.531 1529.78 628.336 1533.35 Q630.165 1536.89 633.776 1536.89 Q637.41 1536.89 639.216 1533.35 Q641.045 1529.78 641.045 1522.67 Q641.045 1515.55 639.216 1512 Q637.41 1508.44 633.776 1508.44 M633.776 1504.73 Q639.586 1504.73 642.642 1509.34 Q645.72 1513.92 645.72 1522.67 Q645.72 1531.4 642.642 1536.01 Q639.586 1540.59 633.776 1540.59 Q627.966 1540.59 624.887 1536.01 Q621.832 1531.4 621.832 1522.67 Q621.832 1513.92 624.887 1509.34 Q627.966 1504.73 633.776 1504.73 Z\" fill=\"#000000\" fill-rule=\"evenodd\" fill-opacity=\"1\" /><path clip-path=\"url(#clip020)\" d=\"M 0 0 M660.79 1508.44 Q657.179 1508.44 655.35 1512 Q653.544 1515.55 653.544 1522.67 Q653.544 1529.78 655.35 1533.35 Q657.179 1536.89 660.79 1536.89 Q664.424 1536.89 666.23 1533.35 Q668.058 1529.78 668.058 1522.67 Q668.058 1515.55 666.23 1512 Q664.424 1508.44 660.79 1508.44 M660.79 1504.73 Q666.6 1504.73 669.655 1509.34 Q672.734 1513.92 672.734 1522.67 Q672.734 1531.4 669.655 1536.01 Q666.6 1540.59 660.79 1540.59 Q654.98 1540.59 651.901 1536.01 Q648.845 1531.4 648.845 1522.67 Q648.845 1513.92 651.901 1509.34 Q654.98 1504.73 660.79 1504.73 Z\" fill=\"#000000\" fill-rule=\"evenodd\" fill-opacity=\"1\" /><path clip-path=\"url(#clip020)\" d=\"M 0 0 M1016.91 1535.98 L1033.23 1535.98 L1033.23 1539.92 L1011.29 1539.92 L1011.29 1535.98 Q1013.95 1533.23 1018.53 1528.6 Q1023.14 1523.95 1024.32 1522.61 Q1026.57 1520.08 1027.45 1518.35 Q1028.35 1516.59 1028.35 1514.9 Q1028.35 1512.14 1026.4 1510.41 Q1024.48 1508.67 1021.38 1508.67 Q1019.18 1508.67 1016.73 1509.43 Q1014.3 1510.2 1011.52 1511.75 L1011.52 1507.03 Q1014.34 1505.89 1016.8 1505.31 Q1019.25 1504.73 1021.29 1504.73 Q1026.66 1504.73 1029.85 1507.42 Q1033.05 1510.11 1033.05 1514.6 Q1033.05 1516.73 1032.24 1518.65 Q1031.45 1520.54 1029.34 1523.14 Q1028.77 1523.81 1025.66 1527.03 Q1022.56 1530.22 1016.91 1535.98 Z\" fill=\"#000000\" fill-rule=\"evenodd\" fill-opacity=\"1\" /><path clip-path=\"url(#clip020)\" d=\"M 0 0 M1048.3 1508.44 Q1044.69 1508.44 1042.86 1512 Q1041.06 1515.55 1041.06 1522.67 Q1041.06 1529.78 1042.86 1533.35 Q1044.69 1536.89 1048.3 1536.89 Q1051.94 1536.89 1053.74 1533.35 Q1055.57 1529.78 1055.57 1522.67 Q1055.57 1515.55 1053.74 1512 Q1051.94 1508.44 1048.3 1508.44 M1048.3 1504.73 Q1054.11 1504.73 1057.17 1509.34 Q1060.25 1513.92 1060.25 1522.67 Q1060.25 1531.4 1057.17 1536.01 Q1054.11 1540.59 1048.3 1540.59 Q1042.49 1540.59 1039.41 1536.01 Q1036.36 1531.4 1036.36 1522.67 Q1036.36 1513.92 1039.41 1509.34 Q1042.49 1504.73 1048.3 1504.73 Z\" fill=\"#000000\" fill-rule=\"evenodd\" fill-opacity=\"1\" /><path clip-path=\"url(#clip020)\" d=\"M 0 0 M1075.32 1508.44 Q1071.7 1508.44 1069.88 1512 Q1068.07 1515.55 1068.07 1522.67 Q1068.07 1529.78 1069.88 1533.35 Q1071.7 1536.89 1075.32 1536.89 Q1078.95 1536.89 1080.76 1533.35 Q1082.58 1529.78 1082.58 1522.67 Q1082.58 1515.55 1080.76 1512 Q1078.95 1508.44 1075.32 1508.44 M1075.32 1504.73 Q1081.13 1504.73 1084.18 1509.34 Q1087.26 1513.92 1087.26 1522.67 Q1087.26 1531.4 1084.18 1536.01 Q1081.13 1540.59 1075.32 1540.59 Q1069.51 1540.59 1066.43 1536.01 Q1063.37 1531.4 1063.37 1522.67 Q1063.37 1513.92 1066.43 1509.34 Q1069.51 1504.73 1075.32 1504.73 Z\" fill=\"#000000\" fill-rule=\"evenodd\" fill-opacity=\"1\" /><path clip-path=\"url(#clip020)\" d=\"M 0 0 M1440.35 1521.29 Q1443.71 1522 1445.58 1524.27 Q1447.48 1526.54 1447.48 1529.87 Q1447.48 1534.99 1443.96 1537.79 Q1440.44 1540.59 1433.96 1540.59 Q1431.79 1540.59 1429.47 1540.15 Q1427.18 1539.73 1424.73 1538.88 L1424.73 1534.36 Q1426.67 1535.5 1428.99 1536.08 Q1431.3 1536.66 1433.82 1536.66 Q1438.22 1536.66 1440.51 1534.92 Q1442.83 1533.18 1442.83 1529.87 Q1442.83 1526.82 1440.68 1525.11 Q1438.55 1523.37 1434.73 1523.37 L1430.7 1523.37 L1430.7 1519.53 L1434.91 1519.53 Q1438.36 1519.53 1440.19 1518.16 Q1442.02 1516.77 1442.02 1514.18 Q1442.02 1511.52 1440.12 1510.11 Q1438.24 1508.67 1434.73 1508.67 Q1432.81 1508.67 1430.61 1509.09 Q1428.41 1509.5 1425.77 1510.38 L1425.77 1506.22 Q1428.43 1505.48 1430.74 1505.11 Q1433.08 1504.73 1435.14 1504.73 Q1440.47 1504.73 1443.57 1507.17 Q1446.67 1509.57 1446.67 1513.69 Q1446.67 1516.56 1445.03 1518.55 Q1443.38 1520.52 1440.35 1521.29 Z\" fill=\"#000000\" fill-rule=\"evenodd\" fill-opacity=\"1\" /><path clip-path=\"url(#clip020)\" d=\"M 0 0 M1462.55 1508.44 Q1458.94 1508.44 1457.11 1512 Q1455.3 1515.55 1455.3 1522.67 Q1455.3 1529.78 1457.11 1533.35 Q1458.94 1536.89 1462.55 1536.89 Q1466.18 1536.89 1467.99 1533.35 Q1469.82 1529.78 1469.82 1522.67 Q1469.82 1515.55 1467.99 1512 Q1466.18 1508.44 1462.55 1508.44 M1462.55 1504.73 Q1468.36 1504.73 1471.42 1509.34 Q1474.49 1513.92 1474.49 1522.67 Q1474.49 1531.4 1471.42 1536.01 Q1468.36 1540.59 1462.55 1540.59 Q1456.74 1540.59 1453.66 1536.01 Q1450.61 1531.4 1450.61 1522.67 Q1450.61 1513.92 1453.66 1509.34 Q1456.74 1504.73 1462.55 1504.73 Z\" fill=\"#000000\" fill-rule=\"evenodd\" fill-opacity=\"1\" /><path clip-path=\"url(#clip020)\" d=\"M 0 0 M1489.56 1508.44 Q1485.95 1508.44 1484.12 1512 Q1482.32 1515.55 1482.32 1522.67 Q1482.32 1529.78 1484.12 1533.35 Q1485.95 1536.89 1489.56 1536.89 Q1493.2 1536.89 1495 1533.35 Q1496.83 1529.78 1496.83 1522.67 Q1496.83 1515.55 1495 1512 Q1493.2 1508.44 1489.56 1508.44 M1489.56 1504.73 Q1495.37 1504.73 1498.43 1509.34 Q1501.51 1513.92 1501.51 1522.67 Q1501.51 1531.4 1498.43 1536.01 Q1495.37 1540.59 1489.56 1540.59 Q1483.75 1540.59 1480.68 1536.01 Q1477.62 1531.4 1477.62 1522.67 Q1477.62 1513.92 1480.68 1509.34 Q1483.75 1504.73 1489.56 1504.73 Z\" fill=\"#000000\" fill-rule=\"evenodd\" fill-opacity=\"1\" /><path clip-path=\"url(#clip020)\" d=\"M 0 0 M1852.96 1509.43 L1841.15 1527.88 L1852.96 1527.88 L1852.96 1509.43 M1851.73 1505.36 L1857.61 1505.36 L1857.61 1527.88 L1862.54 1527.88 L1862.54 1531.77 L1857.61 1531.77 L1857.61 1539.92 L1852.96 1539.92 L1852.96 1531.77 L1837.35 1531.77 L1837.35 1527.26 L1851.73 1505.36 Z\" fill=\"#000000\" fill-rule=\"evenodd\" fill-opacity=\"1\" /><path clip-path=\"url(#clip020)\" d=\"M 0 0 M1877.61 1508.44 Q1874 1508.44 1872.17 1512 Q1870.36 1515.55 1870.36 1522.67 Q1870.36 1529.78 1872.17 1533.35 Q1874 1536.89 1877.61 1536.89 Q1881.24 1536.89 1883.05 1533.35 Q1884.88 1529.78 1884.88 1522.67 Q1884.88 1515.55 1883.05 1512 Q1881.24 1508.44 1877.61 1508.44 M1877.61 1504.73 Q1883.42 1504.73 1886.47 1509.34 Q1889.55 1513.92 1889.55 1522.67 Q1889.55 1531.4 1886.47 1536.01 Q1883.42 1540.59 1877.61 1540.59 Q1871.8 1540.59 1868.72 1536.01 Q1865.66 1531.4 1865.66 1522.67 Q1865.66 1513.92 1868.72 1509.34 Q1871.8 1504.73 1877.61 1504.73 Z\" fill=\"#000000\" fill-rule=\"evenodd\" fill-opacity=\"1\" /><path clip-path=\"url(#clip020)\" d=\"M 0 0 M1904.62 1508.44 Q1901.01 1508.44 1899.18 1512 Q1897.38 1515.55 1897.38 1522.67 Q1897.38 1529.78 1899.18 1533.35 Q1901.01 1536.89 1904.62 1536.89 Q1908.26 1536.89 1910.06 1533.35 Q1911.89 1529.78 1911.89 1522.67 Q1911.89 1515.55 1910.06 1512 Q1908.26 1508.44 1904.62 1508.44 M1904.62 1504.73 Q1910.43 1504.73 1913.49 1509.34 Q1916.57 1513.92 1916.57 1522.67 Q1916.57 1531.4 1913.49 1536.01 Q1910.43 1540.59 1904.62 1540.59 Q1898.81 1540.59 1895.73 1536.01 Q1892.68 1531.4 1892.68 1522.67 Q1892.68 1513.92 1895.73 1509.34 Q1898.81 1504.73 1904.62 1504.73 Z\" fill=\"#000000\" fill-rule=\"evenodd\" fill-opacity=\"1\" /><path clip-path=\"url(#clip020)\" d=\"M 0 0 M2254.07 1505.36 L2272.42 1505.36 L2272.42 1509.3 L2258.35 1509.3 L2258.35 1517.77 Q2259.37 1517.42 2260.39 1517.26 Q2261.41 1517.07 2262.42 1517.07 Q2268.21 1517.07 2271.59 1520.24 Q2274.97 1523.42 2274.97 1528.83 Q2274.97 1534.41 2271.5 1537.51 Q2268.03 1540.59 2261.71 1540.59 Q2259.53 1540.59 2257.26 1540.22 Q2255.02 1539.85 2252.61 1539.11 L2252.61 1534.41 Q2254.69 1535.54 2256.91 1536.1 Q2259.14 1536.66 2261.61 1536.66 Q2265.62 1536.66 2267.96 1534.55 Q2270.29 1532.44 2270.29 1528.83 Q2270.29 1525.22 2267.96 1523.11 Q2265.62 1521.01 2261.61 1521.01 Q2259.74 1521.01 2257.86 1521.42 Q2256.01 1521.84 2254.07 1522.72 L2254.07 1505.36 Z\" fill=\"#000000\" fill-rule=\"evenodd\" fill-opacity=\"1\" /><path clip-path=\"url(#clip020)\" d=\"M 0 0 M2290.04 1508.44 Q2286.43 1508.44 2284.6 1512 Q2282.79 1515.55 2282.79 1522.67 Q2282.79 1529.78 2284.6 1533.35 Q2286.43 1536.89 2290.04 1536.89 Q2293.67 1536.89 2295.48 1533.35 Q2297.31 1529.78 2297.31 1522.67 Q2297.31 1515.55 2295.48 1512 Q2293.67 1508.44 2290.04 1508.44 M2290.04 1504.73 Q2295.85 1504.73 2298.91 1509.34 Q2301.98 1513.92 2301.98 1522.67 Q2301.98 1531.4 2298.91 1536.01 Q2295.85 1540.59 2290.04 1540.59 Q2284.23 1540.59 2281.15 1536.01 Q2278.1 1531.4 2278.1 1522.67 Q2278.1 1513.92 2281.15 1509.34 Q2284.23 1504.73 2290.04 1504.73 Z\" fill=\"#000000\" fill-rule=\"evenodd\" fill-opacity=\"1\" /><path clip-path=\"url(#clip020)\" d=\"M 0 0 M2317.05 1508.44 Q2313.44 1508.44 2311.61 1512 Q2309.81 1515.55 2309.81 1522.67 Q2309.81 1529.78 2311.61 1533.35 Q2313.44 1536.89 2317.05 1536.89 Q2320.69 1536.89 2322.49 1533.35 Q2324.32 1529.78 2324.32 1522.67 Q2324.32 1515.55 2322.49 1512 Q2320.69 1508.44 2317.05 1508.44 M2317.05 1504.73 Q2322.86 1504.73 2325.92 1509.34 Q2329 1513.92 2329 1522.67 Q2329 1531.4 2325.92 1536.01 Q2322.86 1540.59 2317.05 1540.59 Q2311.24 1540.59 2308.16 1536.01 Q2305.11 1531.4 2305.11 1522.67 Q2305.11 1513.92 2308.16 1509.34 Q2311.24 1504.73 2317.05 1504.73 Z\" fill=\"#000000\" fill-rule=\"evenodd\" fill-opacity=\"1\" /><path clip-path=\"url(#clip020)\" d=\"M 0 0 M127.83 1451.08 Q124.219 1451.08 122.39 1454.64 Q120.584 1458.19 120.584 1465.32 Q120.584 1472.42 122.39 1475.99 Q124.219 1479.53 127.83 1479.53 Q131.464 1479.53 133.27 1475.99 Q135.098 1472.42 135.098 1465.32 Q135.098 1458.19 133.27 1454.64 Q131.464 1451.08 127.83 1451.08 M127.83 1447.38 Q133.64 1447.38 136.695 1451.98 Q139.774 1456.57 139.774 1465.32 Q139.774 1474.04 136.695 1478.65 Q133.64 1483.23 127.83 1483.23 Q122.02 1483.23 118.941 1478.65 Q115.885 1474.04 115.885 1465.32 Q115.885 1456.57 118.941 1451.98 Q122.02 1447.38 127.83 1447.38 Z\" fill=\"#000000\" fill-rule=\"evenodd\" fill-opacity=\"1\" /><path clip-path=\"url(#clip020)\" d=\"M 0 0 M65.8393 1064.15 L73.4782 1064.15 L73.4782 1037.79 L65.168 1039.45 L65.168 1035.19 L73.4319 1033.53 L78.1078 1033.53 L78.1078 1064.15 L85.7466 1064.15 L85.7466 1068.09 L65.8393 1068.09 L65.8393 1064.15 Z\" fill=\"#000000\" fill-rule=\"evenodd\" fill-opacity=\"1\" /><path clip-path=\"url(#clip020)\" d=\"M 0 0 M100.816 1036.61 Q97.2049 1036.61 95.3762 1040.17 Q93.5707 1043.71 93.5707 1050.84 Q93.5707 1057.95 95.3762 1061.51 Q97.2049 1065.05 100.816 1065.05 Q104.45 1065.05 106.256 1061.51 Q108.084 1057.95 108.084 1050.84 Q108.084 1043.71 106.256 1040.17 Q104.45 1036.61 100.816 1036.61 M100.816 1032.9 Q106.626 1032.9 109.682 1037.51 Q112.76 1042.09 112.76 1050.84 Q112.76 1059.57 109.682 1064.17 Q106.626 1068.76 100.816 1068.76 Q95.0058 1068.76 91.9272 1064.17 Q88.8716 1059.57 88.8716 1050.84 Q88.8716 1042.09 91.9272 1037.51 Q95.0058 1032.9 100.816 1032.9 Z\" fill=\"#000000\" fill-rule=\"evenodd\" fill-opacity=\"1\" /><path clip-path=\"url(#clip020)\" d=\"M 0 0 M127.83 1036.61 Q124.219 1036.61 122.39 1040.17 Q120.584 1043.71 120.584 1050.84 Q120.584 1057.95 122.39 1061.51 Q124.219 1065.05 127.83 1065.05 Q131.464 1065.05 133.27 1061.51 Q135.098 1057.95 135.098 1050.84 Q135.098 1043.71 133.27 1040.17 Q131.464 1036.61 127.83 1036.61 M127.83 1032.9 Q133.64 1032.9 136.695 1037.51 Q139.774 1042.09 139.774 1050.84 Q139.774 1059.57 136.695 1064.17 Q133.64 1068.76 127.83 1068.76 Q122.02 1068.76 118.941 1064.17 Q115.885 1059.57 115.885 1050.84 Q115.885 1042.09 118.941 1037.51 Q122.02 1032.9 127.83 1032.9 Z\" fill=\"#000000\" fill-rule=\"evenodd\" fill-opacity=\"1\" /><path clip-path=\"url(#clip020)\" d=\"M 0 0 M69.4273 649.678 L85.7466 649.678 L85.7466 653.613 L63.8023 653.613 L63.8023 649.678 Q66.4643 646.923 71.0476 642.294 Q75.6541 637.641 76.8346 636.298 Q79.08 633.775 79.9596 632.039 Q80.8624 630.28 80.8624 628.59 Q80.8624 625.835 78.918 624.099 Q76.9967 622.363 73.8948 622.363 Q71.6958 622.363 69.2421 623.127 Q66.8115 623.891 64.0338 625.442 L64.0338 620.72 Q66.8578 619.585 69.3115 619.007 Q71.7652 618.428 73.8023 618.428 Q79.1726 618.428 82.367 621.113 Q85.5614 623.798 85.5614 628.289 Q85.5614 630.419 84.7513 632.34 Q83.9642 634.238 81.8578 636.831 Q81.2791 637.502 78.1772 640.719 Q75.0754 643.914 69.4273 649.678 Z\" fill=\"#000000\" fill-rule=\"evenodd\" fill-opacity=\"1\" /><path clip-path=\"url(#clip020)\" d=\"M 0 0 M100.816 622.132 Q97.2049 622.132 95.3762 625.696 Q93.5707 629.238 93.5707 636.368 Q93.5707 643.474 95.3762 647.039 Q97.2049 650.581 100.816 650.581 Q104.45 650.581 106.256 647.039 Q108.084 643.474 108.084 636.368 Q108.084 629.238 106.256 625.696 Q104.45 622.132 100.816 622.132 M100.816 618.428 Q106.626 618.428 109.682 623.034 Q112.76 627.618 112.76 636.368 Q112.76 645.094 109.682 649.701 Q106.626 654.284 100.816 654.284 Q95.0058 654.284 91.9272 649.701 Q88.8716 645.094 88.8716 636.368 Q88.8716 627.618 91.9272 623.034 Q95.0058 618.428 100.816 618.428 Z\" fill=\"#000000\" fill-rule=\"evenodd\" fill-opacity=\"1\" /><path clip-path=\"url(#clip020)\" d=\"M 0 0 M127.83 622.132 Q124.219 622.132 122.39 625.696 Q120.584 629.238 120.584 636.368 Q120.584 643.474 122.39 647.039 Q124.219 650.581 127.83 650.581 Q131.464 650.581 133.27 647.039 Q135.098 643.474 135.098 636.368 Q135.098 629.238 133.27 625.696 Q131.464 622.132 127.83 622.132 M127.83 618.428 Q133.64 618.428 136.695 623.034 Q139.774 627.618 139.774 636.368 Q139.774 645.094 136.695 649.701 Q133.64 654.284 127.83 654.284 Q122.02 654.284 118.941 649.701 Q115.885 645.094 115.885 636.368 Q115.885 627.618 118.941 623.034 Q122.02 618.428 127.83 618.428 Z\" fill=\"#000000\" fill-rule=\"evenodd\" fill-opacity=\"1\" /><path clip-path=\"url(#clip020)\" d=\"M 0 0 M78.617 220.505 Q81.9735 221.222 83.8485 223.491 Q85.7466 225.759 85.7466 229.093 Q85.7466 234.208 82.2281 237.009 Q78.7096 239.81 72.2282 239.81 Q70.0523 239.81 67.7375 239.37 Q65.4458 238.954 62.9921 238.097 L62.9921 233.583 Q64.9366 234.718 67.2514 235.296 Q69.5662 235.875 72.0893 235.875 Q76.4874 235.875 78.7791 234.139 Q81.0939 232.403 81.0939 229.093 Q81.0939 226.037 78.9411 224.324 Q76.8115 222.588 72.9921 222.588 L68.9643 222.588 L68.9643 218.746 L73.1773 218.746 Q76.6263 218.746 78.455 217.38 Q80.2837 215.991 80.2837 213.398 Q80.2837 210.736 78.3856 209.324 Q76.5106 207.889 72.9921 207.889 Q71.0708 207.889 68.8717 208.306 Q66.6727 208.722 64.0338 209.602 L64.0338 205.435 Q66.6958 204.695 69.0106 204.324 Q71.3486 203.954 73.4087 203.954 Q78.7328 203.954 81.8346 206.385 Q84.9365 208.792 84.9365 212.912 Q84.9365 215.783 83.2929 217.773 Q81.6494 219.741 78.617 220.505 Z\" fill=\"#000000\" fill-rule=\"evenodd\" fill-opacity=\"1\" /><path clip-path=\"url(#clip020)\" d=\"M 0 0 M100.816 207.658 Q97.2049 207.658 95.3762 211.222 Q93.5707 214.764 93.5707 221.894 Q93.5707 229 95.3762 232.565 Q97.2049 236.107 100.816 236.107 Q104.45 236.107 106.256 232.565 Q108.084 229 108.084 221.894 Q108.084 214.764 106.256 211.222 Q104.45 207.658 100.816 207.658 M100.816 203.954 Q106.626 203.954 109.682 208.56 Q112.76 213.144 112.76 221.894 Q112.76 230.621 109.682 235.227 Q106.626 239.81 100.816 239.81 Q95.0058 239.81 91.9272 235.227 Q88.8716 230.621 88.8716 221.894 Q88.8716 213.144 91.9272 208.56 Q95.0058 203.954 100.816 203.954 Z\" fill=\"#000000\" fill-rule=\"evenodd\" fill-opacity=\"1\" /><path clip-path=\"url(#clip020)\" d=\"M 0 0 M127.83 207.658 Q124.219 207.658 122.39 211.222 Q120.584 214.764 120.584 221.894 Q120.584 229 122.39 232.565 Q124.219 236.107 127.83 236.107 Q131.464 236.107 133.27 232.565 Q135.098 229 135.098 221.894 Q135.098 214.764 133.27 211.222 Q131.464 207.658 127.83 207.658 M127.83 203.954 Q133.64 203.954 136.695 208.56 Q139.774 213.144 139.774 221.894 Q139.774 230.621 136.695 235.227 Q133.64 239.81 127.83 239.81 Q122.02 239.81 118.941 235.227 Q115.885 230.621 115.885 221.894 Q115.885 213.144 118.941 208.56 Q122.02 203.954 127.83 203.954 Z\" fill=\"#000000\" fill-rule=\"evenodd\" fill-opacity=\"1\" /><polyline clip-path=\"url(#clip022)\" style=\"stroke:#009af9; stroke-width:4; stroke-opacity:1; fill:none\" points=\"\n",
       "  225.726,1442.04 229.865,1445.72 234.003,1442.87 238.142,1429.99 242.28,1431.75 246.419,1433.48 250.557,1421.15 254.695,1426.02 258.834,1415.58 262.972,1415.81 \n",
       "  267.111,1419.81 271.249,1411.22 275.388,1413.45 279.526,1422.56 283.664,1408.9 287.803,1411.22 291.941,1411.22 296.08,1415.81 300.218,1409.19 304.357,1413.72 \n",
       "  308.495,1395.78 312.633,1397.42 316.772,1405.04 320.91,1406.87 325.049,1394.87 329.187,1393.06 333.326,1394.87 337.464,1385.16 341.603,1349.04 345.741,1340.65 \n",
       "  349.879,1338.37 354.018,1347.88 358.156,1386.46 362.295,1379.02 366.433,1373.53 370.572,1402.34 374.71,1308.61 378.848,1286.59 382.987,1286.59 387.125,1260.52 \n",
       "  391.264,1246.69 395.402,1189.51 399.541,1210.69 403.679,1189.51 407.817,1210.69 411.956,1189.51 416.094,1189.51 420.233,1147.45 424.371,1189.51 428.51,1114.74 \n",
       "  432.648,1189.51 436.786,991.213 440.925,1189.51 445.063,1189.51 449.202,1189.51 453.34,991.213 457.479,1033.28 461.617,1033.28 465.755,1033.28 469.894,1033.28 \n",
       "  474.032,991.213 478.171,1033.28 482.309,1033.28 486.448,1033.28 490.586,1033.28 494.724,1033.28 498.863,988.08 503.001,991.213 507.14,1210.69 511.278,991.213 \n",
       "  515.417,1061.17 519.555,1033.28 523.693,1033.28 527.832,991.213 531.97,991.213 536.109,991.213 540.247,1033.28 544.386,991.213 548.524,991.213 552.662,1033.28 \n",
       "  556.801,988.08 560.939,988.08 565.078,991.213 569.216,1033.28 573.355,988.08 577.493,988.08 581.632,991.213 585.77,991.213 589.908,991.213 594.047,988.08 \n",
       "  598.185,991.213 602.324,988.08 606.462,988.08 610.601,988.08 614.739,865.99 618.877,865.99 623.016,988.08 627.154,988.08 631.293,988.08 635.431,988.08 \n",
       "  639.57,988.08 643.708,988.08 647.846,1008.55 651.985,988.08 656.123,988.08 660.262,988.08 664.4,988.08 668.539,870.876 672.677,988.08 676.815,988.08 \n",
       "  680.954,870.876 685.092,988.08 689.231,988.08 693.369,988.08 697.508,865.99 701.646,865.99 705.784,988.08 709.923,988.08 714.061,988.08 718.2,988.08 \n",
       "  722.338,988.08 726.477,988.08 730.615,988.08 734.753,988.08 738.892,988.08 743.03,988.08 747.169,865.99 751.307,788.251 755.446,865.99 759.584,865.99 \n",
       "  763.722,988.08 767.861,988.08 771.999,788.251 776.138,988.08 780.276,988.08 784.415,748.786 788.553,748.786 792.692,788.251 796.83,910.341 800.968,788.251 \n",
       "  805.107,748.786 809.245,988.08 813.384,748.786 817.522,748.786 821.661,748.786 825.799,748.786 829.937,865.99 834.076,748.786 838.214,865.99 842.353,788.251 \n",
       "  846.491,988.08 850.63,748.786 854.768,988.08 858.906,988.08 863.045,865.99 867.183,988.08 871.322,988.08 875.46,748.786 879.599,748.786 883.737,788.251 \n",
       "  887.875,748.786 892.014,988.08 896.152,748.786 900.291,748.786 904.429,748.786 908.568,788.251 912.706,748.786 916.844,748.786 920.983,988.08 925.121,748.786 \n",
       "  929.26,748.786 933.398,748.786 937.537,748.786 941.675,748.786 945.813,748.786 949.952,748.786 954.09,865.99 958.229,865.99 962.367,748.786 966.506,748.786 \n",
       "  970.644,748.786 974.782,748.786 978.921,748.786 983.059,748.786 987.198,748.786 991.336,865.99 995.475,865.99 999.613,748.786 1003.75,748.786 1007.89,748.786 \n",
       "  1012.03,748.786 1016.17,865.99 1020.31,788.251 1024.44,748.786 1028.58,788.251 1032.72,694.965 1036.86,748.786 1041,788.251 1045.14,748.786 1049.27,748.786 \n",
       "  1053.41,748.786 1057.55,748.786 1061.69,748.786 1065.83,748.786 1069.97,748.786 1074.1,748.786 1078.24,748.786 1082.38,748.786 1086.52,748.786 1090.66,748.786 \n",
       "  1094.8,748.786 1098.94,748.786 1103.07,748.786 1107.21,748.786 1111.35,748.786 1115.49,748.786 1119.63,865.99 1123.77,748.786 1127.9,748.786 1132.04,748.786 \n",
       "  1136.18,748.786 1140.32,748.786 1144.46,748.786 1148.6,748.786 1152.74,694.965 1156.87,748.786 1161.01,694.965 1165.15,694.965 1169.29,748.786 1173.43,748.786 \n",
       "  1177.57,788.251 1181.7,748.786 1185.84,748.786 1189.98,748.786 1194.12,694.965 1198.26,748.786 1202.4,694.965 1206.53,748.786 1210.67,748.786 1214.81,748.786 \n",
       "  1218.95,748.786 1223.09,748.786 1227.23,748.786 1231.37,748.786 1235.5,748.786 1239.64,865.99 1243.78,748.786 1247.92,748.786 1252.06,748.786 1256.2,748.786 \n",
       "  1260.33,748.786 1264.47,694.965 1268.61,748.786 1272.75,748.786 1276.89,748.786 1281.03,694.965 1285.16,694.965 1289.3,788.251 1293.44,748.786 1297.58,748.786 \n",
       "  1301.72,748.786 1305.86,748.786 1310,748.786 1314.13,748.786 1318.27,694.965 1322.41,748.786 1326.55,748.786 1330.69,748.786 1334.83,694.965 1338.96,694.965 \n",
       "  1343.1,694.965 1347.24,788.251 1351.38,694.965 1355.52,748.786 1359.66,748.786 1363.8,748.786 1367.93,748.786 1372.07,694.965 1376.21,748.786 1380.35,748.786 \n",
       "  1384.49,694.965 1388.63,748.786 1392.76,694.965 1396.9,694.965 1401.04,694.965 1405.18,694.965 1409.32,748.786 1413.46,748.786 1417.59,748.786 1421.73,694.965 \n",
       "  1425.87,694.965 1430.01,694.965 1434.15,748.786 1438.29,748.786 1442.43,694.965 1446.56,748.786 1450.7,694.965 1454.84,694.965 1458.98,694.965 1463.12,694.965 \n",
       "  1467.26,694.965 1471.39,694.965 1475.53,748.786 1479.67,748.786 1483.81,694.965 1487.95,694.965 1492.09,694.965 1496.22,694.965 1500.36,694.965 1504.5,694.965 \n",
       "  1508.64,694.965 1512.78,748.786 1516.92,694.965 1521.06,694.965 1525.19,694.965 1529.33,748.786 1533.47,694.965 1537.61,748.786 1541.75,694.965 1545.89,694.965 \n",
       "  1550.02,694.965 1554.16,748.786 1558.3,694.965 1562.44,694.965 1566.58,694.965 1570.72,694.965 1574.85,748.786 1578.99,748.786 1583.13,694.965 1587.27,748.786 \n",
       "  1591.41,694.965 1595.55,694.965 1599.69,748.786 1603.82,748.786 1607.96,694.965 1612.1,748.786 1616.24,694.965 1620.38,694.965 1624.52,748.786 1628.65,748.786 \n",
       "  1632.79,812.169 1636.93,694.965 1641.07,694.965 1645.21,812.169 1649.35,694.965 1653.49,748.786 1657.62,550.101 1661.76,550.101 1665.9,96.4415 1670.04,290.351 \n",
       "  1674.18,96.4415 1678.32,96.4415 1682.45,407.555 1686.59,96.4415 1690.73,213.645 1694.87,96.4415 1699.01,96.4415 1703.15,96.4415 1707.28,213.645 1711.42,96.4415 \n",
       "  1715.56,213.645 1719.7,96.4415 1723.84,213.645 1727.98,96.4415 1732.12,213.645 1736.25,96.4415 1740.39,96.4415 1744.53,96.4415 1748.67,96.4415 1752.81,213.645 \n",
       "  1756.95,96.4415 1761.08,96.4415 1765.22,213.645 1769.36,96.4415 1773.5,96.4415 1777.64,96.4415 1781.78,96.4415 1785.91,96.4415 1790.05,96.4415 1794.19,96.4415 \n",
       "  1798.33,213.645 1802.47,96.4415 1806.61,213.645 1810.75,213.645 1814.88,96.4415 1819.02,96.4415 1823.16,96.4415 1827.3,96.4415 1831.44,96.4415 1835.58,96.4415 \n",
       "  1839.71,96.4415 1843.85,213.645 1847.99,213.645 1852.13,213.645 1856.27,213.645 1860.41,96.4415 1864.55,96.4415 1868.68,96.4415 1872.82,96.4415 1876.96,96.4415 \n",
       "  1881.1,213.645 1885.24,96.4415 1889.38,96.4415 1893.51,96.4415 1897.65,96.4415 1901.79,96.4415 1905.93,96.4415 1910.07,96.4415 1914.21,96.4415 1918.34,96.4415 \n",
       "  1922.48,213.645 1926.62,96.4415 1930.76,96.4415 1934.9,96.4415 1939.04,96.4415 1943.18,96.4415 1947.31,96.4415 1951.45,96.4415 1955.59,96.4415 1959.73,96.4415 \n",
       "  1963.87,96.4415 1968.01,96.4415 1972.14,96.4415 1976.28,96.4415 1980.42,96.4415 1984.56,213.645 1988.7,96.4415 1992.84,96.4415 1996.97,96.4415 2001.11,213.645 \n",
       "  2005.25,96.4415 2009.39,213.645 2013.53,96.4415 2017.67,213.645 2021.81,96.4415 2025.94,96.4415 2030.08,96.4415 2034.22,96.4415 2038.36,96.4415 2042.5,96.4415 \n",
       "  2046.64,96.4415 2050.77,213.645 2054.91,96.4415 2059.05,96.4415 2063.19,96.4415 2067.33,96.4415 2071.47,96.4415 2075.61,96.4415 2079.74,96.4415 2083.88,96.4415 \n",
       "  2088.02,96.4415 2092.16,213.645 2096.3,96.4415 2100.44,96.4415 2104.57,96.4415 2108.71,96.4415 2112.85,96.4415 2116.99,96.4415 2121.13,96.4415 2125.27,96.4415 \n",
       "  2129.4,96.4415 2133.54,213.645 2137.68,213.645 2141.82,96.4415 2145.96,96.4415 2150.1,213.645 2154.24,96.4415 2158.37,96.4415 2162.51,96.4415 2166.65,96.4415 \n",
       "  2170.79,87.9763 2174.93,87.9763 2179.07,96.4415 2183.2,87.9763 2187.34,96.4415 2191.48,96.4415 2195.62,96.4415 2199.76,96.4415 2203.9,96.4415 2208.03,96.4415 \n",
       "  2212.17,96.4415 2216.31,96.4415 2220.45,96.4415 2224.59,96.4415 2228.73,87.9763 2232.87,96.4415 2237,87.9763 2241.14,96.4415 2245.28,96.4415 2249.42,213.645 \n",
       "  2253.56,87.9763 2257.7,96.4415 2261.83,96.4415 2265.97,96.4415 2270.11,96.4415 2274.25,213.645 2278.39,96.4415 2282.53,96.4415 2286.67,96.4415 2290.8,87.9763 \n",
       "  \n",
       "  \"/>\n",
       "<path clip-path=\"url(#clip020)\" d=\"\n",
       "M1989.74 251.724 L2280.76 251.724 L2280.76 130.764 L1989.74 130.764  Z\n",
       "  \" fill=\"#ffffff\" fill-rule=\"evenodd\" fill-opacity=\"1\"/>\n",
       "<polyline clip-path=\"url(#clip020)\" style=\"stroke:#000000; stroke-width:4; stroke-opacity:1; fill:none\" points=\"\n",
       "  1989.74,251.724 2280.76,251.724 2280.76,130.764 1989.74,130.764 1989.74,251.724 \n",
       "  \"/>\n",
       "<polyline clip-path=\"url(#clip020)\" style=\"stroke:#009af9; stroke-width:4; stroke-opacity:1; fill:none\" points=\"\n",
       "  2013.74,191.244 2157.74,191.244 \n",
       "  \"/>\n",
       "<path clip-path=\"url(#clip020)\" d=\"M 0 0 M2195.58 210.931 Q2193.77 215.561 2192.06 216.973 Q2190.35 218.385 2187.48 218.385 L2184.08 218.385 L2184.08 214.82 L2186.58 214.82 Q2188.33 214.82 2189.31 213.987 Q2190.28 213.154 2191.46 210.052 L2192.22 208.107 L2181.74 182.598 L2186.25 182.598 L2194.35 202.876 L2202.46 182.598 L2206.97 182.598 L2195.58 210.931 Z\" fill=\"#000000\" fill-rule=\"evenodd\" fill-opacity=\"1\" /><path clip-path=\"url(#clip020)\" d=\"M 0 0 M2212.85 204.589 L2220.49 204.589 L2220.49 178.223 L2212.18 179.89 L2212.18 175.631 L2220.44 173.964 L2225.12 173.964 L2225.12 204.589 L2232.76 204.589 L2232.76 208.524 L2212.85 208.524 L2212.85 204.589 Z\" fill=\"#000000\" fill-rule=\"evenodd\" fill-opacity=\"1\" /></svg>\n"
      ]
     },
     "execution_count": 116,
     "metadata": {},
     "output_type": "execute_result"
    }
   ],
   "source": [
    "objective = evaluate_bird\n",
    "Npop = 20\n",
    "Ngen = 500\n",
    "sig = 0.1\n",
    "res = run_es_bird(Nstep=Ngen, Npop=Npop, Sigma=sig)\n",
    "#best_bird = res\n",
    "distances = res\n",
    "#println(best_bird)\n",
    "#dist = evaluate_bird(best_bird)\n",
    "#println(dist)\n",
    "plot(distances)"
   ]
  },
  {
   "cell_type": "code",
   "execution_count": 31,
   "metadata": {},
   "outputs": [
    {
     "data": {
      "text/plain": [
       "plot_obj_es (generic function with 1 method)"
      ]
     },
     "execution_count": 31,
     "metadata": {},
     "output_type": "execute_result"
    }
   ],
   "source": [
    "function plot_obj_es()\n",
    "    x = randn(2) #initial population: which is a single point\n",
    "    println(\"x initial: \", x)\n",
    "    anim = Animation()\n",
    "    for i in 1:500\n",
    "        v = mod(i, 10) == 0\n",
    "        x = step_es(x, npop=50, sigma=0.1, alpha=0.001, visualize=v, anim=anim)\n",
    "    end\n",
    "    println(\"x final: \", x)\n",
    "    gif(anim)\n",
    "end"
   ]
  },
  {
   "cell_type": "code",
   "execution_count": null,
   "metadata": {},
   "outputs": [],
   "source": [
    "xs = -5.0:0.1:5.0\n",
    "ys = -5.0:0.1:5.0\n",
    "\n",
    "#fz(x, y) = objective_es([x, y])\n",
    "println(solution) # optimal for sphere and rastrigin\n",
    "#plot_obj_cmaes()"
   ]
  }
 ],
 "metadata": {
  "@webio": {
   "lastCommId": null,
   "lastKernelId": null
  },
  "kernelspec": {
   "display_name": "Julia 1.3.1",
   "language": "julia",
   "name": "julia-1.3"
  },
  "language_info": {
   "file_extension": ".jl",
   "mimetype": "application/julia",
   "name": "julia",
   "version": "1.3.1"
  }
 },
 "nbformat": 4,
 "nbformat_minor": 2
}
