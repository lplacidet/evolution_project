{
 "cells": [
  {
   "cell_type": "markdown",
   "metadata": {},
   "source": [
    "\n",
    "\n",
    "# Project: Comparison of Existing Algorithms applied on Flappy Bird\n",
    "\n",
    "<a href=\"https://github.com/lplacidet/evolution_project\">https://github.com/lplacidet/evolution_project</a>"
   ]
  },
  {
   "cell_type": "markdown",
   "metadata": {},
   "source": [
    "Importing Libraries"
   ]
  },
  {
   "cell_type": "code",
   "execution_count": 1,
   "metadata": {},
   "outputs": [
    {
     "data": {
      "text/plain": [
       "Plots.GRBackend()"
      ]
     },
     "execution_count": 1,
     "metadata": {},
     "output_type": "execute_result"
    }
   ],
   "source": [
    "using Random\n",
    "using LinearAlgebra\n",
    "using Statistics\n",
    "using Plots\n",
    "\n",
    "using Cxx, Libdl\n",
    "\n",
    "gr(reuse=true)"
   ]
  },
  {
   "cell_type": "code",
   "execution_count": 2,
   "metadata": {},
   "outputs": [
    {
     "name": "stdout",
     "output_type": "stream",
     "text": [
      "ggre-gg"
     ]
    }
   ],
   "source": [
    "const path_to_lib = pwd()\n",
    "addHeaderDir(path_to_lib*\"/world/\", kind=C_System)\n",
    "cxxinclude(\"runWorld.h\")\n",
    "print(\"gg\")\n",
    "#objective = @cxx FlappyXP->evaluate\n",
    "print(\"re-gg\")"
   ]
  },
  {
   "cell_type": "code",
   "execution_count": 3,
   "metadata": {},
   "outputs": [
    {
     "data": {
      "text/plain": [
       "Individu([0.3116249162375293, 0.9743370973686254, 0.9647741439573008, 0.948881388927505, 0.5225190260404711], -Inf)"
      ]
     },
     "execution_count": 3,
     "metadata": {},
     "output_type": "execute_result"
    }
   ],
   "source": [
    "N_genes = 5\n",
    "\n",
    "mutable struct Individu\n",
    "    genes::Array{Float64}\n",
    "    fitness::Float64\n",
    "end\n",
    "\n",
    "function Individu(n::Int)\n",
    "    newgenes = zeros(n)\n",
    "    for i in 1:n\n",
    "        newgenes[i] = rand()\n",
    "    end\n",
    "    Individu(newgenes, -Inf)\n",
    "end \n",
    "\n",
    "Individu(N_genes)"
   ]
  },
  {
   "cell_type": "code",
   "execution_count": 4,
   "metadata": {},
   "outputs": [
    {
     "data": {
      "text/plain": [
       "true"
      ]
     },
     "execution_count": 4,
     "metadata": {},
     "output_type": "execute_result"
    }
   ],
   "source": [
    "cxx\"\"\"\n",
    "\n",
    "static double evaluate_bird(float g1, float g2, float g3, float g4, float g5) {\n",
    "float ind[5] = {g1,g2,g3,g4,g5};\n",
    "bool dbg = false;\n",
    "#ifdef DISPLAY\n",
    "\tinitscr();\n",
    "\ttimeout(0);\n",
    "\tnoecho();\n",
    "\tcurs_set(FALSE);\n",
    "#endif\n",
    "\tconst int NRUN = 3;\n",
    "\tauto &g = ind;\n",
    "\tdouble d = 0;\n",
    "\tfor (int r = 0; r < NRUN; ++r) {\n",
    "\t\tWorld world;\n",
    "\t\tworld.gen.seed(r * 100);\n",
    "\t\twhile (world.bestiau.vivant) {\n",
    "#ifdef DISPLAY\n",
    "            std::this_thread::sleep_for(std::chrono::milliseconds(25));\n",
    "            display(world, world.dist == 0);\n",
    "#endif\n",
    "            world.update();\n",
    "            // update inputs\n",
    "            float birdY = world.bestiau.y;\n",
    "            float birdVY = world.bestiau.vit;\n",
    "            float obsX;\n",
    "            float obsY;\n",
    "            if (world.obstacles.size() > 0) {\n",
    "                const auto &o = world.obstacles.front();\n",
    "                obsY = o.y + world.hauteurPassage * 0.5;\n",
    "                obsX = o.x / world.W;\n",
    "            } else {\n",
    "                obsY = world.H * 0.5;\n",
    "                obsX = 1000.0;\n",
    "            }\n",
    "            if ((g[0]*birdY+g[1]*birdVY+g[2]*obsX+g[3]*obsY+g[4]*world.dist)>1.0) world.bestiauUp();\n",
    "        }\n",
    "        d += world.dist;\n",
    "        float distToTunnel = world.bestiau.y-(world.obstacles.front().y+world.hauteurPassage*0.5);\n",
    "        d += 0.3*(1-((distToTunnel*distToTunnel)/(world.H*world.H)));\n",
    "    }\n",
    "#ifdef DISPLAY\n",
    "    endwin();\n",
    "#endif\n",
    "    return d;\n",
    "}\n",
    "\"\"\""
   ]
  },
  {
   "cell_type": "code",
   "execution_count": 27,
   "metadata": {},
   "outputs": [
    {
     "name": "stderr",
     "output_type": "stream",
     "text": [
      "\u001b[1mIn[27]:4:15: \u001b[0m\u001b[0;1;31merror: \u001b[0m\u001b[1mredefinition of 'evaluate_bird_display'\u001b[0m\n",
      "static double evaluate_bird_display(float g1, float g2, float g3, float g4, float g5) {\n",
      "\u001b[0;1;32m              ^\n",
      "\u001b[0m\u001b[1mIn[26]:4:15: \u001b[0m\u001b[0;1;30mnote: \u001b[0mprevious definition is here\u001b[0m\n",
      "static double evaluate_bird_display(float g1, float g2, float g3, float g4, float g5) {\n",
      "\u001b[0;1;32m              ^\n",
      "\u001b[0m\u001b[1mIn[27]:8:2: \u001b[0m\u001b[0;1;31merror: \u001b[0m\u001b[1muse of undeclared identifier 'initscr'\u001b[0m\n",
      "        initscr();\n",
      "\u001b[0;1;32m        ^\n",
      "\u001b[0m\u001b[1mIn[27]:9:2: \u001b[0m\u001b[0;1;31merror: \u001b[0m\u001b[1muse of undeclared identifier 'timeout'\u001b[0m\n",
      "        timeout(0);\n",
      "\u001b[0;1;32m        ^\n",
      "\u001b[0m\u001b[1mIn[27]:10:2: \u001b[0m\u001b[0;1;31merror: \u001b[0m\u001b[1muse of undeclared identifier 'noecho'\u001b[0m\n",
      "        noecho();\n",
      "\u001b[0;1;32m        ^\n",
      "\u001b[0m\u001b[1mIn[27]:11:11: \u001b[0m\u001b[0;1;31merror: \u001b[0m\u001b[1muse of undeclared identifier 'FALSE'\u001b[0m\n",
      "        curs_set(FALSE);\n",
      "\u001b[0;1;32m                 ^\n",
      "\u001b[0m\u001b[1mIn[27]:22:13: \u001b[0m\u001b[0;1;31merror: \u001b[0m\u001b[1muse of undeclared identifier 'display'\u001b[0m\n",
      "            display(world, world.dist == 0);\n",
      "\u001b[0;1;32m            ^\n",
      "\u001b[0m\u001b[1mIn[27]:45:5: \u001b[0m\u001b[0;1;31merror: \u001b[0m\u001b[1muse of undeclared identifier 'endwin'\u001b[0m\n",
      "    endwin();\n",
      "\u001b[0;1;32m    ^\n",
      "\u001b[0m"
     ]
    },
    {
     "data": {
      "text/plain": [
       "true"
      ]
     },
     "execution_count": 27,
     "metadata": {},
     "output_type": "execute_result"
    }
   ],
   "source": [
    "cxx\"\"\"\n",
    "#ifndef DISPLAY\n",
    "#define DISPLAY\n",
    "#endif \n",
    "static double evaluate_bird_display(float g1, float g2, float g3, float g4, float g5) {\n",
    "float ind[5] = {g1,g2,g3,g4,g5};\n",
    "bool dbg = false;\n",
    "#ifdef DISPLAY\n",
    "\tinitscr();\n",
    "\ttimeout(0);\n",
    "\tnoecho();\n",
    "\tcurs_set(FALSE);\n",
    "#endif\n",
    "\tconst int NRUN = 3;\n",
    "\tauto &g = ind;\n",
    "\tdouble d = 0;\n",
    "\tfor (int r = 0; r < NRUN; ++r) {\n",
    "\t\tWorld world;\n",
    "\t\tworld.gen.seed(r * 100);\n",
    "\t\twhile (world.bestiau.vivant) {\n",
    "#ifdef DISPLAY\n",
    "            std::this_thread::sleep_for(std::chrono::milliseconds(25));\n",
    "            display(world, world.dist == 0);\n",
    "#endif\n",
    "            world.update();\n",
    "            // update inputs\n",
    "            float birdY = world.bestiau.y;\n",
    "            float birdVY = world.bestiau.vit;\n",
    "            float obsX;\n",
    "            float obsY;\n",
    "            if (world.obstacles.size() > 0) {\n",
    "                const auto &o = world.obstacles.front();\n",
    "                obsY = o.y + world.hauteurPassage * 0.5;\n",
    "                obsX = o.x / world.W;\n",
    "            } else {\n",
    "                obsY = world.H * 0.5;\n",
    "                obsX = 1000.0;\n",
    "            }\n",
    "            if ((g[0]*birdY+g[1]*birdVY+g[2]*obsX+g[3]*obsY+g[4]*world.dist)>1.0) world.bestiauUp();\n",
    "        }\n",
    "        d += world.dist;\n",
    "        float distToTunnel = world.bestiau.y-(world.obstacles.front().y+world.hauteurPassage*0.5);\n",
    "        d += 0.3*(1-((distToTunnel*distToTunnel)/(world.H*world.H)));\n",
    "    }\n",
    "#ifdef DISPLAY\n",
    "    endwin();\n",
    "#endif\n",
    "    return d;\n",
    "}\n",
    "\"\"\""
   ]
  },
  {
   "cell_type": "code",
   "execution_count": 5,
   "metadata": {},
   "outputs": [
    {
     "data": {
      "text/plain": [
       "cpptojulia (generic function with 1 method)"
      ]
     },
     "execution_count": 5,
     "metadata": {},
     "output_type": "execute_result"
    }
   ],
   "source": [
    "cpptojulia(g1::Float64, g2::Float64, g3::Float64, g4::Float64, g5::Float64) = @cxx evaluate_bird(g1,g2,g3,g4,g5)"
   ]
  },
  {
   "cell_type": "code",
   "execution_count": 6,
   "metadata": {},
   "outputs": [
    {
     "data": {
      "text/plain": [
       "evaluate_bird (generic function with 1 method)"
      ]
     },
     "execution_count": 6,
     "metadata": {},
     "output_type": "execute_result"
    }
   ],
   "source": [
    "function evaluate_bird(g::Array{Float64})\n",
    "    -1*cpptojulia(g[1],g[2],g[3],g[4],g[5])\n",
    "end"
   ]
  },
  {
   "cell_type": "code",
   "execution_count": 7,
   "metadata": {},
   "outputs": [
    {
     "name": "stdout",
     "output_type": "stream",
     "text": [
      "Individu([0.5624498543227441, 0.9900757032586474, 0.9874790582693178, 0.04951297667110954, 0.9098146505190632], -Inf)\n"
     ]
    },
    {
     "data": {
      "text/plain": [
       "0.7698380868673325"
      ]
     },
     "execution_count": 7,
     "metadata": {},
     "output_type": "execute_result"
    }
   ],
   "source": [
    "test_ind = Individu(N_genes)\n",
    "println(test_ind)\n",
    "cpptojulia(test_ind.genes[1], test_ind.genes[2],test_ind.genes[3], test_ind.genes[4], test_ind.genes[5])"
   ]
  },
  {
   "cell_type": "markdown",
   "metadata": {},
   "source": [
    "\n",
    "\n",
    "## I. CMA-ES Algorithm\n"
   ]
  },
  {
   "cell_type": "code",
   "execution_count": 8,
   "metadata": {},
   "outputs": [],
   "source": [
    "mutable struct CMAES\n",
    "    N::Int\n",
    "    μ::Int\n",
    "    λ::Int\n",
    "    τ::Float64\n",
    "    τ_c::Float64\n",
    "    τ_σ::Float64\n",
    "    population::Array{Array{Float64}}\n",
    "    offspring::Array{Array{Float64}}\n",
    "    F_μ::Array{Float64}\n",
    "    F_λ::Array{Float64}\n",
    "    C::Array{Float64}\n",
    "    s::Array{Float64}\n",
    "    s_σ::Array{Float64}\n",
    "    σ::Float64\n",
    "    E::Array{Float64}\n",
    "    W::Array{Float64}\n",
    "    x::Array{Float64}\n",
    "end"
   ]
  },
  {
   "cell_type": "code",
   "execution_count": 25,
   "metadata": {},
   "outputs": [
    {
     "data": {
      "text/plain": [
       "evaluate_bird (generic function with 1 method)"
      ]
     },
     "execution_count": 25,
     "metadata": {},
     "output_type": "execute_result"
    }
   ],
   "source": [
    "N_value = N_genes\n",
    "mu = 5\n",
    "lambda = 5\n",
    "objective = evaluate_bird"
   ]
  },
  {
   "cell_type": "code",
   "execution_count": 10,
   "metadata": {},
   "outputs": [
    {
     "data": {
      "text/plain": [
       "CMAES"
      ]
     },
     "execution_count": 10,
     "metadata": {},
     "output_type": "execute_result"
    }
   ],
   "source": [
    "function CMAES(;N=N_value, μ=mu, λ=lambda, τ=sqrt(N), τ_c=N^2, τ_σ=sqrt(N))\n",
    "    x = randn(N)\n",
    "    population = fill(x, µ)\n",
    "    offspring = Array{Array{Float64}}(undef, λ)\n",
    "    F_µ = Inf .* ones(µ)\n",
    "    F_λ = Inf .* ones(λ)\n",
    "    C = Array(Diagonal{Float64}(I, N))\n",
    "    s = zeros(N)\n",
    "    s_σ = zeros(N)\n",
    "    σ = 0.1\n",
    "    E = zeros(N, λ)\n",
    "    W = zeros(N, λ);\n",
    "    CMAES(N, μ, λ, τ, τ_c, τ_σ, population, offspring, F_µ, F_λ, C, s, s_σ, σ, E, W, x)\n",
    "end"
   ]
  },
  {
   "cell_type": "code",
   "execution_count": 11,
   "metadata": {},
   "outputs": [
    {
     "data": {
      "text/plain": [
       "step_cmaes! (generic function with 1 method)"
      ]
     },
     "execution_count": 11,
     "metadata": {},
     "output_type": "execute_result"
    }
   ],
   "source": [
    "function step_cmaes!(c::CMAES; obj=objective, visualize=false, anim=Nothing)\n",
    "    # L1\n",
    "    sqrt_c = cholesky((c.C + c.C') / 2.0).U\n",
    "    for i in 1:c.λ\n",
    "        c.E[:,i] = randn(c.N)\n",
    "        c.W[:,i] = c.σ * (sqrt_c * c.E[:,i])\n",
    "        c.offspring[i] = c.x + c.W[:,i]\n",
    "        c.F_λ[i] =  obj(c.offspring[i])\n",
    "    end    \n",
    "    # Select new parent population\n",
    "    idx = sortperm(c.F_λ)[1:c.μ]\n",
    "    for i in 1:c.μ\n",
    "        c.population[i] = c.offspring[idx[i]]\n",
    "        c.F_μ[i] = c.F_λ[idx[i]]\n",
    "    end    \n",
    "    # L2\n",
    "    w = vec(mean(c.W[:,idx], dims=2))\n",
    "    c.x += w \n",
    "    # L3\n",
    "    c.s = (1.0 - 1.0/c.τ)*c.s + (sqrt(c.μ/c.τ * (2.0 - 1.0/c.τ))/c.σ)*w   \n",
    "    # L4\n",
    "    c.C = (1.0 - 1.0/c.τ_c).*c.C + (c.s./c.τ_c)*c.s'    \n",
    "    # L5\n",
    "    ɛ = vec(mean(c.E[:,idx], dims=2))\n",
    "    c.s_σ = (1.0 - 1.0/c.τ_σ)*c.s_σ + sqrt(c.μ/c.τ_σ*(2.0 - 1.0/c.τ_σ))*ɛ    \n",
    "    # L6\n",
    "    c.σ = c.σ*exp(((c.s_σ'*c.s_σ)[1] - c.N)/(2*c.N*sqrt(c.N)))\n",
    "    #println(\"this is old sigma ---> \",c.σ)\n",
    "    if c.σ > 1.0\n",
    "        c.σ = 1.0\n",
    "        print(\" -cs\") #stands for \"capping sigma\"\n",
    "    end\n",
    "    #println(\"this is new sigma ---> \",c.σ)\n",
    "    if visualize\n",
    "        plot(xs, ys, fz, st=:contour)\n",
    "        scatter!([c.offspring[i][1] for i in 1:λ], [c.offspring[i][2] for i in 1:λ], \n",
    "            xlims=(-5, 5), ylims=(-5, 5), legend=:none)\n",
    "        scatter!([c.x[1]], [c.x[2]], color=:black, marker=:rect,\n",
    "            xlims=(-5, 5), ylims=(-5, 5), legend=:none)\n",
    "        frame(anim)\n",
    "    end\n",
    "    c\n",
    "end"
   ]
  },
  {
   "cell_type": "code",
   "execution_count": 12,
   "metadata": {},
   "outputs": [
    {
     "data": {
      "text/plain": [
       "plot_obj_cmaes (generic function with 1 method)"
      ]
     },
     "execution_count": 12,
     "metadata": {},
     "output_type": "execute_result"
    }
   ],
   "source": [
    "function plot_obj_cmaes()\n",
    "    c = CMAES()\n",
    "    println(\"x initial: \", c.x)\n",
    "    anim = Animation()\n",
    "    for i in 1:100\n",
    "        v = mod(i, 1) == 0\n",
    "        step_cmaes!(c, visualize=v, anim=anim)\n",
    "    end\n",
    "    println(\"x final: \", c.x)\n",
    "    gif(anim)\n",
    "end"
   ]
  },
  {
   "cell_type": "code",
   "execution_count": 13,
   "metadata": {},
   "outputs": [
    {
     "data": {
      "text/plain": [
       "not_plot_obj_cmaes (generic function with 1 method)"
      ]
     },
     "execution_count": 13,
     "metadata": {},
     "output_type": "execute_result"
    }
   ],
   "source": [
    "function not_plot_obj_cmaes(nbgen::Int)\n",
    "    freq = 1 #frequence d'echantillonage du graphique\n",
    "    freq_purcent = 5 #afficher complétion tous les n%\n",
    "    c = CMAES()\n",
    "    gen = zeros(Int(nbgen/freq))\n",
    "    fitness = zeros(Int(nbgen/freq))\n",
    "    next_purcentage = freq_purcent\n",
    "    for i in 1:nbgen\n",
    "        v = mod(i, 1) == 0\n",
    "        if i%freq==0\n",
    "            gen[Int(i/freq)] = i\n",
    "            fitness[Int(i/freq)] = -1*evaluate_bird(c.population[1])\n",
    "        end\n",
    "        step_cmaes!(c, visualize=false)\n",
    "        if i/nbgen >= next_purcentage/100\n",
    "            println(next_purcentage,\"% done ...\", c.σ)\n",
    "            next_purcentage += freq_purcent\n",
    "        end\n",
    "    end\n",
    "    c.population[1], gen, fitness\n",
    "end"
   ]
  },
  {
   "cell_type": "code",
   "execution_count": 24,
   "metadata": {
    "scrolled": false
   },
   "outputs": [
    {
     "name": "stdout",
     "output_type": "stream",
     "text": [
      "5% done ...0.0227727745138658\n",
      "10% done ...0.06913545496341007\n",
      " -cs -cs -cs -cs -cs -cs -cs -cs -cs -cs -cs -cs15% done ...0.2561234550212727\n",
      "20% done ...0.10042691692243291\n",
      "25% done ...0.005445036928207642\n",
      "30% done ...0.0011825656671441518\n",
      "35% done ...0.0001745713809770306\n",
      "40% done ...0.000769911403433662\n",
      "45% done ...0.0008176305958306614\n",
      "50% done ...0.0003484560458107251\n",
      "55% done ...7.933475457933108e-5\n",
      "60% done ...2.6531080618919947e-5\n",
      "65% done ...5.796064462119657e-6\n",
      "70% done ...7.540227393761927e-6\n",
      "75% done ...1.8256533366981647e-5\n",
      "80% done ...2.292390620850502e-6\n",
      "85% done ...1.854275402737748e-6\n",
      "90% done ...1.2108401428991573e-6\n",
      "95% done ...1.4722332352951948e-6\n",
      "100% done ...5.589603009461109e-7\n",
      "334.1856768896996\n",
      "[-6.090981830645091, -2.2610773192297393, -0.8705854347837484, 5.4602056991344865, -0.0024843580719070353]\n"
     ]
    },
    {
     "data": {
      "image/svg+xml": [
       "<?xml version=\"1.0\" encoding=\"utf-8\"?>\n",
       "<svg xmlns=\"http://www.w3.org/2000/svg\" xmlns:xlink=\"http://www.w3.org/1999/xlink\" width=\"600\" height=\"400\" viewBox=\"0 0 2400 1600\">\n",
       "<defs>\n",
       "  <clipPath id=\"clip170\">\n",
       "    <rect x=\"0\" y=\"0\" width=\"2400\" height=\"1600\"/>\n",
       "  </clipPath>\n",
       "</defs>\n",
       "<path clip-path=\"url(#clip170)\" d=\"\n",
       "M0 1600 L2400 1600 L2400 0 L0 0  Z\n",
       "  \" fill=\"#ffffff\" fill-rule=\"evenodd\" fill-opacity=\"1\"/>\n",
       "<defs>\n",
       "  <clipPath id=\"clip171\">\n",
       "    <rect x=\"480\" y=\"0\" width=\"1681\" height=\"1600\"/>\n",
       "  </clipPath>\n",
       "</defs>\n",
       "<path clip-path=\"url(#clip170)\" d=\"\n",
       "M227.042 1423.18 L2352.76 1423.18 L2352.76 123.472 L227.042 123.472  Z\n",
       "  \" fill=\"#ffffff\" fill-rule=\"evenodd\" fill-opacity=\"1\"/>\n",
       "<defs>\n",
       "  <clipPath id=\"clip172\">\n",
       "    <rect x=\"227\" y=\"123\" width=\"2127\" height=\"1301\"/>\n",
       "  </clipPath>\n",
       "</defs>\n",
       "<polyline clip-path=\"url(#clip172)\" style=\"stroke:#000000; stroke-width:2; stroke-opacity:0.1; fill:none\" points=\"\n",
       "  285.196,1423.18 285.196,123.472 \n",
       "  \"/>\n",
       "<polyline clip-path=\"url(#clip172)\" style=\"stroke:#000000; stroke-width:2; stroke-opacity:0.1; fill:none\" points=\"\n",
       "  787.046,1423.18 787.046,123.472 \n",
       "  \"/>\n",
       "<polyline clip-path=\"url(#clip172)\" style=\"stroke:#000000; stroke-width:2; stroke-opacity:0.1; fill:none\" points=\"\n",
       "  1288.9,1423.18 1288.9,123.472 \n",
       "  \"/>\n",
       "<polyline clip-path=\"url(#clip172)\" style=\"stroke:#000000; stroke-width:2; stroke-opacity:0.1; fill:none\" points=\"\n",
       "  1790.74,1423.18 1790.74,123.472 \n",
       "  \"/>\n",
       "<polyline clip-path=\"url(#clip172)\" style=\"stroke:#000000; stroke-width:2; stroke-opacity:0.1; fill:none\" points=\"\n",
       "  2292.59,1423.18 2292.59,123.472 \n",
       "  \"/>\n",
       "<polyline clip-path=\"url(#clip172)\" style=\"stroke:#000000; stroke-width:2; stroke-opacity:0.1; fill:none\" points=\"\n",
       "  227.042,1393.36 2352.76,1393.36 \n",
       "  \"/>\n",
       "<polyline clip-path=\"url(#clip172)\" style=\"stroke:#000000; stroke-width:2; stroke-opacity:0.1; fill:none\" points=\"\n",
       "  227.042,1024.37 2352.76,1024.37 \n",
       "  \"/>\n",
       "<polyline clip-path=\"url(#clip172)\" style=\"stroke:#000000; stroke-width:2; stroke-opacity:0.1; fill:none\" points=\"\n",
       "  227.042,655.385 2352.76,655.385 \n",
       "  \"/>\n",
       "<polyline clip-path=\"url(#clip172)\" style=\"stroke:#000000; stroke-width:2; stroke-opacity:0.1; fill:none\" points=\"\n",
       "  227.042,286.397 2352.76,286.397 \n",
       "  \"/>\n",
       "<polyline clip-path=\"url(#clip170)\" style=\"stroke:#000000; stroke-width:4; stroke-opacity:1; fill:none\" points=\"\n",
       "  227.042,1423.18 2352.76,1423.18 \n",
       "  \"/>\n",
       "<polyline clip-path=\"url(#clip170)\" style=\"stroke:#000000; stroke-width:4; stroke-opacity:1; fill:none\" points=\"\n",
       "  227.042,1423.18 227.042,123.472 \n",
       "  \"/>\n",
       "<polyline clip-path=\"url(#clip170)\" style=\"stroke:#000000; stroke-width:4; stroke-opacity:1; fill:none\" points=\"\n",
       "  285.196,1423.18 285.196,1407.58 \n",
       "  \"/>\n",
       "<polyline clip-path=\"url(#clip170)\" style=\"stroke:#000000; stroke-width:4; stroke-opacity:1; fill:none\" points=\"\n",
       "  787.046,1423.18 787.046,1407.58 \n",
       "  \"/>\n",
       "<polyline clip-path=\"url(#clip170)\" style=\"stroke:#000000; stroke-width:4; stroke-opacity:1; fill:none\" points=\"\n",
       "  1288.9,1423.18 1288.9,1407.58 \n",
       "  \"/>\n",
       "<polyline clip-path=\"url(#clip170)\" style=\"stroke:#000000; stroke-width:4; stroke-opacity:1; fill:none\" points=\"\n",
       "  1790.74,1423.18 1790.74,1407.58 \n",
       "  \"/>\n",
       "<polyline clip-path=\"url(#clip170)\" style=\"stroke:#000000; stroke-width:4; stroke-opacity:1; fill:none\" points=\"\n",
       "  2292.59,1423.18 2292.59,1407.58 \n",
       "  \"/>\n",
       "<polyline clip-path=\"url(#clip170)\" style=\"stroke:#000000; stroke-width:4; stroke-opacity:1; fill:none\" points=\"\n",
       "  227.042,1393.36 252.551,1393.36 \n",
       "  \"/>\n",
       "<polyline clip-path=\"url(#clip170)\" style=\"stroke:#000000; stroke-width:4; stroke-opacity:1; fill:none\" points=\"\n",
       "  227.042,1024.37 252.551,1024.37 \n",
       "  \"/>\n",
       "<polyline clip-path=\"url(#clip170)\" style=\"stroke:#000000; stroke-width:4; stroke-opacity:1; fill:none\" points=\"\n",
       "  227.042,655.385 252.551,655.385 \n",
       "  \"/>\n",
       "<polyline clip-path=\"url(#clip170)\" style=\"stroke:#000000; stroke-width:4; stroke-opacity:1; fill:none\" points=\"\n",
       "  227.042,286.397 252.551,286.397 \n",
       "  \"/>\n",
       "<path clip-path=\"url(#clip170)\" d=\"M 0 0 M285.196 1445.17 Q281.585 1445.17 279.757 1448.74 Q277.951 1452.28 277.951 1459.41 Q277.951 1466.51 279.757 1470.08 Q281.585 1473.62 285.196 1473.62 Q288.831 1473.62 290.636 1470.08 Q292.465 1466.51 292.465 1459.41 Q292.465 1452.28 290.636 1448.74 Q288.831 1445.17 285.196 1445.17 M285.196 1441.47 Q291.007 1441.47 294.062 1446.07 Q297.141 1450.66 297.141 1459.41 Q297.141 1468.13 294.062 1472.74 Q291.007 1477.32 285.196 1477.32 Q279.386 1477.32 276.308 1472.74 Q273.252 1468.13 273.252 1459.41 Q273.252 1450.66 276.308 1446.07 Q279.386 1441.47 285.196 1441.47 Z\" fill=\"#000000\" fill-rule=\"evenodd\" fill-opacity=\"1\" /><path clip-path=\"url(#clip170)\" d=\"M 0 0 M755.183 1472.72 L771.502 1472.72 L771.502 1476.65 L749.558 1476.65 L749.558 1472.72 Q752.22 1469.96 756.803 1465.33 Q761.409 1460.68 762.59 1459.34 Q764.835 1456.81 765.715 1455.08 Q766.618 1453.32 766.618 1451.63 Q766.618 1448.87 764.673 1447.14 Q762.752 1445.4 759.65 1445.4 Q757.451 1445.4 754.997 1446.17 Q752.567 1446.93 749.789 1448.48 L749.789 1443.76 Q752.613 1442.62 755.067 1442.05 Q757.521 1441.47 759.558 1441.47 Q764.928 1441.47 768.122 1444.15 Q771.317 1446.84 771.317 1451.33 Q771.317 1453.46 770.507 1455.38 Q769.72 1457.28 767.613 1459.87 Q767.034 1460.54 763.933 1463.76 Q760.831 1466.95 755.183 1472.72 Z\" fill=\"#000000\" fill-rule=\"evenodd\" fill-opacity=\"1\" /><path clip-path=\"url(#clip170)\" d=\"M 0 0 M776.618 1442.09 L794.974 1442.09 L794.974 1446.03 L780.9 1446.03 L780.9 1454.5 Q781.919 1454.15 782.937 1453.99 Q783.956 1453.8 784.974 1453.8 Q790.761 1453.8 794.141 1456.98 Q797.52 1460.15 797.52 1465.56 Q797.52 1471.14 794.048 1474.24 Q790.576 1477.32 784.257 1477.32 Q782.081 1477.32 779.812 1476.95 Q777.567 1476.58 775.159 1475.84 L775.159 1471.14 Q777.243 1472.28 779.465 1472.83 Q781.687 1473.39 784.164 1473.39 Q788.169 1473.39 790.507 1471.28 Q792.844 1469.18 792.844 1465.56 Q792.844 1461.95 790.507 1459.85 Q788.169 1457.74 784.164 1457.74 Q782.289 1457.74 780.414 1458.16 Q778.562 1458.57 776.618 1459.45 L776.618 1442.09 Z\" fill=\"#000000\" fill-rule=\"evenodd\" fill-opacity=\"1\" /><path clip-path=\"url(#clip170)\" d=\"M 0 0 M812.59 1445.17 Q808.979 1445.17 807.15 1448.74 Q805.344 1452.28 805.344 1459.41 Q805.344 1466.51 807.15 1470.08 Q808.979 1473.62 812.59 1473.62 Q816.224 1473.62 818.03 1470.08 Q819.858 1466.51 819.858 1459.41 Q819.858 1452.28 818.03 1448.74 Q816.224 1445.17 812.59 1445.17 M812.59 1441.47 Q818.4 1441.47 821.455 1446.07 Q824.534 1450.66 824.534 1459.41 Q824.534 1468.13 821.455 1472.74 Q818.4 1477.32 812.59 1477.32 Q806.78 1477.32 803.701 1472.74 Q800.645 1468.13 800.645 1459.41 Q800.645 1450.66 803.701 1446.07 Q806.78 1441.47 812.59 1441.47 Z\" fill=\"#000000\" fill-rule=\"evenodd\" fill-opacity=\"1\" /><path clip-path=\"url(#clip170)\" d=\"M 0 0 M1252.16 1442.09 L1270.52 1442.09 L1270.52 1446.03 L1256.44 1446.03 L1256.44 1454.5 Q1257.46 1454.15 1258.48 1453.99 Q1259.5 1453.8 1260.52 1453.8 Q1266.3 1453.8 1269.68 1456.98 Q1273.06 1460.15 1273.06 1465.56 Q1273.06 1471.14 1269.59 1474.24 Q1266.12 1477.32 1259.8 1477.32 Q1257.62 1477.32 1255.35 1476.95 Q1253.11 1476.58 1250.7 1475.84 L1250.7 1471.14 Q1252.78 1472.28 1255.01 1472.83 Q1257.23 1473.39 1259.71 1473.39 Q1263.71 1473.39 1266.05 1471.28 Q1268.39 1469.18 1268.39 1465.56 Q1268.39 1461.95 1266.05 1459.85 Q1263.71 1457.74 1259.71 1457.74 Q1257.83 1457.74 1255.96 1458.16 Q1254.1 1458.57 1252.16 1459.45 L1252.16 1442.09 Z\" fill=\"#000000\" fill-rule=\"evenodd\" fill-opacity=\"1\" /><path clip-path=\"url(#clip170)\" d=\"M 0 0 M1288.13 1445.17 Q1284.52 1445.17 1282.69 1448.74 Q1280.89 1452.28 1280.89 1459.41 Q1280.89 1466.51 1282.69 1470.08 Q1284.52 1473.62 1288.13 1473.62 Q1291.77 1473.62 1293.57 1470.08 Q1295.4 1466.51 1295.4 1459.41 Q1295.4 1452.28 1293.57 1448.74 Q1291.77 1445.17 1288.13 1445.17 M1288.13 1441.47 Q1293.94 1441.47 1297 1446.07 Q1300.08 1450.66 1300.08 1459.41 Q1300.08 1468.13 1297 1472.74 Q1293.94 1477.32 1288.13 1477.32 Q1282.32 1477.32 1279.24 1472.74 Q1276.19 1468.13 1276.19 1459.41 Q1276.19 1450.66 1279.24 1446.07 Q1282.32 1441.47 1288.13 1441.47 Z\" fill=\"#000000\" fill-rule=\"evenodd\" fill-opacity=\"1\" /><path clip-path=\"url(#clip170)\" d=\"M 0 0 M1315.15 1445.17 Q1311.53 1445.17 1309.71 1448.74 Q1307.9 1452.28 1307.9 1459.41 Q1307.9 1466.51 1309.71 1470.08 Q1311.53 1473.62 1315.15 1473.62 Q1318.78 1473.62 1320.58 1470.08 Q1322.41 1466.51 1322.41 1459.41 Q1322.41 1452.28 1320.58 1448.74 Q1318.78 1445.17 1315.15 1445.17 M1315.15 1441.47 Q1320.96 1441.47 1324.01 1446.07 Q1327.09 1450.66 1327.09 1459.41 Q1327.09 1468.13 1324.01 1472.74 Q1320.96 1477.32 1315.15 1477.32 Q1309.34 1477.32 1306.26 1472.74 Q1303.2 1468.13 1303.2 1459.41 Q1303.2 1450.66 1306.26 1446.07 Q1309.34 1441.47 1315.15 1441.47 Z\" fill=\"#000000\" fill-rule=\"evenodd\" fill-opacity=\"1\" /><path clip-path=\"url(#clip170)\" d=\"M 0 0 M1753.12 1442.09 L1775.34 1442.09 L1775.34 1444.08 L1762.79 1476.65 L1757.91 1476.65 L1769.71 1446.03 L1753.12 1446.03 L1753.12 1442.09 Z\" fill=\"#000000\" fill-rule=\"evenodd\" fill-opacity=\"1\" /><path clip-path=\"url(#clip170)\" d=\"M 0 0 M1780.46 1442.09 L1798.81 1442.09 L1798.81 1446.03 L1784.74 1446.03 L1784.74 1454.5 Q1785.76 1454.15 1786.77 1453.99 Q1787.79 1453.8 1788.81 1453.8 Q1794.6 1453.8 1797.98 1456.98 Q1801.36 1460.15 1801.36 1465.56 Q1801.36 1471.14 1797.89 1474.24 Q1794.41 1477.32 1788.09 1477.32 Q1785.92 1477.32 1783.65 1476.95 Q1781.4 1476.58 1779 1475.84 L1779 1471.14 Q1781.08 1472.28 1783.3 1472.83 Q1785.52 1473.39 1788 1473.39 Q1792.01 1473.39 1794.34 1471.28 Q1796.68 1469.18 1796.68 1465.56 Q1796.68 1461.95 1794.34 1459.85 Q1792.01 1457.74 1788 1457.74 Q1786.13 1457.74 1784.25 1458.16 Q1782.4 1458.57 1780.46 1459.45 L1780.46 1442.09 Z\" fill=\"#000000\" fill-rule=\"evenodd\" fill-opacity=\"1\" /><path clip-path=\"url(#clip170)\" d=\"M 0 0 M1816.43 1445.17 Q1812.82 1445.17 1810.99 1448.74 Q1809.18 1452.28 1809.18 1459.41 Q1809.18 1466.51 1810.99 1470.08 Q1812.82 1473.62 1816.43 1473.62 Q1820.06 1473.62 1821.87 1470.08 Q1823.7 1466.51 1823.7 1459.41 Q1823.7 1452.28 1821.87 1448.74 Q1820.06 1445.17 1816.43 1445.17 M1816.43 1441.47 Q1822.24 1441.47 1825.29 1446.07 Q1828.37 1450.66 1828.37 1459.41 Q1828.37 1468.13 1825.29 1472.74 Q1822.24 1477.32 1816.43 1477.32 Q1810.62 1477.32 1807.54 1472.74 Q1804.48 1468.13 1804.48 1459.41 Q1804.48 1450.66 1807.54 1446.07 Q1810.62 1441.47 1816.43 1441.47 Z\" fill=\"#000000\" fill-rule=\"evenodd\" fill-opacity=\"1\" /><path clip-path=\"url(#clip170)\" d=\"M 0 0 M2242.46 1472.72 L2250.09 1472.72 L2250.09 1446.35 L2241.78 1448.02 L2241.78 1443.76 L2250.05 1442.09 L2254.72 1442.09 L2254.72 1472.72 L2262.36 1472.72 L2262.36 1476.65 L2242.46 1476.65 L2242.46 1472.72 Z\" fill=\"#000000\" fill-rule=\"evenodd\" fill-opacity=\"1\" /><path clip-path=\"url(#clip170)\" d=\"M 0 0 M2277.43 1445.17 Q2273.82 1445.17 2271.99 1448.74 Q2270.19 1452.28 2270.19 1459.41 Q2270.19 1466.51 2271.99 1470.08 Q2273.82 1473.62 2277.43 1473.62 Q2281.07 1473.62 2282.87 1470.08 Q2284.7 1466.51 2284.7 1459.41 Q2284.7 1452.28 2282.87 1448.74 Q2281.07 1445.17 2277.43 1445.17 M2277.43 1441.47 Q2283.24 1441.47 2286.3 1446.07 Q2289.38 1450.66 2289.38 1459.41 Q2289.38 1468.13 2286.3 1472.74 Q2283.24 1477.32 2277.43 1477.32 Q2271.62 1477.32 2268.54 1472.74 Q2265.49 1468.13 2265.49 1459.41 Q2265.49 1450.66 2268.54 1446.07 Q2271.62 1441.47 2277.43 1441.47 Z\" fill=\"#000000\" fill-rule=\"evenodd\" fill-opacity=\"1\" /><path clip-path=\"url(#clip170)\" d=\"M 0 0 M2304.45 1445.17 Q2300.83 1445.17 2299.01 1448.74 Q2297.2 1452.28 2297.2 1459.41 Q2297.2 1466.51 2299.01 1470.08 Q2300.83 1473.62 2304.45 1473.62 Q2308.08 1473.62 2309.89 1470.08 Q2311.71 1466.51 2311.71 1459.41 Q2311.71 1452.28 2309.89 1448.74 Q2308.08 1445.17 2304.45 1445.17 M2304.45 1441.47 Q2310.26 1441.47 2313.31 1446.07 Q2316.39 1450.66 2316.39 1459.41 Q2316.39 1468.13 2313.31 1472.74 Q2310.26 1477.32 2304.45 1477.32 Q2298.64 1477.32 2295.56 1472.74 Q2292.5 1468.13 2292.5 1459.41 Q2292.5 1450.66 2295.56 1446.07 Q2298.64 1441.47 2304.45 1441.47 Z\" fill=\"#000000\" fill-rule=\"evenodd\" fill-opacity=\"1\" /><path clip-path=\"url(#clip170)\" d=\"M 0 0 M2331.46 1445.17 Q2327.85 1445.17 2326.02 1448.74 Q2324.21 1452.28 2324.21 1459.41 Q2324.21 1466.51 2326.02 1470.08 Q2327.85 1473.62 2331.46 1473.62 Q2335.09 1473.62 2336.9 1470.08 Q2338.73 1466.51 2338.73 1459.41 Q2338.73 1452.28 2336.9 1448.74 Q2335.09 1445.17 2331.46 1445.17 M2331.46 1441.47 Q2337.27 1441.47 2340.33 1446.07 Q2343.4 1450.66 2343.4 1459.41 Q2343.4 1468.13 2340.33 1472.74 Q2337.27 1477.32 2331.46 1477.32 Q2325.65 1477.32 2322.57 1472.74 Q2319.52 1468.13 2319.52 1459.41 Q2319.52 1450.66 2322.57 1446.07 Q2325.65 1441.47 2331.46 1441.47 Z\" fill=\"#000000\" fill-rule=\"evenodd\" fill-opacity=\"1\" /><path clip-path=\"url(#clip170)\" d=\"M 0 0 M191.098 1379.16 Q187.487 1379.16 185.658 1382.72 Q183.852 1386.26 183.852 1393.39 Q183.852 1400.5 185.658 1404.07 Q187.487 1407.61 191.098 1407.61 Q194.732 1407.61 196.538 1404.07 Q198.366 1400.5 198.366 1393.39 Q198.366 1386.26 196.538 1382.72 Q194.732 1379.16 191.098 1379.16 M191.098 1375.45 Q196.908 1375.45 199.963 1380.06 Q203.042 1384.64 203.042 1393.39 Q203.042 1402.12 199.963 1406.73 Q196.908 1411.31 191.098 1411.31 Q185.288 1411.31 182.209 1406.73 Q179.153 1402.12 179.153 1393.39 Q179.153 1384.64 182.209 1380.06 Q185.288 1375.45 191.098 1375.45 Z\" fill=\"#000000\" fill-rule=\"evenodd\" fill-opacity=\"1\" /><path clip-path=\"url(#clip170)\" d=\"M 0 0 M129.107 1037.72 L136.746 1037.72 L136.746 1011.35 L128.436 1013.02 L128.436 1008.76 L136.7 1007.09 L141.376 1007.09 L141.376 1037.72 L149.015 1037.72 L149.015 1041.65 L129.107 1041.65 L129.107 1037.72 Z\" fill=\"#000000\" fill-rule=\"evenodd\" fill-opacity=\"1\" /><path clip-path=\"url(#clip170)\" d=\"M 0 0 M164.084 1010.17 Q160.473 1010.17 158.644 1013.74 Q156.839 1017.28 156.839 1024.41 Q156.839 1031.51 158.644 1035.08 Q160.473 1038.62 164.084 1038.62 Q167.718 1038.62 169.524 1035.08 Q171.353 1031.51 171.353 1024.41 Q171.353 1017.28 169.524 1013.74 Q167.718 1010.17 164.084 1010.17 M164.084 1006.47 Q169.894 1006.47 172.95 1011.07 Q176.028 1015.66 176.028 1024.41 Q176.028 1033.13 172.95 1037.74 Q169.894 1042.32 164.084 1042.32 Q158.274 1042.32 155.195 1037.74 Q152.14 1033.13 152.14 1024.41 Q152.14 1015.66 155.195 1011.07 Q158.274 1006.47 164.084 1006.47 Z\" fill=\"#000000\" fill-rule=\"evenodd\" fill-opacity=\"1\" /><path clip-path=\"url(#clip170)\" d=\"M 0 0 M191.098 1010.17 Q187.487 1010.17 185.658 1013.74 Q183.852 1017.28 183.852 1024.41 Q183.852 1031.51 185.658 1035.08 Q187.487 1038.62 191.098 1038.62 Q194.732 1038.62 196.538 1035.08 Q198.366 1031.51 198.366 1024.41 Q198.366 1017.28 196.538 1013.74 Q194.732 1010.17 191.098 1010.17 M191.098 1006.47 Q196.908 1006.47 199.963 1011.07 Q203.042 1015.66 203.042 1024.41 Q203.042 1033.13 199.963 1037.74 Q196.908 1042.32 191.098 1042.32 Q185.288 1042.32 182.209 1037.74 Q179.153 1033.13 179.153 1024.41 Q179.153 1015.66 182.209 1011.07 Q185.288 1006.47 191.098 1006.47 Z\" fill=\"#000000\" fill-rule=\"evenodd\" fill-opacity=\"1\" /><path clip-path=\"url(#clip170)\" d=\"M 0 0 M132.695 668.73 L149.015 668.73 L149.015 672.665 L127.07 672.665 L127.07 668.73 Q129.732 665.975 134.316 661.345 Q138.922 656.693 140.103 655.35 Q142.348 652.827 143.228 651.091 Q144.13 649.332 144.13 647.642 Q144.13 644.887 142.186 643.151 Q140.265 641.415 137.163 641.415 Q134.964 641.415 132.51 642.179 Q130.08 642.943 127.302 644.494 L127.302 639.771 Q130.126 638.637 132.58 638.058 Q135.033 637.48 137.07 637.48 Q142.441 637.48 145.635 640.165 Q148.829 642.85 148.829 647.341 Q148.829 649.47 148.019 651.392 Q147.232 653.29 145.126 655.882 Q144.547 656.554 141.445 659.771 Q138.343 662.966 132.695 668.73 Z\" fill=\"#000000\" fill-rule=\"evenodd\" fill-opacity=\"1\" /><path clip-path=\"url(#clip170)\" d=\"M 0 0 M164.084 641.183 Q160.473 641.183 158.644 644.748 Q156.839 648.29 156.839 655.419 Q156.839 662.526 158.644 666.091 Q160.473 669.632 164.084 669.632 Q167.718 669.632 169.524 666.091 Q171.353 662.526 171.353 655.419 Q171.353 648.29 169.524 644.748 Q167.718 641.183 164.084 641.183 M164.084 637.48 Q169.894 637.48 172.95 642.086 Q176.028 646.67 176.028 655.419 Q176.028 664.146 172.95 668.753 Q169.894 673.336 164.084 673.336 Q158.274 673.336 155.195 668.753 Q152.14 664.146 152.14 655.419 Q152.14 646.67 155.195 642.086 Q158.274 637.48 164.084 637.48 Z\" fill=\"#000000\" fill-rule=\"evenodd\" fill-opacity=\"1\" /><path clip-path=\"url(#clip170)\" d=\"M 0 0 M191.098 641.183 Q187.487 641.183 185.658 644.748 Q183.852 648.29 183.852 655.419 Q183.852 662.526 185.658 666.091 Q187.487 669.632 191.098 669.632 Q194.732 669.632 196.538 666.091 Q198.366 662.526 198.366 655.419 Q198.366 648.29 196.538 644.748 Q194.732 641.183 191.098 641.183 M191.098 637.48 Q196.908 637.48 199.963 642.086 Q203.042 646.67 203.042 655.419 Q203.042 664.146 199.963 668.753 Q196.908 673.336 191.098 673.336 Q185.288 673.336 182.209 668.753 Q179.153 664.146 179.153 655.419 Q179.153 646.67 182.209 642.086 Q185.288 637.48 191.098 637.48 Z\" fill=\"#000000\" fill-rule=\"evenodd\" fill-opacity=\"1\" /><path clip-path=\"url(#clip170)\" d=\"M 0 0 M141.885 285.043 Q145.242 285.761 147.117 288.029 Q149.015 290.298 149.015 293.631 Q149.015 298.747 145.496 301.548 Q141.978 304.348 135.496 304.348 Q133.32 304.348 131.006 303.909 Q128.714 303.492 126.26 302.636 L126.26 298.122 Q128.205 299.256 130.519 299.835 Q132.834 300.413 135.357 300.413 Q139.755 300.413 142.047 298.677 Q144.362 296.941 144.362 293.631 Q144.362 290.575 142.209 288.862 Q140.08 287.126 136.26 287.126 L132.232 287.126 L132.232 283.284 L136.445 283.284 Q139.894 283.284 141.723 281.918 Q143.552 280.529 143.552 277.937 Q143.552 275.275 141.654 273.863 Q139.779 272.427 136.26 272.427 Q134.339 272.427 132.14 272.844 Q129.941 273.261 127.302 274.14 L127.302 269.974 Q129.964 269.233 132.279 268.863 Q134.617 268.492 136.677 268.492 Q142.001 268.492 145.103 270.923 Q148.204 273.33 148.204 277.45 Q148.204 280.321 146.561 282.312 Q144.917 284.279 141.885 285.043 Z\" fill=\"#000000\" fill-rule=\"evenodd\" fill-opacity=\"1\" /><path clip-path=\"url(#clip170)\" d=\"M 0 0 M164.084 272.196 Q160.473 272.196 158.644 275.761 Q156.839 279.302 156.839 286.432 Q156.839 293.538 158.644 297.103 Q160.473 300.645 164.084 300.645 Q167.718 300.645 169.524 297.103 Q171.353 293.538 171.353 286.432 Q171.353 279.302 169.524 275.761 Q167.718 272.196 164.084 272.196 M164.084 268.492 Q169.894 268.492 172.95 273.099 Q176.028 277.682 176.028 286.432 Q176.028 295.159 172.95 299.765 Q169.894 304.348 164.084 304.348 Q158.274 304.348 155.195 299.765 Q152.14 295.159 152.14 286.432 Q152.14 277.682 155.195 273.099 Q158.274 268.492 164.084 268.492 Z\" fill=\"#000000\" fill-rule=\"evenodd\" fill-opacity=\"1\" /><path clip-path=\"url(#clip170)\" d=\"M 0 0 M191.098 272.196 Q187.487 272.196 185.658 275.761 Q183.852 279.302 183.852 286.432 Q183.852 293.538 185.658 297.103 Q187.487 300.645 191.098 300.645 Q194.732 300.645 196.538 297.103 Q198.366 293.538 198.366 286.432 Q198.366 279.302 196.538 275.761 Q194.732 272.196 191.098 272.196 M191.098 268.492 Q196.908 268.492 199.963 273.099 Q203.042 277.682 203.042 286.432 Q203.042 295.159 199.963 299.765 Q196.908 304.348 191.098 304.348 Q185.288 304.348 182.209 299.765 Q179.153 295.159 179.153 286.432 Q179.153 277.682 182.209 273.099 Q185.288 268.492 191.098 268.492 Z\" fill=\"#000000\" fill-rule=\"evenodd\" fill-opacity=\"1\" /><path clip-path=\"url(#clip170)\" d=\"M 0 0 M627.556 12.096 L665.796 12.096 L665.796 18.9825 L635.739 18.9825 L635.739 36.8875 L664.541 36.8875 L664.541 43.7741 L635.739 43.7741 L635.739 65.6895 L666.526 65.6895 L666.526 72.576 L627.556 72.576 L627.556 12.096 Z\" fill=\"#000000\" fill-rule=\"evenodd\" fill-opacity=\"1\" /><path clip-path=\"url(#clip170)\" d=\"M 0 0 M668.997 27.2059 L676.896 27.2059 L691.074 65.2844 L705.252 27.2059 L713.152 27.2059 L696.138 72.576 L686.01 72.576 L668.997 27.2059 Z\" fill=\"#000000\" fill-rule=\"evenodd\" fill-opacity=\"1\" /><path clip-path=\"url(#clip170)\" d=\"M 0 0 M738.551 32.4315 Q732.555 32.4315 729.072 37.1306 Q725.588 41.7891 725.588 49.9314 Q725.588 58.0738 729.031 62.7728 Q732.515 67.4314 738.551 67.4314 Q744.506 67.4314 747.989 62.7323 Q751.473 58.0333 751.473 49.9314 Q751.473 41.8701 747.989 37.1711 Q744.506 32.4315 738.551 32.4315 M738.551 26.1121 Q748.273 26.1121 753.823 32.4315 Q759.372 38.7509 759.372 49.9314 Q759.372 61.0714 753.823 67.4314 Q748.273 73.7508 738.551 73.7508 Q728.788 73.7508 723.238 67.4314 Q717.729 61.0714 717.729 49.9314 Q717.729 38.7509 723.238 32.4315 Q728.788 26.1121 738.551 26.1121 Z\" fill=\"#000000\" fill-rule=\"evenodd\" fill-opacity=\"1\" /><path clip-path=\"url(#clip170)\" d=\"M 0 0 M767.191 9.54393 L774.644 9.54393 L774.644 72.576 L767.191 72.576 L767.191 9.54393 Z\" fill=\"#000000\" fill-rule=\"evenodd\" fill-opacity=\"1\" /><path clip-path=\"url(#clip170)\" d=\"M 0 0 M781.693 54.671 L781.693 27.2059 L789.147 27.2059 L789.147 54.3874 Q789.147 60.8284 791.658 64.0691 Q794.17 67.2693 799.193 67.2693 Q805.229 67.2693 808.712 63.421 Q812.237 59.5726 812.237 52.9291 L812.237 27.2059 L819.69 27.2059 L819.69 72.576 L812.237 72.576 L812.237 65.6084 Q809.523 69.7404 805.917 71.7658 Q802.352 73.7508 797.613 73.7508 Q789.795 73.7508 785.744 68.8897 Q781.693 64.0286 781.693 54.671 M800.449 26.1121 L800.449 26.1121 Z\" fill=\"#000000\" fill-rule=\"evenodd\" fill-opacity=\"1\" /><path clip-path=\"url(#clip170)\" d=\"M 0 0 M834.881 14.324 L834.881 27.2059 L850.234 27.2059 L850.234 32.9987 L834.881 32.9987 L834.881 57.6282 Q834.881 63.1779 836.38 64.7578 Q837.919 66.3376 842.578 66.3376 L850.234 66.3376 L850.234 72.576 L842.578 72.576 Q833.95 72.576 830.668 69.3758 Q827.387 66.1351 827.387 57.6282 L827.387 32.9987 L821.918 32.9987 L821.918 27.2059 L827.387 27.2059 L827.387 14.324 L834.881 14.324 Z\" fill=\"#000000\" fill-rule=\"evenodd\" fill-opacity=\"1\" /><path clip-path=\"url(#clip170)\" d=\"M 0 0 M858.052 27.2059 L865.506 27.2059 L865.506 72.576 L858.052 72.576 L858.052 27.2059 M858.052 9.54393 L865.506 9.54393 L865.506 18.9825 L858.052 18.9825 L858.052 9.54393 Z\" fill=\"#000000\" fill-rule=\"evenodd\" fill-opacity=\"1\" /><path clip-path=\"url(#clip170)\" d=\"M 0 0 M890.905 32.4315 Q884.91 32.4315 881.426 37.1306 Q877.942 41.7891 877.942 49.9314 Q877.942 58.0738 881.386 62.7728 Q884.869 67.4314 890.905 67.4314 Q896.86 67.4314 900.344 62.7323 Q903.828 58.0333 903.828 49.9314 Q903.828 41.8701 900.344 37.1711 Q896.86 32.4315 890.905 32.4315 M890.905 26.1121 Q900.627 26.1121 906.177 32.4315 Q911.727 38.7509 911.727 49.9314 Q911.727 61.0714 906.177 67.4314 Q900.627 73.7508 890.905 73.7508 Q881.143 73.7508 875.593 67.4314 Q870.084 61.0714 870.084 49.9314 Q870.084 38.7509 875.593 32.4315 Q881.143 26.1121 890.905 26.1121 Z\" fill=\"#000000\" fill-rule=\"evenodd\" fill-opacity=\"1\" /><path clip-path=\"url(#clip170)\" d=\"M 0 0 M957.259 45.1919 L957.259 72.576 L949.805 72.576 L949.805 45.4349 Q949.805 38.994 947.294 35.7938 Q944.782 32.5936 939.759 32.5936 Q933.723 32.5936 930.239 36.4419 Q926.756 40.2903 926.756 46.9338 L926.756 72.576 L919.262 72.576 L919.262 27.2059 L926.756 27.2059 L926.756 34.2544 Q929.429 30.163 933.035 28.1376 Q936.68 26.1121 941.42 26.1121 Q949.238 26.1121 953.249 30.9732 Q957.259 35.7938 957.259 45.1919 Z\" fill=\"#000000\" fill-rule=\"evenodd\" fill-opacity=\"1\" /><path clip-path=\"url(#clip170)\" d=\"M 0 0 M1021.3 34.0924 L1021.3 9.54393 L1028.76 9.54393 L1028.76 72.576 L1021.3 72.576 L1021.3 65.7705 Q1018.95 69.8214 1015.35 71.8063 Q1011.78 73.7508 1006.76 73.7508 Q998.538 73.7508 993.353 67.1883 Q988.208 60.6258 988.208 49.9314 Q988.208 39.2371 993.353 32.6746 Q998.538 26.1121 1006.76 26.1121 Q1011.78 26.1121 1015.35 28.0971 Q1018.95 30.0415 1021.3 34.0924 M995.905 49.9314 Q995.905 58.1548 999.267 62.8538 Q1002.67 67.5124 1008.58 67.5124 Q1014.5 67.5124 1017.9 62.8538 Q1021.3 58.1548 1021.3 49.9314 Q1021.3 41.7081 1017.9 37.0496 Q1014.5 32.3505 1008.58 32.3505 Q1002.67 32.3505 999.267 37.0496 Q995.905 41.7081 995.905 49.9314 Z\" fill=\"#000000\" fill-rule=\"evenodd\" fill-opacity=\"1\" /><path clip-path=\"url(#clip170)\" d=\"M 0 0 M1075.38 48.0275 L1075.38 51.6733 L1041.11 51.6733 Q1041.6 59.3701 1045.73 63.421 Q1049.9 67.4314 1057.32 67.4314 Q1061.61 67.4314 1065.62 66.3781 Q1069.67 65.3249 1073.64 63.2184 L1073.64 70.267 Q1069.63 71.9684 1065.42 72.8596 Q1061.21 73.7508 1056.87 73.7508 Q1046.01 73.7508 1039.65 67.4314 Q1033.34 61.1119 1033.34 50.3365 Q1033.34 39.1965 1039.33 32.6746 Q1045.37 26.1121 1055.57 26.1121 Q1064.73 26.1121 1070.04 32.0264 Q1075.38 37.9003 1075.38 48.0275 M1067.93 45.84 Q1067.85 39.7232 1064.49 36.0774 Q1061.16 32.4315 1055.66 32.4315 Q1049.42 32.4315 1045.65 35.9558 Q1041.92 39.4801 1041.36 45.8805 L1067.93 45.84 Z\" fill=\"#000000\" fill-rule=\"evenodd\" fill-opacity=\"1\" /><path clip-path=\"url(#clip170)\" d=\"M 0 0 M1109.57 9.54393 L1117.03 9.54393 L1117.03 72.576 L1109.57 72.576 L1109.57 9.54393 Z\" fill=\"#000000\" fill-rule=\"evenodd\" fill-opacity=\"1\" /><path clip-path=\"url(#clip170)\" d=\"M 0 0 M1145.46 49.7694 Q1136.43 49.7694 1132.95 51.8354 Q1129.46 53.9013 1129.46 58.8839 Q1129.46 62.8538 1132.06 65.2034 Q1134.69 67.5124 1139.19 67.5124 Q1145.38 67.5124 1149.11 63.1374 Q1152.88 58.7219 1152.88 51.4303 L1152.88 49.7694 L1145.46 49.7694 M1160.33 46.6907 L1160.33 72.576 L1152.88 72.576 L1152.88 65.6895 Q1150.33 69.8214 1146.52 71.8063 Q1142.71 73.7508 1137.2 73.7508 Q1130.23 73.7508 1126.1 69.8619 Q1122.01 65.9325 1122.01 59.3701 Q1122.01 51.7138 1127.11 47.825 Q1132.26 43.9361 1142.43 43.9361 L1152.88 43.9361 L1152.88 43.2069 Q1152.88 38.0623 1149.47 35.2672 Q1146.11 32.4315 1140 32.4315 Q1136.11 32.4315 1132.42 33.3632 Q1128.73 34.295 1125.33 36.1584 L1125.33 29.2718 Q1129.42 27.692 1133.27 26.9223 Q1137.12 26.1121 1140.76 26.1121 Q1150.61 26.1121 1155.47 31.2163 Q1160.33 36.3204 1160.33 46.6907 Z\" fill=\"#000000\" fill-rule=\"evenodd\" fill-opacity=\"1\" /><path clip-path=\"url(#clip170)\" d=\"M 0 0 M1217.49 9.54393 L1217.49 15.7418 L1210.36 15.7418 Q1206.35 15.7418 1204.77 17.3622 Q1203.23 18.9825 1203.23 23.1955 L1203.23 27.2059 L1215.5 27.2059 L1215.5 32.9987 L1203.23 32.9987 L1203.23 72.576 L1195.74 72.576 L1195.74 32.9987 L1188.61 32.9987 L1188.61 27.2059 L1195.74 27.2059 L1195.74 24.0462 Q1195.74 16.471 1199.26 13.0277 Q1202.78 9.54393 1210.44 9.54393 L1217.49 9.54393 Z\" fill=\"#000000\" fill-rule=\"evenodd\" fill-opacity=\"1\" /><path clip-path=\"url(#clip170)\" d=\"M 0 0 M1225.31 27.2059 L1232.76 27.2059 L1232.76 72.576 L1225.31 72.576 L1225.31 27.2059 M1225.31 9.54393 L1232.76 9.54393 L1232.76 18.9825 L1225.31 18.9825 L1225.31 9.54393 Z\" fill=\"#000000\" fill-rule=\"evenodd\" fill-opacity=\"1\" /><path clip-path=\"url(#clip170)\" d=\"M 0 0 M1247.95 14.324 L1247.95 27.2059 L1263.3 27.2059 L1263.3 32.9987 L1247.95 32.9987 L1247.95 57.6282 Q1247.95 63.1779 1249.45 64.7578 Q1250.99 66.3376 1255.65 66.3376 L1263.3 66.3376 L1263.3 72.576 L1255.65 72.576 Q1247.02 72.576 1243.74 69.3758 Q1240.46 66.1351 1240.46 57.6282 L1240.46 32.9987 L1234.99 32.9987 L1234.99 27.2059 L1240.46 27.2059 L1240.46 14.324 L1247.95 14.324 Z\" fill=\"#000000\" fill-rule=\"evenodd\" fill-opacity=\"1\" /><path clip-path=\"url(#clip170)\" d=\"M 0 0 M1308.84 45.1919 L1308.84 72.576 L1301.38 72.576 L1301.38 45.4349 Q1301.38 38.994 1298.87 35.7938 Q1296.36 32.5936 1291.34 32.5936 Q1285.3 32.5936 1281.82 36.4419 Q1278.33 40.2903 1278.33 46.9338 L1278.33 72.576 L1270.84 72.576 L1270.84 27.2059 L1278.33 27.2059 L1278.33 34.2544 Q1281.01 30.163 1284.61 28.1376 Q1288.26 26.1121 1293 26.1121 Q1300.82 26.1121 1304.83 30.9732 Q1308.84 35.7938 1308.84 45.1919 Z\" fill=\"#000000\" fill-rule=\"evenodd\" fill-opacity=\"1\" /><path clip-path=\"url(#clip170)\" d=\"M 0 0 M1355.46 48.0275 L1355.46 51.6733 L1321.19 51.6733 Q1321.68 59.3701 1325.81 63.421 Q1329.98 67.4314 1337.4 67.4314 Q1341.69 67.4314 1345.7 66.3781 Q1349.75 65.3249 1353.72 63.2184 L1353.72 70.267 Q1349.71 71.9684 1345.5 72.8596 Q1341.28 73.7508 1336.95 73.7508 Q1326.09 73.7508 1319.73 67.4314 Q1313.41 61.1119 1313.41 50.3365 Q1313.41 39.1965 1319.41 32.6746 Q1325.45 26.1121 1335.65 26.1121 Q1344.81 26.1121 1350.12 32.0264 Q1355.46 37.9003 1355.46 48.0275 M1348.01 45.84 Q1347.93 39.7232 1344.57 36.0774 Q1341.24 32.4315 1335.74 32.4315 Q1329.5 32.4315 1325.73 35.9558 Q1322 39.4801 1321.44 45.8805 L1348.01 45.84 Z\" fill=\"#000000\" fill-rule=\"evenodd\" fill-opacity=\"1\" /><path clip-path=\"url(#clip170)\" d=\"M 0 0 M1392.2 28.5427 L1392.2 35.5912 Q1389.04 33.9709 1385.64 33.1607 Q1382.24 32.3505 1378.59 32.3505 Q1373.04 32.3505 1370.25 34.0519 Q1367.49 35.7533 1367.49 39.156 Q1367.49 41.7486 1369.48 43.2475 Q1371.46 44.7058 1377.46 46.0426 L1380.01 46.6097 Q1387.95 48.3111 1391.27 51.4303 Q1394.64 54.509 1394.64 60.0587 Q1394.64 66.3781 1389.61 70.0644 Q1384.63 73.7508 1375.88 73.7508 Q1372.23 73.7508 1368.26 73.0216 Q1364.33 72.3329 1359.96 70.9151 L1359.96 63.2184 Q1364.09 65.3654 1368.1 66.4591 Q1372.11 67.5124 1376.04 67.5124 Q1381.31 67.5124 1384.14 65.73 Q1386.98 63.9071 1386.98 60.6258 Q1386.98 57.5877 1384.91 55.9673 Q1382.89 54.3469 1375.96 52.8481 L1373.37 52.2405 Q1366.44 50.7821 1363.36 47.7845 Q1360.28 44.7463 1360.28 39.4801 Q1360.28 33.0797 1364.82 29.5959 Q1369.36 26.1121 1377.7 26.1121 Q1381.83 26.1121 1385.48 26.7198 Q1389.13 27.3274 1392.2 28.5427 Z\" fill=\"#000000\" fill-rule=\"evenodd\" fill-opacity=\"1\" /><path clip-path=\"url(#clip170)\" d=\"M 0 0 M1431.38 28.5427 L1431.38 35.5912 Q1428.22 33.9709 1424.81 33.1607 Q1421.41 32.3505 1417.77 32.3505 Q1412.22 32.3505 1409.42 34.0519 Q1406.67 35.7533 1406.67 39.156 Q1406.67 41.7486 1408.65 43.2475 Q1410.64 44.7058 1416.63 46.0426 L1419.18 46.6097 Q1427.12 48.3111 1430.45 51.4303 Q1433.81 54.509 1433.81 60.0587 Q1433.81 66.3781 1428.78 70.0644 Q1423.8 73.7508 1415.05 73.7508 Q1411.41 73.7508 1407.44 73.0216 Q1403.51 72.3329 1399.13 70.9151 L1399.13 63.2184 Q1403.26 65.3654 1407.27 66.4591 Q1411.28 67.5124 1415.21 67.5124 Q1420.48 67.5124 1423.32 65.73 Q1426.15 63.9071 1426.15 60.6258 Q1426.15 57.5877 1424.09 55.9673 Q1422.06 54.3469 1415.13 52.8481 L1412.54 52.2405 Q1405.61 50.7821 1402.53 47.7845 Q1399.46 44.7463 1399.46 39.4801 Q1399.46 33.0797 1403.99 29.5959 Q1408.53 26.1121 1416.87 26.1121 Q1421.01 26.1121 1424.65 26.7198 Q1428.3 27.3274 1431.38 28.5427 Z\" fill=\"#000000\" fill-rule=\"evenodd\" fill-opacity=\"1\" /><path clip-path=\"url(#clip170)\" d=\"M 0 0 M1475.21 65.7705 L1475.21 89.8329 L1467.71 89.8329 L1467.71 27.2059 L1475.21 27.2059 L1475.21 34.0924 Q1477.56 30.0415 1481.12 28.0971 Q1484.73 26.1121 1489.71 26.1121 Q1497.97 26.1121 1503.12 32.6746 Q1508.3 39.2371 1508.3 49.9314 Q1508.3 60.6258 1503.12 67.1883 Q1497.97 73.7508 1489.71 73.7508 Q1484.73 73.7508 1481.12 71.8063 Q1477.56 69.8214 1475.21 65.7705 M1500.57 49.9314 Q1500.57 41.7081 1497.16 37.0496 Q1493.8 32.3505 1487.89 32.3505 Q1481.97 32.3505 1478.57 37.0496 Q1475.21 41.7081 1475.21 49.9314 Q1475.21 58.1548 1478.57 62.8538 Q1481.97 67.5124 1487.89 67.5124 Q1493.8 67.5124 1497.16 62.8538 Q1500.57 58.1548 1500.57 49.9314 Z\" fill=\"#000000\" fill-rule=\"evenodd\" fill-opacity=\"1\" /><path clip-path=\"url(#clip170)\" d=\"M 0 0 M1533.7 32.4315 Q1527.71 32.4315 1524.22 37.1306 Q1520.74 41.7891 1520.74 49.9314 Q1520.74 58.0738 1524.18 62.7728 Q1527.67 67.4314 1533.7 67.4314 Q1539.66 67.4314 1543.14 62.7323 Q1546.63 58.0333 1546.63 49.9314 Q1546.63 41.8701 1543.14 37.1711 Q1539.66 32.4315 1533.7 32.4315 M1533.7 26.1121 Q1543.42 26.1121 1548.97 32.4315 Q1554.52 38.7509 1554.52 49.9314 Q1554.52 61.0714 1548.97 67.4314 Q1543.42 73.7508 1533.7 73.7508 Q1523.94 73.7508 1518.39 67.4314 Q1512.88 61.0714 1512.88 49.9314 Q1512.88 38.7509 1518.39 32.4315 Q1523.94 26.1121 1533.7 26.1121 Z\" fill=\"#000000\" fill-rule=\"evenodd\" fill-opacity=\"1\" /><path clip-path=\"url(#clip170)\" d=\"M 0 0 M1561.57 54.671 L1561.57 27.2059 L1569.03 27.2059 L1569.03 54.3874 Q1569.03 60.8284 1571.54 64.0691 Q1574.05 67.2693 1579.07 67.2693 Q1585.11 67.2693 1588.59 63.421 Q1592.12 59.5726 1592.12 52.9291 L1592.12 27.2059 L1599.57 27.2059 L1599.57 72.576 L1592.12 72.576 L1592.12 65.6084 Q1589.4 69.7404 1585.8 71.7658 Q1582.23 73.7508 1577.49 73.7508 Q1569.67 73.7508 1565.62 68.8897 Q1561.57 64.0286 1561.57 54.671 M1580.33 26.1121 L1580.33 26.1121 Z\" fill=\"#000000\" fill-rule=\"evenodd\" fill-opacity=\"1\" /><path clip-path=\"url(#clip170)\" d=\"M 0 0 M1633.68 34.1734 Q1632.42 33.4443 1630.92 33.1202 Q1629.47 32.7556 1627.68 32.7556 Q1621.36 32.7556 1617.96 36.8875 Q1614.6 40.9789 1614.6 48.6757 L1614.6 72.576 L1607.11 72.576 L1607.11 27.2059 L1614.6 27.2059 L1614.6 34.2544 Q1616.95 30.1225 1620.72 28.1376 Q1624.48 26.1121 1629.87 26.1121 Q1630.64 26.1121 1631.57 26.2337 Q1632.5 26.3147 1633.64 26.5172 L1633.68 34.1734 Z\" fill=\"#000000\" fill-rule=\"evenodd\" fill-opacity=\"1\" /><path clip-path=\"url(#clip170)\" d=\"M 0 0 M1713.48 16.7545 L1713.48 25.383 Q1709.35 21.5346 1704.65 19.6307 Q1699.99 17.7268 1694.73 17.7268 Q1684.36 17.7268 1678.85 24.0867 Q1673.34 30.4061 1673.34 42.3968 Q1673.34 54.3469 1678.85 60.7069 Q1684.36 67.0263 1694.73 67.0263 Q1699.99 67.0263 1704.65 65.1223 Q1709.35 63.2184 1713.48 59.3701 L1713.48 67.9175 Q1709.19 70.8341 1704.37 72.2924 Q1699.59 73.7508 1694.24 73.7508 Q1680.51 73.7508 1672.61 65.3654 Q1664.71 56.9395 1664.71 42.3968 Q1664.71 27.8135 1672.61 19.4281 Q1680.51 11.0023 1694.24 11.0023 Q1699.67 11.0023 1704.45 12.4606 Q1709.27 13.8784 1713.48 16.7545 Z\" fill=\"#000000\" fill-rule=\"evenodd\" fill-opacity=\"1\" /><path clip-path=\"url(#clip170)\" d=\"M 0 0 M1721.62 12.096 L1733.82 12.096 L1749.25 53.2532 L1764.77 12.096 L1776.96 12.096 L1776.96 72.576 L1768.98 72.576 L1768.98 19.4686 L1753.38 60.9499 L1745.16 60.9499 L1729.56 19.4686 L1729.56 72.576 L1721.62 72.576 L1721.62 12.096 Z\" fill=\"#000000\" fill-rule=\"evenodd\" fill-opacity=\"1\" /><path clip-path=\"url(#clip170)\" d=\"M 0 0 M1805.32 20.1573 L1794.22 50.2555 L1816.46 50.2555 L1805.32 20.1573 M1800.7 12.096 L1809.97 12.096 L1833.02 72.576 L1824.52 72.576 L1819.01 57.061 L1791.75 57.061 L1786.24 72.576 L1777.61 72.576 L1800.7 12.096 Z\" fill=\"#000000\" fill-rule=\"evenodd\" fill-opacity=\"1\" /><path clip-path=\"url(#clip170)\" d=\"M 0 0 M1835.25 46.5287 L1857.09 46.5287 L1857.09 53.1722 L1835.25 53.1722 L1835.25 46.5287 Z\" fill=\"#000000\" fill-rule=\"evenodd\" fill-opacity=\"1\" /><path clip-path=\"url(#clip170)\" d=\"M 0 0 M1865.23 12.096 L1903.47 12.096 L1903.47 18.9825 L1873.41 18.9825 L1873.41 36.8875 L1902.21 36.8875 L1902.21 43.7741 L1873.41 43.7741 L1873.41 65.6895 L1904.2 65.6895 L1904.2 72.576 L1865.23 72.576 L1865.23 12.096 Z\" fill=\"#000000\" fill-rule=\"evenodd\" fill-opacity=\"1\" /><path clip-path=\"url(#clip170)\" d=\"M 0 0 M1948.6 14.0809 L1948.6 22.0612 Q1943.94 19.8332 1939.81 18.7395 Q1935.67 17.6457 1931.83 17.6457 Q1925.14 17.6457 1921.5 20.2383 Q1917.89 22.8309 1917.89 27.611 Q1917.89 31.6214 1920.28 33.6873 Q1922.71 35.7128 1929.44 36.9686 L1934.38 37.9813 Q1943.53 39.7232 1947.87 44.1387 Q1952.24 48.5136 1952.24 55.8863 Q1952.24 64.6767 1946.33 69.2137 Q1940.45 73.7508 1929.07 73.7508 Q1924.78 73.7508 1919.92 72.7785 Q1915.1 71.8063 1909.91 69.9024 L1909.91 61.4765 Q1914.89 64.2716 1919.67 65.6895 Q1924.45 67.1073 1929.07 67.1073 Q1936.08 67.1073 1939.89 64.3527 Q1943.69 61.598 1943.69 56.4939 Q1943.69 52.0379 1940.94 49.5264 Q1938.23 47.0148 1931.99 45.759 L1927 44.7868 Q1917.85 42.9639 1913.76 39.075 Q1909.67 35.1862 1909.67 28.2591 Q1909.67 20.2383 1915.3 15.6203 Q1920.97 11.0023 1930.89 11.0023 Q1935.15 11.0023 1939.56 11.7719 Q1943.98 12.5416 1948.6 14.0809 Z\" fill=\"#000000\" fill-rule=\"evenodd\" fill-opacity=\"1\" /><path clip-path=\"url(#clip170)\" d=\"M 0 0 M1165.31 1549.26 L1165.31 1536.5 L1154.8 1536.5 L1154.8 1531.22 L1171.67 1531.22 L1171.67 1551.62 Q1167.95 1554.26 1163.46 1555.63 Q1158.97 1556.97 1153.88 1556.97 Q1142.74 1556.97 1136.44 1550.47 Q1130.17 1543.95 1130.17 1532.33 Q1130.17 1520.68 1136.44 1514.19 Q1142.74 1507.66 1153.88 1507.66 Q1158.53 1507.66 1162.7 1508.81 Q1166.9 1509.96 1170.43 1512.18 L1170.43 1519.03 Q1166.87 1516 1162.86 1514.48 Q1158.85 1512.95 1154.42 1512.95 Q1145.7 1512.95 1141.31 1517.82 Q1136.95 1522.69 1136.95 1532.33 Q1136.95 1541.94 1141.31 1546.81 Q1145.7 1551.68 1154.42 1551.68 Q1157.83 1551.68 1160.5 1551.11 Q1163.17 1550.51 1165.31 1549.26 Z\" fill=\"#000000\" fill-rule=\"evenodd\" fill-opacity=\"1\" /><path clip-path=\"url(#clip170)\" d=\"M 0 0 M1208.31 1536.76 L1208.31 1539.62 L1181.38 1539.62 Q1181.76 1545.67 1185.01 1548.85 Q1188.29 1552 1194.11 1552 Q1197.48 1552 1200.64 1551.17 Q1203.82 1550.35 1206.94 1548.69 L1206.94 1554.23 Q1203.79 1555.57 1200.48 1556.27 Q1197.17 1556.97 1193.76 1556.97 Q1185.23 1556.97 1180.23 1552 Q1175.27 1547.04 1175.27 1538.57 Q1175.27 1529.82 1179.98 1524.69 Q1184.72 1519.54 1192.74 1519.54 Q1199.94 1519.54 1204.11 1524.18 Q1208.31 1528.8 1208.31 1536.76 M1202.45 1535.04 Q1202.39 1530.23 1199.74 1527.37 Q1197.13 1524.5 1192.81 1524.5 Q1187.9 1524.5 1184.94 1527.27 Q1182.02 1530.04 1181.57 1535.07 L1202.45 1535.04 M1196.82 1503.91 L1203.15 1503.91 L1192.77 1515.88 L1187.9 1515.88 L1196.82 1503.91 Z\" fill=\"#000000\" fill-rule=\"evenodd\" fill-opacity=\"1\" /><path clip-path=\"url(#clip170)\" d=\"M 0 0 M1244.08 1534.53 L1244.08 1556.04 L1238.23 1556.04 L1238.23 1534.72 Q1238.23 1529.66 1236.25 1527.14 Q1234.28 1524.63 1230.33 1524.63 Q1225.59 1524.63 1222.85 1527.65 Q1220.11 1530.68 1220.11 1535.9 L1220.11 1556.04 L1214.23 1556.04 L1214.23 1520.4 L1220.11 1520.4 L1220.11 1525.93 Q1222.22 1522.72 1225.05 1521.13 Q1227.91 1519.54 1231.64 1519.54 Q1237.78 1519.54 1240.93 1523.36 Q1244.08 1527.14 1244.08 1534.53 Z\" fill=\"#000000\" fill-rule=\"evenodd\" fill-opacity=\"1\" /><path clip-path=\"url(#clip170)\" d=\"M 0 0 M1280.72 1536.76 L1280.72 1539.62 L1253.79 1539.62 Q1254.17 1545.67 1257.42 1548.85 Q1260.7 1552 1266.52 1552 Q1269.89 1552 1273.05 1551.17 Q1276.23 1550.35 1279.35 1548.69 L1279.35 1554.23 Q1276.2 1555.57 1272.89 1556.27 Q1269.58 1556.97 1266.17 1556.97 Q1257.64 1556.97 1252.64 1552 Q1247.68 1547.04 1247.68 1538.57 Q1247.68 1529.82 1252.39 1524.69 Q1257.13 1519.54 1265.15 1519.54 Q1272.35 1519.54 1276.52 1524.18 Q1280.72 1528.8 1280.72 1536.76 M1274.86 1535.04 Q1274.8 1530.23 1272.15 1527.37 Q1269.54 1524.5 1265.22 1524.5 Q1260.31 1524.5 1257.35 1527.27 Q1254.43 1530.04 1253.98 1535.07 L1274.86 1535.04 M1269.23 1503.91 L1275.56 1503.91 L1265.18 1515.88 L1260.31 1515.88 L1269.23 1503.91 Z\" fill=\"#000000\" fill-rule=\"evenodd\" fill-opacity=\"1\" /><path clip-path=\"url(#clip170)\" d=\"M 0 0 M1307.52 1525.87 Q1306.53 1525.3 1305.35 1525.04 Q1304.21 1524.76 1302.81 1524.76 Q1297.84 1524.76 1295.17 1528 Q1292.52 1531.22 1292.52 1537.27 L1292.52 1556.04 L1286.64 1556.04 L1286.64 1520.4 L1292.52 1520.4 L1292.52 1525.93 Q1294.37 1522.69 1297.33 1521.13 Q1300.29 1519.54 1304.52 1519.54 Q1305.13 1519.54 1305.86 1519.63 Q1306.59 1519.7 1307.48 1519.85 L1307.52 1525.87 Z\" fill=\"#000000\" fill-rule=\"evenodd\" fill-opacity=\"1\" /><path clip-path=\"url(#clip170)\" d=\"M 0 0 M1329.86 1538.12 Q1322.76 1538.12 1320.02 1539.75 Q1317.29 1541.37 1317.29 1545.29 Q1317.29 1548.4 1319.32 1550.25 Q1321.39 1552.07 1324.93 1552.07 Q1329.8 1552.07 1332.72 1548.63 Q1335.68 1545.16 1335.68 1539.43 L1335.68 1538.12 L1329.86 1538.12 M1341.54 1535.71 L1341.54 1556.04 L1335.68 1556.04 L1335.68 1550.63 Q1333.68 1553.88 1330.69 1555.44 Q1327.7 1556.97 1323.37 1556.97 Q1317.89 1556.97 1314.65 1553.91 Q1311.43 1550.82 1311.43 1545.67 Q1311.43 1539.65 1315.44 1536.6 Q1319.48 1533.54 1327.47 1533.54 L1335.68 1533.54 L1335.68 1532.97 Q1335.68 1528.93 1333.01 1526.73 Q1330.37 1524.5 1325.56 1524.5 Q1322.51 1524.5 1319.61 1525.23 Q1316.71 1525.97 1314.04 1527.43 L1314.04 1522.02 Q1317.26 1520.78 1320.28 1520.17 Q1323.3 1519.54 1326.17 1519.54 Q1333.9 1519.54 1337.72 1523.55 Q1341.54 1527.56 1341.54 1535.71 Z\" fill=\"#000000\" fill-rule=\"evenodd\" fill-opacity=\"1\" /><path clip-path=\"url(#clip170)\" d=\"M 0 0 M1353.48 1510.27 L1353.48 1520.4 L1365.54 1520.4 L1365.54 1524.95 L1353.48 1524.95 L1353.48 1544.3 Q1353.48 1548.66 1354.65 1549.9 Q1355.86 1551.14 1359.52 1551.14 L1365.54 1551.14 L1365.54 1556.04 L1359.52 1556.04 Q1352.74 1556.04 1350.17 1553.53 Q1347.59 1550.98 1347.59 1544.3 L1347.59 1524.95 L1343.29 1524.95 L1343.29 1520.4 L1347.59 1520.4 L1347.59 1510.27 L1353.48 1510.27 Z\" fill=\"#000000\" fill-rule=\"evenodd\" fill-opacity=\"1\" /><path clip-path=\"url(#clip170)\" d=\"M 0 0 M1371.68 1520.4 L1377.54 1520.4 L1377.54 1556.04 L1371.68 1556.04 L1371.68 1520.4 M1371.68 1506.52 L1377.54 1506.52 L1377.54 1513.93 L1371.68 1513.93 L1371.68 1506.52 Z\" fill=\"#000000\" fill-rule=\"evenodd\" fill-opacity=\"1\" /><path clip-path=\"url(#clip170)\" d=\"M 0 0 M1397.5 1524.5 Q1392.78 1524.5 1390.05 1528.19 Q1387.31 1531.85 1387.31 1538.25 Q1387.31 1544.65 1390.02 1548.34 Q1392.75 1552 1397.5 1552 Q1402.17 1552 1404.91 1548.31 Q1407.65 1544.62 1407.65 1538.25 Q1407.65 1531.92 1404.91 1528.23 Q1402.17 1524.5 1397.5 1524.5 M1397.5 1519.54 Q1405.13 1519.54 1409.49 1524.5 Q1413.86 1529.47 1413.86 1538.25 Q1413.86 1547 1409.49 1552 Q1405.13 1556.97 1397.5 1556.97 Q1389.82 1556.97 1385.46 1552 Q1381.14 1547 1381.14 1538.25 Q1381.14 1529.47 1385.46 1524.5 Q1389.82 1519.54 1397.5 1519.54 Z\" fill=\"#000000\" fill-rule=\"evenodd\" fill-opacity=\"1\" /><path clip-path=\"url(#clip170)\" d=\"M 0 0 M1449.63 1534.53 L1449.63 1556.04 L1443.77 1556.04 L1443.77 1534.72 Q1443.77 1529.66 1441.8 1527.14 Q1439.83 1524.63 1435.88 1524.63 Q1431.14 1524.63 1428.4 1527.65 Q1425.66 1530.68 1425.66 1535.9 L1425.66 1556.04 L1419.78 1556.04 L1419.78 1520.4 L1425.66 1520.4 L1425.66 1525.93 Q1427.76 1522.72 1430.6 1521.13 Q1433.46 1519.54 1437.19 1519.54 Q1443.33 1519.54 1446.48 1523.36 Q1449.63 1527.14 1449.63 1534.53 Z\" fill=\"#000000\" fill-rule=\"evenodd\" fill-opacity=\"1\" /><path clip-path=\"url(#clip170)\" d=\"M 0 0 M40.4842 1158.16 L40.4842 1130.86 L45.895 1130.86 L45.895 1151.74 L59.8996 1151.74 L59.8996 1132.89 L65.3104 1132.89 L65.3104 1151.74 L88.0042 1151.74 L88.0042 1158.16 L40.4842 1158.16 Z\" fill=\"#000000\" fill-rule=\"evenodd\" fill-opacity=\"1\" /><path clip-path=\"url(#clip170)\" d=\"M 0 0 M52.3562 1129.46 L52.3562 1123.6 L88.0042 1123.6 L88.0042 1129.46 L52.3562 1129.46 M38.479 1129.46 L38.479 1123.6 L45.895 1123.6 L45.895 1129.46 L38.479 1129.46 Z\" fill=\"#000000\" fill-rule=\"evenodd\" fill-opacity=\"1\" /><path clip-path=\"url(#clip170)\" d=\"M 0 0 M42.2347 1111.66 L52.3562 1111.66 L52.3562 1099.6 L56.9077 1099.6 L56.9077 1111.66 L76.2594 1111.66 Q80.6199 1111.66 81.8613 1110.49 Q83.1026 1109.28 83.1026 1105.62 L83.1026 1099.6 L88.0042 1099.6 L88.0042 1105.62 Q88.0042 1112.4 85.4897 1114.97 Q82.9434 1117.55 76.2594 1117.55 L56.9077 1117.55 L56.9077 1121.85 L52.3562 1121.85 L52.3562 1117.55 L42.2347 1117.55 L42.2347 1111.66 Z\" fill=\"#000000\" fill-rule=\"evenodd\" fill-opacity=\"1\" /><path clip-path=\"url(#clip170)\" d=\"M 0 0 M66.4881 1063.83 L88.0042 1063.83 L88.0042 1069.68 L66.679 1069.68 Q61.6183 1069.68 59.1038 1071.65 Q56.5894 1073.63 56.5894 1077.57 Q56.5894 1082.32 59.6131 1085.05 Q62.6368 1087.79 67.8567 1087.79 L88.0042 1087.79 L88.0042 1093.68 L52.3562 1093.68 L52.3562 1087.79 L57.8944 1087.79 Q54.6797 1085.69 53.0883 1082.86 Q51.4968 1079.99 51.4968 1076.27 Q51.4968 1070.13 55.3163 1066.98 Q59.1038 1063.83 66.4881 1063.83 Z\" fill=\"#000000\" fill-rule=\"evenodd\" fill-opacity=\"1\" /><path clip-path=\"url(#clip170)\" d=\"M 0 0 M68.7161 1027.19 L71.5806 1027.19 L71.5806 1054.12 Q77.6281 1053.74 80.8109 1050.49 Q83.9619 1047.21 83.9619 1041.39 Q83.9619 1038.01 83.1344 1034.86 Q82.3069 1031.68 80.6518 1028.56 L86.1899 1028.56 Q87.5267 1031.71 88.227 1035.02 Q88.9272 1038.33 88.9272 1041.74 Q88.9272 1050.27 83.9619 1055.26 Q78.9967 1060.23 70.5303 1060.23 Q61.7774 1060.23 56.6531 1055.52 Q51.4968 1050.78 51.4968 1042.75 Q51.4968 1035.56 56.1438 1031.39 Q60.7589 1027.19 68.7161 1027.19 M66.9973 1033.05 Q62.1912 1033.11 59.3266 1035.75 Q56.4621 1038.36 56.4621 1042.69 Q56.4621 1047.59 59.2312 1050.55 Q62.0002 1053.48 67.0292 1053.93 L66.9973 1033.05 Z\" fill=\"#000000\" fill-rule=\"evenodd\" fill-opacity=\"1\" /><path clip-path=\"url(#clip170)\" d=\"M 0 0 M53.4065 998.322 L58.9447 998.322 Q57.6716 1000.8 57.035 1003.48 Q56.3984 1006.15 56.3984 1009.02 Q56.3984 1013.38 57.7352 1015.57 Q59.072 1017.74 61.7456 1017.74 Q63.7826 1017.74 64.9603 1016.18 Q66.1061 1014.62 67.1565 1009.91 L67.6021 1007.9 Q68.9389 1001.66 71.3897 999.054 Q73.8086 996.412 78.1691 996.412 Q83.1344 996.412 86.0308 1000.36 Q88.9272 1004.27 88.9272 1011.15 Q88.9272 1014.01 88.3543 1017.13 Q87.8132 1020.22 86.6992 1023.66 L80.6518 1023.66 Q82.3387 1020.41 83.198 1017.26 Q84.0256 1014.11 84.0256 1011.02 Q84.0256 1006.88 82.6251 1004.66 Q81.1929 1002.43 78.6147 1002.43 Q76.2276 1002.43 74.9545 1004.05 Q73.6813 1005.64 72.5037 1011.09 L72.0262 1013.12 Q70.8804 1018.56 68.5251 1020.98 Q66.138 1023.4 62.0002 1023.4 Q56.9713 1023.4 54.2341 1019.84 Q51.4968 1016.27 51.4968 1009.72 Q51.4968 1006.47 51.9743 1003.61 Q52.4517 1000.74 53.4065 998.322 Z\" fill=\"#000000\" fill-rule=\"evenodd\" fill-opacity=\"1\" /><path clip-path=\"url(#clip170)\" d=\"M 0 0 M53.4065 967.544 L58.9447 967.544 Q57.6716 970.026 57.035 972.7 Q56.3984 975.374 56.3984 978.238 Q56.3984 982.599 57.7352 984.795 Q59.072 986.959 61.7456 986.959 Q63.7826 986.959 64.9603 985.4 Q66.1061 983.84 67.1565 979.129 L67.6021 977.124 Q68.9389 970.886 71.3897 968.276 Q73.8086 965.634 78.1691 965.634 Q83.1344 965.634 86.0308 969.581 Q88.9272 973.496 88.9272 980.371 Q88.9272 983.235 88.3543 986.354 Q87.8132 989.442 86.6992 992.879 L80.6518 992.879 Q82.3387 989.633 83.198 986.482 Q84.0256 983.331 84.0256 980.243 Q84.0256 976.106 82.6251 973.878 Q81.1929 971.65 78.6147 971.65 Q76.2276 971.65 74.9545 973.273 Q73.6813 974.864 72.5037 980.307 L72.0262 982.344 Q70.8804 987.787 68.5251 990.206 Q66.138 992.625 62.0002 992.625 Q56.9713 992.625 54.2341 989.06 Q51.4968 985.495 51.4968 978.938 Q51.4968 975.692 51.9743 972.827 Q52.4517 969.963 53.4065 967.544 Z\" fill=\"#000000\" fill-rule=\"evenodd\" fill-opacity=\"1\" /><path clip-path=\"url(#clip170)\" d=\"M 0 0 M57.7671 915.313 L38.479 915.313 L38.479 909.457 L88.0042 909.457 L88.0042 915.313 L82.657 915.313 Q85.8398 917.159 87.3994 919.992 Q88.9272 922.793 88.9272 926.74 Q88.9272 933.201 83.771 937.275 Q78.6147 941.317 70.212 941.317 Q61.8093 941.317 56.6531 937.275 Q51.4968 933.201 51.4968 926.74 Q51.4968 922.793 53.0564 919.992 Q54.5842 917.159 57.7671 915.313 M70.212 935.27 Q76.6732 935.27 80.3653 932.628 Q84.0256 929.954 84.0256 925.307 Q84.0256 920.66 80.3653 917.987 Q76.6732 915.313 70.212 915.313 Q63.7508 915.313 60.0905 917.987 Q56.3984 920.66 56.3984 925.307 Q56.3984 929.954 60.0905 932.628 Q63.7508 935.27 70.212 935.27 Z\" fill=\"#000000\" fill-rule=\"evenodd\" fill-opacity=\"1\" /><path clip-path=\"url(#clip170)\" d=\"M 0 0 M73.9359 903.918 L52.3562 903.918 L52.3562 898.062 L73.7131 898.062 Q78.7739 898.062 81.3202 896.089 Q83.8346 894.115 83.8346 890.169 Q83.8346 885.426 80.8109 882.689 Q77.7872 879.92 72.5673 879.92 L52.3562 879.92 L52.3562 874.063 L88.0042 874.063 L88.0042 879.92 L82.5296 879.92 Q85.7762 882.052 87.3676 884.885 Q88.9272 887.686 88.9272 891.41 Q88.9272 897.553 85.1078 900.736 Q81.2883 903.918 73.9359 903.918 M51.4968 889.182 L51.4968 889.182 Z\" fill=\"#000000\" fill-rule=\"evenodd\" fill-opacity=\"1\" /><path clip-path=\"url(#clip170)\" d=\"M 0 0 M59.1993 819.446 Q55.2526 817.249 53.3747 814.194 Q51.4968 811.138 51.4968 807.001 Q51.4968 801.431 55.4117 798.407 Q59.2948 795.383 66.4881 795.383 L88.0042 795.383 L88.0042 801.271 L66.679 801.271 Q61.5546 801.271 59.072 803.086 Q56.5894 804.9 56.5894 808.624 Q56.5894 813.175 59.6131 815.817 Q62.6368 818.459 67.8567 818.459 L88.0042 818.459 L88.0042 824.347 L66.679 824.347 Q61.5228 824.347 59.072 826.161 Q56.5894 827.976 56.5894 831.763 Q56.5894 836.251 59.6449 838.893 Q62.6686 841.535 67.8567 841.535 L88.0042 841.535 L88.0042 847.423 L52.3562 847.423 L52.3562 841.535 L57.8944 841.535 Q54.616 839.529 53.0564 836.728 Q51.4968 833.928 51.4968 830.076 Q51.4968 826.193 53.4702 823.488 Q55.4436 820.75 59.1993 819.446 Z\" fill=\"#000000\" fill-rule=\"evenodd\" fill-opacity=\"1\" /><path clip-path=\"url(#clip170)\" d=\"M 0 0 M68.7161 758.749 L71.5806 758.749 L71.5806 785.675 Q77.6281 785.294 80.8109 782.047 Q83.9619 778.769 83.9619 772.944 Q83.9619 769.57 83.1344 766.419 Q82.3069 763.236 80.6518 760.117 L86.1899 760.117 Q87.5267 763.268 88.227 766.578 Q88.9272 769.889 88.9272 773.294 Q88.9272 781.824 83.9619 786.821 Q78.9967 791.787 70.5303 791.787 Q61.7774 791.787 56.6531 787.076 Q51.4968 782.333 51.4968 774.313 Q51.4968 767.119 56.1438 762.95 Q60.7589 758.749 68.7161 758.749 M66.9973 764.605 Q62.1912 764.669 59.3266 767.31 Q56.4621 769.92 56.4621 774.249 Q56.4621 779.151 59.2312 782.111 Q62.0002 785.039 67.0292 785.484 L66.9973 764.605 Z\" fill=\"#000000\" fill-rule=\"evenodd\" fill-opacity=\"1\" /><path clip-path=\"url(#clip170)\" d=\"M 0 0 M52.3562 752.606 L52.3562 746.749 L88.0042 746.749 L88.0042 752.606 L52.3562 752.606 M38.479 752.606 L38.479 746.749 L45.895 746.749 L45.895 752.606 L38.479 752.606 Z\" fill=\"#000000\" fill-rule=\"evenodd\" fill-opacity=\"1\" /><path clip-path=\"url(#clip170)\" d=\"M 0 0 M38.479 740.606 L38.479 734.75 L88.0042 734.75 L88.0042 740.606 L38.479 740.606 Z\" fill=\"#000000\" fill-rule=\"evenodd\" fill-opacity=\"1\" /><path clip-path=\"url(#clip170)\" d=\"M 0 0 M38.479 728.607 L38.479 722.75 L88.0042 722.75 L88.0042 728.607 L38.479 728.607 Z\" fill=\"#000000\" fill-rule=\"evenodd\" fill-opacity=\"1\" /><path clip-path=\"url(#clip170)\" d=\"M 0 0 M68.7161 686.116 L71.5806 686.116 L71.5806 713.043 Q77.6281 712.661 80.8109 709.414 Q83.9619 706.136 83.9619 700.311 Q83.9619 696.938 83.1344 693.786 Q82.3069 690.604 80.6518 687.484 L86.1899 687.484 Q87.5267 690.635 88.227 693.946 Q88.9272 697.256 88.9272 700.661 Q88.9272 709.191 83.9619 714.189 Q78.9967 719.154 70.5303 719.154 Q61.7774 719.154 56.6531 714.443 Q51.4968 709.701 51.4968 701.68 Q51.4968 694.487 56.1438 690.317 Q60.7589 686.116 68.7161 686.116 M66.9973 691.972 Q62.1912 692.036 59.3266 694.678 Q56.4621 697.288 56.4621 701.616 Q56.4621 706.518 59.2312 709.478 Q62.0002 712.406 67.0292 712.852 L66.9973 691.972 Z\" fill=\"#000000\" fill-rule=\"evenodd\" fill-opacity=\"1\" /><path clip-path=\"url(#clip170)\" d=\"M 0 0 M73.9359 680.578 L52.3562 680.578 L52.3562 674.721 L73.7131 674.721 Q78.7739 674.721 81.3202 672.748 Q83.8346 670.774 83.8346 666.828 Q83.8346 662.085 80.8109 659.348 Q77.7872 656.579 72.5673 656.579 L52.3562 656.579 L52.3562 650.722 L88.0042 650.722 L88.0042 656.579 L82.5296 656.579 Q85.7762 658.711 87.3676 661.544 Q88.9272 664.345 88.9272 668.069 Q88.9272 674.212 85.1078 677.395 Q81.2883 680.578 73.9359 680.578 M51.4968 665.841 L51.4968 665.841 Z\" fill=\"#000000\" fill-rule=\"evenodd\" fill-opacity=\"1\" /><path clip-path=\"url(#clip170)\" d=\"M 0 0 M57.8307 623.923 Q57.2578 624.91 57.0032 626.087 Q56.7167 627.233 56.7167 628.633 Q56.7167 633.599 59.9632 636.272 Q63.1779 638.914 69.2253 638.914 L88.0042 638.914 L88.0042 644.802 L52.3562 644.802 L52.3562 638.914 L57.8944 638.914 Q54.6479 637.068 53.0883 634.108 Q51.4968 631.148 51.4968 626.915 Q51.4968 626.31 51.5923 625.578 Q51.656 624.846 51.8151 623.955 L57.8307 623.923 Z\" fill=\"#000000\" fill-rule=\"evenodd\" fill-opacity=\"1\" /><path clip-path=\"url(#clip170)\" d=\"M 0 0 M52.3562 597.06 L52.3562 591.203 L88.0042 591.203 L88.0042 597.06 L52.3562 597.06 M38.479 597.06 L38.479 591.203 L45.895 591.203 L45.895 597.06 L38.479 597.06 Z\" fill=\"#000000\" fill-rule=\"evenodd\" fill-opacity=\"1\" /><path clip-path=\"url(#clip170)\" d=\"M 0 0 M66.4881 555.428 L88.0042 555.428 L88.0042 561.284 L66.679 561.284 Q61.6183 561.284 59.1038 563.258 Q56.5894 565.231 56.5894 569.178 Q56.5894 573.92 59.6131 576.657 Q62.6368 579.395 67.8567 579.395 L88.0042 579.395 L88.0042 585.283 L52.3562 585.283 L52.3562 579.395 L57.8944 579.395 Q54.6797 577.294 53.0883 574.461 Q51.4968 571.597 51.4968 567.873 Q51.4968 561.73 55.3163 558.579 Q59.1038 555.428 66.4881 555.428 Z\" fill=\"#000000\" fill-rule=\"evenodd\" fill-opacity=\"1\" /><path clip-path=\"url(#clip170)\" d=\"M 0 0 M57.7671 525.827 L38.479 525.827 L38.479 519.971 L88.0042 519.971 L88.0042 525.827 L82.657 525.827 Q85.8398 527.673 87.3994 530.506 Q88.9272 533.307 88.9272 537.254 Q88.9272 543.715 83.771 547.789 Q78.6147 551.831 70.212 551.831 Q61.8093 551.831 56.6531 547.789 Q51.4968 543.715 51.4968 537.254 Q51.4968 533.307 53.0564 530.506 Q54.5842 527.673 57.7671 525.827 M70.212 545.784 Q76.6732 545.784 80.3653 543.142 Q84.0256 540.468 84.0256 535.821 Q84.0256 531.175 80.3653 528.501 Q76.6732 525.827 70.212 525.827 Q63.7508 525.827 60.0905 528.501 Q56.3984 531.175 56.3984 535.821 Q56.3984 540.468 60.0905 543.142 Q63.7508 545.784 70.212 545.784 Z\" fill=\"#000000\" fill-rule=\"evenodd\" fill-opacity=\"1\" /><path clip-path=\"url(#clip170)\" d=\"M 0 0 M52.3562 513.828 L52.3562 507.972 L88.0042 507.972 L88.0042 513.828 L52.3562 513.828 M38.479 513.828 L38.479 507.972 L45.895 507.972 L45.895 513.828 L38.479 513.828 Z\" fill=\"#000000\" fill-rule=\"evenodd\" fill-opacity=\"1\" /><path clip-path=\"url(#clip170)\" d=\"M 0 0 M52.3562 506.03 L52.3562 499.823 L82.275 488.683 L52.3562 477.543 L52.3562 471.337 L88.0042 484.705 L88.0042 492.662 L52.3562 506.03 Z\" fill=\"#000000\" fill-rule=\"evenodd\" fill-opacity=\"1\" /><path clip-path=\"url(#clip170)\" d=\"M 0 0 M52.3562 465.194 L52.3562 459.338 L88.0042 459.338 L88.0042 465.194 L52.3562 465.194 M38.479 465.194 L38.479 459.338 L45.895 459.338 L45.895 465.194 L38.479 465.194 Z\" fill=\"#000000\" fill-rule=\"evenodd\" fill-opacity=\"1\" /><path clip-path=\"url(#clip170)\" d=\"M 0 0 M57.7671 429.737 L38.479 429.737 L38.479 423.881 L88.0042 423.881 L88.0042 429.737 L82.657 429.737 Q85.8398 431.583 87.3994 434.416 Q88.9272 437.217 88.9272 441.163 Q88.9272 447.625 83.771 451.699 Q78.6147 455.741 70.212 455.741 Q61.8093 455.741 56.6531 451.699 Q51.4968 447.625 51.4968 441.163 Q51.4968 437.217 53.0564 434.416 Q54.5842 431.583 57.7671 429.737 M70.212 449.693 Q76.6732 449.693 80.3653 447.052 Q84.0256 444.378 84.0256 439.731 Q84.0256 435.084 80.3653 432.411 Q76.6732 429.737 70.212 429.737 Q63.7508 429.737 60.0905 432.411 Q56.3984 435.084 56.3984 439.731 Q56.3984 444.378 60.0905 447.052 Q63.7508 449.693 70.212 449.693 Z\" fill=\"#000000\" fill-rule=\"evenodd\" fill-opacity=\"1\" /><path clip-path=\"url(#clip170)\" d=\"M 0 0 M73.9359 418.342 L52.3562 418.342 L52.3562 412.486 L73.7131 412.486 Q78.7739 412.486 81.3202 410.513 Q83.8346 408.539 83.8346 404.592 Q83.8346 399.85 80.8109 397.113 Q77.7872 394.344 72.5673 394.344 L52.3562 394.344 L52.3562 388.487 L88.0042 388.487 L88.0042 394.344 L82.5296 394.344 Q85.7762 396.476 87.3676 399.309 Q88.9272 402.11 88.9272 405.834 Q88.9272 411.977 85.1078 415.16 Q81.2883 418.342 73.9359 418.342 M51.4968 403.606 L51.4968 403.606 Z\" fill=\"#000000\" fill-rule=\"evenodd\" fill-opacity=\"1\" /><polyline clip-path=\"url(#clip172)\" style=\"stroke:#009af9; stroke-width:4; stroke-opacity:1; fill:none\" points=\"\n",
       "  287.204,1386.4 289.211,1386.4 291.219,1386.4 293.226,1386.4 295.233,1386.4 297.241,1386.4 299.248,1386.4 301.256,1386.4 303.263,1386.4 305.27,1386.4 \n",
       "  307.278,1386.4 309.285,1386.4 311.293,1386.4 313.3,1386.4 315.307,1386.4 317.315,1386.4 319.322,1386.4 321.33,1386.4 323.337,1386.4 325.344,1386.4 \n",
       "  327.352,1386.4 329.359,1386.4 331.367,1386.4 333.374,1386.4 335.381,1386.4 337.389,1386.4 339.396,1386.4 341.404,1386.4 343.411,1386.4 345.418,1386.4 \n",
       "  347.426,1386.4 349.433,1386.4 351.441,1386.4 353.448,1386.4 355.455,1386.4 357.463,1386.4 359.47,1386.4 361.478,1386.4 363.485,1386.4 365.492,1386.4 \n",
       "  367.5,1386.4 369.507,1386.4 371.515,1386.4 373.522,1386.4 375.529,1386.4 377.537,1386.4 379.544,1386.4 381.552,1386.4 383.559,1386.4 385.566,1386.4 \n",
       "  387.574,1386.4 389.581,1386.4 391.589,1386.4 393.596,1386.4 395.603,1386.4 397.611,1386.4 399.618,1386.4 401.626,1386.4 403.633,1386.4 405.64,1386.4 \n",
       "  407.648,1386.4 409.655,1386.4 411.663,1386.4 413.67,1386.4 415.677,1386.4 417.685,1386.4 419.692,1386.4 421.7,1386.4 423.707,1386.4 425.714,1386.4 \n",
       "  427.722,1386.4 429.729,1386.4 431.736,1386.4 433.744,1386.4 435.751,1386.4 437.759,1386.4 439.766,1386.4 441.773,1386.4 443.781,1386.4 445.788,1386.4 \n",
       "  447.796,1386.4 449.803,1386.4 451.81,1386.4 453.818,1386.4 455.825,1386.4 457.833,1386.4 459.84,1386.4 461.847,1386.4 463.855,1386.4 465.862,1386.4 \n",
       "  467.87,1386.4 469.877,1386.4 471.884,1386.4 473.892,1386.4 475.899,1386.4 477.907,1386.4 479.914,1386.4 481.921,1386.4 483.929,1386.4 485.936,1386.4 \n",
       "  487.944,1386.4 489.951,1386.4 491.958,1386.4 493.966,1386.4 495.973,1386.4 497.981,1386.4 499.988,1386.4 501.995,1386.4 504.003,1386.4 506.01,1386.4 \n",
       "  508.018,1386.4 510.025,1386.4 512.032,1386.4 514.04,1386.4 516.047,1386.4 518.055,1386.4 520.062,1386.28 522.069,1334.14 524.077,1293.05 526.084,1312.89 \n",
       "  528.092,1292.89 530.099,1292.6 532.106,1292.53 534.114,1292.71 536.121,1292.89 538.129,1292.71 540.136,1292.67 542.143,1292.53 544.151,1292.53 546.158,1292.53 \n",
       "  548.166,1292.45 550.173,1292.45 552.18,1292.4 554.188,1292.43 556.195,1292.06 558.203,1277.12 560.21,1270.67 562.217,1270.65 564.225,1270.67 566.232,1277.13 \n",
       "  568.24,1277.09 570.247,1277.09 572.254,1270.63 574.262,1270.65 576.269,1270.62 578.277,1270.63 580.284,1270.63 582.291,1277.03 584.299,1270.63 586.306,1270.63 \n",
       "  588.314,1270.57 590.321,1270.57 592.328,1270.57 594.336,1270.52 596.343,1270.57 598.351,1270.52 600.358,1235.24 602.365,1270.52 604.373,1270.52 606.38,1270.52 \n",
       "  608.388,1270.52 610.395,1270.5 612.402,1242.47 614.41,1233.14 616.417,1206.86 618.424,1220.52 620.432,1141.65 622.439,1197.52 624.447,1233.25 626.454,1153.15 \n",
       "  628.461,1177.46 630.469,1141.65 632.476,1141.7 634.484,1141.65 636.491,1141.65 638.498,1141.61 640.506,996.261 642.513,1115.52 644.521,994.055 646.528,1151.44 \n",
       "  648.535,994.815 650.543,993.712 652.55,995.611 654.558,822.246 656.565,994.364 658.572,994.055 660.58,760.626 662.587,994.323 664.595,974.997 666.602,404.761 \n",
       "  668.609,753.03 670.617,1036.59 672.624,758.145 674.632,760.581 676.639,758.008 678.646,440.065 680.654,291.475 682.661,293.08 684.669,264.652 686.676,488.967 \n",
       "  688.683,282.113 690.691,450.55 692.698,285.879 694.706,274.211 696.713,274.211 698.72,261.416 700.728,246.527 702.735,185.737 704.743,246.527 706.75,246.527 \n",
       "  708.757,185.737 710.765,164.288 712.772,185.737 714.78,194.081 716.787,256.655 718.794,257.384 720.802,185.737 722.809,185.737 724.817,164.288 726.824,164.311 \n",
       "  728.831,164.311 730.839,164.288 732.846,164.311 734.854,164.288 736.861,160.28 738.868,164.288 740.876,160.323 742.883,160.28 744.891,160.323 746.898,160.28 \n",
       "  748.905,160.28 750.913,160.28 752.92,160.28 754.928,160.256 756.935,160.256 758.942,160.28 760.95,160.28 762.957,160.28 764.965,160.256 766.972,160.256 \n",
       "  768.979,160.256 770.987,160.256 772.994,160.256 775.002,160.256 777.009,160.256 779.016,160.28 781.024,160.256 783.031,160.256 785.039,160.256 787.046,160.256 \n",
       "  789.053,160.256 791.061,160.256 793.068,160.256 795.075,160.256 797.083,160.256 799.09,160.256 801.098,160.256 803.105,160.256 805.112,160.256 807.12,160.256 \n",
       "  809.127,160.256 811.135,160.256 813.142,160.256 815.149,160.256 817.157,160.256 819.164,160.256 821.172,160.256 823.179,160.256 825.186,160.256 827.194,160.256 \n",
       "  829.201,160.256 831.209,160.256 833.216,160.256 835.223,160.256 837.231,160.256 839.238,160.256 841.246,160.256 843.253,160.256 845.26,160.256 847.268,160.256 \n",
       "  849.275,160.256 851.283,160.256 853.29,160.256 855.297,160.256 857.305,160.256 859.312,160.256 861.32,160.256 863.327,160.256 865.334,160.256 867.342,160.256 \n",
       "  869.349,160.256 871.357,160.256 873.364,160.256 875.371,160.256 877.379,160.256 879.386,160.256 881.394,160.256 883.401,160.256 885.408,160.256 887.416,160.256 \n",
       "  889.423,160.256 891.431,160.256 893.438,160.256 895.445,160.256 897.453,160.256 899.46,160.256 901.468,160.256 903.475,160.256 905.482,160.256 907.49,160.256 \n",
       "  909.497,160.256 911.505,160.256 913.512,160.256 915.519,160.256 917.527,160.256 919.534,160.256 921.542,160.256 923.549,160.256 925.556,160.256 927.564,160.256 \n",
       "  929.571,160.256 931.579,160.256 933.586,160.256 935.593,160.256 937.601,160.256 939.608,160.256 941.616,160.256 943.623,160.256 945.63,160.256 947.638,160.256 \n",
       "  949.645,160.256 951.653,160.256 953.66,160.256 955.667,160.256 957.675,160.256 959.682,160.256 961.69,160.256 963.697,160.256 965.704,160.256 967.712,160.256 \n",
       "  969.719,160.256 971.726,160.256 973.734,160.256 975.741,160.256 977.749,160.256 979.756,160.256 981.763,160.256 983.771,160.256 985.778,160.256 987.786,160.256 \n",
       "  989.793,160.256 991.8,160.256 993.808,160.256 995.815,160.256 997.823,160.256 999.83,160.256 1001.84,160.256 1003.84,160.256 1005.85,160.256 1007.86,160.256 \n",
       "  1009.87,160.256 1011.87,160.256 1013.88,160.256 1015.89,160.256 1017.9,160.256 1019.9,160.256 1021.91,160.256 1023.92,160.256 1025.93,160.256 1027.93,160.256 \n",
       "  1029.94,160.256 1031.95,160.256 1033.96,160.256 1035.96,160.256 1037.97,160.256 1039.98,160.256 1041.99,160.256 1043.99,160.256 1046,160.256 1048.01,160.256 \n",
       "  1050.02,160.256 1052.02,160.256 1054.03,160.256 1056.04,160.256 1058.04,160.256 1060.05,160.256 1062.06,160.256 1064.07,160.256 1066.07,160.256 1068.08,160.256 \n",
       "  1070.09,160.256 1072.1,160.256 1074.1,160.256 1076.11,160.256 1078.12,160.256 1080.13,160.256 1082.13,160.256 1084.14,160.256 1086.15,160.256 1088.16,160.256 \n",
       "  1090.16,160.256 1092.17,160.256 1094.18,160.256 1096.19,160.256 1098.19,160.256 1100.2,160.256 1102.21,160.256 1104.21,160.256 1106.22,160.256 1108.23,160.256 \n",
       "  1110.24,160.256 1112.24,160.256 1114.25,160.256 1116.26,160.256 1118.27,160.256 1120.27,160.256 1122.28,160.256 1124.29,160.256 1126.3,160.256 1128.3,160.256 \n",
       "  1130.31,160.256 1132.32,160.256 1134.33,160.256 1136.33,160.256 1138.34,160.256 1140.35,160.256 1142.36,160.256 1144.36,160.256 1146.37,160.256 1148.38,160.256 \n",
       "  1150.38,160.256 1152.39,160.256 1154.4,160.256 1156.41,160.256 1158.41,160.256 1160.42,160.256 1162.43,160.256 1164.44,160.256 1166.44,160.256 1168.45,160.256 \n",
       "  1170.46,160.256 1172.47,160.256 1174.47,160.256 1176.48,160.256 1178.49,160.256 1180.5,160.256 1182.5,160.256 1184.51,160.256 1186.52,160.256 1188.53,160.256 \n",
       "  1190.53,160.256 1192.54,160.256 1194.55,160.256 1196.56,160.256 1198.56,160.256 1200.57,160.256 1202.58,160.256 1204.58,160.256 1206.59,160.256 1208.6,160.256 \n",
       "  1210.61,160.256 1212.61,160.256 1214.62,160.256 1216.63,160.256 1218.64,160.256 1220.64,160.256 1222.65,160.256 1224.66,160.256 1226.67,160.256 1228.67,160.256 \n",
       "  1230.68,160.256 1232.69,160.256 1234.7,160.256 1236.7,160.256 1238.71,160.256 1240.72,160.256 1242.73,160.256 1244.73,160.256 1246.74,160.256 1248.75,160.256 \n",
       "  1250.75,160.256 1252.76,160.256 1254.77,160.256 1256.78,160.256 1258.78,160.256 1260.79,160.256 1262.8,160.256 1264.81,160.256 1266.81,160.256 1268.82,160.256 \n",
       "  1270.83,160.256 1272.84,160.256 1274.84,160.256 1276.85,160.256 1278.86,160.256 1280.87,160.256 1282.87,160.256 1284.88,160.256 1286.89,160.256 1288.9,160.256 \n",
       "  1290.9,160.256 1292.91,160.256 1294.92,160.256 1296.92,160.256 1298.93,160.256 1300.94,160.256 1302.95,160.256 1304.95,160.256 1306.96,160.256 1308.97,160.256 \n",
       "  1310.98,160.256 1312.98,160.256 1314.99,160.256 1317,160.256 1319.01,160.256 1321.01,160.256 1323.02,160.256 1325.03,160.256 1327.04,160.256 1329.04,160.256 \n",
       "  1331.05,160.256 1333.06,160.256 1335.07,160.256 1337.07,160.256 1339.08,160.256 1341.09,160.256 1343.1,160.256 1345.1,160.256 1347.11,160.256 1349.12,160.256 \n",
       "  1351.12,160.256 1353.13,160.256 1355.14,160.256 1357.15,160.256 1359.15,160.256 1361.16,160.256 1363.17,160.256 1365.18,160.256 1367.18,160.256 1369.19,160.256 \n",
       "  1371.2,160.256 1373.21,160.256 1375.21,160.256 1377.22,160.256 1379.23,160.256 1381.24,160.256 1383.24,160.256 1385.25,160.256 1387.26,160.256 1389.27,160.256 \n",
       "  1391.27,160.256 1393.28,160.256 1395.29,160.256 1397.29,160.256 1399.3,160.256 1401.31,160.256 1403.32,160.256 1405.32,160.256 1407.33,160.256 1409.34,160.256 \n",
       "  1411.35,160.256 1413.35,160.256 1415.36,160.256 1417.37,160.256 1419.38,160.256 1421.38,160.256 1423.39,160.256 1425.4,160.256 1427.41,160.256 1429.41,160.256 \n",
       "  1431.42,160.256 1433.43,160.256 1435.44,160.256 1437.44,160.256 1439.45,160.256 1441.46,160.256 1443.46,160.256 1445.47,160.256 1447.48,160.256 1449.49,160.256 \n",
       "  1451.49,160.256 1453.5,160.256 1455.51,160.256 1457.52,160.256 1459.52,160.256 1461.53,160.256 1463.54,160.256 1465.55,160.256 1467.55,160.256 1469.56,160.256 \n",
       "  1471.57,160.256 1473.58,160.256 1475.58,160.256 1477.59,160.256 1479.6,160.256 1481.61,160.256 1483.61,160.256 1485.62,160.256 1487.63,160.256 1489.64,160.256 \n",
       "  1491.64,160.256 1493.65,160.256 1495.66,160.256 1497.66,160.256 1499.67,160.256 1501.68,160.256 1503.69,160.256 1505.69,160.256 1507.7,160.256 1509.71,160.256 \n",
       "  1511.72,160.256 1513.72,160.256 1515.73,160.256 1517.74,160.256 1519.75,160.256 1521.75,160.256 1523.76,160.256 1525.77,160.256 1527.78,160.256 1529.78,160.256 \n",
       "  1531.79,160.256 1533.8,160.256 1535.81,160.256 1537.81,160.256 1539.82,160.256 1541.83,160.256 1543.83,160.256 1545.84,160.256 1547.85,160.256 1549.86,160.256 \n",
       "  1551.86,160.256 1553.87,160.256 1555.88,160.256 1557.89,160.256 1559.89,160.256 1561.9,160.256 1563.91,160.256 1565.92,160.256 1567.92,160.256 1569.93,160.256 \n",
       "  1571.94,160.256 1573.95,160.256 1575.95,160.256 1577.96,160.256 1579.97,160.256 1581.98,160.256 1583.98,160.256 1585.99,160.256 1588,160.256 1590,160.256 \n",
       "  1592.01,160.256 1594.02,160.256 1596.03,160.256 1598.03,160.256 1600.04,160.256 1602.05,160.256 1604.06,160.256 1606.06,160.256 1608.07,160.256 1610.08,160.256 \n",
       "  1612.09,160.256 1614.09,160.256 1616.1,160.256 1618.11,160.256 1620.12,160.256 1622.12,160.256 1624.13,160.256 1626.14,160.256 1628.15,160.256 1630.15,160.256 \n",
       "  1632.16,160.256 1634.17,160.256 1636.18,160.256 1638.18,160.256 1640.19,160.256 1642.2,160.256 1644.2,160.256 1646.21,160.256 1648.22,160.256 1650.23,160.256 \n",
       "  1652.23,160.256 1654.24,160.256 1656.25,160.256 1658.26,160.256 1660.26,160.256 1662.27,160.256 1664.28,160.256 1666.29,160.256 1668.29,160.256 1670.3,160.256 \n",
       "  1672.31,160.256 1674.32,160.256 1676.32,160.256 1678.33,160.256 1680.34,160.256 1682.35,160.256 1684.35,160.256 1686.36,160.256 1688.37,160.256 1690.37,160.256 \n",
       "  1692.38,160.256 1694.39,160.256 1696.4,160.256 1698.4,160.256 1700.41,160.256 1702.42,160.256 1704.43,160.256 1706.43,160.256 1708.44,160.256 1710.45,160.256 \n",
       "  1712.46,160.256 1714.46,160.256 1716.47,160.256 1718.48,160.256 1720.49,160.256 1722.49,160.256 1724.5,160.256 1726.51,160.256 1728.52,160.256 1730.52,160.256 \n",
       "  1732.53,160.256 1734.54,160.256 1736.55,160.256 1738.55,160.256 1740.56,160.256 1742.57,160.256 1744.57,160.256 1746.58,160.256 1748.59,160.256 1750.6,160.256 \n",
       "  1752.6,160.256 1754.61,160.256 1756.62,160.256 1758.63,160.256 1760.63,160.256 1762.64,160.256 1764.65,160.256 1766.66,160.256 1768.66,160.256 1770.67,160.256 \n",
       "  1772.68,160.256 1774.69,160.256 1776.69,160.256 1778.7,160.256 1780.71,160.256 1782.72,160.256 1784.72,160.256 1786.73,160.256 1788.74,160.256 1790.74,160.256 \n",
       "  1792.75,160.256 1794.76,160.256 1796.77,160.256 1798.77,160.256 1800.78,160.256 1802.79,160.256 1804.8,160.256 1806.8,160.256 1808.81,160.256 1810.82,160.256 \n",
       "  1812.83,160.256 1814.83,160.256 1816.84,160.256 1818.85,160.256 1820.86,160.256 1822.86,160.256 1824.87,160.256 1826.88,160.256 1828.89,160.256 1830.89,160.256 \n",
       "  1832.9,160.256 1834.91,160.256 1836.91,160.256 1838.92,160.256 1840.93,160.256 1842.94,160.256 1844.94,160.256 1846.95,160.256 1848.96,160.256 1850.97,160.256 \n",
       "  1852.97,160.256 1854.98,160.256 1856.99,160.256 1859,160.256 1861,160.256 1863.01,160.256 1865.02,160.256 1867.03,160.256 1869.03,160.256 1871.04,160.256 \n",
       "  1873.05,160.256 1875.06,160.256 1877.06,160.256 1879.07,160.256 1881.08,160.256 1883.09,160.256 1885.09,160.256 1887.1,160.256 1889.11,160.256 1891.11,160.256 \n",
       "  1893.12,160.256 1895.13,160.256 1897.14,160.256 1899.14,160.256 1901.15,160.256 1903.16,160.256 1905.17,160.256 1907.17,160.256 1909.18,160.256 1911.19,160.256 \n",
       "  1913.2,160.256 1915.2,160.256 1917.21,160.256 1919.22,160.256 1921.23,160.256 1923.23,160.256 1925.24,160.256 1927.25,160.256 1929.26,160.256 1931.26,160.256 \n",
       "  1933.27,160.256 1935.28,160.256 1937.28,160.256 1939.29,160.256 1941.3,160.256 1943.31,160.256 1945.31,160.256 1947.32,160.256 1949.33,160.256 1951.34,160.256 \n",
       "  1953.34,160.256 1955.35,160.256 1957.36,160.256 1959.37,160.256 1961.37,160.256 1963.38,160.256 1965.39,160.256 1967.4,160.256 1969.4,160.256 1971.41,160.256 \n",
       "  1973.42,160.256 1975.43,160.256 1977.43,160.256 1979.44,160.256 1981.45,160.256 1983.45,160.256 1985.46,160.256 1987.47,160.256 1989.48,160.256 1991.48,160.256 \n",
       "  1993.49,160.256 1995.5,160.256 1997.51,160.256 1999.51,160.256 2001.52,160.256 2003.53,160.256 2005.54,160.256 2007.54,160.256 2009.55,160.256 2011.56,160.256 \n",
       "  2013.57,160.256 2015.57,160.256 2017.58,160.256 2019.59,160.256 2021.6,160.256 2023.6,160.256 2025.61,160.256 2027.62,160.256 2029.63,160.256 2031.63,160.256 \n",
       "  2033.64,160.256 2035.65,160.256 2037.65,160.256 2039.66,160.256 2041.67,160.256 2043.68,160.256 2045.68,160.256 2047.69,160.256 2049.7,160.256 2051.71,160.256 \n",
       "  2053.71,160.256 2055.72,160.256 2057.73,160.256 2059.74,160.256 2061.74,160.256 2063.75,160.256 2065.76,160.256 2067.77,160.256 2069.77,160.256 2071.78,160.256 \n",
       "  2073.79,160.256 2075.8,160.256 2077.8,160.256 2079.81,160.256 2081.82,160.256 2083.82,160.256 2085.83,160.256 2087.84,160.256 2089.85,160.256 2091.85,160.256 \n",
       "  2093.86,160.256 2095.87,160.256 2097.88,160.256 2099.88,160.256 2101.89,160.256 2103.9,160.256 2105.91,160.256 2107.91,160.256 2109.92,160.256 2111.93,160.256 \n",
       "  2113.94,160.256 2115.94,160.256 2117.95,160.256 2119.96,160.256 2121.97,160.256 2123.97,160.256 2125.98,160.256 2127.99,160.256 2129.99,160.256 2132,160.256 \n",
       "  2134.01,160.256 2136.02,160.256 2138.02,160.256 2140.03,160.256 2142.04,160.256 2144.05,160.256 2146.05,160.256 2148.06,160.256 2150.07,160.256 2152.08,160.256 \n",
       "  2154.08,160.256 2156.09,160.256 2158.1,160.256 2160.11,160.256 2162.11,160.256 2164.12,160.256 2166.13,160.256 2168.14,160.256 2170.14,160.256 2172.15,160.256 \n",
       "  2174.16,160.256 2176.17,160.256 2178.17,160.256 2180.18,160.256 2182.19,160.256 2184.19,160.256 2186.2,160.256 2188.21,160.256 2190.22,160.256 2192.22,160.256 \n",
       "  2194.23,160.256 2196.24,160.256 2198.25,160.256 2200.25,160.256 2202.26,160.256 2204.27,160.256 2206.28,160.256 2208.28,160.256 2210.29,160.256 2212.3,160.256 \n",
       "  2214.31,160.256 2216.31,160.256 2218.32,160.256 2220.33,160.256 2222.34,160.256 2224.34,160.256 2226.35,160.256 2228.36,160.256 2230.36,160.256 2232.37,160.256 \n",
       "  2234.38,160.256 2236.39,160.256 2238.39,160.256 2240.4,160.256 2242.41,160.256 2244.42,160.256 2246.42,160.256 2248.43,160.256 2250.44,160.256 2252.45,160.256 \n",
       "  2254.45,160.256 2256.46,160.256 2258.47,160.256 2260.48,160.256 2262.48,160.256 2264.49,160.256 2266.5,160.256 2268.51,160.256 2270.51,160.256 2272.52,160.256 \n",
       "  2274.53,160.256 2276.54,160.256 2278.54,160.256 2280.55,160.256 2282.56,160.256 2284.56,160.256 2286.57,160.256 2288.58,160.256 2290.59,160.256 2292.59,160.256 \n",
       "  \n",
       "  \"/>\n",
       "<path clip-path=\"url(#clip170)\" d=\"\n",
       "M1989.74 327.952 L2280.76 327.952 L2280.76 206.992 L1989.74 206.992  Z\n",
       "  \" fill=\"#ffffff\" fill-rule=\"evenodd\" fill-opacity=\"1\"/>\n",
       "<polyline clip-path=\"url(#clip170)\" style=\"stroke:#000000; stroke-width:4; stroke-opacity:1; fill:none\" points=\"\n",
       "  1989.74,327.952 2280.76,327.952 2280.76,206.992 1989.74,206.992 1989.74,327.952 \n",
       "  \"/>\n",
       "<polyline clip-path=\"url(#clip170)\" style=\"stroke:#009af9; stroke-width:4; stroke-opacity:1; fill:none\" points=\"\n",
       "  2013.74,267.472 2157.74,267.472 \n",
       "  \"/>\n",
       "<path clip-path=\"url(#clip170)\" d=\"M 0 0 M2195.58 287.16 Q2193.77 291.789 2192.06 293.201 Q2190.35 294.613 2187.48 294.613 L2184.08 294.613 L2184.08 291.048 L2186.58 291.048 Q2188.33 291.048 2189.31 290.215 Q2190.28 289.382 2191.46 286.28 L2192.22 284.335 L2181.74 258.826 L2186.25 258.826 L2194.35 279.104 L2202.46 258.826 L2206.97 258.826 L2195.58 287.16 Z\" fill=\"#000000\" fill-rule=\"evenodd\" fill-opacity=\"1\" /><path clip-path=\"url(#clip170)\" d=\"M 0 0 M2212.85 280.817 L2220.49 280.817 L2220.49 254.451 L2212.18 256.118 L2212.18 251.859 L2220.44 250.192 L2225.12 250.192 L2225.12 280.817 L2232.76 280.817 L2232.76 284.752 L2212.85 284.752 L2212.85 280.817 Z\" fill=\"#000000\" fill-rule=\"evenodd\" fill-opacity=\"1\" /></svg>\n"
      ]
     },
     "execution_count": 24,
     "metadata": {},
     "output_type": "execute_result"
    }
   ],
   "source": [
    "fz(x, y) = objective([x, y])\n",
    "my_guess, liste_generations, liste_fitness = not_plot_obj_cmaes(1000)\n",
    "\n",
    "println(-1*evaluate_bird(my_guess))\n",
    "println(my_guess)\n",
    "\n",
    "plot(liste_generations, liste_fitness, title = \"Evolution de la fitness pour CMA-ES\")\n",
    "xlabel!(\"Génération\")\n",
    "ylabel!(\"Fitness du meilleur individu\")"
   ]
  },
  {
   "cell_type": "markdown",
   "metadata": {},
   "source": [
    "\n",
    "\n",
    "## II. ES (mu/signam, lambda)\n"
   ]
  },
  {
   "cell_type": "code",
   "execution_count": 15,
   "metadata": {},
   "outputs": [
    {
     "data": {
      "text/plain": [
       "2-element Array{Float64,1}:\n",
       " -0.704886158616042 \n",
       "  0.7470083670605645"
      ]
     },
     "execution_count": 15,
     "metadata": {},
     "output_type": "execute_result"
    }
   ],
   "source": [
    "npop = 50     # population size\n",
    "sigma = 0.1   # noise standard deviation\n",
    "alpha = 0.001 # step size\n",
    "x = randn(2)  # initial expert"
   ]
  },
  {
   "cell_type": "code",
   "execution_count": 16,
   "metadata": {},
   "outputs": [
    {
     "data": {
      "text/plain": [
       "step_es (generic function with 1 method)"
      ]
     },
     "execution_count": 16,
     "metadata": {},
     "output_type": "execute_result"
    }
   ],
   "source": [
    "xs = -5.0:0.1:5.0\n",
    "ys = -5.0:0.1:5.0\n",
    "#fz(x, y) = objective([x, y]);\n",
    "\n",
    "function step_es(x::Array{Float64}; npop=50, sigma=0.1, alpha=0.01, visualize=false, anim=Nothing)\n",
    "    N = randn(npop, 2)\n",
    "    P = repeat(x, 1, npop)' .+ sigma .* N\n",
    "    R = zeros(npop)\n",
    "    for i in eachindex(R)\n",
    "        R[i] = objective(P[i, :]) #evaluation\n",
    "    end\n",
    "    A = (R .- mean(R)) ./ std(R) #the selection is done here: we are giving a higher porbability to individuals that did well\n",
    "    \n",
    "    if visualize\n",
    "        plot(xs, ys, fz, st=:contour)\n",
    "        scatter!(P[:, 1], P[:, 2], xlims=(-5, 5), ylims=(-5, 5), zcolor=R)\n",
    "        scatter!([x[1]], [x[2]], legend=:none, color=:black, marker=:rect)\n",
    "        frame(anim)\n",
    "    end\n",
    "    \n",
    "    x .+ alpha/(npop * sigma) .* [dot(N[:, i], A) for i in 1:size(N, 2)] #modification step: changing the center of gravity\n",
    "end"
   ]
  },
  {
   "cell_type": "code",
   "execution_count": 17,
   "metadata": {},
   "outputs": [
    {
     "data": {
      "text/plain": [
       "plot_obj_es (generic function with 1 method)"
      ]
     },
     "execution_count": 17,
     "metadata": {},
     "output_type": "execute_result"
    }
   ],
   "source": [
    "function plot_obj_es()\n",
    "    x = randn(2) #initial population: which is a single point\n",
    "    println(\"x initial: \", x)\n",
    "    anim = Animation()\n",
    "    for i in 1:500\n",
    "        v = mod(i, 10) == 0\n",
    "        x = step_es(x, npop=50, sigma=0.1, alpha=0.001, visualize=v, anim=anim)\n",
    "    end\n",
    "    println(\"x final: \", x)\n",
    "    gif(anim)\n",
    "end"
   ]
  },
  {
   "cell_type": "code",
   "execution_count": 18,
   "metadata": {},
   "outputs": [
    {
     "ename": "UndefVarError",
     "evalue": "UndefVarError: solution not defined",
     "output_type": "error",
     "traceback": [
      "UndefVarError: solution not defined",
      "",
      "Stacktrace:",
      " [1] top-level scope at In[18]:3"
     ]
    }
   ],
   "source": [
    "xs = -5.0:0.1:5.0\n",
    "ys = -5.0:0.1:5.0\n",
    "\n",
    "#fz(x, y) = objective_es([x, y])\n",
    "println(solution) # optimal for sphere and rastrigin\n",
    "#plot_obj_cmaes()"
   ]
  }
 ],
 "metadata": {
  "@webio": {
   "lastCommId": null,
   "lastKernelId": null
  },
  "kernelspec": {
   "display_name": "Julia 1.3.1",
   "language": "julia",
   "name": "julia-1.3"
  },
  "language_info": {
   "file_extension": ".jl",
   "mimetype": "application/julia",
   "name": "julia",
   "version": "1.3.1"
  }
 },
 "nbformat": 4,
 "nbformat_minor": 2
}
