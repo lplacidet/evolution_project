{
 "cells": [
  {
   "cell_type": "markdown",
   "metadata": {},
   "source": [
    "\n",
    "\n",
    "# Project: Comparison of Existing Algorithms applied on Flappy Bird\n",
    "\n",
    "<a href=\"https://github.com/lplacidet/evolution_project\">https://github.com/lplacidet/evolution_project</a>"
   ]
  },
  {
   "cell_type": "markdown",
   "metadata": {},
   "source": [
    "Importing Libraries"
   ]
  },
  {
   "cell_type": "code",
   "execution_count": 1,
   "metadata": {},
   "outputs": [
    {
     "data": {
      "text/plain": [
       "Plots.GRBackend()"
      ]
     },
     "execution_count": 1,
     "metadata": {},
     "output_type": "execute_result"
    }
   ],
   "source": [
    "using Random\n",
    "using LinearAlgebra\n",
    "using Statistics\n",
    "using Plots\n",
    "\n",
    "using Cxx, Libdl\n",
    "\n",
    "gr(reuse=true)"
   ]
  },
  {
   "cell_type": "code",
   "execution_count": 2,
   "metadata": {},
   "outputs": [
    {
     "name": "stdout",
     "output_type": "stream",
     "text": [
      "ggre-gg"
     ]
    }
   ],
   "source": [
    "const path_to_lib = pwd()\n",
    "addHeaderDir(path_to_lib*\"/world/\", kind=C_System)\n",
    "cxxinclude(\"runWorld.h\")\n",
    "print(\"gg\")\n",
    "#objective = @cxx FlappyXP->evaluate\n",
    "print(\"re-gg\")"
   ]
  },
  {
   "cell_type": "code",
   "execution_count": 3,
   "metadata": {},
   "outputs": [
    {
     "data": {
      "text/plain": [
       "Individu"
      ]
     },
     "execution_count": 3,
     "metadata": {},
     "output_type": "execute_result"
    }
   ],
   "source": [
    "mutable struct Individu\n",
    "    genes::Array{Float64}\n",
    "    fitness::Float64\n",
    "end\n",
    "\n",
    "function Individu(n::Int)\n",
    "    newgenes = [0.0,0.0,0.0,0.0]\n",
    "    for i in 1:4\n",
    "        newgenes[i] = rand()\n",
    "    end\n",
    "    Individu(newgenes, -Inf)\n",
    "end "
   ]
  },
  {
   "cell_type": "code",
   "execution_count": 4,
   "metadata": {},
   "outputs": [
    {
     "data": {
      "text/plain": [
       "true"
      ]
     },
     "execution_count": 4,
     "metadata": {},
     "output_type": "execute_result"
    }
   ],
   "source": [
    "cxx\"\"\"\n",
    "\n",
    "static double evaluate_bird(float g1, float g2, float g3, float g4) {\n",
    "float ind[4] = {g1,g2,g3,g4};\n",
    "bool dbg = false;\n",
    "#ifdef DISPLAY\n",
    "\tinitscr();\n",
    "\ttimeout(0);\n",
    "\tnoecho();\n",
    "\tcurs_set(FALSE);\n",
    "#endif\n",
    "\tconst int NRUN = 3;\n",
    "\tauto &g = ind;\n",
    "\tdouble d = 0;\n",
    "\tfor (int r = 0; r < NRUN; ++r) {\n",
    "\t\tWorld world;\n",
    "\t\tworld.gen.seed(r * 100);\n",
    "\t\twhile (world.bestiau.vivant) {\n",
    "#ifdef DISPLAY\n",
    "            std::this_thread::sleep_for(std::chrono::milliseconds(25));\n",
    "            display(world, world.dist == 0);\n",
    "#endif\n",
    "            world.update();\n",
    "            // update inputs\n",
    "            float birdY = world.bestiau.y;\n",
    "            float birdVY = world.bestiau.vit;\n",
    "            float obsX;\n",
    "            float obsY;\n",
    "            if (world.obstacles.size() > 0) {\n",
    "                const auto &o = world.obstacles.front();\n",
    "                obsY = o.y + world.hauteurPassage * 0.5;\n",
    "                obsX = o.x / world.W;\n",
    "            } else {\n",
    "                obsY = world.H * 0.5;\n",
    "                obsX = 1000.0;\n",
    "            }\n",
    "            //if ((g[0]*birdY+g[1]*birdVY+g[2]*obsX+g[3]*obsY)>1.0) world.bestiauUp();\n",
    "            if ((g[0]*(birdY-obsY)+g[1]*birdY+g[2]*obsX+g[3]*birdVY)>1.0) world.bestiauUp();\n",
    "        }\n",
    "        d += world.dist;\n",
    "        d += 0.01*abs(world.bestiau.y-world.obstacles.front().y);\n",
    "    }\n",
    "#ifdef DISPLAY\n",
    "    endwin();\n",
    "#endif\n",
    "    return d;\n",
    "}\n",
    "\"\"\""
   ]
  },
  {
   "cell_type": "code",
   "execution_count": 5,
   "metadata": {},
   "outputs": [
    {
     "data": {
      "text/plain": [
       "cpptojulia (generic function with 1 method)"
      ]
     },
     "execution_count": 5,
     "metadata": {},
     "output_type": "execute_result"
    }
   ],
   "source": [
    "cpptojulia(g1::Float64, g2::Float64, g3::Float64, g4::Float64) = @cxx evaluate_bird(g1,g2,g3,g4)"
   ]
  },
  {
   "cell_type": "code",
   "execution_count": 6,
   "metadata": {},
   "outputs": [
    {
     "data": {
      "text/plain": [
       "evaluate_bird (generic function with 1 method)"
      ]
     },
     "execution_count": 6,
     "metadata": {},
     "output_type": "execute_result"
    }
   ],
   "source": [
    "function evaluate_bird(g::Array{Float64})\n",
    "    cpptojulia(g[1],g[2],g[3],g[4])\n",
    "end"
   ]
  },
  {
   "cell_type": "code",
   "execution_count": null,
   "metadata": {},
   "outputs": [],
   "source": [
    "test_ind = Individu(4)\n",
    "println(test_ind)\n",
    "cpptojulia(test_ind.genes[1], test_ind.genes[2],test_ind.genes[3], test_ind.genes[4])"
   ]
  },
  {
   "cell_type": "markdown",
   "metadata": {},
   "source": [
    "\n",
    "\n",
    "## I. CMA-ES Algorithm\n"
   ]
  },
  {
   "cell_type": "code",
   "execution_count": null,
   "metadata": {},
   "outputs": [],
   "source": [
    "solution = [3.5, -0.2]\n",
    "sphere(x::Array{Float64}) = sum((x .- solution).^2)\n",
    "himmelblau(x::Array{Float64}) = (x[1]^2 + x[2] - 11)^2 + (x[1] + x[2]^2 - 7)^2\n",
    "styblinski_tang(x::Array{Float64}) = sum(x.^4 .- 16 .* x.^2 .+ 5 .* x) / 2.0\n",
    "rastrigin(x::Array{Float64}) = 10.0 * length(x) .+ sum((x .- solution).^2 .- 10 .* cos.(2*pi.*(x .- solution)))"
   ]
  },
  {
   "cell_type": "code",
   "execution_count": null,
   "metadata": {},
   "outputs": [],
   "source": [
    "mutable struct CMAES\n",
    "    N::Int\n",
    "    μ::Int\n",
    "    λ::Int\n",
    "    τ::Float64\n",
    "    τ_c::Float64\n",
    "    τ_σ::Float64\n",
    "    population::Array{Array{Float64}}\n",
    "    offspring::Array{Array{Float64}}\n",
    "    F_μ::Array{Float64}\n",
    "    F_λ::Array{Float64}\n",
    "    C::Array{Float64}\n",
    "    s::Array{Float64}\n",
    "    s_σ::Array{Float64}\n",
    "    σ::Float64\n",
    "    E::Array{Float64}\n",
    "    W::Array{Float64}\n",
    "    x::Array{Float64}\n",
    "end"
   ]
  },
  {
   "cell_type": "code",
   "execution_count": null,
   "metadata": {},
   "outputs": [],
   "source": [
    "N_value = 4\n",
    "mu = 5\n",
    "lambda = 150\n",
    "objective = evaluate_bird"
   ]
  },
  {
   "cell_type": "code",
   "execution_count": null,
   "metadata": {},
   "outputs": [],
   "source": [
    "function CMAES(;N=N_value, μ=mu, λ=lambda, τ=sqrt(N), τ_c=N^2, τ_σ=sqrt(N))\n",
    "    x = randn(N)\n",
    "    population = fill(x, µ)\n",
    "    offspring = Array{Array{Float64}}(undef, λ)\n",
    "    F_µ = Inf .* ones(µ)\n",
    "    F_λ = Inf .* ones(λ)\n",
    "    C = Array(Diagonal{Float64}(I, N))\n",
    "    s = zeros(N)\n",
    "    s_σ = zeros(N)\n",
    "    σ = 1.0\n",
    "    E = zeros(N, λ)\n",
    "    W = zeros(N, λ);\n",
    "    CMAES(N, μ, λ, τ, τ_c, τ_σ, population, offspring, F_µ, F_λ, C, s, s_σ, σ, E, W, x)\n",
    "end"
   ]
  },
  {
   "cell_type": "code",
   "execution_count": null,
   "metadata": {
    "scrolled": true
   },
   "outputs": [],
   "source": [
    "c = CMAES()"
   ]
  },
  {
   "cell_type": "code",
   "execution_count": null,
   "metadata": {},
   "outputs": [],
   "source": [
    "function step_cmaes!(c::CMAES; obj=objective, visualize=false, anim=Nothing)\n",
    "    # L1\n",
    "    sqrt_c = cholesky((c.C + c.C') / 2.0).U\n",
    "    for i in 1:c.λ\n",
    "        c.E[:,i] = randn(c.N)\n",
    "        c.W[:,i] = c.σ * (sqrt_c * c.E[:,i])\n",
    "        c.offspring[i] = c.x + c.W[:,i]\n",
    "        c.F_λ[i] =  obj(c.offspring[i])\n",
    "    end    \n",
    "    # Select new parent population\n",
    "    idx = sortperm(c.F_λ)[1:c.μ]\n",
    "    for i in 1:c.μ\n",
    "        c.population[i] = c.offspring[idx[i]]\n",
    "        c.F_μ[i] = c.F_λ[idx[i]]\n",
    "    end    \n",
    "    # L2\n",
    "    w = vec(mean(c.W[:,idx], dims=2))\n",
    "    c.x += w    \n",
    "    # L3\n",
    "    c.s = (1.0 - 1.0/c.τ)*c.s + (sqrt(c.μ/c.τ * (2.0 - 1.0/c.τ))/c.σ)*w   \n",
    "    # L4\n",
    "    c.C = (1.0 - 1.0/c.τ_c).*c.C + (c.s./c.τ_c)*c.s'    \n",
    "    # L5\n",
    "    ɛ = vec(mean(c.E[:,idx], dims=2))\n",
    "    c.s_σ = (1.0 - 1.0/c.τ_σ)*c.s_σ + sqrt(c.μ/c.τ_σ*(2.0 - 1.0/c.τ_σ))*ɛ    \n",
    "    # L6\n",
    "    c.σ = c.σ*exp(((c.s_σ'*c.s_σ)[1] - c.N)/(2*c.N*sqrt(c.N)))\n",
    "    if visualize\n",
    "        plot(xs, ys, fz, st=:contour)\n",
    "        scatter!([c.offspring[i][1] for i in 1:λ], [c.offspring[i][2] for i in 1:λ], \n",
    "            xlims=(-5, 5), ylims=(-5, 5), legend=:none)\n",
    "        scatter!([c.x[1]], [c.x[2]], color=:black, marker=:rect,\n",
    "            xlims=(-5, 5), ylims=(-5, 5), legend=:none)\n",
    "        frame(anim)\n",
    "    end\n",
    "    c\n",
    "end\n",
    "\n"
   ]
  },
  {
   "cell_type": "code",
   "execution_count": null,
   "metadata": {},
   "outputs": [],
   "source": [
    "c = CMAES()\n",
    "println(c.population[1])\n",
    "step_cmaes!(c)\n",
    "println(c.population[1])\n",
    "step_cmaes!(c)\n",
    "println(c.population[1])"
   ]
  },
  {
   "cell_type": "code",
   "execution_count": null,
   "metadata": {},
   "outputs": [],
   "source": [
    "function plot_obj_cmaes()\n",
    "    c = CMAES()\n",
    "    println(\"x initial: \", c.x)\n",
    "    anim = Animation()\n",
    "    for i in 1:100\n",
    "        v = mod(i, 1) == 0\n",
    "        step_cmaes!(c, visualize=v, anim=anim)\n",
    "    end\n",
    "    println(\"x final: \", c.x)\n",
    "    gif(anim)\n",
    "end"
   ]
  },
  {
   "cell_type": "code",
   "execution_count": null,
   "metadata": {},
   "outputs": [],
   "source": [
    "function not_plot_obj_cmaes(nbgen::Int)\n",
    "    c = CMAES()\n",
    "    for i in 1:nbgen\n",
    "        v = mod(i, 1) == 0\n",
    "        step_cmaes!(c, visualize=false)\n",
    "        if i%100==0\n",
    "            \n",
    "    end\n",
    "    c.x\n",
    "end"
   ]
  },
  {
   "cell_type": "code",
   "execution_count": null,
   "metadata": {},
   "outputs": [],
   "source": [
    "xs = -5.0:0.1:5.0\n",
    "ys = -5.0:0.1:5.0\n",
    "\n",
    "fz(x, y) = objective([x, y])\n",
    "my_guess = not_plot_obj_cmaes(1000)\n",
    "println(evaluate_bird(my_guess))\n",
    "my_guess"
   ]
  },
  {
   "cell_type": "markdown",
   "metadata": {},
   "source": [
    "\n",
    "\n",
    "## II. ES (mu/signam, lambda)\n"
   ]
  },
  {
   "cell_type": "code",
   "execution_count": null,
   "metadata": {},
   "outputs": [],
   "source": [
    "s = [3.5, -0.2]\n",
    "sphere(x::Array{Float64}) = -sum((x .- s).^2)\n"
   ]
  },
  {
   "cell_type": "code",
   "execution_count": null,
   "metadata": {},
   "outputs": [],
   "source": [
    "npop = 50     # population size\n",
    "sigma = 0.1   # noise standard deviation\n",
    "alpha = 0.001 # step size\n",
    "x = randn(2)  # initial expert"
   ]
  },
  {
   "cell_type": "code",
   "execution_count": null,
   "metadata": {},
   "outputs": [],
   "source": [
    "xs = -5.0:0.1:5.0\n",
    "ys = -5.0:0.1:5.0\n",
    "#fz(x, y) = objective([x, y]);\n",
    "\n",
    "function step_es(x::Array{Float64}; npop=50, sigma=0.1, alpha=0.01, visualize=false, anim=Nothing)\n",
    "    N = randn(npop, 2)\n",
    "    P = repeat(x, 1, npop)' .+ sigma .* N\n",
    "    R = zeros(npop)\n",
    "    for i in eachindex(R)\n",
    "        R[i] = objective(P[i, :]) #evaluation\n",
    "    end\n",
    "    A = (R .- mean(R)) ./ std(R) #the selection is done here: we are giving a higher porbability to individuals that did well\n",
    "    \n",
    "    if visualize\n",
    "        plot(xs, ys, fz, st=:contour)\n",
    "        scatter!(P[:, 1], P[:, 2], xlims=(-5, 5), ylims=(-5, 5), zcolor=R)\n",
    "        scatter!([x[1]], [x[2]], legend=:none, color=:black, marker=:rect)\n",
    "        frame(anim)\n",
    "    end\n",
    "    \n",
    "    x .+ alpha/(npop * sigma) .* [dot(N[:, i], A) for i in 1:size(N, 2)] #modification step: changing the center of gravity\n",
    "end"
   ]
  },
  {
   "cell_type": "code",
   "execution_count": null,
   "metadata": {},
   "outputs": [],
   "source": [
    "test_array = randn(4)\n",
    "println(test_array)\n",
    "norm1 = norm.(test_array)\n",
    "norm2 = norm(test_array)\n",
    "#norm3 = vecnorm.(test_array)\n",
    "#norm4 = vecnorm(test_array)\n",
    "println(norm1)\n",
    "println(norm2)\n",
    "#println(norm3)\n",
    "#println(norm4)\n",
    "\n",
    "println(1.0/0.0)\n",
    "println(isinf(1.0/0.0))"
   ]
  },
  {
   "cell_type": "code",
   "execution_count": 7,
   "metadata": {},
   "outputs": [
    {
     "data": {
      "text/plain": [
       "step_birds (generic function with 1 method)"
      ]
     },
     "execution_count": 7,
     "metadata": {},
     "output_type": "execute_result"
    }
   ],
   "source": [
    "function step_birds(best::Array{Float64};dim=4, npop=50, sigma=0.01, alpha=sigma/10)\n",
    "    N = randn(npop,dim)\n",
    "    P = repeat(best, 1, npop)' .+ sigma .* N\n",
    "    \"\"\"\n",
    "    println(\"P avant :\",P)\n",
    "    for i in eachindex(P[:,1])\n",
    "        P[i,:] = P[i,:]./norm(P[i,:])\n",
    "        if isinf(norm(P[i,:]))\n",
    "            println(\"whola j'suis bloque\")\n",
    "        end\n",
    "    end\n",
    "    println(\"P apres :\",P)\n",
    "    \"\"\"\n",
    "    R = zeros(npop)\n",
    "    for i in eachindex(R)\n",
    "        R[i] = objective(P[i, :]) #evaluation\n",
    "    end\n",
    "    \n",
    "    \n",
    "    #println(\"  R    :\", R)\n",
    "    \n",
    "    A = (R .- mean(R)) ./ std(R)\n",
    "    #println(\"____________________\")\n",
    "    #println(\" A :\", A)\n",
    "    #println(\"____________________\")\n",
    "    #println(\" N : \", N[:,1])\n",
    "    \n",
    "    test = dot(N[:, 1], A)\n",
    "    #println(\" test :\", test)\n",
    "    if isnan(test)\n",
    "        println(\"failed\")\n",
    "    end\n",
    "    mat = [dot(N[:, i], A) for i in 1:size(N, 2)]\n",
    "    #println(\"mat : \", mat)\n",
    "    #println(alpha/(npop * sigma) .* mat)\n",
    "    w = alpha/(npop * sigma) .* mat#[dot(N[:, i], A) for i in 1:size(N, dim)]\n",
    "    #println(\" w : \", w)\n",
    "    best = best .+ w #modification step: changing the center of gravity\n",
    "    best#./norm(best)\n",
    "end\n",
    "\n",
    "    "
   ]
  },
  {
   "cell_type": "code",
   "execution_count": 8,
   "metadata": {},
   "outputs": [
    {
     "data": {
      "text/plain": [
       "run_es_bird (generic function with 1 method)"
      ]
     },
     "execution_count": 8,
     "metadata": {},
     "output_type": "execute_result"
    }
   ],
   "source": [
    "function run_es_bird(;Nstep=500, Npop=100, Sigma=0.1)\n",
    "    dim = 4\n",
    "    best = randn(dim)\n",
    "    best = best./norm(best)\n",
    "    println(\"best initial: \", best)\n",
    "    dist = zeros(Nstep)\n",
    "    for i in 1:Nstep\n",
    "        best = step_birds(best, dim=dim, npop=Npop, sigma=Sigma)\n",
    "        #println(\"best: \", best)\n",
    "        #println(\"best norm: \", norm(best))\n",
    "        #println(\"dist max :\" , objective(best))\n",
    "        dist[i] = objective(best)\n",
    "        #if dist[i]>300\n",
    "         #   Sigma = 0.01\n",
    "        #end\n",
    "    end\n",
    "    println(\"best final: \", best)\n",
    "    println(\"best final dist: \", objective(best))\n",
    "    #best\n",
    "    dist\n",
    "end\n"
   ]
  },
  {
   "cell_type": "code",
   "execution_count": 22,
   "metadata": {},
   "outputs": [
    {
     "name": "stdout",
     "output_type": "stream",
     "text": [
      "best initial: [0.13272248948676033, -0.8352890302206623, 0.15801662400179187, -0.5096152699012646]\n",
      "best final: [-3.7213305024199714, -0.4641835291198645, -0.22766461888475142, -1.9079812858916654]\n",
      "best final dist: 330.2703473549643\n"
     ]
    },
    {
     "data": {
      "image/svg+xml": [
       "<?xml version=\"1.0\" encoding=\"utf-8\"?>\n",
       "<svg xmlns=\"http://www.w3.org/2000/svg\" xmlns:xlink=\"http://www.w3.org/1999/xlink\" width=\"600\" height=\"400\" viewBox=\"0 0 2400 1600\">\n",
       "<defs>\n",
       "  <clipPath id=\"clip770\">\n",
       "    <rect x=\"0\" y=\"0\" width=\"2400\" height=\"1600\"/>\n",
       "  </clipPath>\n",
       "</defs>\n",
       "<path clip-path=\"url(#clip770)\" d=\"\n",
       "M0 1600 L2400 1600 L2400 0 L0 0  Z\n",
       "  \" fill=\"#ffffff\" fill-rule=\"evenodd\" fill-opacity=\"1\"/>\n",
       "<defs>\n",
       "  <clipPath id=\"clip771\">\n",
       "    <rect x=\"480\" y=\"0\" width=\"1681\" height=\"1600\"/>\n",
       "  </clipPath>\n",
       "</defs>\n",
       "<path clip-path=\"url(#clip770)\" d=\"\n",
       "M163.774 1486.45 L2352.76 1486.45 L2352.76 47.2441 L163.774 47.2441  Z\n",
       "  \" fill=\"#ffffff\" fill-rule=\"evenodd\" fill-opacity=\"1\"/>\n",
       "<defs>\n",
       "  <clipPath id=\"clip772\">\n",
       "    <rect x=\"163\" y=\"47\" width=\"2190\" height=\"1440\"/>\n",
       "  </clipPath>\n",
       "</defs>\n",
       "<polyline clip-path=\"url(#clip772)\" style=\"stroke:#000000; stroke-width:2; stroke-opacity:0.1; fill:none\" points=\"\n",
       "  223.659,1486.45 223.659,47.2441 \n",
       "  \"/>\n",
       "<polyline clip-path=\"url(#clip772)\" style=\"stroke:#000000; stroke-width:2; stroke-opacity:0.1; fill:none\" points=\"\n",
       "  740.445,1486.45 740.445,47.2441 \n",
       "  \"/>\n",
       "<polyline clip-path=\"url(#clip772)\" style=\"stroke:#000000; stroke-width:2; stroke-opacity:0.1; fill:none\" points=\"\n",
       "  1257.23,1486.45 1257.23,47.2441 \n",
       "  \"/>\n",
       "<polyline clip-path=\"url(#clip772)\" style=\"stroke:#000000; stroke-width:2; stroke-opacity:0.1; fill:none\" points=\"\n",
       "  1774.02,1486.45 1774.02,47.2441 \n",
       "  \"/>\n",
       "<polyline clip-path=\"url(#clip772)\" style=\"stroke:#000000; stroke-width:2; stroke-opacity:0.1; fill:none\" points=\"\n",
       "  2290.8,1486.45 2290.8,47.2441 \n",
       "  \"/>\n",
       "<polyline clip-path=\"url(#clip772)\" style=\"stroke:#000000; stroke-width:2; stroke-opacity:0.1; fill:none\" points=\"\n",
       "  163.774,1450.05 2352.76,1450.05 \n",
       "  \"/>\n",
       "<polyline clip-path=\"url(#clip772)\" style=\"stroke:#000000; stroke-width:2; stroke-opacity:0.1; fill:none\" points=\"\n",
       "  163.774,1040.17 2352.76,1040.17 \n",
       "  \"/>\n",
       "<polyline clip-path=\"url(#clip772)\" style=\"stroke:#000000; stroke-width:2; stroke-opacity:0.1; fill:none\" points=\"\n",
       "  163.774,630.29 2352.76,630.29 \n",
       "  \"/>\n",
       "<polyline clip-path=\"url(#clip772)\" style=\"stroke:#000000; stroke-width:2; stroke-opacity:0.1; fill:none\" points=\"\n",
       "  163.774,220.411 2352.76,220.411 \n",
       "  \"/>\n",
       "<polyline clip-path=\"url(#clip770)\" style=\"stroke:#000000; stroke-width:4; stroke-opacity:1; fill:none\" points=\"\n",
       "  163.774,1486.45 2352.76,1486.45 \n",
       "  \"/>\n",
       "<polyline clip-path=\"url(#clip770)\" style=\"stroke:#000000; stroke-width:4; stroke-opacity:1; fill:none\" points=\"\n",
       "  163.774,1486.45 163.774,47.2441 \n",
       "  \"/>\n",
       "<polyline clip-path=\"url(#clip770)\" style=\"stroke:#000000; stroke-width:4; stroke-opacity:1; fill:none\" points=\"\n",
       "  223.659,1486.45 223.659,1469.18 \n",
       "  \"/>\n",
       "<polyline clip-path=\"url(#clip770)\" style=\"stroke:#000000; stroke-width:4; stroke-opacity:1; fill:none\" points=\"\n",
       "  740.445,1486.45 740.445,1469.18 \n",
       "  \"/>\n",
       "<polyline clip-path=\"url(#clip770)\" style=\"stroke:#000000; stroke-width:4; stroke-opacity:1; fill:none\" points=\"\n",
       "  1257.23,1486.45 1257.23,1469.18 \n",
       "  \"/>\n",
       "<polyline clip-path=\"url(#clip770)\" style=\"stroke:#000000; stroke-width:4; stroke-opacity:1; fill:none\" points=\"\n",
       "  1774.02,1486.45 1774.02,1469.18 \n",
       "  \"/>\n",
       "<polyline clip-path=\"url(#clip770)\" style=\"stroke:#000000; stroke-width:4; stroke-opacity:1; fill:none\" points=\"\n",
       "  2290.8,1486.45 2290.8,1469.18 \n",
       "  \"/>\n",
       "<polyline clip-path=\"url(#clip770)\" style=\"stroke:#000000; stroke-width:4; stroke-opacity:1; fill:none\" points=\"\n",
       "  163.774,1450.05 190.042,1450.05 \n",
       "  \"/>\n",
       "<polyline clip-path=\"url(#clip770)\" style=\"stroke:#000000; stroke-width:4; stroke-opacity:1; fill:none\" points=\"\n",
       "  163.774,1040.17 190.042,1040.17 \n",
       "  \"/>\n",
       "<polyline clip-path=\"url(#clip770)\" style=\"stroke:#000000; stroke-width:4; stroke-opacity:1; fill:none\" points=\"\n",
       "  163.774,630.29 190.042,630.29 \n",
       "  \"/>\n",
       "<polyline clip-path=\"url(#clip770)\" style=\"stroke:#000000; stroke-width:4; stroke-opacity:1; fill:none\" points=\"\n",
       "  163.774,220.411 190.042,220.411 \n",
       "  \"/>\n",
       "<path clip-path=\"url(#clip770)\" d=\"M 0 0 M223.659 1508.44 Q220.048 1508.44 218.22 1512 Q216.414 1515.55 216.414 1522.67 Q216.414 1529.78 218.22 1533.35 Q220.048 1536.89 223.659 1536.89 Q227.294 1536.89 229.099 1533.35 Q230.928 1529.78 230.928 1522.67 Q230.928 1515.55 229.099 1512 Q227.294 1508.44 223.659 1508.44 M223.659 1504.73 Q229.469 1504.73 232.525 1509.34 Q235.604 1513.92 235.604 1522.67 Q235.604 1531.4 232.525 1536.01 Q229.469 1540.59 223.659 1540.59 Q217.849 1540.59 214.77 1536.01 Q211.715 1531.4 211.715 1522.67 Q211.715 1513.92 214.77 1509.34 Q217.849 1504.73 223.659 1504.73 Z\" fill=\"#000000\" fill-rule=\"evenodd\" fill-opacity=\"1\" /><path clip-path=\"url(#clip770)\" d=\"M 0 0 M708.582 1535.98 L724.901 1535.98 L724.901 1539.92 L702.957 1539.92 L702.957 1535.98 Q705.619 1533.23 710.202 1528.6 Q714.809 1523.95 715.989 1522.61 Q718.235 1520.08 719.114 1518.35 Q720.017 1516.59 720.017 1514.9 Q720.017 1512.14 718.073 1510.41 Q716.152 1508.67 713.05 1508.67 Q710.851 1508.67 708.397 1509.43 Q705.966 1510.2 703.189 1511.75 L703.189 1507.03 Q706.013 1505.89 708.466 1505.31 Q710.92 1504.73 712.957 1504.73 Q718.327 1504.73 721.522 1507.42 Q724.716 1510.11 724.716 1514.6 Q724.716 1516.73 723.906 1518.65 Q723.119 1520.54 721.013 1523.14 Q720.434 1523.81 717.332 1527.03 Q714.23 1530.22 708.582 1535.98 Z\" fill=\"#000000\" fill-rule=\"evenodd\" fill-opacity=\"1\" /><path clip-path=\"url(#clip770)\" d=\"M 0 0 M730.017 1505.36 L748.374 1505.36 L748.374 1509.3 L734.3 1509.3 L734.3 1517.77 Q735.318 1517.42 736.337 1517.26 Q737.355 1517.07 738.374 1517.07 Q744.161 1517.07 747.54 1520.24 Q750.92 1523.42 750.92 1528.83 Q750.92 1534.41 747.448 1537.51 Q743.975 1540.59 737.656 1540.59 Q735.48 1540.59 733.212 1540.22 Q730.966 1539.85 728.559 1539.11 L728.559 1534.41 Q730.642 1535.54 732.864 1536.1 Q735.087 1536.66 737.563 1536.66 Q741.568 1536.66 743.906 1534.55 Q746.244 1532.44 746.244 1528.83 Q746.244 1525.22 743.906 1523.11 Q741.568 1521.01 737.563 1521.01 Q735.688 1521.01 733.813 1521.42 Q731.962 1521.84 730.017 1522.72 L730.017 1505.36 Z\" fill=\"#000000\" fill-rule=\"evenodd\" fill-opacity=\"1\" /><path clip-path=\"url(#clip770)\" d=\"M 0 0 M765.989 1508.44 Q762.378 1508.44 760.549 1512 Q758.744 1515.55 758.744 1522.67 Q758.744 1529.78 760.549 1533.35 Q762.378 1536.89 765.989 1536.89 Q769.623 1536.89 771.429 1533.35 Q773.258 1529.78 773.258 1522.67 Q773.258 1515.55 771.429 1512 Q769.623 1508.44 765.989 1508.44 M765.989 1504.73 Q771.799 1504.73 774.855 1509.34 Q777.934 1513.92 777.934 1522.67 Q777.934 1531.4 774.855 1536.01 Q771.799 1540.59 765.989 1540.59 Q760.179 1540.59 757.1 1536.01 Q754.045 1531.4 754.045 1522.67 Q754.045 1513.92 757.1 1509.34 Q760.179 1504.73 765.989 1504.73 Z\" fill=\"#000000\" fill-rule=\"evenodd\" fill-opacity=\"1\" /><path clip-path=\"url(#clip770)\" d=\"M 0 0 M1220.5 1505.36 L1238.85 1505.36 L1238.85 1509.3 L1224.78 1509.3 L1224.78 1517.77 Q1225.8 1517.42 1226.81 1517.26 Q1227.83 1517.07 1228.85 1517.07 Q1234.64 1517.07 1238.02 1520.24 Q1241.4 1523.42 1241.4 1528.83 Q1241.4 1534.41 1237.93 1537.51 Q1234.45 1540.59 1228.13 1540.59 Q1225.96 1540.59 1223.69 1540.22 Q1221.44 1539.85 1219.04 1539.11 L1219.04 1534.41 Q1221.12 1535.54 1223.34 1536.1 Q1225.56 1536.66 1228.04 1536.66 Q1232.05 1536.66 1234.38 1534.55 Q1236.72 1532.44 1236.72 1528.83 Q1236.72 1525.22 1234.38 1523.11 Q1232.05 1521.01 1228.04 1521.01 Q1226.17 1521.01 1224.29 1521.42 Q1222.44 1521.84 1220.5 1522.72 L1220.5 1505.36 Z\" fill=\"#000000\" fill-rule=\"evenodd\" fill-opacity=\"1\" /><path clip-path=\"url(#clip770)\" d=\"M 0 0 M1256.47 1508.44 Q1252.86 1508.44 1251.03 1512 Q1249.22 1515.55 1249.22 1522.67 Q1249.22 1529.78 1251.03 1533.35 Q1252.86 1536.89 1256.47 1536.89 Q1260.1 1536.89 1261.91 1533.35 Q1263.74 1529.78 1263.74 1522.67 Q1263.74 1515.55 1261.91 1512 Q1260.1 1508.44 1256.47 1508.44 M1256.47 1504.73 Q1262.28 1504.73 1265.33 1509.34 Q1268.41 1513.92 1268.41 1522.67 Q1268.41 1531.4 1265.33 1536.01 Q1262.28 1540.59 1256.47 1540.59 Q1250.66 1540.59 1247.58 1536.01 Q1244.52 1531.4 1244.52 1522.67 Q1244.52 1513.92 1247.58 1509.34 Q1250.66 1504.73 1256.47 1504.73 Z\" fill=\"#000000\" fill-rule=\"evenodd\" fill-opacity=\"1\" /><path clip-path=\"url(#clip770)\" d=\"M 0 0 M1283.48 1508.44 Q1279.87 1508.44 1278.04 1512 Q1276.24 1515.55 1276.24 1522.67 Q1276.24 1529.78 1278.04 1533.35 Q1279.87 1536.89 1283.48 1536.89 Q1287.12 1536.89 1288.92 1533.35 Q1290.75 1529.78 1290.75 1522.67 Q1290.75 1515.55 1288.92 1512 Q1287.12 1508.44 1283.48 1508.44 M1283.48 1504.73 Q1289.29 1504.73 1292.35 1509.34 Q1295.43 1513.92 1295.43 1522.67 Q1295.43 1531.4 1292.35 1536.01 Q1289.29 1540.59 1283.48 1540.59 Q1277.67 1540.59 1274.59 1536.01 Q1271.54 1531.4 1271.54 1522.67 Q1271.54 1513.92 1274.59 1509.34 Q1277.67 1504.73 1283.48 1504.73 Z\" fill=\"#000000\" fill-rule=\"evenodd\" fill-opacity=\"1\" /><path clip-path=\"url(#clip770)\" d=\"M 0 0 M1736.39 1505.36 L1758.61 1505.36 L1758.61 1507.35 L1746.07 1539.92 L1741.18 1539.92 L1752.99 1509.3 L1736.39 1509.3 L1736.39 1505.36 Z\" fill=\"#000000\" fill-rule=\"evenodd\" fill-opacity=\"1\" /><path clip-path=\"url(#clip770)\" d=\"M 0 0 M1763.73 1505.36 L1782.08 1505.36 L1782.08 1509.3 L1768.01 1509.3 L1768.01 1517.77 Q1769.03 1517.42 1770.05 1517.26 Q1771.07 1517.07 1772.08 1517.07 Q1777.87 1517.07 1781.25 1520.24 Q1784.63 1523.42 1784.63 1528.83 Q1784.63 1534.41 1781.16 1537.51 Q1777.69 1540.59 1771.37 1540.59 Q1769.19 1540.59 1766.92 1540.22 Q1764.68 1539.85 1762.27 1539.11 L1762.27 1534.41 Q1764.35 1535.54 1766.58 1536.1 Q1768.8 1536.66 1771.27 1536.66 Q1775.28 1536.66 1777.62 1534.55 Q1779.95 1532.44 1779.95 1528.83 Q1779.95 1525.22 1777.62 1523.11 Q1775.28 1521.01 1771.27 1521.01 Q1769.4 1521.01 1767.52 1521.42 Q1765.67 1521.84 1763.73 1522.72 L1763.73 1505.36 Z\" fill=\"#000000\" fill-rule=\"evenodd\" fill-opacity=\"1\" /><path clip-path=\"url(#clip770)\" d=\"M 0 0 M1799.7 1508.44 Q1796.09 1508.44 1794.26 1512 Q1792.45 1515.55 1792.45 1522.67 Q1792.45 1529.78 1794.26 1533.35 Q1796.09 1536.89 1799.7 1536.89 Q1803.33 1536.89 1805.14 1533.35 Q1806.97 1529.78 1806.97 1522.67 Q1806.97 1515.55 1805.14 1512 Q1803.33 1508.44 1799.7 1508.44 M1799.7 1504.73 Q1805.51 1504.73 1808.57 1509.34 Q1811.64 1513.92 1811.64 1522.67 Q1811.64 1531.4 1808.57 1536.01 Q1805.51 1540.59 1799.7 1540.59 Q1793.89 1540.59 1790.81 1536.01 Q1787.76 1531.4 1787.76 1522.67 Q1787.76 1513.92 1790.81 1509.34 Q1793.89 1504.73 1799.7 1504.73 Z\" fill=\"#000000\" fill-rule=\"evenodd\" fill-opacity=\"1\" /><path clip-path=\"url(#clip770)\" d=\"M 0 0 M2240.66 1535.98 L2248.3 1535.98 L2248.3 1509.62 L2239.99 1511.29 L2239.99 1507.03 L2248.26 1505.36 L2252.93 1505.36 L2252.93 1535.98 L2260.57 1535.98 L2260.57 1539.92 L2240.66 1539.92 L2240.66 1535.98 Z\" fill=\"#000000\" fill-rule=\"evenodd\" fill-opacity=\"1\" /><path clip-path=\"url(#clip770)\" d=\"M 0 0 M2275.64 1508.44 Q2272.03 1508.44 2270.2 1512 Q2268.4 1515.55 2268.4 1522.67 Q2268.4 1529.78 2270.2 1533.35 Q2272.03 1536.89 2275.64 1536.89 Q2279.28 1536.89 2281.08 1533.35 Q2282.91 1529.78 2282.91 1522.67 Q2282.91 1515.55 2281.08 1512 Q2279.28 1508.44 2275.64 1508.44 M2275.64 1504.73 Q2281.45 1504.73 2284.51 1509.34 Q2287.59 1513.92 2287.59 1522.67 Q2287.59 1531.4 2284.51 1536.01 Q2281.45 1540.59 2275.64 1540.59 Q2269.83 1540.59 2266.75 1536.01 Q2263.7 1531.4 2263.7 1522.67 Q2263.7 1513.92 2266.75 1509.34 Q2269.83 1504.73 2275.64 1504.73 Z\" fill=\"#000000\" fill-rule=\"evenodd\" fill-opacity=\"1\" /><path clip-path=\"url(#clip770)\" d=\"M 0 0 M2302.66 1508.44 Q2299.04 1508.44 2297.22 1512 Q2295.41 1515.55 2295.41 1522.67 Q2295.41 1529.78 2297.22 1533.35 Q2299.04 1536.89 2302.66 1536.89 Q2306.29 1536.89 2308.1 1533.35 Q2309.92 1529.78 2309.92 1522.67 Q2309.92 1515.55 2308.1 1512 Q2306.29 1508.44 2302.66 1508.44 M2302.66 1504.73 Q2308.47 1504.73 2311.52 1509.34 Q2314.6 1513.92 2314.6 1522.67 Q2314.6 1531.4 2311.52 1536.01 Q2308.47 1540.59 2302.66 1540.59 Q2296.85 1540.59 2293.77 1536.01 Q2290.71 1531.4 2290.71 1522.67 Q2290.71 1513.92 2293.77 1509.34 Q2296.85 1504.73 2302.66 1504.73 Z\" fill=\"#000000\" fill-rule=\"evenodd\" fill-opacity=\"1\" /><path clip-path=\"url(#clip770)\" d=\"M 0 0 M2329.67 1508.44 Q2326.06 1508.44 2324.23 1512 Q2322.42 1515.55 2322.42 1522.67 Q2322.42 1529.78 2324.23 1533.35 Q2326.06 1536.89 2329.67 1536.89 Q2333.3 1536.89 2335.11 1533.35 Q2336.94 1529.78 2336.94 1522.67 Q2336.94 1515.55 2335.11 1512 Q2333.3 1508.44 2329.67 1508.44 M2329.67 1504.73 Q2335.48 1504.73 2338.53 1509.34 Q2341.61 1513.92 2341.61 1522.67 Q2341.61 1531.4 2338.53 1536.01 Q2335.48 1540.59 2329.67 1540.59 Q2323.86 1540.59 2320.78 1536.01 Q2317.72 1531.4 2317.72 1522.67 Q2317.72 1513.92 2320.78 1509.34 Q2323.86 1504.73 2329.67 1504.73 Z\" fill=\"#000000\" fill-rule=\"evenodd\" fill-opacity=\"1\" /><path clip-path=\"url(#clip770)\" d=\"M 0 0 M127.83 1435.85 Q124.219 1435.85 122.39 1439.41 Q120.584 1442.95 120.584 1450.08 Q120.584 1457.19 122.39 1460.75 Q124.219 1464.29 127.83 1464.29 Q131.464 1464.29 133.27 1460.75 Q135.098 1457.19 135.098 1450.08 Q135.098 1442.95 133.27 1439.41 Q131.464 1435.85 127.83 1435.85 M127.83 1432.14 Q133.64 1432.14 136.695 1436.75 Q139.774 1441.33 139.774 1450.08 Q139.774 1458.81 136.695 1463.42 Q133.64 1468 127.83 1468 Q122.02 1468 118.941 1463.42 Q115.885 1458.81 115.885 1450.08 Q115.885 1441.33 118.941 1436.75 Q122.02 1432.14 127.83 1432.14 Z\" fill=\"#000000\" fill-rule=\"evenodd\" fill-opacity=\"1\" /><path clip-path=\"url(#clip770)\" d=\"M 0 0 M65.8393 1053.51 L73.4782 1053.51 L73.4782 1027.15 L65.168 1028.81 L65.168 1024.56 L73.4319 1022.89 L78.1078 1022.89 L78.1078 1053.51 L85.7466 1053.51 L85.7466 1057.45 L65.8393 1057.45 L65.8393 1053.51 Z\" fill=\"#000000\" fill-rule=\"evenodd\" fill-opacity=\"1\" /><path clip-path=\"url(#clip770)\" d=\"M 0 0 M100.816 1025.97 Q97.2049 1025.97 95.3762 1029.53 Q93.5707 1033.07 93.5707 1040.2 Q93.5707 1047.31 95.3762 1050.87 Q97.2049 1054.42 100.816 1054.42 Q104.45 1054.42 106.256 1050.87 Q108.084 1047.31 108.084 1040.2 Q108.084 1033.07 106.256 1029.53 Q104.45 1025.97 100.816 1025.97 M100.816 1022.26 Q106.626 1022.26 109.682 1026.87 Q112.76 1031.45 112.76 1040.2 Q112.76 1048.93 109.682 1053.54 Q106.626 1058.12 100.816 1058.12 Q95.0058 1058.12 91.9272 1053.54 Q88.8716 1048.93 88.8716 1040.2 Q88.8716 1031.45 91.9272 1026.87 Q95.0058 1022.26 100.816 1022.26 Z\" fill=\"#000000\" fill-rule=\"evenodd\" fill-opacity=\"1\" /><path clip-path=\"url(#clip770)\" d=\"M 0 0 M127.83 1025.97 Q124.219 1025.97 122.39 1029.53 Q120.584 1033.07 120.584 1040.2 Q120.584 1047.31 122.39 1050.87 Q124.219 1054.42 127.83 1054.42 Q131.464 1054.42 133.27 1050.87 Q135.098 1047.31 135.098 1040.2 Q135.098 1033.07 133.27 1029.53 Q131.464 1025.97 127.83 1025.97 M127.83 1022.26 Q133.64 1022.26 136.695 1026.87 Q139.774 1031.45 139.774 1040.2 Q139.774 1048.93 136.695 1053.54 Q133.64 1058.12 127.83 1058.12 Q122.02 1058.12 118.941 1053.54 Q115.885 1048.93 115.885 1040.2 Q115.885 1031.45 118.941 1026.87 Q122.02 1022.26 127.83 1022.26 Z\" fill=\"#000000\" fill-rule=\"evenodd\" fill-opacity=\"1\" /><path clip-path=\"url(#clip770)\" d=\"M 0 0 M69.4273 643.635 L85.7466 643.635 L85.7466 647.57 L63.8023 647.57 L63.8023 643.635 Q66.4643 640.88 71.0476 636.251 Q75.6541 631.598 76.8346 630.255 Q79.08 627.732 79.9596 625.996 Q80.8624 624.237 80.8624 622.547 Q80.8624 619.792 78.918 618.056 Q76.9967 616.32 73.8948 616.32 Q71.6958 616.32 69.2421 617.084 Q66.8115 617.848 64.0338 619.399 L64.0338 614.677 Q66.8578 613.542 69.3115 612.964 Q71.7652 612.385 73.8023 612.385 Q79.1726 612.385 82.367 615.07 Q85.5614 617.755 85.5614 622.246 Q85.5614 624.376 84.7513 626.297 Q83.9642 628.195 81.8578 630.788 Q81.2791 631.459 78.1772 634.676 Q75.0754 637.871 69.4273 643.635 Z\" fill=\"#000000\" fill-rule=\"evenodd\" fill-opacity=\"1\" /><path clip-path=\"url(#clip770)\" d=\"M 0 0 M100.816 616.089 Q97.2049 616.089 95.3762 619.653 Q93.5707 623.195 93.5707 630.325 Q93.5707 637.431 95.3762 640.996 Q97.2049 644.538 100.816 644.538 Q104.45 644.538 106.256 640.996 Q108.084 637.431 108.084 630.325 Q108.084 623.195 106.256 619.653 Q104.45 616.089 100.816 616.089 M100.816 612.385 Q106.626 612.385 109.682 616.991 Q112.76 621.575 112.76 630.325 Q112.76 639.051 109.682 643.658 Q106.626 648.241 100.816 648.241 Q95.0058 648.241 91.9272 643.658 Q88.8716 639.051 88.8716 630.325 Q88.8716 621.575 91.9272 616.991 Q95.0058 612.385 100.816 612.385 Z\" fill=\"#000000\" fill-rule=\"evenodd\" fill-opacity=\"1\" /><path clip-path=\"url(#clip770)\" d=\"M 0 0 M127.83 616.089 Q124.219 616.089 122.39 619.653 Q120.584 623.195 120.584 630.325 Q120.584 637.431 122.39 640.996 Q124.219 644.538 127.83 644.538 Q131.464 644.538 133.27 640.996 Q135.098 637.431 135.098 630.325 Q135.098 623.195 133.27 619.653 Q131.464 616.089 127.83 616.089 M127.83 612.385 Q133.64 612.385 136.695 616.991 Q139.774 621.575 139.774 630.325 Q139.774 639.051 136.695 643.658 Q133.64 648.241 127.83 648.241 Q122.02 648.241 118.941 643.658 Q115.885 639.051 115.885 630.325 Q115.885 621.575 118.941 616.991 Q122.02 612.385 127.83 612.385 Z\" fill=\"#000000\" fill-rule=\"evenodd\" fill-opacity=\"1\" /><path clip-path=\"url(#clip770)\" d=\"M 0 0 M78.617 219.057 Q81.9735 219.775 83.8485 222.043 Q85.7466 224.312 85.7466 227.645 Q85.7466 232.761 82.2281 235.562 Q78.7096 238.363 72.2282 238.363 Q70.0523 238.363 67.7375 237.923 Q65.4458 237.506 62.9921 236.65 L62.9921 232.136 Q64.9366 233.27 67.2514 233.849 Q69.5662 234.427 72.0893 234.427 Q76.4874 234.427 78.7791 232.691 Q81.0939 230.955 81.0939 227.645 Q81.0939 224.589 78.9411 222.877 Q76.8115 221.14 72.9921 221.14 L68.9643 221.14 L68.9643 217.298 L73.1773 217.298 Q76.6263 217.298 78.455 215.932 Q80.2837 214.543 80.2837 211.951 Q80.2837 209.289 78.3856 207.877 Q76.5106 206.441 72.9921 206.441 Q71.0708 206.441 68.8717 206.858 Q66.6727 207.275 64.0338 208.154 L64.0338 203.988 Q66.6958 203.247 69.0106 202.877 Q71.3486 202.506 73.4087 202.506 Q78.7328 202.506 81.8346 204.937 Q84.9365 207.344 84.9365 211.465 Q84.9365 214.335 83.2929 216.326 Q81.6494 218.293 78.617 219.057 Z\" fill=\"#000000\" fill-rule=\"evenodd\" fill-opacity=\"1\" /><path clip-path=\"url(#clip770)\" d=\"M 0 0 M100.816 206.21 Q97.2049 206.21 95.3762 209.775 Q93.5707 213.316 93.5707 220.446 Q93.5707 227.552 95.3762 231.117 Q97.2049 234.659 100.816 234.659 Q104.45 234.659 106.256 231.117 Q108.084 227.552 108.084 220.446 Q108.084 213.316 106.256 209.775 Q104.45 206.21 100.816 206.21 M100.816 202.506 Q106.626 202.506 109.682 207.113 Q112.76 211.696 112.76 220.446 Q112.76 229.173 109.682 233.779 Q106.626 238.363 100.816 238.363 Q95.0058 238.363 91.9272 233.779 Q88.8716 229.173 88.8716 220.446 Q88.8716 211.696 91.9272 207.113 Q95.0058 202.506 100.816 202.506 Z\" fill=\"#000000\" fill-rule=\"evenodd\" fill-opacity=\"1\" /><path clip-path=\"url(#clip770)\" d=\"M 0 0 M127.83 206.21 Q124.219 206.21 122.39 209.775 Q120.584 213.316 120.584 220.446 Q120.584 227.552 122.39 231.117 Q124.219 234.659 127.83 234.659 Q131.464 234.659 133.27 231.117 Q135.098 227.552 135.098 220.446 Q135.098 213.316 133.27 209.775 Q131.464 206.21 127.83 206.21 M127.83 202.506 Q133.64 202.506 136.695 207.113 Q139.774 211.696 139.774 220.446 Q139.774 229.173 136.695 233.779 Q133.64 238.363 127.83 238.363 Q122.02 238.363 118.941 233.779 Q115.885 229.173 115.885 220.446 Q115.885 211.696 118.941 207.113 Q122.02 202.506 127.83 202.506 Z\" fill=\"#000000\" fill-rule=\"evenodd\" fill-opacity=\"1\" /><polyline clip-path=\"url(#clip772)\" style=\"stroke:#009af9; stroke-width:4; stroke-opacity:1; fill:none\" points=\"\n",
       "  225.726,1445.72 227.794,1445.72 229.861,1445.46 231.928,1444.4 233.995,1443.32 236.062,1443.05 238.129,1439.15 240.196,1434.75 242.264,1429.5 244.331,1418.84 \n",
       "  246.398,1407.94 248.465,1401.37 250.532,1394.51 252.599,1389.07 254.666,1388.22 256.734,1387.66 258.801,1387.52 260.868,1387.52 262.935,1387.8 265.002,1387.8 \n",
       "  267.069,1361.43 269.136,1361.43 271.204,1341.42 273.271,1341.42 275.338,1341.42 277.405,1361.43 279.472,1361.43 281.539,1361.43 283.606,1361.43 285.674,1361.44 \n",
       "  287.741,1361.44 289.808,1361.44 291.875,1361.44 293.942,1361.44 296.009,1361.44 298.076,1361.45 300.144,1341.44 302.211,1361.44 304.278,1341.44 306.345,1341.44 \n",
       "  308.412,1341.44 310.479,1341.44 312.546,1341.44 314.614,1341.44 316.681,1341.44 318.748,1341.44 320.815,1341.44 322.882,1341.44 324.949,1341.44 327.017,1341.44 \n",
       "  329.084,1341.44 331.151,1341.44 333.218,1341.44 335.285,1341.44 337.352,1341.44 339.419,1341.44 341.487,1341.44 343.554,1341.44 345.621,1341.44 347.688,1341.44 \n",
       "  349.755,1341.44 351.822,1341.44 353.889,1341.45 355.957,1341.45 358.024,1341.45 360.091,1341.45 362.158,1341.45 364.225,1341.45 366.292,1341.45 368.359,1341.45 \n",
       "  370.427,1341.45 372.494,1341.45 374.561,1341.45 376.628,1341.45 378.695,1341.45 380.762,1341.09 382.829,1341.09 384.897,1341.09 386.964,1308.83 389.031,1286 \n",
       "  391.098,1308.83 393.165,1286 395.232,1308.83 397.299,1285.56 399.367,1285.56 401.434,1285.56 403.501,1285.56 405.568,1246.03 407.635,1246.03 409.702,1220.47 \n",
       "  411.769,1220.47 413.837,1246.03 415.904,1246.03 417.971,1246.03 420.038,1246.03 422.105,1285.56 424.172,1246.03 426.239,1244.88 428.307,1246.03 430.374,1205.36 \n",
       "  432.441,1040.52 434.508,1014.96 436.575,934.575 438.642,1099.41 440.709,1099.41 442.777,909.022 444.844,934.575 446.911,1050.85 448.978,886.019 451.045,905.904 \n",
       "  453.112,1022.18 455.179,905.902 457.247,857.361 459.314,857.345 461.381,1022.18 463.448,905.919 465.515,857.361 467.582,857.361 469.649,857.345 471.717,857.345 \n",
       "  473.784,857.363 475.851,857.345 477.918,857.347 479.985,741.452 482.052,741.465 484.119,741.45 486.187,741.465 488.254,741.467 490.321,741.465 492.388,857.361 \n",
       "  494.455,741.45 496.522,741.45 498.589,741.465 500.657,741.452 502.724,741.465 504.791,688.204 506.858,688.204 508.925,741.452 510.992,741.45 513.059,741.45 \n",
       "  515.127,741.45 517.194,741.465 519.261,688.204 521.328,688.219 523.395,741.465 525.462,741.465 527.53,741.45 529.597,857.361 531.664,741.465 533.731,688.219 \n",
       "  535.798,741.45 537.865,688.217 539.932,741.45 542,688.202 544.067,688.217 546.134,688.217 548.201,688.219 550.268,688.217 552.335,688.217 554.402,688.215 \n",
       "  556.47,688.202 558.537,688.202 560.604,688.202 562.671,688.202 564.738,688.202 566.805,688.217 568.872,688.202 570.94,688.217 573.007,688.202 575.074,688.202 \n",
       "  577.141,688.202 579.208,688.219 581.275,688.217 583.342,688.217 585.41,688.202 587.477,688.217 589.544,688.217 591.611,688.202 593.678,688.202 595.745,688.202 \n",
       "  597.812,688.204 599.88,688.2 601.947,688.202 604.014,741.465 606.081,688.217 608.148,804.098 610.215,688.215 612.282,688.217 614.35,688.2 616.417,688.217 \n",
       "  618.484,688.215 620.551,688.202 622.618,688.202 624.685,688.202 626.752,688.202 628.82,688.202 630.887,688.2 632.954,688.202 635.021,688.202 637.088,688.202 \n",
       "  639.155,688.202 641.222,688.217 643.29,741.465 645.357,688.202 647.424,688.217 649.491,741.45 651.558,688.202 653.625,804.098 655.692,688.202 657.76,688.2 \n",
       "  659.827,688.204 661.894,688.215 663.961,688.215 666.028,804.098 668.095,688.2 670.162,688.217 672.23,804.113 674.297,688.2 676.364,544.991 678.431,180.514 \n",
       "  680.498,96.3375 682.565,212.235 684.632,96.3375 686.7,96.3375 688.767,212.235 690.834,96.3375 692.901,96.3375 694.968,96.3375 697.035,96.3375 699.102,96.3375 \n",
       "  701.17,96.3375 703.237,96.3375 705.304,96.3375 707.371,96.3375 709.438,96.3375 711.505,212.233 713.572,212.235 715.64,96.3375 717.707,212.235 719.774,96.3396 \n",
       "  721.841,212.233 723.908,96.3396 725.975,96.3375 728.043,212.235 730.11,212.235 732.177,96.3396 734.244,96.3396 736.311,96.3375 738.378,96.3396 740.445,212.235 \n",
       "  742.513,212.235 744.58,96.3396 746.647,96.3396 748.714,96.3375 750.781,96.3396 752.848,96.3396 754.915,96.3396 756.983,96.3396 759.05,96.3396 761.117,96.3396 \n",
       "  763.184,96.3396 765.251,212.235 767.318,96.3396 769.385,87.9784 771.453,96.3396 773.52,96.3396 775.587,87.9763 777.654,96.3396 779.721,96.3396 781.788,96.3396 \n",
       "  783.855,96.3396 785.923,96.3396 787.99,96.3396 790.057,96.3396 792.124,212.235 794.191,96.3396 796.258,96.3396 798.325,87.9763 800.393,87.9784 802.46,96.3396 \n",
       "  804.527,87.9784 806.594,96.3396 808.661,87.9784 810.728,87.9784 812.795,96.3396 814.863,96.3396 816.93,96.3396 818.997,96.3396 821.064,87.9784 823.131,96.3396 \n",
       "  825.198,87.9763 827.265,96.3396 829.333,96.3396 831.4,212.235 833.467,96.3396 835.534,96.3396 837.601,96.3396 839.668,96.3396 841.735,87.9784 843.803,96.3396 \n",
       "  845.87,96.3396 847.937,96.3396 850.004,96.3396 852.071,96.3396 854.138,96.3396 856.205,96.3396 858.273,96.3396 860.34,87.9763 862.407,87.9784 864.474,87.9784 \n",
       "  866.541,87.9763 868.608,87.9763 870.675,87.9784 872.743,96.3396 874.81,96.3396 876.877,87.9763 878.944,96.3396 881.011,96.3396 883.078,96.3396 885.145,96.3396 \n",
       "  887.213,96.3396 889.28,96.3396 891.347,96.3396 893.414,87.9784 895.481,87.9784 897.548,96.3396 899.615,87.9784 901.683,96.3396 903.75,96.3396 905.817,96.3396 \n",
       "  907.884,96.3396 909.951,96.3396 912.018,96.3396 914.085,87.9784 916.153,96.3396 918.22,96.3396 920.287,87.9784 922.354,87.9784 924.421,96.3396 926.488,87.9784 \n",
       "  928.555,202.192 930.623,87.9805 932.69,96.3396 934.757,202.192 936.824,87.9805 938.891,87.9784 940.958,87.9784 943.026,202.192 945.093,96.3396 947.16,96.3396 \n",
       "  949.227,87.9805 951.294,87.9784 953.361,87.9805 955.428,212.235 957.496,87.9805 959.563,96.3396 961.63,96.3396 963.697,96.3396 965.764,96.3396 967.831,87.9763 \n",
       "  969.898,87.9784 971.966,87.9763 974.033,96.3396 976.1,96.3396 978.167,96.3396 980.234,96.3396 982.301,96.3396 984.368,212.235 986.436,96.3396 988.503,96.3396 \n",
       "  990.57,87.9784 992.637,96.3396 994.704,96.3396 996.771,96.3396 998.838,96.3396 1000.91,87.9784 1002.97,96.3396 1005.04,96.3396 1007.11,87.9805 1009.17,87.9763 \n",
       "  1011.24,87.9763 1013.31,96.3396 1015.38,96.3396 1017.44,96.3396 1019.51,87.9784 1021.58,87.9784 1023.64,96.3396 1025.71,87.9784 1027.78,96.3396 1029.85,96.3396 \n",
       "  1031.91,87.9784 1033.98,96.3396 1036.05,96.3396 1038.11,96.3396 1040.18,96.3396 1042.25,96.3396 1044.32,96.3396 1046.38,87.9763 1048.45,96.3396 1050.52,96.3396 \n",
       "  1052.58,96.3396 1054.65,202.192 1056.72,87.9784 1058.79,87.9784 1060.85,202.192 1062.92,202.192 1064.99,96.3396 1067.05,96.3396 1069.12,96.3396 1071.19,87.9784 \n",
       "  1073.26,96.3396 1075.32,96.3396 1077.39,96.3396 1079.46,87.9784 1081.52,96.3396 1083.59,96.3396 1085.66,212.235 1087.73,96.3396 1089.79,96.3396 1091.86,212.235 \n",
       "  1093.93,96.3396 1095.99,87.9763 1098.06,96.3396 1100.13,87.9763 1102.2,87.9784 1104.26,96.3396 1106.33,96.3396 1108.4,96.3396 1110.46,96.3396 1112.53,87.9784 \n",
       "  1114.6,87.9784 1116.67,96.3396 1118.73,87.9784 1120.8,96.3396 1122.87,87.9763 1124.93,87.9784 1127,96.3396 1129.07,87.9763 1131.14,96.3396 1133.2,96.3396 \n",
       "  1135.27,96.3396 1137.34,96.3396 1139.4,96.3396 1141.47,212.235 1143.54,96.3396 1145.61,96.3396 1147.67,96.3396 1149.74,96.3396 1151.81,96.3396 1153.87,96.3396 \n",
       "  1155.94,96.3396 1158.01,96.3396 1160.08,87.9784 1162.14,96.3396 1164.21,87.9784 1166.28,96.3396 1168.34,87.9784 1170.41,96.3396 1172.48,87.9763 1174.55,87.9805 \n",
       "  1176.61,87.9784 1178.68,87.9784 1180.75,202.192 1182.81,96.3396 1184.88,87.9805 1186.95,87.9784 1189.02,96.3396 1191.08,96.3396 1193.15,87.9805 1195.22,87.9784 \n",
       "  1197.28,96.3396 1199.35,202.192 1201.42,96.3396 1203.49,96.3396 1205.55,212.235 1207.62,87.9784 1209.69,96.3396 1211.75,96.3396 1213.82,87.9784 1215.89,87.9784 \n",
       "  1217.96,96.3396 1220.02,96.3396 1222.09,96.3396 1224.16,87.9763 1226.22,87.9784 1228.29,96.3396 1230.36,96.3396 1232.43,202.192 1234.49,202.192 1236.56,96.3396 \n",
       "  1238.63,96.3396 1240.69,96.3396 1242.76,96.3396 1244.83,96.3396 1246.9,96.3396 1248.96,96.3396 1251.03,87.9784 1253.1,96.3396 1255.16,87.9784 1257.23,96.3396 \n",
       "  1259.3,96.3396 1261.37,96.3396 1263.43,87.9784 1265.5,87.9763 1267.57,87.9805 1269.63,96.3396 1271.7,96.3396 1273.77,202.192 1275.84,96.3396 1277.9,87.9763 \n",
       "  1279.97,96.3396 1282.04,96.3396 1284.1,96.3396 1286.17,87.9784 1288.24,87.9784 1290.31,87.9763 1292.37,96.3396 1294.44,96.3396 1296.51,96.3396 1298.57,96.3396 \n",
       "  1300.64,96.3396 1302.71,87.9763 1304.78,202.192 1306.84,87.9805 1308.91,96.3396 1310.98,96.3396 1313.04,87.9784 1315.11,87.9784 1317.18,96.3396 1319.25,87.9763 \n",
       "  1321.31,96.3396 1323.38,87.9784 1325.45,96.3396 1327.51,96.3396 1329.58,96.3396 1331.65,212.235 1333.72,212.235 1335.78,96.3396 1337.85,96.3396 1339.92,96.3396 \n",
       "  1341.98,212.235 1344.05,96.3396 1346.12,96.3396 1348.19,87.9763 1350.25,96.3396 1352.32,96.3396 1354.39,96.3396 1356.45,87.9763 1358.52,96.3396 1360.59,87.9763 \n",
       "  1362.66,96.3375 1364.72,212.235 1366.79,96.3396 1368.86,96.3396 1370.92,96.3396 1372.99,96.3396 1375.06,87.9763 1377.13,87.9784 1379.19,96.3396 1381.26,96.3396 \n",
       "  1383.33,96.3396 1385.39,96.3396 1387.46,96.3396 1389.53,96.3396 1391.6,96.3396 1393.66,96.3396 1395.73,212.235 1397.8,87.9805 1399.86,96.3396 1401.93,87.9784 \n",
       "  1404,96.3396 1406.07,96.3396 1408.13,96.3396 1410.2,87.9763 1412.27,96.3396 1414.33,96.3396 1416.4,96.3396 1418.47,96.3396 1420.54,212.235 1422.6,96.3396 \n",
       "  1424.67,96.3396 1426.74,96.3396 1428.8,96.3396 1430.87,87.9763 1432.94,96.3396 1435.01,96.3396 1437.07,87.9784 1439.14,96.3396 1441.21,87.9763 1443.27,87.9763 \n",
       "  1445.34,96.3396 1447.41,202.192 1449.48,212.235 1451.54,87.9805 1453.61,87.9784 1455.68,87.9805 1457.74,96.3396 1459.81,202.192 1461.88,202.192 1463.95,96.3396 \n",
       "  1466.01,96.3396 1468.08,96.3396 1470.15,87.9805 1472.21,87.9805 1474.28,87.9805 1476.35,87.9784 1478.42,87.9805 1480.48,87.9805 1482.55,96.3396 1484.62,212.235 \n",
       "  1486.68,96.3396 1488.75,87.9784 1490.82,202.192 1492.89,202.192 1494.95,87.9805 1497.02,87.9784 1499.09,87.9805 1501.15,87.9784 1503.22,96.3396 1505.29,202.192 \n",
       "  1507.36,96.3396 1509.42,96.3396 1511.49,96.3396 1513.56,96.3396 1515.62,96.3396 1517.69,87.9784 1519.76,96.3396 1521.83,87.9784 1523.89,87.9784 1525.96,96.3396 \n",
       "  1528.03,96.3396 1530.09,96.3396 1532.16,96.3396 1534.23,96.3396 1536.3,96.3396 1538.36,87.9784 1540.43,96.3396 1542.5,96.3396 1544.56,96.3396 1546.63,96.3396 \n",
       "  1548.7,96.3396 1550.77,96.3396 1552.83,87.9784 1554.9,96.3396 1556.97,96.3396 1559.03,96.3396 1561.1,96.3396 1563.17,96.3396 1565.24,87.9784 1567.3,96.3396 \n",
       "  1569.37,96.3396 1571.44,96.3396 1573.5,96.3396 1575.57,87.9784 1577.64,87.9784 1579.71,96.3396 1581.77,87.9784 1583.84,96.3396 1585.91,96.3396 1587.97,87.9763 \n",
       "  1590.04,87.9784 1592.11,87.9784 1594.18,87.9784 1596.24,87.9784 1598.31,96.3396 1600.38,96.3396 1602.44,96.3396 1604.51,87.9805 1606.58,96.3396 1608.65,96.3396 \n",
       "  1610.71,96.3396 1612.78,87.9784 1614.85,87.9784 1616.91,87.9784 1618.98,96.3396 1621.05,96.3396 1623.12,202.192 1625.18,87.9784 1627.25,87.9784 1629.32,87.9784 \n",
       "  1631.38,87.9805 1633.45,87.9805 1635.52,87.9805 1637.59,202.192 1639.65,212.235 1641.72,87.9805 1643.79,203.407 1645.85,87.9805 1647.92,203.407 1649.99,96.3396 \n",
       "  1652.06,87.9805 1654.12,212.235 1656.19,212.235 1658.26,87.9805 1660.32,87.9805 1662.39,202.192 1664.46,212.235 1666.53,87.9805 1668.59,87.9805 1670.66,212.235 \n",
       "  1672.73,212.235 1674.79,202.192 1676.86,212.235 1678.93,212.235 1681,203.407 1683.06,212.235 1685.13,212.235 1687.2,87.9805 1689.26,87.9805 1691.33,87.9784 \n",
       "  1693.4,96.3396 1695.47,96.3396 1697.53,96.3396 1699.6,87.9805 1701.67,193.833 1703.73,87.9805 1705.8,96.3396 1707.87,87.9784 1709.94,202.192 1712,96.3396 \n",
       "  1714.07,87.9784 1716.14,96.3396 1718.2,96.3396 1720.27,87.9784 1722.34,87.9784 1724.41,87.9784 1726.47,202.192 1728.54,96.3396 1730.61,87.9784 1732.67,87.9784 \n",
       "  1734.74,87.9784 1736.81,96.3396 1738.88,96.3396 1740.94,96.3396 1743.01,202.192 1745.08,202.192 1747.14,96.3396 1749.21,202.192 1751.28,202.192 1753.35,96.3396 \n",
       "  1755.41,87.9805 1757.48,202.192 1759.55,87.9784 1761.61,87.9805 1763.68,212.235 1765.75,87.9784 1767.82,87.9784 1769.88,202.192 1771.95,96.3396 1774.02,87.9805 \n",
       "  1776.08,96.3396 1778.15,87.9805 1780.22,202.192 1782.29,96.3396 1784.35,87.9784 1786.42,96.3396 1788.49,87.9784 1790.55,202.192 1792.62,96.3396 1794.69,202.192 \n",
       "  1796.76,87.9784 1798.82,87.9805 1800.89,87.9805 1802.96,193.833 1805.02,87.9805 1807.09,212.235 1809.16,203.407 1811.23,87.9805 1813.29,87.9805 1815.36,212.235 \n",
       "  1817.43,195.048 1819.49,87.9805 1821.56,193.833 1823.63,212.235 1825.7,87.9805 1827.76,195.048 1829.83,87.9805 1831.9,87.9805 1833.96,87.9805 1836.03,87.9805 \n",
       "  1838.1,193.833 1840.17,87.9805 1842.23,87.9805 1844.3,96.3396 1846.37,87.9784 1848.43,96.3396 1850.5,212.235 1852.57,212.235 1854.64,203.407 1856.7,203.407 \n",
       "  1858.77,87.9805 1860.84,195.048 1862.9,87.9805 1864.97,105.386 1867.04,87.9805 1869.11,195.048 1871.17,87.9805 1873.24,87.9805 1875.31,212.235 1877.37,212.235 \n",
       "  1879.44,87.9805 1881.51,212.235 1883.58,202.192 1885.64,195.048 1887.71,87.9805 1889.78,193.833 1891.84,202.192 1893.91,96.3396 1895.98,87.9805 1898.05,193.833 \n",
       "  1900.11,212.235 1902.18,212.235 1904.25,87.9805 1906.31,193.833 1908.38,212.235 1910.45,202.192 1912.52,202.192 1914.58,87.9805 1916.65,195.048 1918.72,87.9805 \n",
       "  1920.78,87.9805 1922.85,87.9805 1924.92,193.833 1926.99,202.192 1929.05,202.192 1931.12,87.9805 1933.19,87.9805 1935.25,87.9784 1937.32,87.9805 1939.39,96.3396 \n",
       "  1941.46,87.9805 1943.52,96.3396 1945.59,193.833 1947.66,87.9805 1949.72,87.9805 1951.79,87.9805 1953.86,96.3396 1955.93,193.833 1957.99,202.192 1960.06,203.407 \n",
       "  1962.13,96.3396 1964.19,96.3396 1966.26,87.9784 1968.33,87.9805 1970.4,87.9784 1972.46,202.192 1974.53,87.9805 1976.6,212.235 1978.66,87.9805 1980.73,87.9805 \n",
       "  1982.8,87.9805 1984.87,212.235 1986.93,87.9805 1989,203.407 1991.07,87.9805 1993.13,87.9805 1995.2,195.048 1997.27,203.407 1999.34,87.9805 2001.4,212.453 \n",
       "  2003.47,229.64 2005.54,220.812 2007.6,87.9805 2009.67,87.9805 2011.74,96.3396 2013.81,87.9805 2015.87,96.3396 2017.94,87.9805 2020.01,203.407 2022.07,87.9805 \n",
       "  2024.14,202.192 2026.21,202.192 2028.28,212.235 2030.34,202.192 2032.41,195.048 2034.48,87.9805 2036.54,87.9805 2038.61,202.192 2040.68,87.9805 2042.75,87.9805 \n",
       "  2044.81,193.833 2046.88,96.3396 2048.95,87.9784 2051.01,87.9805 2053.08,87.9805 2055.15,87.9784 2057.22,87.9805 2059.28,87.9805 2061.35,87.9805 2063.42,87.9805 \n",
       "  2065.48,87.9805 2067.55,202.192 2069.62,212.235 2071.69,202.192 2073.75,87.9805 2075.82,195.048 2077.89,195.048 2079.95,87.9805 2082.02,203.407 2084.09,212.235 \n",
       "  2086.16,203.407 2088.22,87.9805 2090.29,203.407 2092.36,87.9805 2094.42,87.9805 2096.49,87.9805 2098.56,193.833 2100.63,87.9805 2102.69,193.833 2104.76,202.192 \n",
       "  2106.83,96.3396 2108.89,96.3396 2110.96,212.235 2113.03,96.3396 2115.1,96.3396 2117.16,87.9805 2119.23,87.9805 2121.3,87.9805 2123.36,87.9805 2125.43,87.9784 \n",
       "  2127.5,96.3396 2129.57,87.9784 2131.63,87.9784 2133.7,96.3396 2135.77,96.3396 2137.83,96.3396 2139.9,96.3396 2141.97,87.9805 2144.04,202.192 2146.1,87.9784 \n",
       "  2148.17,202.192 2150.24,87.9784 2152.3,87.9763 2154.37,87.9784 2156.44,96.3396 2158.51,96.3396 2160.57,96.3396 2162.64,202.192 2164.71,202.192 2166.77,87.9805 \n",
       "  2168.84,202.192 2170.91,202.192 2172.98,87.9805 2175.04,87.9805 2177.11,96.3396 2179.18,96.3396 2181.24,87.9784 2183.31,96.3396 2185.38,87.9784 2187.45,96.3396 \n",
       "  2189.51,96.3396 2191.58,202.192 2193.65,87.9805 2195.71,203.407 2197.78,202.192 2199.85,87.9805 2201.92,87.9805 2203.98,96.3396 2206.05,87.9784 2208.12,96.3396 \n",
       "  2210.18,96.3396 2212.25,87.9805 2214.32,202.192 2216.39,96.3396 2218.45,87.9784 2220.52,96.3396 2222.59,87.9784 2224.65,87.9784 2226.72,96.3396 2228.79,202.192 \n",
       "  2230.86,87.9805 2232.92,96.3396 2234.99,96.3396 2237.06,212.235 2239.12,212.235 2241.19,87.9784 2243.26,96.3396 2245.33,212.235 2247.39,202.192 2249.46,87.9784 \n",
       "  2251.53,202.192 2253.59,87.9805 2255.66,202.192 2257.73,212.235 2259.8,96.3396 2261.86,202.192 2263.93,96.3396 2266,96.3396 2268.07,87.9784 2270.13,96.3396 \n",
       "  2272.2,212.235 2274.27,96.3396 2276.33,96.3396 2278.4,96.3396 2280.47,203.407 2282.54,195.048 2284.6,87.9805 2286.67,87.9805 2288.74,96.3396 2290.8,96.3396 \n",
       "  \n",
       "  \"/>\n",
       "<path clip-path=\"url(#clip770)\" d=\"\n",
       "M1989.74 251.724 L2280.76 251.724 L2280.76 130.764 L1989.74 130.764  Z\n",
       "  \" fill=\"#ffffff\" fill-rule=\"evenodd\" fill-opacity=\"1\"/>\n",
       "<polyline clip-path=\"url(#clip770)\" style=\"stroke:#000000; stroke-width:4; stroke-opacity:1; fill:none\" points=\"\n",
       "  1989.74,251.724 2280.76,251.724 2280.76,130.764 1989.74,130.764 1989.74,251.724 \n",
       "  \"/>\n",
       "<polyline clip-path=\"url(#clip770)\" style=\"stroke:#009af9; stroke-width:4; stroke-opacity:1; fill:none\" points=\"\n",
       "  2013.74,191.244 2157.74,191.244 \n",
       "  \"/>\n",
       "<path clip-path=\"url(#clip770)\" d=\"M 0 0 M2195.58 210.931 Q2193.77 215.561 2192.06 216.973 Q2190.35 218.385 2187.48 218.385 L2184.08 218.385 L2184.08 214.82 L2186.58 214.82 Q2188.33 214.82 2189.31 213.987 Q2190.28 213.154 2191.46 210.052 L2192.22 208.107 L2181.74 182.598 L2186.25 182.598 L2194.35 202.876 L2202.46 182.598 L2206.97 182.598 L2195.58 210.931 Z\" fill=\"#000000\" fill-rule=\"evenodd\" fill-opacity=\"1\" /><path clip-path=\"url(#clip770)\" d=\"M 0 0 M2212.85 204.589 L2220.49 204.589 L2220.49 178.223 L2212.18 179.89 L2212.18 175.631 L2220.44 173.964 L2225.12 173.964 L2225.12 204.589 L2232.76 204.589 L2232.76 208.524 L2212.85 208.524 L2212.85 204.589 Z\" fill=\"#000000\" fill-rule=\"evenodd\" fill-opacity=\"1\" /></svg>\n"
      ]
     },
     "execution_count": 22,
     "metadata": {},
     "output_type": "execute_result"
    }
   ],
   "source": [
    "objective = evaluate_bird\n",
    "Npop = 20\n",
    "Ngen = 1000\n",
    "sig = 0.1\n",
    "res = run_es_bird(Nstep=Ngen, Npop=Npop, Sigma=sig)\n",
    "#best_bird = res\n",
    "distances = res\n",
    "#println(best_bird)\n",
    "#dist = evaluate_bird(best_bird)\n",
    "#println(dist)\n",
    "plot(distances)"
   ]
  },
  {
   "cell_type": "code",
   "execution_count": null,
   "metadata": {},
   "outputs": [],
   "source": [
    "function plot_obj_es()\n",
    "    x = randn(2) #initial population: which is a single point\n",
    "    println(\"x initial: \", x)\n",
    "    anim = Animation()\n",
    "    for i in 1:500\n",
    "        v = mod(i, 10) == 0\n",
    "        x = step_es(x, npop=50, sigma=0.1, alpha=0.001, visualize=v, anim=anim)\n",
    "    end\n",
    "    println(\"x final: \", x)\n",
    "    gif(anim)\n",
    "end"
   ]
  },
  {
   "cell_type": "code",
   "execution_count": null,
   "metadata": {},
   "outputs": [],
   "source": [
    "xs = -5.0:0.1:5.0\n",
    "ys = -5.0:0.1:5.0\n",
    "\n",
    "#fz(x, y) = objective_es([x, y])\n",
    "println(solution) # optimal for sphere and rastrigin\n",
    "#plot_obj_cmaes()"
   ]
  }
 ],
 "metadata": {
  "@webio": {
   "lastCommId": null,
   "lastKernelId": null
  },
  "kernelspec": {
   "display_name": "Julia 1.3.1",
   "language": "julia",
   "name": "julia-1.3"
  },
  "language_info": {
   "file_extension": ".jl",
   "mimetype": "application/julia",
   "name": "julia",
   "version": "1.3.1"
  }
 },
 "nbformat": 4,
 "nbformat_minor": 2
}
