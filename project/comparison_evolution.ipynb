{
 "cells": [
  {
   "cell_type": "markdown",
   "metadata": {},
   "source": [
    "\n",
    "\n",
    "# Project: Comparison of Existing Algorithms applied on Flappy Bird\n",
    "\n",
    "<a href=\"https://github.com/lplacidet/evolution_project\">https://github.com/lplacidet/evolution_project</a>"
   ]
  },
  {
   "cell_type": "markdown",
   "metadata": {},
   "source": [
    "Importing Libraries"
   ]
  },
  {
   "cell_type": "code",
   "execution_count": 1,
   "metadata": {},
   "outputs": [
    {
     "data": {
      "text/plain": [
       "Plots.GRBackend()"
      ]
     },
     "execution_count": 1,
     "metadata": {},
     "output_type": "execute_result"
    }
   ],
   "source": [
    "using Random\n",
    "using LinearAlgebra\n",
    "using Statistics\n",
    "using Plots\n",
    "\n",
    "using Cxx, Libdl\n",
    "\n",
    "gr(reuse=true)"
   ]
  },
  {
   "cell_type": "code",
   "execution_count": 2,
   "metadata": {},
   "outputs": [
    {
     "name": "stdout",
     "output_type": "stream",
     "text": [
      "ggre-gg"
     ]
    }
   ],
   "source": [
    "const path_to_lib = pwd()\n",
    "addHeaderDir(path_to_lib*\"/world/\", kind=C_System)\n",
    "cxxinclude(\"runWorld.h\")\n",
    "print(\"gg\")\n",
    "#objective = @cxx FlappyXP->evaluate\n",
    "print(\"re-gg\")"
   ]
  },
  {
   "cell_type": "code",
   "execution_count": 3,
   "metadata": {},
   "outputs": [
    {
     "data": {
      "text/plain": [
       "Individu"
      ]
     },
     "execution_count": 3,
     "metadata": {},
     "output_type": "execute_result"
    }
   ],
   "source": [
    "mutable struct Individu\n",
    "    genes::Array{Float64}\n",
    "    fitness::Float64\n",
    "end\n",
    "\n",
    "function Individu(n::Int)\n",
    "    newgenes = [0.0,0.0,0.0,0.0]\n",
    "    for i in 1:4\n",
    "        newgenes[i] = rand()\n",
    "    end\n",
    "    Individu(newgenes, -Inf)\n",
    "end "
   ]
  },
  {
   "cell_type": "code",
   "execution_count": 28,
   "metadata": {},
   "outputs": [
    {
     "name": "stderr",
     "output_type": "stream",
     "text": [
      "In file included from /Cxx.cpp:1:\n",
      "\u001b[1mIn[28]:2:15: \u001b[0m\u001b[0;1;31merror: \u001b[0m\u001b[1mredefinition of 'evaluate_bird'\u001b[0m\n",
      "static double evaluate_bird(float g1, float g2, float g3, float g4) {\n",
      "\u001b[0;1;32m              ^\n",
      "\u001b[0m\u001b[1mIn[4]:2:15: \u001b[0m\u001b[0;1;30mnote: \u001b[0mprevious definition is here\u001b[0m\n",
      "static double evaluate_bird(float g1, float g2, float g3, float g4) {\n",
      "\u001b[0;1;32m              ^\n",
      "\u001b[0m"
     ]
    },
    {
     "data": {
      "text/plain": [
       "true"
      ]
     },
     "execution_count": 28,
     "metadata": {},
     "output_type": "execute_result"
    }
   ],
   "source": [
    "cxx\"\"\"\n",
    "\n",
    "static double evaluate_bird(float g1, float g2, float g3, float g4) {\n",
    "float ind[4] = {g1,g2,g3,g4};\n",
    "bool dbg = false;\n",
    "#ifdef DISPLAY\n",
    "\tinitscr();\n",
    "\ttimeout(0);\n",
    "\tnoecho();\n",
    "\tcurs_set(FALSE);\n",
    "#endif\n",
    "\tconst int NRUN = 3;\n",
    "\tauto &g = ind;\n",
    "\tdouble d = 0;\n",
    "\tfor (int r = 0; r < NRUN; ++r) {\n",
    "\t\tWorld world;\n",
    "\t\tworld.gen.seed(r * 100);\n",
    "\t\twhile (world.bestiau.vivant) {\n",
    "#ifdef DISPLAY\n",
    "            std::this_thread::sleep_for(std::chrono::milliseconds(25));\n",
    "            display(world, world.dist == 0);\n",
    "#endif\n",
    "            world.update();\n",
    "            // update inputs\n",
    "            float birdY = world.bestiau.y;\n",
    "            float birdVY = world.bestiau.vit;\n",
    "            float obsX;\n",
    "            float obsY;\n",
    "            if (world.obstacles.size() > 0) {\n",
    "                const auto &o = world.obstacles.front();\n",
    "                obsY = o.y + world.hauteurPassage * 0.5;\n",
    "                obsX = o.x / world.W;\n",
    "            } else {\n",
    "                obsY = world.H * 0.5;\n",
    "                obsX = 1000.0;\n",
    "            }\n",
    "            if ((g[0]*birdY+g[1]*birdVY+g[2]*obsX+g[3]*obsY)>1.0) world.bestiauUp();\n",
    "        }\n",
    "        d += world.dist;\n",
    "    }\n",
    "#ifdef DISPLAY\n",
    "    endwin();\n",
    "#endif\n",
    "    return d;\n",
    "}\n",
    "\"\"\""
   ]
  },
  {
   "cell_type": "code",
   "execution_count": 5,
   "metadata": {},
   "outputs": [
    {
     "data": {
      "text/plain": [
       "cpptojulia (generic function with 1 method)"
      ]
     },
     "execution_count": 5,
     "metadata": {},
     "output_type": "execute_result"
    }
   ],
   "source": [
    "cpptojulia(g1::Float64, g2::Float64, g3::Float64, g4::Float64) = @cxx evaluate_bird(g1,g2,g3,g4)"
   ]
  },
  {
   "cell_type": "code",
   "execution_count": 6,
   "metadata": {},
   "outputs": [
    {
     "data": {
      "text/plain": [
       "evaluate_bird (generic function with 1 method)"
      ]
     },
     "execution_count": 6,
     "metadata": {},
     "output_type": "execute_result"
    }
   ],
   "source": [
    "function evaluate_bird(g::Array{Float64})\n",
    "    -1*cpptojulia(g[1],g[2],g[3],g[4])\n",
    "end"
   ]
  },
  {
   "cell_type": "code",
   "execution_count": 7,
   "metadata": {},
   "outputs": [
    {
     "name": "stdout",
     "output_type": "stream",
     "text": [
      "Individu([0.39269086982871904, 0.9207277840754602, 0.5414726715806659, 0.9469625773017061], -Inf)\n"
     ]
    },
    {
     "data": {
      "text/plain": [
       "0.3024"
      ]
     },
     "execution_count": 7,
     "metadata": {},
     "output_type": "execute_result"
    }
   ],
   "source": [
    "test_ind = Individu(4)\n",
    "println(test_ind)\n",
    "cpptojulia(test_ind.genes[1], test_ind.genes[2],test_ind.genes[3], test_ind.genes[4])"
   ]
  },
  {
   "cell_type": "markdown",
   "metadata": {},
   "source": [
    "\n",
    "\n",
    "## I. CMA-ES Algorithm\n"
   ]
  },
  {
   "cell_type": "code",
   "execution_count": 8,
   "metadata": {},
   "outputs": [
    {
     "data": {
      "text/plain": [
       "rastrigin (generic function with 1 method)"
      ]
     },
     "execution_count": 8,
     "metadata": {},
     "output_type": "execute_result"
    }
   ],
   "source": [
    "sphere(x::Array{Float64}) = sum((x .- solution).^2)\n",
    "himmelblau(x::Array{Float64}) = (x[1]^2 + x[2] - 11)^2 + (x[1] + x[2]^2 - 7)^2\n",
    "styblinski_tang(x::Array{Float64}) = sum(x.^4 .- 16 .* x.^2 .+ 5 .* x) / 2.0\n",
    "rastrigin(x::Array{Float64}) = 10.0 * length(x) .+ sum((x .- solution).^2 .- 10 .* cos.(2*pi.*(x .- solution)))"
   ]
  },
  {
   "cell_type": "code",
   "execution_count": 9,
   "metadata": {},
   "outputs": [],
   "source": [
    "mutable struct CMAES\n",
    "    N::Int\n",
    "    μ::Int\n",
    "    λ::Int\n",
    "    τ::Float64\n",
    "    τ_c::Float64\n",
    "    τ_σ::Float64\n",
    "    population::Array{Array{Float64}}\n",
    "    offspring::Array{Array{Float64}}\n",
    "    F_μ::Array{Float64}\n",
    "    F_λ::Array{Float64}\n",
    "    C::Array{Float64}\n",
    "    s::Array{Float64}\n",
    "    s_σ::Array{Float64}\n",
    "    σ::Float64\n",
    "    E::Array{Float64}\n",
    "    W::Array{Float64}\n",
    "    x::Array{Float64}\n",
    "end"
   ]
  },
  {
   "cell_type": "code",
   "execution_count": 10,
   "metadata": {},
   "outputs": [
    {
     "data": {
      "text/plain": [
       "evaluate_bird (generic function with 1 method)"
      ]
     },
     "execution_count": 10,
     "metadata": {},
     "output_type": "execute_result"
    }
   ],
   "source": [
    "N_value = 4\n",
    "mu = 5\n",
    "lambda = 150\n",
    "objective = evaluate_bird"
   ]
  },
  {
   "cell_type": "code",
   "execution_count": 11,
   "metadata": {},
   "outputs": [
    {
     "data": {
      "text/plain": [
       "CMAES"
      ]
     },
     "execution_count": 11,
     "metadata": {},
     "output_type": "execute_result"
    }
   ],
   "source": [
    "function CMAES(;N=N_value, μ=mu, λ=lambda, τ=sqrt(N), τ_c=N^2, τ_σ=sqrt(N))\n",
    "    x = randn(N)\n",
    "    population = fill(x, µ)\n",
    "    offspring = Array{Array{Float64}}(undef, λ)\n",
    "    F_µ = Inf .* ones(µ)\n",
    "    F_λ = Inf .* ones(λ)\n",
    "    C = Array(Diagonal{Float64}(I, N))\n",
    "    s = zeros(N)\n",
    "    s_σ = zeros(N)\n",
    "    σ = 0.05\n",
    "    E = zeros(N, λ)\n",
    "    W = zeros(N, λ);\n",
    "    CMAES(N, μ, λ, τ, τ_c, τ_σ, population, offspring, F_µ, F_λ, C, s, s_σ, σ, E, W, x)\n",
    "end"
   ]
  },
  {
   "cell_type": "code",
   "execution_count": 12,
   "metadata": {},
   "outputs": [
    {
     "data": {
      "text/plain": [
       "4-element Array{Float64,1}:\n",
       " -0.45862469668965306\n",
       " -0.8790391775642098 \n",
       "  1.2405720185806248 \n",
       "  0.14959916116336935"
      ]
     },
     "execution_count": 12,
     "metadata": {},
     "output_type": "execute_result"
    }
   ],
   "source": [
    "randn(4)"
   ]
  },
  {
   "cell_type": "code",
   "execution_count": 13,
   "metadata": {
    "scrolled": true
   },
   "outputs": [
    {
     "data": {
      "text/plain": [
       "CMAES(4, 5, 150, 2.0, 16.0, 2.0, Array{Float64,N} where N[[-0.22015975453496714, -0.2544932294797789, -0.2526233194910144, -1.1088223479560355], [-0.22015975453496714, -0.2544932294797789, -0.2526233194910144, -1.1088223479560355], [-0.22015975453496714, -0.2544932294797789, -0.2526233194910144, -1.1088223479560355], [-0.22015975453496714, -0.2544932294797789, -0.2526233194910144, -1.1088223479560355], [-0.22015975453496714, -0.2544932294797789, -0.2526233194910144, -1.1088223479560355]], Array{Float64,N} where N[#undef, #undef, #undef, #undef, #undef, #undef, #undef, #undef, #undef, #undef  …  #undef, #undef, #undef, #undef, #undef, #undef, #undef, #undef, #undef, #undef], [Inf, Inf, Inf, Inf, Inf], [Inf, Inf, Inf, Inf, Inf, Inf, Inf, Inf, Inf, Inf  …  Inf, Inf, Inf, Inf, Inf, Inf, Inf, Inf, Inf, Inf], [1.0 0.0 0.0 0.0; 0.0 1.0 0.0 0.0; 0.0 0.0 1.0 0.0; 0.0 0.0 0.0 1.0], [0.0, 0.0, 0.0, 0.0], [0.0, 0.0, 0.0, 0.0], 0.05, [0.0 0.0 … 0.0 0.0; 0.0 0.0 … 0.0 0.0; 0.0 0.0 … 0.0 0.0; 0.0 0.0 … 0.0 0.0], [0.0 0.0 … 0.0 0.0; 0.0 0.0 … 0.0 0.0; 0.0 0.0 … 0.0 0.0; 0.0 0.0 … 0.0 0.0], [-0.22015975453496714, -0.2544932294797789, -0.2526233194910144, -1.1088223479560355])"
      ]
     },
     "execution_count": 13,
     "metadata": {},
     "output_type": "execute_result"
    }
   ],
   "source": [
    "c = CMAES()"
   ]
  },
  {
   "cell_type": "code",
   "execution_count": 14,
   "metadata": {},
   "outputs": [
    {
     "data": {
      "text/plain": [
       "step_cmaes! (generic function with 1 method)"
      ]
     },
     "execution_count": 14,
     "metadata": {},
     "output_type": "execute_result"
    }
   ],
   "source": [
    "function step_cmaes!(c::CMAES; obj=objective, visualize=false, anim=Nothing)\n",
    "    # L1\n",
    "    mod = norm(c.C)\n",
    "    for j in 1:N_value\n",
    "        for k in 1:N_value\n",
    "            c.C[j,k] = c.C[j,k]/mod\n",
    "        end\n",
    "    end\n",
    "    sqrt_c = cholesky((c.C + c.C') / 2.0).U\n",
    "    for i in 1:c.λ\n",
    "        c.E[:,i] = randn(c.N)\n",
    "        mod = norm(c.E[:,i])\n",
    "        for j in 1:4\n",
    "            c.E[:,i][j] = c.E[:,i][j]/mod\n",
    "        end\n",
    "        c.W[:,i] = c.σ * (sqrt_c * c.E[:,i])\n",
    "        c.offspring[i] = c.x + c.W[:,i]\n",
    "        mod = norm(c.offspring[i])\n",
    "        for j in 1:4\n",
    "            c.offspring[i][j] = c.offspring[i][j]/mod\n",
    "        end\n",
    "        c.F_λ[i] =  obj(c.offspring[i])\n",
    "    end    \n",
    "    # Select new parent population\n",
    "    idx = sortperm(c.F_λ)[1:c.μ]\n",
    "    for i in 1:c.μ\n",
    "        c.population[i] = c.offspring[idx[i]]\n",
    "        c.F_μ[i] = c.F_λ[idx[i]]\n",
    "    end    \n",
    "    # L2\n",
    "    w = vec(mean(c.W[:,idx], dims=2))\n",
    "    c.x += w \n",
    "    mod = norm(c.x)\n",
    "    for j in 1:4\n",
    "        c.x[j] = c.x[j]/mod\n",
    "    end\n",
    "    # L3\n",
    "    c.s = (1.0 - 1.0/c.τ)*c.s + (sqrt(c.μ/c.τ * (2.0 - 1.0/c.τ))/c.σ)*w   \n",
    "    # L4\n",
    "    c.C = (1.0 - 1.0/c.τ_c).*c.C + (c.s./c.τ_c)*c.s'    \n",
    "    # L5\n",
    "    ɛ = vec(mean(c.E[:,idx], dims=2))\n",
    "    c.s_σ = (1.0 - 1.0/c.τ_σ)*c.s_σ + sqrt(c.μ/c.τ_σ*(2.0 - 1.0/c.τ_σ))*ɛ    \n",
    "    # L6\n",
    "    c.σ = c.σ*exp(((c.s_σ'*c.s_σ)[1] - c.N)/(2*c.N*sqrt(c.N)))\n",
    "    #println(\"this is old sigma ---> \",c.σ)\n",
    "    if c.σ > 1.0\n",
    "        c.σ = 1.0\n",
    "    end\n",
    "    #println(\"this is new sigma ---> \",c.σ)\n",
    "    if visualize\n",
    "        plot(xs, ys, fz, st=:contour)\n",
    "        scatter!([c.offspring[i][1] for i in 1:λ], [c.offspring[i][2] for i in 1:λ], \n",
    "            xlims=(-5, 5), ylims=(-5, 5), legend=:none)\n",
    "        scatter!([c.x[1]], [c.x[2]], color=:black, marker=:rect,\n",
    "            xlims=(-5, 5), ylims=(-5, 5), legend=:none)\n",
    "        frame(anim)\n",
    "    end\n",
    "    c\n",
    "end"
   ]
  },
  {
   "cell_type": "code",
   "execution_count": 15,
   "metadata": {},
   "outputs": [
    {
     "name": "stdout",
     "output_type": "stream",
     "text": [
      "[-0.1157127190802135, 0.21215345167061214, -0.044591803845595746, 2.087047718284029] ----- 0.05\n",
      "[-0.04581593065395585, 0.08891523556643238, -0.017843028343047396, 0.994824913098796] ----- 0.04117855223775028\n",
      "[-0.08267864725224822, 0.1333660810462331, -0.027143080272379085, 0.9872390707970562] ----- 0.03352018546379482\n"
     ]
    }
   ],
   "source": [
    "c = CMAES()\n",
    "println(c.population[5],\" ----- \", c.σ)\n",
    "step_cmaes!(c)\n",
    "println(c.population[5],\" ----- \", c.σ)\n",
    "step_cmaes!(c)\n",
    "println(c.population[5],\" ----- \", c.σ)"
   ]
  },
  {
   "cell_type": "code",
   "execution_count": 16,
   "metadata": {},
   "outputs": [
    {
     "data": {
      "text/plain": [
       "1.0"
      ]
     },
     "execution_count": 16,
     "metadata": {},
     "output_type": "execute_result"
    }
   ],
   "source": [
    "m=[1.0 0.0 0.0 0.0; 0.0 1.0 0.0 0.0; 0.0 0.0 1.0 0.0; 0.0 0.0 0.0 1.0]\n",
    "norm(m)\n",
    "m[4,4]"
   ]
  },
  {
   "cell_type": "code",
   "execution_count": 17,
   "metadata": {},
   "outputs": [
    {
     "data": {
      "text/plain": [
       "plot_obj_cmaes (generic function with 1 method)"
      ]
     },
     "execution_count": 17,
     "metadata": {},
     "output_type": "execute_result"
    }
   ],
   "source": [
    "function plot_obj_cmaes()\n",
    "    c = CMAES()\n",
    "    println(\"x initial: \", c.x)\n",
    "    anim = Animation()\n",
    "    for i in 1:100\n",
    "        v = mod(i, 1) == 0\n",
    "        step_cmaes!(c, visualize=v, anim=anim)\n",
    "    end\n",
    "    println(\"x final: \", c.x)\n",
    "    gif(anim)\n",
    "end"
   ]
  },
  {
   "cell_type": "code",
   "execution_count": 31,
   "metadata": {},
   "outputs": [
    {
     "data": {
      "text/plain": [
       "not_plot_obj_cmaes (generic function with 1 method)"
      ]
     },
     "execution_count": 31,
     "metadata": {},
     "output_type": "execute_result"
    }
   ],
   "source": [
    "function not_plot_obj_cmaes(nbgen::Int)\n",
    "    c = CMAES()\n",
    "    gen = zeros(Int(nbgen/10))\n",
    "    fitness = zeros(Int(nbgen/10))\n",
    "    for i in 1:nbgen\n",
    "        v = mod(i, 1) == 0\n",
    "        if i%10==0\n",
    "            gen[Int(i/10)] = i\n",
    "            fitness[Int(i/10)] = -1*evaluate_bird(c.x)\n",
    "        end\n",
    "        step_cmaes!(c, visualize=false)\n",
    "    end\n",
    "    c.x, gen, fitness\n",
    "end"
   ]
  },
  {
   "cell_type": "code",
   "execution_count": 34,
   "metadata": {},
   "outputs": [
    {
     "name": "stdout",
     "output_type": "stream",
     "text": [
      "-172.3200799999977\n",
      "[-0.7770871827041312, -0.13816642379585006, -0.14356772856182717, 0.5970208180022026]\n"
     ]
    },
    {
     "data": {
      "image/svg+xml": [
       "<?xml version=\"1.0\" encoding=\"utf-8\"?>\n",
       "<svg xmlns=\"http://www.w3.org/2000/svg\" xmlns:xlink=\"http://www.w3.org/1999/xlink\" width=\"600\" height=\"400\" viewBox=\"0 0 2400 1600\">\n",
       "<defs>\n",
       "  <clipPath id=\"clip190\">\n",
       "    <rect x=\"0\" y=\"0\" width=\"2400\" height=\"1600\"/>\n",
       "  </clipPath>\n",
       "</defs>\n",
       "<path clip-path=\"url(#clip190)\" d=\"\n",
       "M0 1600 L2400 1600 L2400 0 L0 0  Z\n",
       "  \" fill=\"#ffffff\" fill-rule=\"evenodd\" fill-opacity=\"1\"/>\n",
       "<defs>\n",
       "  <clipPath id=\"clip191\">\n",
       "    <rect x=\"480\" y=\"0\" width=\"1681\" height=\"1600\"/>\n",
       "  </clipPath>\n",
       "</defs>\n",
       "<path clip-path=\"url(#clip190)\" d=\"\n",
       "M224.866 1423.18 L2352.76 1423.18 L2352.76 123.472 L224.866 123.472  Z\n",
       "  \" fill=\"#ffffff\" fill-rule=\"evenodd\" fill-opacity=\"1\"/>\n",
       "<defs>\n",
       "  <clipPath id=\"clip192\">\n",
       "    <rect x=\"224\" y=\"123\" width=\"2129\" height=\"1301\"/>\n",
       "  </clipPath>\n",
       "</defs>\n",
       "<polyline clip-path=\"url(#clip192)\" style=\"stroke:#000000; stroke-width:2; stroke-opacity:0.1; fill:none\" points=\"\n",
       "  244.121,1423.18 244.121,123.472 \n",
       "  \"/>\n",
       "<polyline clip-path=\"url(#clip192)\" style=\"stroke:#000000; stroke-width:2; stroke-opacity:0.1; fill:none\" points=\"\n",
       "  653.804,1423.18 653.804,123.472 \n",
       "  \"/>\n",
       "<polyline clip-path=\"url(#clip192)\" style=\"stroke:#000000; stroke-width:2; stroke-opacity:0.1; fill:none\" points=\"\n",
       "  1063.49,1423.18 1063.49,123.472 \n",
       "  \"/>\n",
       "<polyline clip-path=\"url(#clip192)\" style=\"stroke:#000000; stroke-width:2; stroke-opacity:0.1; fill:none\" points=\"\n",
       "  1473.17,1423.18 1473.17,123.472 \n",
       "  \"/>\n",
       "<polyline clip-path=\"url(#clip192)\" style=\"stroke:#000000; stroke-width:2; stroke-opacity:0.1; fill:none\" points=\"\n",
       "  1882.85,1423.18 1882.85,123.472 \n",
       "  \"/>\n",
       "<polyline clip-path=\"url(#clip192)\" style=\"stroke:#000000; stroke-width:2; stroke-opacity:0.1; fill:none\" points=\"\n",
       "  2292.53,1423.18 2292.53,123.472 \n",
       "  \"/>\n",
       "<polyline clip-path=\"url(#clip192)\" style=\"stroke:#000000; stroke-width:2; stroke-opacity:0.1; fill:none\" points=\"\n",
       "  224.866,1389.43 2352.76,1389.43 \n",
       "  \"/>\n",
       "<polyline clip-path=\"url(#clip192)\" style=\"stroke:#000000; stroke-width:2; stroke-opacity:0.1; fill:none\" points=\"\n",
       "  224.866,1032.77 2352.76,1032.77 \n",
       "  \"/>\n",
       "<polyline clip-path=\"url(#clip192)\" style=\"stroke:#000000; stroke-width:2; stroke-opacity:0.1; fill:none\" points=\"\n",
       "  224.866,676.121 2352.76,676.121 \n",
       "  \"/>\n",
       "<polyline clip-path=\"url(#clip192)\" style=\"stroke:#000000; stroke-width:2; stroke-opacity:0.1; fill:none\" points=\"\n",
       "  224.866,319.467 2352.76,319.467 \n",
       "  \"/>\n",
       "<polyline clip-path=\"url(#clip190)\" style=\"stroke:#000000; stroke-width:4; stroke-opacity:1; fill:none\" points=\"\n",
       "  224.866,1423.18 2352.76,1423.18 \n",
       "  \"/>\n",
       "<polyline clip-path=\"url(#clip190)\" style=\"stroke:#000000; stroke-width:4; stroke-opacity:1; fill:none\" points=\"\n",
       "  224.866,1423.18 224.866,123.472 \n",
       "  \"/>\n",
       "<polyline clip-path=\"url(#clip190)\" style=\"stroke:#000000; stroke-width:4; stroke-opacity:1; fill:none\" points=\"\n",
       "  244.121,1423.18 244.121,1407.58 \n",
       "  \"/>\n",
       "<polyline clip-path=\"url(#clip190)\" style=\"stroke:#000000; stroke-width:4; stroke-opacity:1; fill:none\" points=\"\n",
       "  653.804,1423.18 653.804,1407.58 \n",
       "  \"/>\n",
       "<polyline clip-path=\"url(#clip190)\" style=\"stroke:#000000; stroke-width:4; stroke-opacity:1; fill:none\" points=\"\n",
       "  1063.49,1423.18 1063.49,1407.58 \n",
       "  \"/>\n",
       "<polyline clip-path=\"url(#clip190)\" style=\"stroke:#000000; stroke-width:4; stroke-opacity:1; fill:none\" points=\"\n",
       "  1473.17,1423.18 1473.17,1407.58 \n",
       "  \"/>\n",
       "<polyline clip-path=\"url(#clip190)\" style=\"stroke:#000000; stroke-width:4; stroke-opacity:1; fill:none\" points=\"\n",
       "  1882.85,1423.18 1882.85,1407.58 \n",
       "  \"/>\n",
       "<polyline clip-path=\"url(#clip190)\" style=\"stroke:#000000; stroke-width:4; stroke-opacity:1; fill:none\" points=\"\n",
       "  2292.53,1423.18 2292.53,1407.58 \n",
       "  \"/>\n",
       "<polyline clip-path=\"url(#clip190)\" style=\"stroke:#000000; stroke-width:4; stroke-opacity:1; fill:none\" points=\"\n",
       "  224.866,1389.43 250.401,1389.43 \n",
       "  \"/>\n",
       "<polyline clip-path=\"url(#clip190)\" style=\"stroke:#000000; stroke-width:4; stroke-opacity:1; fill:none\" points=\"\n",
       "  224.866,1032.77 250.401,1032.77 \n",
       "  \"/>\n",
       "<polyline clip-path=\"url(#clip190)\" style=\"stroke:#000000; stroke-width:4; stroke-opacity:1; fill:none\" points=\"\n",
       "  224.866,676.121 250.401,676.121 \n",
       "  \"/>\n",
       "<polyline clip-path=\"url(#clip190)\" style=\"stroke:#000000; stroke-width:4; stroke-opacity:1; fill:none\" points=\"\n",
       "  224.866,319.467 250.401,319.467 \n",
       "  \"/>\n",
       "<path clip-path=\"url(#clip190)\" d=\"M 0 0 M244.121 1445.17 Q240.51 1445.17 238.682 1448.74 Q236.876 1452.28 236.876 1459.41 Q236.876 1466.51 238.682 1470.08 Q240.51 1473.62 244.121 1473.62 Q247.756 1473.62 249.561 1470.08 Q251.39 1466.51 251.39 1459.41 Q251.39 1452.28 249.561 1448.74 Q247.756 1445.17 244.121 1445.17 M244.121 1441.47 Q249.931 1441.47 252.987 1446.07 Q256.066 1450.66 256.066 1459.41 Q256.066 1468.13 252.987 1472.74 Q249.931 1477.32 244.121 1477.32 Q238.311 1477.32 235.232 1472.74 Q232.177 1468.13 232.177 1459.41 Q232.177 1450.66 235.232 1446.07 Q238.311 1441.47 244.121 1441.47 Z\" fill=\"#000000\" fill-rule=\"evenodd\" fill-opacity=\"1\" /><path clip-path=\"url(#clip190)\" d=\"M 0 0 M617.172 1472.72 L624.811 1472.72 L624.811 1446.35 L616.501 1448.02 L616.501 1443.76 L624.764 1442.09 L629.44 1442.09 L629.44 1472.72 L637.079 1472.72 L637.079 1476.65 L617.172 1476.65 L617.172 1472.72 Z\" fill=\"#000000\" fill-rule=\"evenodd\" fill-opacity=\"1\" /><path clip-path=\"url(#clip190)\" d=\"M 0 0 M652.148 1445.17 Q648.537 1445.17 646.709 1448.74 Q644.903 1452.28 644.903 1459.41 Q644.903 1466.51 646.709 1470.08 Q648.537 1473.62 652.148 1473.62 Q655.783 1473.62 657.588 1470.08 Q659.417 1466.51 659.417 1459.41 Q659.417 1452.28 657.588 1448.74 Q655.783 1445.17 652.148 1445.17 M652.148 1441.47 Q657.959 1441.47 661.014 1446.07 Q664.093 1450.66 664.093 1459.41 Q664.093 1468.13 661.014 1472.74 Q657.959 1477.32 652.148 1477.32 Q646.338 1477.32 643.26 1472.74 Q640.204 1468.13 640.204 1459.41 Q640.204 1450.66 643.26 1446.07 Q646.338 1441.47 652.148 1441.47 Z\" fill=\"#000000\" fill-rule=\"evenodd\" fill-opacity=\"1\" /><path clip-path=\"url(#clip190)\" d=\"M 0 0 M679.162 1445.17 Q675.551 1445.17 673.722 1448.74 Q671.917 1452.28 671.917 1459.41 Q671.917 1466.51 673.722 1470.08 Q675.551 1473.62 679.162 1473.62 Q682.796 1473.62 684.602 1470.08 Q686.431 1466.51 686.431 1459.41 Q686.431 1452.28 684.602 1448.74 Q682.796 1445.17 679.162 1445.17 M679.162 1441.47 Q684.972 1441.47 688.028 1446.07 Q691.107 1450.66 691.107 1459.41 Q691.107 1468.13 688.028 1472.74 Q684.972 1477.32 679.162 1477.32 Q673.352 1477.32 670.273 1472.74 Q667.218 1468.13 667.218 1459.41 Q667.218 1450.66 670.273 1446.07 Q673.352 1441.47 679.162 1441.47 Z\" fill=\"#000000\" fill-rule=\"evenodd\" fill-opacity=\"1\" /><path clip-path=\"url(#clip190)\" d=\"M 0 0 M1031.12 1472.72 L1047.44 1472.72 L1047.44 1476.65 L1025.5 1476.65 L1025.5 1472.72 Q1028.16 1469.96 1032.75 1465.33 Q1037.35 1460.68 1038.53 1459.34 Q1040.78 1456.81 1041.66 1455.08 Q1042.56 1453.32 1042.56 1451.63 Q1042.56 1448.87 1040.62 1447.14 Q1038.69 1445.4 1035.59 1445.4 Q1033.39 1445.4 1030.94 1446.17 Q1028.51 1446.93 1025.73 1448.48 L1025.73 1443.76 Q1028.56 1442.62 1031.01 1442.05 Q1033.46 1441.47 1035.5 1441.47 Q1040.87 1441.47 1044.06 1444.15 Q1047.26 1446.84 1047.26 1451.33 Q1047.26 1453.46 1046.45 1455.38 Q1045.66 1457.28 1043.56 1459.87 Q1042.98 1460.54 1039.87 1463.76 Q1036.77 1466.95 1031.12 1472.72 Z\" fill=\"#000000\" fill-rule=\"evenodd\" fill-opacity=\"1\" /><path clip-path=\"url(#clip190)\" d=\"M 0 0 M1062.51 1445.17 Q1058.9 1445.17 1057.07 1448.74 Q1055.27 1452.28 1055.27 1459.41 Q1055.27 1466.51 1057.07 1470.08 Q1058.9 1473.62 1062.51 1473.62 Q1066.15 1473.62 1067.95 1470.08 Q1069.78 1466.51 1069.78 1459.41 Q1069.78 1452.28 1067.95 1448.74 Q1066.15 1445.17 1062.51 1445.17 M1062.51 1441.47 Q1068.32 1441.47 1071.38 1446.07 Q1074.46 1450.66 1074.46 1459.41 Q1074.46 1468.13 1071.38 1472.74 Q1068.32 1477.32 1062.51 1477.32 Q1056.7 1477.32 1053.62 1472.74 Q1050.57 1468.13 1050.57 1459.41 Q1050.57 1450.66 1053.62 1446.07 Q1056.7 1441.47 1062.51 1441.47 Z\" fill=\"#000000\" fill-rule=\"evenodd\" fill-opacity=\"1\" /><path clip-path=\"url(#clip190)\" d=\"M 0 0 M1089.53 1445.17 Q1085.92 1445.17 1084.09 1448.74 Q1082.28 1452.28 1082.28 1459.41 Q1082.28 1466.51 1084.09 1470.08 Q1085.92 1473.62 1089.53 1473.62 Q1093.16 1473.62 1094.97 1470.08 Q1096.8 1466.51 1096.8 1459.41 Q1096.8 1452.28 1094.97 1448.74 Q1093.16 1445.17 1089.53 1445.17 M1089.53 1441.47 Q1095.34 1441.47 1098.39 1446.07 Q1101.47 1450.66 1101.47 1459.41 Q1101.47 1468.13 1098.39 1472.74 Q1095.34 1477.32 1089.53 1477.32 Q1083.72 1477.32 1080.64 1472.74 Q1077.58 1468.13 1077.58 1459.41 Q1077.58 1450.66 1080.64 1446.07 Q1083.72 1441.47 1089.53 1441.47 Z\" fill=\"#000000\" fill-rule=\"evenodd\" fill-opacity=\"1\" /><path clip-path=\"url(#clip190)\" d=\"M 0 0 M1450.4 1458.02 Q1453.76 1458.74 1455.63 1461 Q1457.53 1463.27 1457.53 1466.61 Q1457.53 1471.72 1454.01 1474.52 Q1450.49 1477.32 1444.01 1477.32 Q1441.84 1477.32 1439.52 1476.88 Q1437.23 1476.47 1434.78 1475.61 L1434.78 1471.1 Q1436.72 1472.23 1439.04 1472.81 Q1441.35 1473.39 1443.87 1473.39 Q1448.27 1473.39 1450.56 1471.65 Q1452.88 1469.92 1452.88 1466.61 Q1452.88 1463.55 1450.73 1461.84 Q1448.6 1460.1 1444.78 1460.1 L1440.75 1460.1 L1440.75 1456.26 L1444.96 1456.26 Q1448.41 1456.26 1450.24 1454.89 Q1452.07 1453.5 1452.07 1450.91 Q1452.07 1448.25 1450.17 1446.84 Q1448.3 1445.4 1444.78 1445.4 Q1442.86 1445.4 1440.66 1445.82 Q1438.46 1446.24 1435.82 1447.11 L1435.82 1442.95 Q1438.48 1442.21 1440.8 1441.84 Q1443.13 1441.47 1445.19 1441.47 Q1450.52 1441.47 1453.62 1443.9 Q1456.72 1446.3 1456.72 1450.43 Q1456.72 1453.3 1455.08 1455.29 Q1453.43 1457.25 1450.4 1458.02 Z\" fill=\"#000000\" fill-rule=\"evenodd\" fill-opacity=\"1\" /><path clip-path=\"url(#clip190)\" d=\"M 0 0 M1472.6 1445.17 Q1468.99 1445.17 1467.16 1448.74 Q1465.36 1452.28 1465.36 1459.41 Q1465.36 1466.51 1467.16 1470.08 Q1468.99 1473.62 1472.6 1473.62 Q1476.24 1473.62 1478.04 1470.08 Q1479.87 1466.51 1479.87 1459.41 Q1479.87 1452.28 1478.04 1448.74 Q1476.24 1445.17 1472.6 1445.17 M1472.6 1441.47 Q1478.41 1441.47 1481.47 1446.07 Q1484.55 1450.66 1484.55 1459.41 Q1484.55 1468.13 1481.47 1472.74 Q1478.41 1477.32 1472.6 1477.32 Q1466.79 1477.32 1463.71 1472.74 Q1460.66 1468.13 1460.66 1459.41 Q1460.66 1450.66 1463.71 1446.07 Q1466.79 1441.47 1472.6 1441.47 Z\" fill=\"#000000\" fill-rule=\"evenodd\" fill-opacity=\"1\" /><path clip-path=\"url(#clip190)\" d=\"M 0 0 M1499.61 1445.17 Q1496 1445.17 1494.17 1448.74 Q1492.37 1452.28 1492.37 1459.41 Q1492.37 1466.51 1494.17 1470.08 Q1496 1473.62 1499.61 1473.62 Q1503.25 1473.62 1505.05 1470.08 Q1506.88 1466.51 1506.88 1459.41 Q1506.88 1452.28 1505.05 1448.74 Q1503.25 1445.17 1499.61 1445.17 M1499.61 1441.47 Q1505.42 1441.47 1508.48 1446.07 Q1511.56 1450.66 1511.56 1459.41 Q1511.56 1468.13 1508.48 1472.74 Q1505.42 1477.32 1499.61 1477.32 Q1493.8 1477.32 1490.73 1472.74 Q1487.67 1468.13 1487.67 1459.41 Q1487.67 1450.66 1490.73 1446.07 Q1493.8 1441.47 1499.61 1441.47 Z\" fill=\"#000000\" fill-rule=\"evenodd\" fill-opacity=\"1\" /><path clip-path=\"url(#clip190)\" d=\"M 0 0 M1858.85 1446.17 L1847.04 1464.61 L1858.85 1464.61 L1858.85 1446.17 M1857.62 1442.09 L1863.5 1442.09 L1863.5 1464.61 L1868.43 1464.61 L1868.43 1468.5 L1863.5 1468.5 L1863.5 1476.65 L1858.85 1476.65 L1858.85 1468.5 L1843.24 1468.5 L1843.24 1463.99 L1857.62 1442.09 Z\" fill=\"#000000\" fill-rule=\"evenodd\" fill-opacity=\"1\" /><path clip-path=\"url(#clip190)\" d=\"M 0 0 M1883.5 1445.17 Q1879.89 1445.17 1878.06 1448.74 Q1876.25 1452.28 1876.25 1459.41 Q1876.25 1466.51 1878.06 1470.08 Q1879.89 1473.62 1883.5 1473.62 Q1887.13 1473.62 1888.94 1470.08 Q1890.77 1466.51 1890.77 1459.41 Q1890.77 1452.28 1888.94 1448.74 Q1887.13 1445.17 1883.5 1445.17 M1883.5 1441.47 Q1889.31 1441.47 1892.36 1446.07 Q1895.44 1450.66 1895.44 1459.41 Q1895.44 1468.13 1892.36 1472.74 Q1889.31 1477.32 1883.5 1477.32 Q1877.69 1477.32 1874.61 1472.74 Q1871.55 1468.13 1871.55 1459.41 Q1871.55 1450.66 1874.61 1446.07 Q1877.69 1441.47 1883.5 1441.47 Z\" fill=\"#000000\" fill-rule=\"evenodd\" fill-opacity=\"1\" /><path clip-path=\"url(#clip190)\" d=\"M 0 0 M1910.51 1445.17 Q1906.9 1445.17 1905.07 1448.74 Q1903.27 1452.28 1903.27 1459.41 Q1903.27 1466.51 1905.07 1470.08 Q1906.9 1473.62 1910.51 1473.62 Q1914.15 1473.62 1915.95 1470.08 Q1917.78 1466.51 1917.78 1459.41 Q1917.78 1452.28 1915.95 1448.74 Q1914.15 1445.17 1910.51 1445.17 M1910.51 1441.47 Q1916.32 1441.47 1919.38 1446.07 Q1922.46 1450.66 1922.46 1459.41 Q1922.46 1468.13 1919.38 1472.74 Q1916.32 1477.32 1910.51 1477.32 Q1904.7 1477.32 1901.62 1472.74 Q1898.57 1468.13 1898.57 1459.41 Q1898.57 1450.66 1901.62 1446.07 Q1904.7 1441.47 1910.51 1441.47 Z\" fill=\"#000000\" fill-rule=\"evenodd\" fill-opacity=\"1\" /><path clip-path=\"url(#clip190)\" d=\"M 0 0 M2255.8 1442.09 L2274.15 1442.09 L2274.15 1446.03 L2260.08 1446.03 L2260.08 1454.5 Q2261.1 1454.15 2262.12 1453.99 Q2263.13 1453.8 2264.15 1453.8 Q2269.94 1453.8 2273.32 1456.98 Q2276.7 1460.15 2276.7 1465.56 Q2276.7 1471.14 2273.23 1474.24 Q2269.75 1477.32 2263.44 1477.32 Q2261.26 1477.32 2258.99 1476.95 Q2256.75 1476.58 2254.34 1475.84 L2254.34 1471.14 Q2256.42 1472.28 2258.64 1472.83 Q2260.87 1473.39 2263.34 1473.39 Q2267.35 1473.39 2269.69 1471.28 Q2272.02 1469.18 2272.02 1465.56 Q2272.02 1461.95 2269.69 1459.85 Q2267.35 1457.74 2263.34 1457.74 Q2261.47 1457.74 2259.59 1458.16 Q2257.74 1458.57 2255.8 1459.45 L2255.8 1442.09 Z\" fill=\"#000000\" fill-rule=\"evenodd\" fill-opacity=\"1\" /><path clip-path=\"url(#clip190)\" d=\"M 0 0 M2291.77 1445.17 Q2288.16 1445.17 2286.33 1448.74 Q2284.52 1452.28 2284.52 1459.41 Q2284.52 1466.51 2286.33 1470.08 Q2288.16 1473.62 2291.77 1473.62 Q2295.4 1473.62 2297.21 1470.08 Q2299.04 1466.51 2299.04 1459.41 Q2299.04 1452.28 2297.21 1448.74 Q2295.4 1445.17 2291.77 1445.17 M2291.77 1441.47 Q2297.58 1441.47 2300.63 1446.07 Q2303.71 1450.66 2303.71 1459.41 Q2303.71 1468.13 2300.63 1472.74 Q2297.58 1477.32 2291.77 1477.32 Q2285.96 1477.32 2282.88 1472.74 Q2279.82 1468.13 2279.82 1459.41 Q2279.82 1450.66 2282.88 1446.07 Q2285.96 1441.47 2291.77 1441.47 Z\" fill=\"#000000\" fill-rule=\"evenodd\" fill-opacity=\"1\" /><path clip-path=\"url(#clip190)\" d=\"M 0 0 M2318.78 1445.17 Q2315.17 1445.17 2313.34 1448.74 Q2311.54 1452.28 2311.54 1459.41 Q2311.54 1466.51 2313.34 1470.08 Q2315.17 1473.62 2318.78 1473.62 Q2322.42 1473.62 2324.22 1470.08 Q2326.05 1466.51 2326.05 1459.41 Q2326.05 1452.28 2324.22 1448.74 Q2322.42 1445.17 2318.78 1445.17 M2318.78 1441.47 Q2324.59 1441.47 2327.65 1446.07 Q2330.73 1450.66 2330.73 1459.41 Q2330.73 1468.13 2327.65 1472.74 Q2324.59 1477.32 2318.78 1477.32 Q2312.97 1477.32 2309.89 1472.74 Q2306.84 1468.13 2306.84 1459.41 Q2306.84 1450.66 2309.89 1446.07 Q2312.97 1441.47 2318.78 1441.47 Z\" fill=\"#000000\" fill-rule=\"evenodd\" fill-opacity=\"1\" /><path clip-path=\"url(#clip190)\" d=\"M 0 0 M188.922 1375.23 Q185.311 1375.23 183.482 1378.79 Q181.677 1382.33 181.677 1389.46 Q181.677 1396.57 183.482 1400.13 Q185.311 1403.68 188.922 1403.68 Q192.556 1403.68 194.362 1400.13 Q196.19 1396.57 196.19 1389.46 Q196.19 1382.33 194.362 1378.79 Q192.556 1375.23 188.922 1375.23 M188.922 1371.52 Q194.732 1371.52 197.788 1376.13 Q200.866 1380.71 200.866 1389.46 Q200.866 1398.19 197.788 1402.8 Q194.732 1407.38 188.922 1407.38 Q183.112 1407.38 180.033 1402.8 Q176.977 1398.19 176.977 1389.46 Q176.977 1380.71 180.033 1376.13 Q183.112 1371.52 188.922 1371.52 Z\" fill=\"#000000\" fill-rule=\"evenodd\" fill-opacity=\"1\" /><path clip-path=\"url(#clip190)\" d=\"M 0 0 M152.95 1015.49 L171.306 1015.49 L171.306 1019.43 L157.232 1019.43 L157.232 1027.9 Q158.251 1027.55 159.269 1027.39 Q160.288 1027.21 161.306 1027.21 Q167.093 1027.21 170.473 1030.38 Q173.852 1033.55 173.852 1038.97 Q173.852 1044.54 170.38 1047.65 Q166.908 1050.73 160.589 1050.73 Q158.413 1050.73 156.144 1050.35 Q153.899 1049.98 151.492 1049.24 L151.492 1044.54 Q153.575 1045.68 155.797 1046.23 Q158.019 1046.79 160.496 1046.79 Q164.501 1046.79 166.839 1044.68 Q169.177 1042.58 169.177 1038.97 Q169.177 1035.36 166.839 1033.25 Q164.501 1031.14 160.496 1031.14 Q158.621 1031.14 156.746 1031.56 Q154.894 1031.98 152.95 1032.86 L152.95 1015.49 Z\" fill=\"#000000\" fill-rule=\"evenodd\" fill-opacity=\"1\" /><path clip-path=\"url(#clip190)\" d=\"M 0 0 M188.922 1018.57 Q185.311 1018.57 183.482 1022.14 Q181.677 1025.68 181.677 1032.81 Q181.677 1039.92 183.482 1043.48 Q185.311 1047.02 188.922 1047.02 Q192.556 1047.02 194.362 1043.48 Q196.19 1039.92 196.19 1032.81 Q196.19 1025.68 194.362 1022.14 Q192.556 1018.57 188.922 1018.57 M188.922 1014.87 Q194.732 1014.87 197.788 1019.48 Q200.866 1024.06 200.866 1032.81 Q200.866 1041.54 197.788 1046.14 Q194.732 1050.73 188.922 1050.73 Q183.112 1050.73 180.033 1046.14 Q176.977 1041.54 176.977 1032.81 Q176.977 1024.06 180.033 1019.48 Q183.112 1014.87 188.922 1014.87 Z\" fill=\"#000000\" fill-rule=\"evenodd\" fill-opacity=\"1\" /><path clip-path=\"url(#clip190)\" d=\"M 0 0 M126.931 689.465 L134.57 689.465 L134.57 663.1 L126.26 664.766 L126.26 660.507 L134.524 658.841 L139.2 658.841 L139.2 689.465 L146.839 689.465 L146.839 693.401 L126.931 693.401 L126.931 689.465 Z\" fill=\"#000000\" fill-rule=\"evenodd\" fill-opacity=\"1\" /><path clip-path=\"url(#clip190)\" d=\"M 0 0 M161.908 661.919 Q158.297 661.919 156.468 665.484 Q154.663 669.026 154.663 676.155 Q154.663 683.262 156.468 686.826 Q158.297 690.368 161.908 690.368 Q165.542 690.368 167.348 686.826 Q169.177 683.262 169.177 676.155 Q169.177 669.026 167.348 665.484 Q165.542 661.919 161.908 661.919 M161.908 658.216 Q167.718 658.216 170.774 662.822 Q173.852 667.405 173.852 676.155 Q173.852 684.882 170.774 689.488 Q167.718 694.072 161.908 694.072 Q156.098 694.072 153.019 689.488 Q149.964 684.882 149.964 676.155 Q149.964 667.405 153.019 662.822 Q156.098 658.216 161.908 658.216 Z\" fill=\"#000000\" fill-rule=\"evenodd\" fill-opacity=\"1\" /><path clip-path=\"url(#clip190)\" d=\"M 0 0 M188.922 661.919 Q185.311 661.919 183.482 665.484 Q181.677 669.026 181.677 676.155 Q181.677 683.262 183.482 686.826 Q185.311 690.368 188.922 690.368 Q192.556 690.368 194.362 686.826 Q196.19 683.262 196.19 676.155 Q196.19 669.026 194.362 665.484 Q192.556 661.919 188.922 661.919 M188.922 658.216 Q194.732 658.216 197.788 662.822 Q200.866 667.405 200.866 676.155 Q200.866 684.882 197.788 689.488 Q194.732 694.072 188.922 694.072 Q183.112 694.072 180.033 689.488 Q176.977 684.882 176.977 676.155 Q176.977 667.405 180.033 662.822 Q183.112 658.216 188.922 658.216 Z\" fill=\"#000000\" fill-rule=\"evenodd\" fill-opacity=\"1\" /><path clip-path=\"url(#clip190)\" d=\"M 0 0 M127.927 332.812 L135.566 332.812 L135.566 306.446 L127.256 308.113 L127.256 303.854 L135.519 302.187 L140.195 302.187 L140.195 332.812 L147.834 332.812 L147.834 336.747 L127.927 336.747 L127.927 332.812 Z\" fill=\"#000000\" fill-rule=\"evenodd\" fill-opacity=\"1\" /><path clip-path=\"url(#clip190)\" d=\"M 0 0 M152.95 302.187 L171.306 302.187 L171.306 306.122 L157.232 306.122 L157.232 314.594 Q158.251 314.247 159.269 314.085 Q160.288 313.9 161.306 313.9 Q167.093 313.9 170.473 317.071 Q173.852 320.242 173.852 325.659 Q173.852 331.238 170.38 334.34 Q166.908 337.418 160.589 337.418 Q158.413 337.418 156.144 337.048 Q153.899 336.678 151.492 335.937 L151.492 331.238 Q153.575 332.372 155.797 332.928 Q158.019 333.483 160.496 333.483 Q164.501 333.483 166.839 331.377 Q169.177 329.27 169.177 325.659 Q169.177 322.048 166.839 319.942 Q164.501 317.835 160.496 317.835 Q158.621 317.835 156.746 318.252 Q154.894 318.668 152.95 319.548 L152.95 302.187 Z\" fill=\"#000000\" fill-rule=\"evenodd\" fill-opacity=\"1\" /><path clip-path=\"url(#clip190)\" d=\"M 0 0 M188.922 305.266 Q185.311 305.266 183.482 308.83 Q181.677 312.372 181.677 319.502 Q181.677 326.608 183.482 330.173 Q185.311 333.715 188.922 333.715 Q192.556 333.715 194.362 330.173 Q196.19 326.608 196.19 319.502 Q196.19 312.372 194.362 308.83 Q192.556 305.266 188.922 305.266 M188.922 301.562 Q194.732 301.562 197.788 306.168 Q200.866 310.752 200.866 319.502 Q200.866 328.229 197.788 332.835 Q194.732 337.418 188.922 337.418 Q183.112 337.418 180.033 332.835 Q176.977 328.229 176.977 319.502 Q176.977 310.752 180.033 306.168 Q183.112 301.562 188.922 301.562 Z\" fill=\"#000000\" fill-rule=\"evenodd\" fill-opacity=\"1\" /><path clip-path=\"url(#clip190)\" d=\"M 0 0 M626.468 12.096 L664.709 12.096 L664.709 18.9825 L634.651 18.9825 L634.651 36.8875 L663.453 36.8875 L663.453 43.7741 L634.651 43.7741 L634.651 65.6895 L665.438 65.6895 L665.438 72.576 L626.468 72.576 L626.468 12.096 Z\" fill=\"#000000\" fill-rule=\"evenodd\" fill-opacity=\"1\" /><path clip-path=\"url(#clip190)\" d=\"M 0 0 M667.909 27.2059 L675.808 27.2059 L689.986 65.2844 L704.164 27.2059 L712.064 27.2059 L695.05 72.576 L684.923 72.576 L667.909 27.2059 Z\" fill=\"#000000\" fill-rule=\"evenodd\" fill-opacity=\"1\" /><path clip-path=\"url(#clip190)\" d=\"M 0 0 M737.463 32.4315 Q731.467 32.4315 727.984 37.1306 Q724.5 41.7891 724.5 49.9314 Q724.5 58.0738 727.943 62.7728 Q731.427 67.4314 737.463 67.4314 Q743.418 67.4314 746.901 62.7323 Q750.385 58.0333 750.385 49.9314 Q750.385 41.8701 746.901 37.1711 Q743.418 32.4315 737.463 32.4315 M737.463 26.1121 Q747.185 26.1121 752.735 32.4315 Q758.284 38.7509 758.284 49.9314 Q758.284 61.0714 752.735 67.4314 Q747.185 73.7508 737.463 73.7508 Q727.7 73.7508 722.15 67.4314 Q716.641 61.0714 716.641 49.9314 Q716.641 38.7509 722.15 32.4315 Q727.7 26.1121 737.463 26.1121 Z\" fill=\"#000000\" fill-rule=\"evenodd\" fill-opacity=\"1\" /><path clip-path=\"url(#clip190)\" d=\"M 0 0 M766.103 9.54393 L773.556 9.54393 L773.556 72.576 L766.103 72.576 L766.103 9.54393 Z\" fill=\"#000000\" fill-rule=\"evenodd\" fill-opacity=\"1\" /><path clip-path=\"url(#clip190)\" d=\"M 0 0 M780.605 54.671 L780.605 27.2059 L788.059 27.2059 L788.059 54.3874 Q788.059 60.8284 790.57 64.0691 Q793.082 67.2693 798.105 67.2693 Q804.141 67.2693 807.624 63.421 Q811.149 59.5726 811.149 52.9291 L811.149 27.2059 L818.602 27.2059 L818.602 72.576 L811.149 72.576 L811.149 65.6084 Q808.435 69.7404 804.829 71.7658 Q801.264 73.7508 796.525 73.7508 Q788.707 73.7508 784.656 68.8897 Q780.605 64.0286 780.605 54.671 M799.361 26.1121 L799.361 26.1121 Z\" fill=\"#000000\" fill-rule=\"evenodd\" fill-opacity=\"1\" /><path clip-path=\"url(#clip190)\" d=\"M 0 0 M833.793 14.324 L833.793 27.2059 L849.146 27.2059 L849.146 32.9987 L833.793 32.9987 L833.793 57.6282 Q833.793 63.1779 835.292 64.7578 Q836.831 66.3376 841.49 66.3376 L849.146 66.3376 L849.146 72.576 L841.49 72.576 Q832.862 72.576 829.58 69.3758 Q826.299 66.1351 826.299 57.6282 L826.299 32.9987 L820.83 32.9987 L820.83 27.2059 L826.299 27.2059 L826.299 14.324 L833.793 14.324 Z\" fill=\"#000000\" fill-rule=\"evenodd\" fill-opacity=\"1\" /><path clip-path=\"url(#clip190)\" d=\"M 0 0 M856.964 27.2059 L864.418 27.2059 L864.418 72.576 L856.964 72.576 L856.964 27.2059 M856.964 9.54393 L864.418 9.54393 L864.418 18.9825 L856.964 18.9825 L856.964 9.54393 Z\" fill=\"#000000\" fill-rule=\"evenodd\" fill-opacity=\"1\" /><path clip-path=\"url(#clip190)\" d=\"M 0 0 M889.817 32.4315 Q883.822 32.4315 880.338 37.1306 Q876.854 41.7891 876.854 49.9314 Q876.854 58.0738 880.298 62.7728 Q883.781 67.4314 889.817 67.4314 Q895.772 67.4314 899.256 62.7323 Q902.74 58.0333 902.74 49.9314 Q902.74 41.8701 899.256 37.1711 Q895.772 32.4315 889.817 32.4315 M889.817 26.1121 Q899.539 26.1121 905.089 32.4315 Q910.639 38.7509 910.639 49.9314 Q910.639 61.0714 905.089 67.4314 Q899.539 73.7508 889.817 73.7508 Q880.055 73.7508 874.505 67.4314 Q868.996 61.0714 868.996 49.9314 Q868.996 38.7509 874.505 32.4315 Q880.055 26.1121 889.817 26.1121 Z\" fill=\"#000000\" fill-rule=\"evenodd\" fill-opacity=\"1\" /><path clip-path=\"url(#clip190)\" d=\"M 0 0 M956.171 45.1919 L956.171 72.576 L948.717 72.576 L948.717 45.4349 Q948.717 38.994 946.206 35.7938 Q943.694 32.5936 938.671 32.5936 Q932.635 32.5936 929.152 36.4419 Q925.668 40.2903 925.668 46.9338 L925.668 72.576 L918.174 72.576 L918.174 27.2059 L925.668 27.2059 L925.668 34.2544 Q928.341 30.163 931.947 28.1376 Q935.592 26.1121 940.332 26.1121 Q948.15 26.1121 952.161 30.9732 Q956.171 35.7938 956.171 45.1919 Z\" fill=\"#000000\" fill-rule=\"evenodd\" fill-opacity=\"1\" /><path clip-path=\"url(#clip190)\" d=\"M 0 0 M1020.22 34.0924 L1020.22 9.54393 L1027.67 9.54393 L1027.67 72.576 L1020.22 72.576 L1020.22 65.7705 Q1017.87 69.8214 1014.26 71.8063 Q1010.7 73.7508 1005.67 73.7508 Q997.45 73.7508 992.265 67.1883 Q987.12 60.6258 987.12 49.9314 Q987.12 39.2371 992.265 32.6746 Q997.45 26.1121 1005.67 26.1121 Q1010.7 26.1121 1014.26 28.0971 Q1017.87 30.0415 1020.22 34.0924 M994.817 49.9314 Q994.817 58.1548 998.179 62.8538 Q1001.58 67.5124 1007.5 67.5124 Q1013.41 67.5124 1016.81 62.8538 Q1020.22 58.1548 1020.22 49.9314 Q1020.22 41.7081 1016.81 37.0496 Q1013.41 32.3505 1007.5 32.3505 Q1001.58 32.3505 998.179 37.0496 Q994.817 41.7081 994.817 49.9314 Z\" fill=\"#000000\" fill-rule=\"evenodd\" fill-opacity=\"1\" /><path clip-path=\"url(#clip190)\" d=\"M 0 0 M1074.3 48.0275 L1074.3 51.6733 L1040.02 51.6733 Q1040.51 59.3701 1044.64 63.421 Q1048.82 67.4314 1056.23 67.4314 Q1060.52 67.4314 1064.53 66.3781 Q1068.58 65.3249 1072.55 63.2184 L1072.55 70.267 Q1068.54 71.9684 1064.33 72.8596 Q1060.12 73.7508 1055.78 73.7508 Q1044.93 73.7508 1038.57 67.4314 Q1032.25 61.1119 1032.25 50.3365 Q1032.25 39.1965 1038.24 32.6746 Q1044.28 26.1121 1054.49 26.1121 Q1063.64 26.1121 1068.95 32.0264 Q1074.3 37.9003 1074.3 48.0275 M1066.84 45.84 Q1066.76 39.7232 1063.4 36.0774 Q1060.08 32.4315 1054.57 32.4315 Q1048.33 32.4315 1044.56 35.9558 Q1040.83 39.4801 1040.27 45.8805 L1066.84 45.84 Z\" fill=\"#000000\" fill-rule=\"evenodd\" fill-opacity=\"1\" /><path clip-path=\"url(#clip190)\" d=\"M 0 0 M1108.49 9.54393 L1115.94 9.54393 L1115.94 72.576 L1108.49 72.576 L1108.49 9.54393 Z\" fill=\"#000000\" fill-rule=\"evenodd\" fill-opacity=\"1\" /><path clip-path=\"url(#clip190)\" d=\"M 0 0 M1144.38 49.7694 Q1135.34 49.7694 1131.86 51.8354 Q1128.38 53.9013 1128.38 58.8839 Q1128.38 62.8538 1130.97 65.2034 Q1133.6 67.5124 1138.1 67.5124 Q1144.3 67.5124 1148.02 63.1374 Q1151.79 58.7219 1151.79 51.4303 L1151.79 49.7694 L1144.38 49.7694 M1159.24 46.6907 L1159.24 72.576 L1151.79 72.576 L1151.79 65.6895 Q1149.24 69.8214 1145.43 71.8063 Q1141.62 73.7508 1136.11 73.7508 Q1129.14 73.7508 1125.01 69.8619 Q1120.92 65.9325 1120.92 59.3701 Q1120.92 51.7138 1126.03 47.825 Q1131.17 43.9361 1141.34 43.9361 L1151.79 43.9361 L1151.79 43.2069 Q1151.79 38.0623 1148.39 35.2672 Q1145.02 32.4315 1138.91 32.4315 Q1135.02 32.4315 1131.33 33.3632 Q1127.65 34.295 1124.24 36.1584 L1124.24 29.2718 Q1128.33 27.692 1132.18 26.9223 Q1136.03 26.1121 1139.68 26.1121 Q1149.52 26.1121 1154.38 31.2163 Q1159.24 36.3204 1159.24 46.6907 Z\" fill=\"#000000\" fill-rule=\"evenodd\" fill-opacity=\"1\" /><path clip-path=\"url(#clip190)\" d=\"M 0 0 M1216.4 9.54393 L1216.4 15.7418 L1209.27 15.7418 Q1205.26 15.7418 1203.68 17.3622 Q1202.14 18.9825 1202.14 23.1955 L1202.14 27.2059 L1214.42 27.2059 L1214.42 32.9987 L1202.14 32.9987 L1202.14 72.576 L1194.65 72.576 L1194.65 32.9987 L1187.52 32.9987 L1187.52 27.2059 L1194.65 27.2059 L1194.65 24.0462 Q1194.65 16.471 1198.17 13.0277 Q1201.7 9.54393 1209.35 9.54393 L1216.4 9.54393 Z\" fill=\"#000000\" fill-rule=\"evenodd\" fill-opacity=\"1\" /><path clip-path=\"url(#clip190)\" d=\"M 0 0 M1224.22 27.2059 L1231.67 27.2059 L1231.67 72.576 L1224.22 72.576 L1224.22 27.2059 M1224.22 9.54393 L1231.67 9.54393 L1231.67 18.9825 L1224.22 18.9825 L1224.22 9.54393 Z\" fill=\"#000000\" fill-rule=\"evenodd\" fill-opacity=\"1\" /><path clip-path=\"url(#clip190)\" d=\"M 0 0 M1246.86 14.324 L1246.86 27.2059 L1262.22 27.2059 L1262.22 32.9987 L1246.86 32.9987 L1246.86 57.6282 Q1246.86 63.1779 1248.36 64.7578 Q1249.9 66.3376 1254.56 66.3376 L1262.22 66.3376 L1262.22 72.576 L1254.56 72.576 Q1245.93 72.576 1242.65 69.3758 Q1239.37 66.1351 1239.37 57.6282 L1239.37 32.9987 L1233.9 32.9987 L1233.9 27.2059 L1239.37 27.2059 L1239.37 14.324 L1246.86 14.324 Z\" fill=\"#000000\" fill-rule=\"evenodd\" fill-opacity=\"1\" /><path clip-path=\"url(#clip190)\" d=\"M 0 0 M1307.75 45.1919 L1307.75 72.576 L1300.3 72.576 L1300.3 45.4349 Q1300.3 38.994 1297.78 35.7938 Q1295.27 32.5936 1290.25 32.5936 Q1284.21 32.5936 1280.73 36.4419 Q1277.25 40.2903 1277.25 46.9338 L1277.25 72.576 L1269.75 72.576 L1269.75 27.2059 L1277.25 27.2059 L1277.25 34.2544 Q1279.92 30.163 1283.52 28.1376 Q1287.17 26.1121 1291.91 26.1121 Q1299.73 26.1121 1303.74 30.9732 Q1307.75 35.7938 1307.75 45.1919 Z\" fill=\"#000000\" fill-rule=\"evenodd\" fill-opacity=\"1\" /><path clip-path=\"url(#clip190)\" d=\"M 0 0 M1354.37 48.0275 L1354.37 51.6733 L1320.1 51.6733 Q1320.59 59.3701 1324.72 63.421 Q1328.89 67.4314 1336.31 67.4314 Q1340.6 67.4314 1344.61 66.3781 Q1348.66 65.3249 1352.63 63.2184 L1352.63 70.267 Q1348.62 71.9684 1344.41 72.8596 Q1340.2 73.7508 1335.86 73.7508 Q1325.01 73.7508 1318.65 67.4314 Q1312.33 61.1119 1312.33 50.3365 Q1312.33 39.1965 1318.32 32.6746 Q1324.36 26.1121 1334.57 26.1121 Q1343.72 26.1121 1349.03 32.0264 Q1354.37 37.9003 1354.37 48.0275 M1346.92 45.84 Q1346.84 39.7232 1343.48 36.0774 Q1340.16 32.4315 1334.65 32.4315 Q1328.41 32.4315 1324.64 35.9558 Q1320.91 39.4801 1320.35 45.8805 L1346.92 45.84 Z\" fill=\"#000000\" fill-rule=\"evenodd\" fill-opacity=\"1\" /><path clip-path=\"url(#clip190)\" d=\"M 0 0 M1391.12 28.5427 L1391.12 35.5912 Q1387.96 33.9709 1384.55 33.1607 Q1381.15 32.3505 1377.51 32.3505 Q1371.96 32.3505 1369.16 34.0519 Q1366.41 35.7533 1366.41 39.156 Q1366.41 41.7486 1368.39 43.2475 Q1370.38 44.7058 1376.37 46.0426 L1378.92 46.6097 Q1386.86 48.3111 1390.18 51.4303 Q1393.55 54.509 1393.55 60.0587 Q1393.55 66.3781 1388.52 70.0644 Q1383.54 73.7508 1374.79 73.7508 Q1371.15 73.7508 1367.18 73.0216 Q1363.25 72.3329 1358.87 70.9151 L1358.87 63.2184 Q1363 65.3654 1367.01 66.4591 Q1371.02 67.5124 1374.95 67.5124 Q1380.22 67.5124 1383.06 65.73 Q1385.89 63.9071 1385.89 60.6258 Q1385.89 57.5877 1383.83 55.9673 Q1381.8 54.3469 1374.87 52.8481 L1372.28 52.2405 Q1365.35 50.7821 1362.27 47.7845 Q1359.2 44.7463 1359.2 39.4801 Q1359.2 33.0797 1363.73 29.5959 Q1368.27 26.1121 1376.61 26.1121 Q1380.75 26.1121 1384.39 26.7198 Q1388.04 27.3274 1391.12 28.5427 Z\" fill=\"#000000\" fill-rule=\"evenodd\" fill-opacity=\"1\" /><path clip-path=\"url(#clip190)\" d=\"M 0 0 M1430.29 28.5427 L1430.29 35.5912 Q1427.13 33.9709 1423.73 33.1607 Q1420.32 32.3505 1416.68 32.3505 Q1411.13 32.3505 1408.33 34.0519 Q1405.58 35.7533 1405.58 39.156 Q1405.58 41.7486 1407.56 43.2475 Q1409.55 44.7058 1415.54 46.0426 L1418.1 46.6097 Q1426.04 48.3111 1429.36 51.4303 Q1432.72 54.509 1432.72 60.0587 Q1432.72 66.3781 1427.7 70.0644 Q1422.71 73.7508 1413.96 73.7508 Q1410.32 73.7508 1406.35 73.0216 Q1402.42 72.3329 1398.04 70.9151 L1398.04 63.2184 Q1402.18 65.3654 1406.19 66.4591 Q1410.2 67.5124 1414.13 67.5124 Q1419.39 67.5124 1422.23 65.73 Q1425.06 63.9071 1425.06 60.6258 Q1425.06 57.5877 1423 55.9673 Q1420.97 54.3469 1414.04 52.8481 L1411.45 52.2405 Q1404.53 50.7821 1401.45 47.7845 Q1398.37 44.7463 1398.37 39.4801 Q1398.37 33.0797 1402.9 29.5959 Q1407.44 26.1121 1415.79 26.1121 Q1419.92 26.1121 1423.56 26.7198 Q1427.21 27.3274 1430.29 28.5427 Z\" fill=\"#000000\" fill-rule=\"evenodd\" fill-opacity=\"1\" /><path clip-path=\"url(#clip190)\" d=\"M 0 0 M1474.12 65.7705 L1474.12 89.8329 L1466.63 89.8329 L1466.63 27.2059 L1474.12 27.2059 L1474.12 34.0924 Q1476.47 30.0415 1480.03 28.0971 Q1483.64 26.1121 1488.62 26.1121 Q1496.89 26.1121 1502.03 32.6746 Q1507.22 39.2371 1507.22 49.9314 Q1507.22 60.6258 1502.03 67.1883 Q1496.89 73.7508 1488.62 73.7508 Q1483.64 73.7508 1480.03 71.8063 Q1476.47 69.8214 1474.12 65.7705 M1499.48 49.9314 Q1499.48 41.7081 1496.08 37.0496 Q1492.71 32.3505 1486.8 32.3505 Q1480.88 32.3505 1477.48 37.0496 Q1474.12 41.7081 1474.12 49.9314 Q1474.12 58.1548 1477.48 62.8538 Q1480.88 67.5124 1486.8 67.5124 Q1492.71 67.5124 1496.08 62.8538 Q1499.48 58.1548 1499.48 49.9314 Z\" fill=\"#000000\" fill-rule=\"evenodd\" fill-opacity=\"1\" /><path clip-path=\"url(#clip190)\" d=\"M 0 0 M1532.61 32.4315 Q1526.62 32.4315 1523.14 37.1306 Q1519.65 41.7891 1519.65 49.9314 Q1519.65 58.0738 1523.1 62.7728 Q1526.58 67.4314 1532.61 67.4314 Q1538.57 67.4314 1542.05 62.7323 Q1545.54 58.0333 1545.54 49.9314 Q1545.54 41.8701 1542.05 37.1711 Q1538.57 32.4315 1532.61 32.4315 M1532.61 26.1121 Q1542.34 26.1121 1547.89 32.4315 Q1553.44 38.7509 1553.44 49.9314 Q1553.44 61.0714 1547.89 67.4314 Q1542.34 73.7508 1532.61 73.7508 Q1522.85 73.7508 1517.3 67.4314 Q1511.79 61.0714 1511.79 49.9314 Q1511.79 38.7509 1517.3 32.4315 Q1522.85 26.1121 1532.61 26.1121 Z\" fill=\"#000000\" fill-rule=\"evenodd\" fill-opacity=\"1\" /><path clip-path=\"url(#clip190)\" d=\"M 0 0 M1560.48 54.671 L1560.48 27.2059 L1567.94 27.2059 L1567.94 54.3874 Q1567.94 60.8284 1570.45 64.0691 Q1572.96 67.2693 1577.98 67.2693 Q1584.02 67.2693 1587.5 63.421 Q1591.03 59.5726 1591.03 52.9291 L1591.03 27.2059 L1598.48 27.2059 L1598.48 72.576 L1591.03 72.576 L1591.03 65.6084 Q1588.31 69.7404 1584.71 71.7658 Q1581.14 73.7508 1576.41 73.7508 Q1568.59 73.7508 1564.54 68.8897 Q1560.48 64.0286 1560.48 54.671 M1579.24 26.1121 L1579.24 26.1121 Z\" fill=\"#000000\" fill-rule=\"evenodd\" fill-opacity=\"1\" /><path clip-path=\"url(#clip190)\" d=\"M 0 0 M1632.59 34.1734 Q1631.34 33.4443 1629.84 33.1202 Q1628.38 32.7556 1626.6 32.7556 Q1620.28 32.7556 1616.87 36.8875 Q1613.51 40.9789 1613.51 48.6757 L1613.51 72.576 L1606.02 72.576 L1606.02 27.2059 L1613.51 27.2059 L1613.51 34.2544 Q1615.86 30.1225 1619.63 28.1376 Q1623.4 26.1121 1628.78 26.1121 Q1629.55 26.1121 1630.48 26.2337 Q1631.42 26.3147 1632.55 26.5172 L1632.59 34.1734 Z\" fill=\"#000000\" fill-rule=\"evenodd\" fill-opacity=\"1\" /><path clip-path=\"url(#clip190)\" d=\"M 0 0 M1712.39 16.7545 L1712.39 25.383 Q1708.26 21.5346 1703.56 19.6307 Q1698.9 17.7268 1693.64 17.7268 Q1683.27 17.7268 1677.76 24.0867 Q1672.25 30.4061 1672.25 42.3968 Q1672.25 54.3469 1677.76 60.7069 Q1683.27 67.0263 1693.64 67.0263 Q1698.9 67.0263 1703.56 65.1223 Q1708.26 63.2184 1712.39 59.3701 L1712.39 67.9175 Q1708.1 70.8341 1703.28 72.2924 Q1698.5 73.7508 1693.15 73.7508 Q1679.42 73.7508 1671.52 65.3654 Q1663.62 56.9395 1663.62 42.3968 Q1663.62 27.8135 1671.52 19.4281 Q1679.42 11.0023 1693.15 11.0023 Q1698.58 11.0023 1703.36 12.4606 Q1708.18 13.8784 1712.39 16.7545 Z\" fill=\"#000000\" fill-rule=\"evenodd\" fill-opacity=\"1\" /><path clip-path=\"url(#clip190)\" d=\"M 0 0 M1720.54 12.096 L1732.73 12.096 L1748.16 53.2532 L1763.68 12.096 L1775.87 12.096 L1775.87 72.576 L1767.89 72.576 L1767.89 19.4686 L1752.3 60.9499 L1744.07 60.9499 L1728.48 19.4686 L1728.48 72.576 L1720.54 72.576 L1720.54 12.096 Z\" fill=\"#000000\" fill-rule=\"evenodd\" fill-opacity=\"1\" /><path clip-path=\"url(#clip190)\" d=\"M 0 0 M1804.23 20.1573 L1793.13 50.2555 L1815.37 50.2555 L1804.23 20.1573 M1799.61 12.096 L1808.89 12.096 L1831.94 72.576 L1823.43 72.576 L1817.92 57.061 L1790.66 57.061 L1785.15 72.576 L1776.52 72.576 L1799.61 12.096 Z\" fill=\"#000000\" fill-rule=\"evenodd\" fill-opacity=\"1\" /><path clip-path=\"url(#clip190)\" d=\"M 0 0 M1834.16 46.5287 L1856 46.5287 L1856 53.1722 L1834.16 53.1722 L1834.16 46.5287 Z\" fill=\"#000000\" fill-rule=\"evenodd\" fill-opacity=\"1\" /><path clip-path=\"url(#clip190)\" d=\"M 0 0 M1864.14 12.096 L1902.38 12.096 L1902.38 18.9825 L1872.32 18.9825 L1872.32 36.8875 L1901.13 36.8875 L1901.13 43.7741 L1872.32 43.7741 L1872.32 65.6895 L1903.11 65.6895 L1903.11 72.576 L1864.14 72.576 L1864.14 12.096 Z\" fill=\"#000000\" fill-rule=\"evenodd\" fill-opacity=\"1\" /><path clip-path=\"url(#clip190)\" d=\"M 0 0 M1947.51 14.0809 L1947.51 22.0612 Q1942.85 19.8332 1938.72 18.7395 Q1934.59 17.6457 1930.74 17.6457 Q1924.05 17.6457 1920.41 20.2383 Q1916.8 22.8309 1916.8 27.611 Q1916.8 31.6214 1919.19 33.6873 Q1921.62 35.7128 1928.35 36.9686 L1933.29 37.9813 Q1942.44 39.7232 1946.78 44.1387 Q1951.15 48.5136 1951.15 55.8863 Q1951.15 64.6767 1945.24 69.2137 Q1939.37 73.7508 1927.98 73.7508 Q1923.69 73.7508 1918.83 72.7785 Q1914.01 71.8063 1908.82 69.9024 L1908.82 61.4765 Q1913.8 64.2716 1918.58 65.6895 Q1923.36 67.1073 1927.98 67.1073 Q1934.99 67.1073 1938.8 64.3527 Q1942.61 61.598 1942.61 56.4939 Q1942.61 52.0379 1939.85 49.5264 Q1937.14 47.0148 1930.9 45.759 L1925.92 44.7868 Q1916.76 42.9639 1912.67 39.075 Q1908.58 35.1862 1908.58 28.2591 Q1908.58 20.2383 1914.21 15.6203 Q1919.88 11.0023 1929.81 11.0023 Q1934.06 11.0023 1938.47 11.7719 Q1942.89 12.5416 1947.51 14.0809 Z\" fill=\"#000000\" fill-rule=\"evenodd\" fill-opacity=\"1\" /><path clip-path=\"url(#clip190)\" d=\"M 0 0 M1164.22 1549.26 L1164.22 1536.5 L1153.71 1536.5 L1153.71 1531.22 L1170.58 1531.22 L1170.58 1551.62 Q1166.86 1554.26 1162.37 1555.63 Q1157.88 1556.97 1152.79 1556.97 Q1141.65 1556.97 1135.35 1550.47 Q1129.08 1543.95 1129.08 1532.33 Q1129.08 1520.68 1135.35 1514.19 Q1141.65 1507.66 1152.79 1507.66 Q1157.44 1507.66 1161.61 1508.81 Q1165.81 1509.96 1169.34 1512.18 L1169.34 1519.03 Q1165.78 1516 1161.77 1514.48 Q1157.76 1512.95 1153.33 1512.95 Q1144.61 1512.95 1140.22 1517.82 Q1135.86 1522.69 1135.86 1532.33 Q1135.86 1541.94 1140.22 1546.81 Q1144.61 1551.68 1153.33 1551.68 Q1156.74 1551.68 1159.41 1551.11 Q1162.09 1550.51 1164.22 1549.26 Z\" fill=\"#000000\" fill-rule=\"evenodd\" fill-opacity=\"1\" /><path clip-path=\"url(#clip190)\" d=\"M 0 0 M1207.22 1536.76 L1207.22 1539.62 L1180.29 1539.62 Q1180.67 1545.67 1183.92 1548.85 Q1187.2 1552 1193.02 1552 Q1196.4 1552 1199.55 1551.17 Q1202.73 1550.35 1205.85 1548.69 L1205.85 1554.23 Q1202.7 1555.57 1199.39 1556.27 Q1196.08 1556.97 1192.67 1556.97 Q1184.14 1556.97 1179.15 1552 Q1174.18 1547.04 1174.18 1538.57 Q1174.18 1529.82 1178.89 1524.69 Q1183.63 1519.54 1191.65 1519.54 Q1198.85 1519.54 1203.02 1524.18 Q1207.22 1528.8 1207.22 1536.76 M1201.36 1535.04 Q1201.3 1530.23 1198.66 1527.37 Q1196.05 1524.5 1191.72 1524.5 Q1186.82 1524.5 1183.86 1527.27 Q1180.93 1530.04 1180.48 1535.07 L1201.36 1535.04 M1195.73 1503.91 L1202.06 1503.91 L1191.69 1515.88 L1186.82 1515.88 L1195.73 1503.91 Z\" fill=\"#000000\" fill-rule=\"evenodd\" fill-opacity=\"1\" /><path clip-path=\"url(#clip190)\" d=\"M 0 0 M1242.99 1534.53 L1242.99 1556.04 L1237.14 1556.04 L1237.14 1534.72 Q1237.14 1529.66 1235.16 1527.14 Q1233.19 1524.63 1229.24 1524.63 Q1224.5 1524.63 1221.76 1527.65 Q1219.03 1530.68 1219.03 1535.9 L1219.03 1556.04 L1213.14 1556.04 L1213.14 1520.4 L1219.03 1520.4 L1219.03 1525.93 Q1221.13 1522.72 1223.96 1521.13 Q1226.83 1519.54 1230.55 1519.54 Q1236.69 1519.54 1239.84 1523.36 Q1242.99 1527.14 1242.99 1534.53 Z\" fill=\"#000000\" fill-rule=\"evenodd\" fill-opacity=\"1\" /><path clip-path=\"url(#clip190)\" d=\"M 0 0 M1279.63 1536.76 L1279.63 1539.62 L1252.7 1539.62 Q1253.08 1545.67 1256.33 1548.85 Q1259.61 1552 1265.43 1552 Q1268.81 1552 1271.96 1551.17 Q1275.14 1550.35 1278.26 1548.69 L1278.26 1554.23 Q1275.11 1555.57 1271.8 1556.27 Q1268.49 1556.97 1265.08 1556.97 Q1256.55 1556.97 1251.56 1552 Q1246.59 1547.04 1246.59 1538.57 Q1246.59 1529.82 1251.3 1524.69 Q1256.04 1519.54 1264.06 1519.54 Q1271.26 1519.54 1275.43 1524.18 Q1279.63 1528.8 1279.63 1536.76 M1273.77 1535.04 Q1273.71 1530.23 1271.07 1527.37 Q1268.46 1524.5 1264.13 1524.5 Q1259.23 1524.5 1256.27 1527.27 Q1253.34 1530.04 1252.89 1535.07 L1273.77 1535.04 M1268.14 1503.91 L1274.47 1503.91 L1264.1 1515.88 L1259.23 1515.88 L1268.14 1503.91 Z\" fill=\"#000000\" fill-rule=\"evenodd\" fill-opacity=\"1\" /><path clip-path=\"url(#clip190)\" d=\"M 0 0 M1306.43 1525.87 Q1305.44 1525.3 1304.26 1525.04 Q1303.12 1524.76 1301.72 1524.76 Q1296.75 1524.76 1294.08 1528 Q1291.44 1531.22 1291.44 1537.27 L1291.44 1556.04 L1285.55 1556.04 L1285.55 1520.4 L1291.44 1520.4 L1291.44 1525.93 Q1293.28 1522.69 1296.24 1521.13 Q1299.2 1519.54 1303.44 1519.54 Q1304.04 1519.54 1304.77 1519.63 Q1305.51 1519.7 1306.4 1519.85 L1306.43 1525.87 Z\" fill=\"#000000\" fill-rule=\"evenodd\" fill-opacity=\"1\" /><path clip-path=\"url(#clip190)\" d=\"M 0 0 M1328.77 1538.12 Q1321.67 1538.12 1318.94 1539.75 Q1316.2 1541.37 1316.2 1545.29 Q1316.2 1548.4 1318.24 1550.25 Q1320.31 1552.07 1323.84 1552.07 Q1328.71 1552.07 1331.64 1548.63 Q1334.6 1545.16 1334.6 1539.43 L1334.6 1538.12 L1328.77 1538.12 M1340.45 1535.71 L1340.45 1556.04 L1334.6 1556.04 L1334.6 1550.63 Q1332.59 1553.88 1329.6 1555.44 Q1326.61 1556.97 1322.28 1556.97 Q1316.8 1556.97 1313.56 1553.91 Q1310.34 1550.82 1310.34 1545.67 Q1310.34 1539.65 1314.35 1536.6 Q1318.4 1533.54 1326.38 1533.54 L1334.6 1533.54 L1334.6 1532.97 Q1334.6 1528.93 1331.92 1526.73 Q1329.28 1524.5 1324.47 1524.5 Q1321.42 1524.5 1318.52 1525.23 Q1315.63 1525.97 1312.95 1527.43 L1312.95 1522.02 Q1316.17 1520.78 1319.19 1520.17 Q1322.22 1519.54 1325.08 1519.54 Q1332.81 1519.54 1336.63 1523.55 Q1340.45 1527.56 1340.45 1535.71 Z\" fill=\"#000000\" fill-rule=\"evenodd\" fill-opacity=\"1\" /><path clip-path=\"url(#clip190)\" d=\"M 0 0 M1352.39 1510.27 L1352.39 1520.4 L1364.45 1520.4 L1364.45 1524.95 L1352.39 1524.95 L1352.39 1544.3 Q1352.39 1548.66 1353.57 1549.9 Q1354.78 1551.14 1358.44 1551.14 L1364.45 1551.14 L1364.45 1556.04 L1358.44 1556.04 Q1351.66 1556.04 1349.08 1553.53 Q1346.5 1550.98 1346.5 1544.3 L1346.5 1524.95 L1342.2 1524.95 L1342.2 1520.4 L1346.5 1520.4 L1346.5 1510.27 L1352.39 1510.27 Z\" fill=\"#000000\" fill-rule=\"evenodd\" fill-opacity=\"1\" /><path clip-path=\"url(#clip190)\" d=\"M 0 0 M1370.59 1520.4 L1376.45 1520.4 L1376.45 1556.04 L1370.59 1556.04 L1370.59 1520.4 M1370.59 1506.52 L1376.45 1506.52 L1376.45 1513.93 L1370.59 1513.93 L1370.59 1506.52 Z\" fill=\"#000000\" fill-rule=\"evenodd\" fill-opacity=\"1\" /><path clip-path=\"url(#clip190)\" d=\"M 0 0 M1396.41 1524.5 Q1391.7 1524.5 1388.96 1528.19 Q1386.22 1531.85 1386.22 1538.25 Q1386.22 1544.65 1388.93 1548.34 Q1391.66 1552 1396.41 1552 Q1401.09 1552 1403.82 1548.31 Q1406.56 1544.62 1406.56 1538.25 Q1406.56 1531.92 1403.82 1528.23 Q1401.09 1524.5 1396.41 1524.5 M1396.41 1519.54 Q1404.05 1519.54 1408.41 1524.5 Q1412.77 1529.47 1412.77 1538.25 Q1412.77 1547 1408.41 1552 Q1404.05 1556.97 1396.41 1556.97 Q1388.74 1556.97 1384.38 1552 Q1380.05 1547 1380.05 1538.25 Q1380.05 1529.47 1384.38 1524.5 Q1388.74 1519.54 1396.41 1519.54 Z\" fill=\"#000000\" fill-rule=\"evenodd\" fill-opacity=\"1\" /><path clip-path=\"url(#clip190)\" d=\"M 0 0 M1448.54 1534.53 L1448.54 1556.04 L1442.69 1556.04 L1442.69 1534.72 Q1442.69 1529.66 1440.71 1527.14 Q1438.74 1524.63 1434.79 1524.63 Q1430.05 1524.63 1427.31 1527.65 Q1424.58 1530.68 1424.58 1535.9 L1424.58 1556.04 L1418.69 1556.04 L1418.69 1520.4 L1424.58 1520.4 L1424.58 1525.93 Q1426.68 1522.72 1429.51 1521.13 Q1432.37 1519.54 1436.1 1519.54 Q1442.24 1519.54 1445.39 1523.36 Q1448.54 1527.14 1448.54 1534.53 Z\" fill=\"#000000\" fill-rule=\"evenodd\" fill-opacity=\"1\" /><path clip-path=\"url(#clip190)\" d=\"M 0 0 M40.4842 1158.16 L40.4842 1130.86 L45.895 1130.86 L45.895 1151.74 L59.8996 1151.74 L59.8996 1132.89 L65.3104 1132.89 L65.3104 1151.74 L88.0042 1151.74 L88.0042 1158.16 L40.4842 1158.16 Z\" fill=\"#000000\" fill-rule=\"evenodd\" fill-opacity=\"1\" /><path clip-path=\"url(#clip190)\" d=\"M 0 0 M52.3562 1129.46 L52.3562 1123.6 L88.0042 1123.6 L88.0042 1129.46 L52.3562 1129.46 M38.479 1129.46 L38.479 1123.6 L45.895 1123.6 L45.895 1129.46 L38.479 1129.46 Z\" fill=\"#000000\" fill-rule=\"evenodd\" fill-opacity=\"1\" /><path clip-path=\"url(#clip190)\" d=\"M 0 0 M42.2347 1111.66 L52.3562 1111.66 L52.3562 1099.6 L56.9077 1099.6 L56.9077 1111.66 L76.2594 1111.66 Q80.6199 1111.66 81.8613 1110.49 Q83.1026 1109.28 83.1026 1105.62 L83.1026 1099.6 L88.0042 1099.6 L88.0042 1105.62 Q88.0042 1112.4 85.4897 1114.97 Q82.9434 1117.55 76.2594 1117.55 L56.9077 1117.55 L56.9077 1121.85 L52.3562 1121.85 L52.3562 1117.55 L42.2347 1117.55 L42.2347 1111.66 Z\" fill=\"#000000\" fill-rule=\"evenodd\" fill-opacity=\"1\" /><path clip-path=\"url(#clip190)\" d=\"M 0 0 M66.4881 1063.83 L88.0042 1063.83 L88.0042 1069.68 L66.679 1069.68 Q61.6183 1069.68 59.1038 1071.65 Q56.5894 1073.63 56.5894 1077.57 Q56.5894 1082.32 59.6131 1085.05 Q62.6368 1087.79 67.8567 1087.79 L88.0042 1087.79 L88.0042 1093.68 L52.3562 1093.68 L52.3562 1087.79 L57.8944 1087.79 Q54.6797 1085.69 53.0883 1082.86 Q51.4968 1079.99 51.4968 1076.27 Q51.4968 1070.13 55.3163 1066.98 Q59.1038 1063.83 66.4881 1063.83 Z\" fill=\"#000000\" fill-rule=\"evenodd\" fill-opacity=\"1\" /><path clip-path=\"url(#clip190)\" d=\"M 0 0 M68.7161 1027.19 L71.5806 1027.19 L71.5806 1054.12 Q77.6281 1053.74 80.8109 1050.49 Q83.9619 1047.21 83.9619 1041.39 Q83.9619 1038.01 83.1344 1034.86 Q82.3069 1031.68 80.6518 1028.56 L86.1899 1028.56 Q87.5267 1031.71 88.227 1035.02 Q88.9272 1038.33 88.9272 1041.74 Q88.9272 1050.27 83.9619 1055.26 Q78.9967 1060.23 70.5303 1060.23 Q61.7774 1060.23 56.6531 1055.52 Q51.4968 1050.78 51.4968 1042.75 Q51.4968 1035.56 56.1438 1031.39 Q60.7589 1027.19 68.7161 1027.19 M66.9973 1033.05 Q62.1912 1033.11 59.3266 1035.75 Q56.4621 1038.36 56.4621 1042.69 Q56.4621 1047.59 59.2312 1050.55 Q62.0002 1053.48 67.0292 1053.93 L66.9973 1033.05 Z\" fill=\"#000000\" fill-rule=\"evenodd\" fill-opacity=\"1\" /><path clip-path=\"url(#clip190)\" d=\"M 0 0 M53.4065 998.322 L58.9447 998.322 Q57.6716 1000.8 57.035 1003.48 Q56.3984 1006.15 56.3984 1009.02 Q56.3984 1013.38 57.7352 1015.57 Q59.072 1017.74 61.7456 1017.74 Q63.7826 1017.74 64.9603 1016.18 Q66.1061 1014.62 67.1565 1009.91 L67.6021 1007.9 Q68.9389 1001.66 71.3897 999.054 Q73.8086 996.412 78.1691 996.412 Q83.1344 996.412 86.0308 1000.36 Q88.9272 1004.27 88.9272 1011.15 Q88.9272 1014.01 88.3543 1017.13 Q87.8132 1020.22 86.6992 1023.66 L80.6518 1023.66 Q82.3387 1020.41 83.198 1017.26 Q84.0256 1014.11 84.0256 1011.02 Q84.0256 1006.88 82.6251 1004.66 Q81.1929 1002.43 78.6147 1002.43 Q76.2276 1002.43 74.9545 1004.05 Q73.6813 1005.64 72.5037 1011.09 L72.0262 1013.12 Q70.8804 1018.56 68.5251 1020.98 Q66.138 1023.4 62.0002 1023.4 Q56.9713 1023.4 54.2341 1019.84 Q51.4968 1016.27 51.4968 1009.72 Q51.4968 1006.47 51.9743 1003.61 Q52.4517 1000.74 53.4065 998.322 Z\" fill=\"#000000\" fill-rule=\"evenodd\" fill-opacity=\"1\" /><path clip-path=\"url(#clip190)\" d=\"M 0 0 M53.4065 967.544 L58.9447 967.544 Q57.6716 970.026 57.035 972.7 Q56.3984 975.374 56.3984 978.238 Q56.3984 982.599 57.7352 984.795 Q59.072 986.959 61.7456 986.959 Q63.7826 986.959 64.9603 985.4 Q66.1061 983.84 67.1565 979.129 L67.6021 977.124 Q68.9389 970.886 71.3897 968.276 Q73.8086 965.634 78.1691 965.634 Q83.1344 965.634 86.0308 969.581 Q88.9272 973.496 88.9272 980.371 Q88.9272 983.235 88.3543 986.354 Q87.8132 989.442 86.6992 992.879 L80.6518 992.879 Q82.3387 989.633 83.198 986.482 Q84.0256 983.331 84.0256 980.243 Q84.0256 976.106 82.6251 973.878 Q81.1929 971.65 78.6147 971.65 Q76.2276 971.65 74.9545 973.273 Q73.6813 974.864 72.5037 980.307 L72.0262 982.344 Q70.8804 987.787 68.5251 990.206 Q66.138 992.625 62.0002 992.625 Q56.9713 992.625 54.2341 989.06 Q51.4968 985.495 51.4968 978.938 Q51.4968 975.692 51.9743 972.827 Q52.4517 969.963 53.4065 967.544 Z\" fill=\"#000000\" fill-rule=\"evenodd\" fill-opacity=\"1\" /><path clip-path=\"url(#clip190)\" d=\"M 0 0 M57.7671 915.313 L38.479 915.313 L38.479 909.457 L88.0042 909.457 L88.0042 915.313 L82.657 915.313 Q85.8398 917.159 87.3994 919.992 Q88.9272 922.793 88.9272 926.74 Q88.9272 933.201 83.771 937.275 Q78.6147 941.317 70.212 941.317 Q61.8093 941.317 56.6531 937.275 Q51.4968 933.201 51.4968 926.74 Q51.4968 922.793 53.0564 919.992 Q54.5842 917.159 57.7671 915.313 M70.212 935.27 Q76.6732 935.27 80.3653 932.628 Q84.0256 929.954 84.0256 925.307 Q84.0256 920.66 80.3653 917.987 Q76.6732 915.313 70.212 915.313 Q63.7508 915.313 60.0905 917.987 Q56.3984 920.66 56.3984 925.307 Q56.3984 929.954 60.0905 932.628 Q63.7508 935.27 70.212 935.27 Z\" fill=\"#000000\" fill-rule=\"evenodd\" fill-opacity=\"1\" /><path clip-path=\"url(#clip190)\" d=\"M 0 0 M73.9359 903.918 L52.3562 903.918 L52.3562 898.062 L73.7131 898.062 Q78.7739 898.062 81.3202 896.089 Q83.8346 894.115 83.8346 890.169 Q83.8346 885.426 80.8109 882.689 Q77.7872 879.92 72.5673 879.92 L52.3562 879.92 L52.3562 874.063 L88.0042 874.063 L88.0042 879.92 L82.5296 879.92 Q85.7762 882.052 87.3676 884.885 Q88.9272 887.686 88.9272 891.41 Q88.9272 897.553 85.1078 900.736 Q81.2883 903.918 73.9359 903.918 M51.4968 889.182 L51.4968 889.182 Z\" fill=\"#000000\" fill-rule=\"evenodd\" fill-opacity=\"1\" /><path clip-path=\"url(#clip190)\" d=\"M 0 0 M59.1993 819.446 Q55.2526 817.249 53.3747 814.194 Q51.4968 811.138 51.4968 807.001 Q51.4968 801.431 55.4117 798.407 Q59.2948 795.383 66.4881 795.383 L88.0042 795.383 L88.0042 801.271 L66.679 801.271 Q61.5546 801.271 59.072 803.086 Q56.5894 804.9 56.5894 808.624 Q56.5894 813.175 59.6131 815.817 Q62.6368 818.459 67.8567 818.459 L88.0042 818.459 L88.0042 824.347 L66.679 824.347 Q61.5228 824.347 59.072 826.161 Q56.5894 827.976 56.5894 831.763 Q56.5894 836.251 59.6449 838.893 Q62.6686 841.535 67.8567 841.535 L88.0042 841.535 L88.0042 847.423 L52.3562 847.423 L52.3562 841.535 L57.8944 841.535 Q54.616 839.529 53.0564 836.728 Q51.4968 833.928 51.4968 830.076 Q51.4968 826.193 53.4702 823.488 Q55.4436 820.75 59.1993 819.446 Z\" fill=\"#000000\" fill-rule=\"evenodd\" fill-opacity=\"1\" /><path clip-path=\"url(#clip190)\" d=\"M 0 0 M68.7161 758.749 L71.5806 758.749 L71.5806 785.675 Q77.6281 785.294 80.8109 782.047 Q83.9619 778.769 83.9619 772.944 Q83.9619 769.57 83.1344 766.419 Q82.3069 763.236 80.6518 760.117 L86.1899 760.117 Q87.5267 763.268 88.227 766.578 Q88.9272 769.889 88.9272 773.294 Q88.9272 781.824 83.9619 786.821 Q78.9967 791.787 70.5303 791.787 Q61.7774 791.787 56.6531 787.076 Q51.4968 782.333 51.4968 774.313 Q51.4968 767.119 56.1438 762.95 Q60.7589 758.749 68.7161 758.749 M66.9973 764.605 Q62.1912 764.669 59.3266 767.31 Q56.4621 769.92 56.4621 774.249 Q56.4621 779.151 59.2312 782.111 Q62.0002 785.039 67.0292 785.484 L66.9973 764.605 Z\" fill=\"#000000\" fill-rule=\"evenodd\" fill-opacity=\"1\" /><path clip-path=\"url(#clip190)\" d=\"M 0 0 M52.3562 752.606 L52.3562 746.749 L88.0042 746.749 L88.0042 752.606 L52.3562 752.606 M38.479 752.606 L38.479 746.749 L45.895 746.749 L45.895 752.606 L38.479 752.606 Z\" fill=\"#000000\" fill-rule=\"evenodd\" fill-opacity=\"1\" /><path clip-path=\"url(#clip190)\" d=\"M 0 0 M38.479 740.606 L38.479 734.75 L88.0042 734.75 L88.0042 740.606 L38.479 740.606 Z\" fill=\"#000000\" fill-rule=\"evenodd\" fill-opacity=\"1\" /><path clip-path=\"url(#clip190)\" d=\"M 0 0 M38.479 728.607 L38.479 722.75 L88.0042 722.75 L88.0042 728.607 L38.479 728.607 Z\" fill=\"#000000\" fill-rule=\"evenodd\" fill-opacity=\"1\" /><path clip-path=\"url(#clip190)\" d=\"M 0 0 M68.7161 686.116 L71.5806 686.116 L71.5806 713.043 Q77.6281 712.661 80.8109 709.414 Q83.9619 706.136 83.9619 700.311 Q83.9619 696.938 83.1344 693.786 Q82.3069 690.604 80.6518 687.484 L86.1899 687.484 Q87.5267 690.635 88.227 693.946 Q88.9272 697.256 88.9272 700.661 Q88.9272 709.191 83.9619 714.189 Q78.9967 719.154 70.5303 719.154 Q61.7774 719.154 56.6531 714.443 Q51.4968 709.701 51.4968 701.68 Q51.4968 694.487 56.1438 690.317 Q60.7589 686.116 68.7161 686.116 M66.9973 691.972 Q62.1912 692.036 59.3266 694.678 Q56.4621 697.288 56.4621 701.616 Q56.4621 706.518 59.2312 709.478 Q62.0002 712.406 67.0292 712.852 L66.9973 691.972 Z\" fill=\"#000000\" fill-rule=\"evenodd\" fill-opacity=\"1\" /><path clip-path=\"url(#clip190)\" d=\"M 0 0 M73.9359 680.578 L52.3562 680.578 L52.3562 674.721 L73.7131 674.721 Q78.7739 674.721 81.3202 672.748 Q83.8346 670.774 83.8346 666.828 Q83.8346 662.085 80.8109 659.348 Q77.7872 656.579 72.5673 656.579 L52.3562 656.579 L52.3562 650.722 L88.0042 650.722 L88.0042 656.579 L82.5296 656.579 Q85.7762 658.711 87.3676 661.544 Q88.9272 664.345 88.9272 668.069 Q88.9272 674.212 85.1078 677.395 Q81.2883 680.578 73.9359 680.578 M51.4968 665.841 L51.4968 665.841 Z\" fill=\"#000000\" fill-rule=\"evenodd\" fill-opacity=\"1\" /><path clip-path=\"url(#clip190)\" d=\"M 0 0 M57.8307 623.923 Q57.2578 624.91 57.0032 626.087 Q56.7167 627.233 56.7167 628.633 Q56.7167 633.599 59.9632 636.272 Q63.1779 638.914 69.2253 638.914 L88.0042 638.914 L88.0042 644.802 L52.3562 644.802 L52.3562 638.914 L57.8944 638.914 Q54.6479 637.068 53.0883 634.108 Q51.4968 631.148 51.4968 626.915 Q51.4968 626.31 51.5923 625.578 Q51.656 624.846 51.8151 623.955 L57.8307 623.923 Z\" fill=\"#000000\" fill-rule=\"evenodd\" fill-opacity=\"1\" /><path clip-path=\"url(#clip190)\" d=\"M 0 0 M52.3562 597.06 L52.3562 591.203 L88.0042 591.203 L88.0042 597.06 L52.3562 597.06 M38.479 597.06 L38.479 591.203 L45.895 591.203 L45.895 597.06 L38.479 597.06 Z\" fill=\"#000000\" fill-rule=\"evenodd\" fill-opacity=\"1\" /><path clip-path=\"url(#clip190)\" d=\"M 0 0 M66.4881 555.428 L88.0042 555.428 L88.0042 561.284 L66.679 561.284 Q61.6183 561.284 59.1038 563.258 Q56.5894 565.231 56.5894 569.178 Q56.5894 573.92 59.6131 576.657 Q62.6368 579.395 67.8567 579.395 L88.0042 579.395 L88.0042 585.283 L52.3562 585.283 L52.3562 579.395 L57.8944 579.395 Q54.6797 577.294 53.0883 574.461 Q51.4968 571.597 51.4968 567.873 Q51.4968 561.73 55.3163 558.579 Q59.1038 555.428 66.4881 555.428 Z\" fill=\"#000000\" fill-rule=\"evenodd\" fill-opacity=\"1\" /><path clip-path=\"url(#clip190)\" d=\"M 0 0 M57.7671 525.827 L38.479 525.827 L38.479 519.971 L88.0042 519.971 L88.0042 525.827 L82.657 525.827 Q85.8398 527.673 87.3994 530.506 Q88.9272 533.307 88.9272 537.254 Q88.9272 543.715 83.771 547.789 Q78.6147 551.831 70.212 551.831 Q61.8093 551.831 56.6531 547.789 Q51.4968 543.715 51.4968 537.254 Q51.4968 533.307 53.0564 530.506 Q54.5842 527.673 57.7671 525.827 M70.212 545.784 Q76.6732 545.784 80.3653 543.142 Q84.0256 540.468 84.0256 535.821 Q84.0256 531.175 80.3653 528.501 Q76.6732 525.827 70.212 525.827 Q63.7508 525.827 60.0905 528.501 Q56.3984 531.175 56.3984 535.821 Q56.3984 540.468 60.0905 543.142 Q63.7508 545.784 70.212 545.784 Z\" fill=\"#000000\" fill-rule=\"evenodd\" fill-opacity=\"1\" /><path clip-path=\"url(#clip190)\" d=\"M 0 0 M52.3562 513.828 L52.3562 507.972 L88.0042 507.972 L88.0042 513.828 L52.3562 513.828 M38.479 513.828 L38.479 507.972 L45.895 507.972 L45.895 513.828 L38.479 513.828 Z\" fill=\"#000000\" fill-rule=\"evenodd\" fill-opacity=\"1\" /><path clip-path=\"url(#clip190)\" d=\"M 0 0 M52.3562 506.03 L52.3562 499.823 L82.275 488.683 L52.3562 477.543 L52.3562 471.337 L88.0042 484.705 L88.0042 492.662 L52.3562 506.03 Z\" fill=\"#000000\" fill-rule=\"evenodd\" fill-opacity=\"1\" /><path clip-path=\"url(#clip190)\" d=\"M 0 0 M52.3562 465.194 L52.3562 459.338 L88.0042 459.338 L88.0042 465.194 L52.3562 465.194 M38.479 465.194 L38.479 459.338 L45.895 459.338 L45.895 465.194 L38.479 465.194 Z\" fill=\"#000000\" fill-rule=\"evenodd\" fill-opacity=\"1\" /><path clip-path=\"url(#clip190)\" d=\"M 0 0 M57.7671 429.737 L38.479 429.737 L38.479 423.881 L88.0042 423.881 L88.0042 429.737 L82.657 429.737 Q85.8398 431.583 87.3994 434.416 Q88.9272 437.217 88.9272 441.163 Q88.9272 447.625 83.771 451.699 Q78.6147 455.741 70.212 455.741 Q61.8093 455.741 56.6531 451.699 Q51.4968 447.625 51.4968 441.163 Q51.4968 437.217 53.0564 434.416 Q54.5842 431.583 57.7671 429.737 M70.212 449.693 Q76.6732 449.693 80.3653 447.052 Q84.0256 444.378 84.0256 439.731 Q84.0256 435.084 80.3653 432.411 Q76.6732 429.737 70.212 429.737 Q63.7508 429.737 60.0905 432.411 Q56.3984 435.084 56.3984 439.731 Q56.3984 444.378 60.0905 447.052 Q63.7508 449.693 70.212 449.693 Z\" fill=\"#000000\" fill-rule=\"evenodd\" fill-opacity=\"1\" /><path clip-path=\"url(#clip190)\" d=\"M 0 0 M73.9359 418.342 L52.3562 418.342 L52.3562 412.486 L73.7131 412.486 Q78.7739 412.486 81.3202 410.513 Q83.8346 408.539 83.8346 404.592 Q83.8346 399.85 80.8109 397.113 Q77.7872 394.344 72.5673 394.344 L52.3562 394.344 L52.3562 388.487 L88.0042 388.487 L88.0042 394.344 L82.5296 394.344 Q85.7762 396.476 87.3676 399.309 Q88.9272 402.11 88.9272 405.834 Q88.9272 411.977 85.1078 415.16 Q81.2883 418.342 73.9359 418.342 M51.4968 403.606 L51.4968 403.606 Z\" fill=\"#000000\" fill-rule=\"evenodd\" fill-opacity=\"1\" /><polyline clip-path=\"url(#clip192)\" style=\"stroke:#009af9; stroke-width:4; stroke-opacity:1; fill:none\" points=\"\n",
       "  285.09,1386.4 326.058,1386.4 367.026,1386.4 407.994,1386.4 448.962,1200.45 489.931,1200.45 530.899,1200.45 571.867,1200.45 612.835,1200.45 653.804,1200.45 \n",
       "  694.772,1200.45 735.74,1171.37 776.708,1200.45 817.676,1200.45 858.645,1200.45 899.613,1200.45 940.581,750.675 981.549,176.2 1022.52,160.256 1063.49,160.256 \n",
       "  1104.45,160.256 1145.42,160.256 1186.39,160.256 1227.36,160.256 1268.33,160.256 1309.3,160.256 1350.26,160.256 1391.23,160.256 1432.2,160.256 1473.17,160.256 \n",
       "  1514.14,160.256 1555.1,160.256 1596.07,160.256 1637.04,160.256 1678.01,160.256 1718.98,160.256 1759.95,160.256 1800.91,160.256 1841.88,160.256 1882.85,160.256 \n",
       "  1923.82,160.256 1964.79,160.256 2005.76,160.256 2046.72,160.256 2087.69,160.256 2128.66,160.256 2169.63,160.256 2210.6,160.256 2251.56,160.256 2292.53,160.256 \n",
       "  \n",
       "  \"/>\n",
       "<path clip-path=\"url(#clip190)\" d=\"\n",
       "M1989.74 327.952 L2280.76 327.952 L2280.76 206.992 L1989.74 206.992  Z\n",
       "  \" fill=\"#ffffff\" fill-rule=\"evenodd\" fill-opacity=\"1\"/>\n",
       "<polyline clip-path=\"url(#clip190)\" style=\"stroke:#000000; stroke-width:4; stroke-opacity:1; fill:none\" points=\"\n",
       "  1989.74,327.952 2280.76,327.952 2280.76,206.992 1989.74,206.992 1989.74,327.952 \n",
       "  \"/>\n",
       "<polyline clip-path=\"url(#clip190)\" style=\"stroke:#009af9; stroke-width:4; stroke-opacity:1; fill:none\" points=\"\n",
       "  2013.74,267.472 2157.74,267.472 \n",
       "  \"/>\n",
       "<path clip-path=\"url(#clip190)\" d=\"M 0 0 M2195.58 287.16 Q2193.77 291.789 2192.06 293.201 Q2190.35 294.613 2187.48 294.613 L2184.08 294.613 L2184.08 291.048 L2186.58 291.048 Q2188.33 291.048 2189.31 290.215 Q2190.28 289.382 2191.46 286.28 L2192.22 284.335 L2181.74 258.826 L2186.25 258.826 L2194.35 279.104 L2202.46 258.826 L2206.97 258.826 L2195.58 287.16 Z\" fill=\"#000000\" fill-rule=\"evenodd\" fill-opacity=\"1\" /><path clip-path=\"url(#clip190)\" d=\"M 0 0 M2212.85 280.817 L2220.49 280.817 L2220.49 254.451 L2212.18 256.118 L2212.18 251.859 L2220.44 250.192 L2225.12 250.192 L2225.12 280.817 L2232.76 280.817 L2232.76 284.752 L2212.85 284.752 L2212.85 280.817 Z\" fill=\"#000000\" fill-rule=\"evenodd\" fill-opacity=\"1\" /></svg>\n"
      ]
     },
     "execution_count": 34,
     "metadata": {},
     "output_type": "execute_result"
    }
   ],
   "source": [
    "fz(x, y) = objective([x, y])\n",
    "my_guess, liste_generations, liste_fitness = not_plot_obj_cmaes(500)\n",
    "\n",
    "println(evaluate_bird(my_guess))\n",
    "println(my_guess)\n",
    "\n",
    "plot(liste_generations, liste_fitness, title = \"Evolution de la fitness pour CMA-ES\")\n",
    "xlabel!(\"Génération\")\n",
    "ylabel!(\"Fitness du meilleur individu\")"
   ]
  },
  {
   "cell_type": "code",
   "execution_count": 20,
   "metadata": {},
   "outputs": [
    {
     "data": {
      "text/plain": [
       "3.7131686565287767"
      ]
     },
     "execution_count": 20,
     "metadata": {},
     "output_type": "execute_result"
    }
   ],
   "source": [
    "norm([0.35208954887234667, -3.4358274688486206, 1.0413801214669456, 0.8799269676066064])"
   ]
  },
  {
   "cell_type": "markdown",
   "metadata": {},
   "source": [
    "\n",
    "\n",
    "## II. ES (mu/signam, lambda)\n"
   ]
  },
  {
   "cell_type": "code",
   "execution_count": 21,
   "metadata": {},
   "outputs": [
    {
     "data": {
      "text/plain": [
       "sphere (generic function with 1 method)"
      ]
     },
     "execution_count": 21,
     "metadata": {},
     "output_type": "execute_result"
    }
   ],
   "source": [
    "s = [3.5, -0.2]\n",
    "sphere(x::Array{Float64}) = -sum((x .- s).^2)"
   ]
  },
  {
   "cell_type": "code",
   "execution_count": 22,
   "metadata": {},
   "outputs": [
    {
     "data": {
      "text/plain": [
       "2-element Array{Float64,1}:\n",
       " -0.26530936608972994\n",
       "  0.40578984289034264"
      ]
     },
     "execution_count": 22,
     "metadata": {},
     "output_type": "execute_result"
    }
   ],
   "source": [
    "npop = 50     # population size\n",
    "sigma = 0.1   # noise standard deviation\n",
    "alpha = 0.001 # step size\n",
    "x = randn(2)  # initial expert"
   ]
  },
  {
   "cell_type": "code",
   "execution_count": 23,
   "metadata": {},
   "outputs": [
    {
     "data": {
      "text/plain": [
       "step_es (generic function with 1 method)"
      ]
     },
     "execution_count": 23,
     "metadata": {},
     "output_type": "execute_result"
    }
   ],
   "source": [
    "xs = -5.0:0.1:5.0\n",
    "ys = -5.0:0.1:5.0\n",
    "#fz(x, y) = objective([x, y]);\n",
    "\n",
    "function step_es(x::Array{Float64}; npop=50, sigma=0.1, alpha=0.01, visualize=false, anim=Nothing)\n",
    "    N = randn(npop, 2)\n",
    "    P = repeat(x, 1, npop)' .+ sigma .* N\n",
    "    R = zeros(npop)\n",
    "    for i in eachindex(R)\n",
    "        R[i] = objective(P[i, :]) #evaluation\n",
    "    end\n",
    "    A = (R .- mean(R)) ./ std(R) #the selection is done here: we are giving a higher porbability to individuals that did well\n",
    "    \n",
    "    if visualize\n",
    "        plot(xs, ys, fz, st=:contour)\n",
    "        scatter!(P[:, 1], P[:, 2], xlims=(-5, 5), ylims=(-5, 5), zcolor=R)\n",
    "        scatter!([x[1]], [x[2]], legend=:none, color=:black, marker=:rect)\n",
    "        frame(anim)\n",
    "    end\n",
    "    \n",
    "    x .+ alpha/(npop * sigma) .* [dot(N[:, i], A) for i in 1:size(N, 2)] #modification step: changing the center of gravity\n",
    "end"
   ]
  },
  {
   "cell_type": "code",
   "execution_count": 24,
   "metadata": {},
   "outputs": [
    {
     "data": {
      "text/plain": [
       "plot_obj_es (generic function with 1 method)"
      ]
     },
     "execution_count": 24,
     "metadata": {},
     "output_type": "execute_result"
    }
   ],
   "source": [
    "function plot_obj_es()\n",
    "    x = randn(2) #initial population: which is a single point\n",
    "    println(\"x initial: \", x)\n",
    "    anim = Animation()\n",
    "    for i in 1:500\n",
    "        v = mod(i, 10) == 0\n",
    "        x = step_es(x, npop=50, sigma=0.1, alpha=0.001, visualize=v, anim=anim)\n",
    "    end\n",
    "    println(\"x final: \", x)\n",
    "    gif(anim)\n",
    "end"
   ]
  },
  {
   "cell_type": "code",
   "execution_count": 25,
   "metadata": {},
   "outputs": [
    {
     "ename": "UndefVarError",
     "evalue": "UndefVarError: solution not defined",
     "output_type": "error",
     "traceback": [
      "UndefVarError: solution not defined",
      "",
      "Stacktrace:",
      " [1] top-level scope at In[25]:3"
     ]
    }
   ],
   "source": [
    "xs = -5.0:0.1:5.0\n",
    "ys = -5.0:0.1:5.0\n",
    "\n",
    "#fz(x, y) = objective_es([x, y])\n",
    "println(solution) # optimal for sphere and rastrigin\n",
    "#plot_obj_cmaes()"
   ]
  }
 ],
 "metadata": {
  "@webio": {
   "lastCommId": null,
   "lastKernelId": null
  },
  "kernelspec": {
   "display_name": "Julia 1.3.1",
   "language": "julia",
   "name": "julia-1.3"
  },
  "language_info": {
   "file_extension": ".jl",
   "mimetype": "application/julia",
   "name": "julia",
   "version": "1.3.1"
  }
 },
 "nbformat": 4,
 "nbformat_minor": 2
}
