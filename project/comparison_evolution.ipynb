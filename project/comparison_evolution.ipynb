{
 "cells": [
  {
   "cell_type": "markdown",
   "metadata": {},
   "source": [
    "\n",
    "\n",
    "# Project: Comparison of Existing Algorithms applied on Flappy Bird\n",
    "\n",
    "<a href=\"https://github.com/lplacidet/evolution_project\">https://github.com/lplacidet/evolution_project</a>"
   ]
  },
  {
   "cell_type": "markdown",
   "metadata": {},
   "source": [
    "Importing Libraries"
   ]
  },
  {
   "cell_type": "code",
   "execution_count": 1,
   "metadata": {},
   "outputs": [
    {
     "data": {
      "text/plain": [
       "Plots.GRBackend()"
      ]
     },
     "execution_count": 1,
     "metadata": {},
     "output_type": "execute_result"
    }
   ],
   "source": [
    "using Random\n",
    "using LinearAlgebra\n",
    "using Statistics\n",
    "using Plots\n",
    "\n",
    "using Cxx, Libdl\n",
    "\n",
    "gr(reuse=true)"
   ]
  },
  {
   "cell_type": "code",
   "execution_count": 2,
   "metadata": {},
   "outputs": [
    {
     "name": "stdout",
     "output_type": "stream",
     "text": [
      "ggre-gg"
     ]
    }
   ],
   "source": [
    "const path_to_lib = pwd()\n",
    "addHeaderDir(path_to_lib*\"/world/\", kind=C_System)\n",
    "cxxinclude(\"runWorld.h\")\n",
    "print(\"gg\")\n",
    "#objective = @cxx FlappyXP->evaluate\n",
    "print(\"re-gg\")"
   ]
  },
  {
   "cell_type": "code",
   "execution_count": 3,
   "metadata": {},
   "outputs": [
    {
     "data": {
      "text/plain": [
       "Individu([0.20102182381846512, 0.2355178671314755, 0.7961666800629108, 0.4810663422452288, 0.451564760508788], -Inf)"
      ]
     },
     "execution_count": 3,
     "metadata": {},
     "output_type": "execute_result"
    }
   ],
   "source": [
    "N_genes = 5\n",
    "\n",
    "mutable struct Individu\n",
    "    genes::Array{Float64}\n",
    "    fitness::Float64\n",
    "end\n",
    "\n",
    "function Individu(n::Int)\n",
    "    newgenes = zeros(n)\n",
    "    for i in 1:n\n",
    "        newgenes[i] = rand()\n",
    "    end\n",
    "    Individu(newgenes, -Inf)\n",
    "end \n",
    "\n",
    "Individu(N_genes)"
   ]
  },
  {
   "cell_type": "code",
   "execution_count": 4,
   "metadata": {},
   "outputs": [
    {
     "data": {
      "text/plain": [
       "true"
      ]
     },
     "execution_count": 4,
     "metadata": {},
     "output_type": "execute_result"
    }
   ],
   "source": [
    "cxx\"\"\"\n",
    "\n",
    "static double evaluate_bird(float g1, float g2, float g3, float g4, float g5) {\n",
    "float ind[5] = {g1,g2,g3,g4,g5};\n",
    "bool dbg = false;\n",
    "#ifdef DISPLAY\n",
    "\tinitscr();\n",
    "\ttimeout(0);\n",
    "\tnoecho();\n",
    "\tcurs_set(FALSE);\n",
    "#endif\n",
    "\tconst int NRUN = 3;\n",
    "\tauto &g = ind;\n",
    "\tdouble d = 0;\n",
    "\tfor (int r = 0; r < NRUN; ++r) {\n",
    "\t\tWorld world;\n",
    "\t\tworld.gen.seed(r * 100);\n",
    "\t\twhile (world.bestiau.vivant) {\n",
    "#ifdef DISPLAY\n",
    "            std::this_thread::sleep_for(std::chrono::milliseconds(25));\n",
    "            display(world, world.dist == 0);\n",
    "#endif\n",
    "            world.update();\n",
    "            // update inputs\n",
    "            float birdY = world.bestiau.y;\n",
    "            float birdVY = world.bestiau.vit;\n",
    "            float obsX;\n",
    "            float obsY;\n",
    "            if (world.obstacles.size() > 0) {\n",
    "                const auto &o = world.obstacles.front();\n",
    "                obsY = o.y + world.hauteurPassage * 0.5;\n",
    "                obsX = o.x / world.W;\n",
    "            } else {\n",
    "                obsY = world.H * 0.5;\n",
    "                obsX = 1000.0;\n",
    "            }\n",
    "            if ((g[0]*birdY+g[1]*birdVY+g[2]*obsX+g[3]*obsY+g[4]*world.dist)>1.0) world.bestiauUp();\n",
    "        }\n",
    "        d += world.dist;\n",
    "        float distToTunnel = world.bestiau.y-(world.obstacles.front().y+world.hauteurPassage*0.5);\n",
    "        d += 0.3*(1-((distToTunnel*distToTunnel)/(world.H*world.H)));\n",
    "    }\n",
    "#ifdef DISPLAY\n",
    "    endwin();\n",
    "#endif\n",
    "    return d;\n",
    "}\n",
    "\"\"\""
   ]
  },
  {
   "cell_type": "code",
   "execution_count": 5,
   "metadata": {},
   "outputs": [
    {
     "name": "stderr",
     "output_type": "stream",
     "text": [
      "In file included from /Cxx.cpp:1:\n",
      "\u001b[1mIn[5]:30:13: \u001b[0m\u001b[0;1;31merror: \u001b[0m\u001b[1muse of undeclared identifier 'display'\u001b[0m\n",
      "            display(world, world.dist == 0);\n",
      "\u001b[0;1;32m            ^\n",
      "\u001b[0m"
     ]
    },
    {
     "data": {
      "text/plain": [
       "true"
      ]
     },
     "execution_count": 5,
     "metadata": {},
     "output_type": "execute_result"
    }
   ],
   "source": [
    "cxx\"\"\"\n",
    "#define DISPLAY\n",
    "#include <chrono>\n",
    "#include \"coverage.hpp\"\n",
    "#include \"include/gaga/gaga.hpp\"\n",
    "#include \"include/grgen/multiint.hpp\"\n",
    "#include \"include/grgen/real.hpp\"\n",
    "#include \"include/grgen/grn.hpp\"\n",
    "#include \"signalxp.hpp\"\n",
    "#include \"bestiau.hpp\"\n",
    "#include <curses.h>\n",
    "\n",
    "static double evaluate_bird_display(float g1, float g2, float g3, float g4, float g5) {\n",
    "float ind[5] = {g1,g2,g3,g4,g5};\n",
    "bool dbg = false;\n",
    "#ifdef DISPLAY\n",
    "\tinitscr();\n",
    "\ttimeout(0);\n",
    "\tnoecho();\n",
    "\tcurs_set(FALSE);\n",
    "#endif\n",
    "\tconst int NRUN = 3;\n",
    "\tauto &g = ind;\n",
    "\tdouble d = 0;\n",
    "\tfor (int r = 0; r < NRUN; ++r) {\n",
    "\t\tWorld world;\n",
    "\t\tworld.gen.seed(r * 100);\n",
    "\t\twhile (world.bestiau.vivant) {\n",
    "#ifdef DISPLAY\n",
    "            std::this_thread::sleep_for(std::chrono::milliseconds(25));\n",
    "            display(world, world.dist == 0);\n",
    "#endif\n",
    "            world.update();\n",
    "            // update inputs\n",
    "            float birdY = world.bestiau.y;\n",
    "            float birdVY = world.bestiau.vit;\n",
    "            float obsX;\n",
    "            float obsY;\n",
    "            if (world.obstacles.size() > 0) {\n",
    "                const auto &o = world.obstacles.front();\n",
    "                obsY = o.y + world.hauteurPassage * 0.5;\n",
    "                obsX = o.x / world.W;\n",
    "            } else {\n",
    "                obsY = world.H * 0.5;\n",
    "                obsX = 1000.0;\n",
    "            }\n",
    "            if ((g[0]*birdY+g[1]*birdVY+g[2]*obsX+g[3]*obsY+g[4]*world.dist)>1.0) world.bestiauUp();\n",
    "        }\n",
    "        d += world.dist;\n",
    "        float distToTunnel = world.bestiau.y-(world.obstacles.front().y+world.hauteurPassage*0.5);\n",
    "        d += 0.3*(1-((distToTunnel*distToTunnel)/(world.H*world.H)));\n",
    "    }\n",
    "#ifdef DISPLAY\n",
    "    endwin();\n",
    "#endif\n",
    "    return d;\n",
    "}\n",
    "\"\"\""
   ]
  },
  {
   "cell_type": "code",
   "execution_count": 6,
   "metadata": {},
   "outputs": [
    {
     "data": {
      "text/plain": [
       "cpptojulia (generic function with 1 method)"
      ]
     },
     "execution_count": 6,
     "metadata": {},
     "output_type": "execute_result"
    }
   ],
   "source": [
    "cpptojulia(g1::Float64, g2::Float64, g3::Float64, g4::Float64, g5::Float64) = @cxx evaluate_bird(g1,g2,g3,g4,g5)"
   ]
  },
  {
   "cell_type": "code",
   "execution_count": 7,
   "metadata": {},
   "outputs": [
    {
     "data": {
      "text/plain": [
       "evaluate_bird (generic function with 1 method)"
      ]
     },
     "execution_count": 7,
     "metadata": {},
     "output_type": "execute_result"
    }
   ],
   "source": [
    "function evaluate_bird(g::Array{Float64})\n",
    "    -1*cpptojulia(g[1],g[2],g[3],g[4],g[5])\n",
    "end"
   ]
  },
  {
   "cell_type": "code",
   "execution_count": 8,
   "metadata": {},
   "outputs": [
    {
     "name": "stdout",
     "output_type": "stream",
     "text": [
      "Individu([0.9011397122391518, 0.25614221709048923, 0.16486898583893628, 0.12364170879013758, 0.7637354439918853], -Inf)\n"
     ]
    },
    {
     "data": {
      "text/plain": [
       "1.8873729519689084"
      ]
     },
     "execution_count": 8,
     "metadata": {},
     "output_type": "execute_result"
    }
   ],
   "source": [
    "test_ind = Individu(N_genes)\n",
    "println(test_ind)\n",
    "cpptojulia(test_ind.genes[1], test_ind.genes[2],test_ind.genes[3], test_ind.genes[4], test_ind.genes[5])"
   ]
  },
  {
   "cell_type": "markdown",
   "metadata": {},
   "source": [
    "\n",
    "\n",
    "## I. CMA-ES Algorithm\n"
   ]
  },
  {
   "cell_type": "code",
   "execution_count": 9,
   "metadata": {},
   "outputs": [],
   "source": [
    "mutable struct CMAES\n",
    "    N::Int\n",
    "    μ::Int\n",
    "    λ::Int\n",
    "    τ::Float64\n",
    "    τ_c::Float64\n",
    "    τ_σ::Float64\n",
    "    population::Array{Array{Float64}}\n",
    "    offspring::Array{Array{Float64}}\n",
    "    F_μ::Array{Float64}\n",
    "    F_λ::Array{Float64}\n",
    "    C::Array{Float64}\n",
    "    s::Array{Float64}\n",
    "    s_σ::Array{Float64}\n",
    "    σ::Float64\n",
    "    E::Array{Float64}\n",
    "    W::Array{Float64}\n",
    "    x::Array{Float64}\n",
    "end"
   ]
  },
  {
   "cell_type": "code",
   "execution_count": 10,
   "metadata": {},
   "outputs": [
    {
     "data": {
      "text/plain": [
       "evaluate_bird (generic function with 1 method)"
      ]
     },
     "execution_count": 10,
     "metadata": {},
     "output_type": "execute_result"
    }
   ],
   "source": [
    "N_value = N_genes\n",
    "mu = 5\n",
    "lambda = 5\n",
    "objective = evaluate_bird"
   ]
  },
  {
   "cell_type": "code",
   "execution_count": 11,
   "metadata": {},
   "outputs": [
    {
     "data": {
      "text/plain": [
       "CMAES"
      ]
     },
     "execution_count": 11,
     "metadata": {},
     "output_type": "execute_result"
    }
   ],
   "source": [
    "function CMAES(;N=N_value, μ=mu, λ=lambda, τ=sqrt(N), τ_c=N^2, τ_σ=sqrt(N))\n",
    "    x = randn(N)\n",
    "    population = fill(x, µ)\n",
    "    offspring = Array{Array{Float64}}(undef, λ)\n",
    "    F_µ = Inf .* ones(µ)\n",
    "    F_λ = Inf .* ones(λ)\n",
    "    C = Array(Diagonal{Float64}(I, N))\n",
    "    s = zeros(N)\n",
    "    s_σ = zeros(N)\n",
    "    σ = 0.1\n",
    "    E = zeros(N, λ)\n",
    "    W = zeros(N, λ);\n",
    "    CMAES(N, μ, λ, τ, τ_c, τ_σ, population, offspring, F_µ, F_λ, C, s, s_σ, σ, E, W, x)\n",
    "end"
   ]
  },
  {
   "cell_type": "code",
   "execution_count": 12,
   "metadata": {},
   "outputs": [
    {
     "data": {
      "text/plain": [
       "step_cmaes! (generic function with 1 method)"
      ]
     },
     "execution_count": 12,
     "metadata": {},
     "output_type": "execute_result"
    }
   ],
   "source": [
    "function step_cmaes!(c::CMAES; obj=objective, visualize=false, anim=Nothing)\n",
    "    # L1\n",
    "    sqrt_c = cholesky((c.C + c.C') / 2.0).U\n",
    "    for i in 1:c.λ\n",
    "        c.E[:,i] = randn(c.N)\n",
    "        c.W[:,i] = c.σ * (sqrt_c * c.E[:,i])\n",
    "        c.offspring[i] = c.x + c.W[:,i]\n",
    "        c.F_λ[i] =  obj(c.offspring[i])\n",
    "    end    \n",
    "    # Select new parent population\n",
    "    idx = sortperm(c.F_λ)[1:c.μ]\n",
    "    for i in 1:c.μ\n",
    "        c.population[i] = c.offspring[idx[i]]\n",
    "        c.F_μ[i] = c.F_λ[idx[i]]\n",
    "    end    \n",
    "    # L2\n",
    "    w = vec(mean(c.W[:,idx], dims=2))\n",
    "    c.x += w \n",
    "    # L3\n",
    "    c.s = (1.0 - 1.0/c.τ)*c.s + (sqrt(c.μ/c.τ * (2.0 - 1.0/c.τ))/c.σ)*w   \n",
    "    # L4\n",
    "    c.C = (1.0 - 1.0/c.τ_c).*c.C + (c.s./c.τ_c)*c.s'    \n",
    "    # L5\n",
    "    ɛ = vec(mean(c.E[:,idx], dims=2))\n",
    "    c.s_σ = (1.0 - 1.0/c.τ_σ)*c.s_σ + sqrt(c.μ/c.τ_σ*(2.0 - 1.0/c.τ_σ))*ɛ    \n",
    "    # L6\n",
    "    c.σ = c.σ*exp(((c.s_σ'*c.s_σ)[1] - c.N)/(2*c.N*sqrt(c.N)))\n",
    "    #println(\"this is old sigma ---> \",c.σ)\n",
    "    if c.σ > 1.0\n",
    "        c.σ = 1.0\n",
    "        print(\" -cs\") #stands for \"capping sigma\"\n",
    "    end\n",
    "    #println(\"this is new sigma ---> \",c.σ)\n",
    "    if visualize\n",
    "        plot(xs, ys, fz, st=:contour)\n",
    "        scatter!([c.offspring[i][1] for i in 1:λ], [c.offspring[i][2] for i in 1:λ], \n",
    "            xlims=(-5, 5), ylims=(-5, 5), legend=:none)\n",
    "        scatter!([c.x[1]], [c.x[2]], color=:black, marker=:rect,\n",
    "            xlims=(-5, 5), ylims=(-5, 5), legend=:none)\n",
    "        frame(anim)\n",
    "    end\n",
    "    c\n",
    "end"
   ]
  },
  {
   "cell_type": "code",
   "execution_count": 13,
   "metadata": {},
   "outputs": [
    {
     "data": {
      "text/plain": [
       "plot_obj_cmaes (generic function with 1 method)"
      ]
     },
     "execution_count": 13,
     "metadata": {},
     "output_type": "execute_result"
    }
   ],
   "source": [
    "function plot_obj_cmaes()\n",
    "    c = CMAES()\n",
    "    println(\"x initial: \", c.x)\n",
    "    anim = Animation()\n",
    "    for i in 1:100\n",
    "        v = mod(i, 1) == 0\n",
    "        step_cmaes!(c, visualize=v, anim=anim)\n",
    "    end\n",
    "    println(\"x final: \", c.x)\n",
    "    gif(anim)\n",
    "end"
   ]
  },
  {
   "cell_type": "code",
   "execution_count": 14,
   "metadata": {},
   "outputs": [
    {
     "data": {
      "text/plain": [
       "not_plot_obj_cmaes (generic function with 1 method)"
      ]
     },
     "execution_count": 14,
     "metadata": {},
     "output_type": "execute_result"
    }
   ],
   "source": [
    "function not_plot_obj_cmaes(nbgen::Int)\n",
    "    freq = 1 #frequence d'echantillonage du graphique\n",
    "    freq_purcent = 5 #afficher complétion tous les n%\n",
    "    c = CMAES()\n",
    "    gen = zeros(Int(nbgen/freq))\n",
    "    fitness = zeros(Int(nbgen/freq))\n",
    "    next_purcentage = freq_purcent\n",
    "    for i in 1:nbgen\n",
    "        v = mod(i, 1) == 0\n",
    "        if i%freq==0\n",
    "            gen[Int(i/freq)] = i\n",
    "            fitness[Int(i/freq)] = -1*evaluate_bird(c.population[1])\n",
    "        end\n",
    "        step_cmaes!(c, visualize=false)\n",
    "        if i/nbgen >= next_purcentage/100\n",
    "            println(next_purcentage,\"% done ...\", c.σ)\n",
    "            next_purcentage += freq_purcent\n",
    "        end\n",
    "    end\n",
    "    c.population[1], gen, fitness\n",
    "end"
   ]
  },
  {
   "cell_type": "code",
   "execution_count": 15,
   "metadata": {
    "scrolled": false
   },
   "outputs": [
    {
     "name": "stdout",
     "output_type": "stream",
     "text": [
      " -cs5% done ...0.29780080414867516\n",
      "10% done ...0.35429433577369185\n",
      " -cs -cs -cs -cs15% done ...0.735011038326642\n",
      " -cs -cs -cs -cs -cs -cs -cs -cs -cs -cs -cs -cs -cs -cs -cs -cs20% done ...0.3394978062341515\n",
      "25% done ...0.2983453933673009\n",
      "30% done ...0.18961622832792852\n",
      "35% done ...0.23965386046847736\n",
      "40% done ...0.7087097152114107\n",
      " -cs -cs -cs -cs -cs -cs -cs45% done ...0.5407192066646008\n",
      " -cs -cs -cs -cs -cs50% done ...0.6492633809823871\n",
      " -cs55% done ...0.15037112050066503\n",
      "60% done ...0.3772974549910002\n",
      " -cs -cs65% done ...0.7419024253425144\n",
      " -cs -cs -cs -cs -cs -cs -cs -cs70% done ...1.0\n",
      " -cs -cs -cs -cs -cs -cs75% done ...0.42381724902691503\n",
      " -cs80% done ...1.0\n",
      "85% done ...0.14709336265322315\n",
      " -cs -cs -cs -cs -cs -cs -cs -cs -cs -cs -cs -cs -cs -cs90% done ...1.0\n",
      " -cs -cs -cs -cs -cs -cs -cs -cs -cs -cs -cs -cs -cs -cs -cs -cs95% done ...0.6451899495222636\n",
      " -cs -cs -cs -cs -cs100% done ...0.6066389603070567\n",
      "0.7698380868673325\n",
      "[21.23768340017786, 5.794343610952084, 2.2575898102545313, 4.164190288071225, -4.96408449512258]\n"
     ]
    },
    {
     "data": {
      "image/svg+xml": [
       "<?xml version=\"1.0\" encoding=\"utf-8\"?>\n",
       "<svg xmlns=\"http://www.w3.org/2000/svg\" xmlns:xlink=\"http://www.w3.org/1999/xlink\" width=\"600\" height=\"400\" viewBox=\"0 0 2400 1600\">\n",
       "<defs>\n",
       "  <clipPath id=\"clip360\">\n",
       "    <rect x=\"0\" y=\"0\" width=\"2400\" height=\"1600\"/>\n",
       "  </clipPath>\n",
       "</defs>\n",
       "<path clip-path=\"url(#clip360)\" d=\"\n",
       "M0 1600 L2400 1600 L2400 0 L0 0  Z\n",
       "  \" fill=\"#ffffff\" fill-rule=\"evenodd\" fill-opacity=\"1\"/>\n",
       "<defs>\n",
       "  <clipPath id=\"clip361\">\n",
       "    <rect x=\"480\" y=\"0\" width=\"1681\" height=\"1600\"/>\n",
       "  </clipPath>\n",
       "</defs>\n",
       "<path clip-path=\"url(#clip360)\" d=\"\n",
       "M236.232 1423.18 L2352.76 1423.18 L2352.76 123.472 L236.232 123.472  Z\n",
       "  \" fill=\"#ffffff\" fill-rule=\"evenodd\" fill-opacity=\"1\"/>\n",
       "<defs>\n",
       "  <clipPath id=\"clip362\">\n",
       "    <rect x=\"236\" y=\"123\" width=\"2118\" height=\"1301\"/>\n",
       "  </clipPath>\n",
       "</defs>\n",
       "<polyline clip-path=\"url(#clip362)\" style=\"stroke:#000000; stroke-width:2; stroke-opacity:0.1; fill:none\" points=\"\n",
       "  294.135,1423.18 294.135,123.472 \n",
       "  \"/>\n",
       "<polyline clip-path=\"url(#clip362)\" style=\"stroke:#000000; stroke-width:2; stroke-opacity:0.1; fill:none\" points=\"\n",
       "  793.815,1423.18 793.815,123.472 \n",
       "  \"/>\n",
       "<polyline clip-path=\"url(#clip362)\" style=\"stroke:#000000; stroke-width:2; stroke-opacity:0.1; fill:none\" points=\"\n",
       "  1293.49,1423.18 1293.49,123.472 \n",
       "  \"/>\n",
       "<polyline clip-path=\"url(#clip362)\" style=\"stroke:#000000; stroke-width:2; stroke-opacity:0.1; fill:none\" points=\"\n",
       "  1793.17,1423.18 1793.17,123.472 \n",
       "  \"/>\n",
       "<polyline clip-path=\"url(#clip362)\" style=\"stroke:#000000; stroke-width:2; stroke-opacity:0.1; fill:none\" points=\"\n",
       "  2292.85,1423.18 2292.85,123.472 \n",
       "  \"/>\n",
       "<polyline clip-path=\"url(#clip362)\" style=\"stroke:#000000; stroke-width:2; stroke-opacity:0.1; fill:none\" points=\"\n",
       "  236.232,1408.16 2352.76,1408.16 \n",
       "  \"/>\n",
       "<polyline clip-path=\"url(#clip362)\" style=\"stroke:#000000; stroke-width:2; stroke-opacity:0.1; fill:none\" points=\"\n",
       "  236.232,1133.87 2352.76,1133.87 \n",
       "  \"/>\n",
       "<polyline clip-path=\"url(#clip362)\" style=\"stroke:#000000; stroke-width:2; stroke-opacity:0.1; fill:none\" points=\"\n",
       "  236.232,859.571 2352.76,859.571 \n",
       "  \"/>\n",
       "<polyline clip-path=\"url(#clip362)\" style=\"stroke:#000000; stroke-width:2; stroke-opacity:0.1; fill:none\" points=\"\n",
       "  236.232,585.275 2352.76,585.275 \n",
       "  \"/>\n",
       "<polyline clip-path=\"url(#clip362)\" style=\"stroke:#000000; stroke-width:2; stroke-opacity:0.1; fill:none\" points=\"\n",
       "  236.232,310.979 2352.76,310.979 \n",
       "  \"/>\n",
       "<polyline clip-path=\"url(#clip360)\" style=\"stroke:#000000; stroke-width:4; stroke-opacity:1; fill:none\" points=\"\n",
       "  236.232,1423.18 2352.76,1423.18 \n",
       "  \"/>\n",
       "<polyline clip-path=\"url(#clip360)\" style=\"stroke:#000000; stroke-width:4; stroke-opacity:1; fill:none\" points=\"\n",
       "  236.232,1423.18 236.232,123.472 \n",
       "  \"/>\n",
       "<polyline clip-path=\"url(#clip360)\" style=\"stroke:#000000; stroke-width:4; stroke-opacity:1; fill:none\" points=\"\n",
       "  294.135,1423.18 294.135,1407.58 \n",
       "  \"/>\n",
       "<polyline clip-path=\"url(#clip360)\" style=\"stroke:#000000; stroke-width:4; stroke-opacity:1; fill:none\" points=\"\n",
       "  793.815,1423.18 793.815,1407.58 \n",
       "  \"/>\n",
       "<polyline clip-path=\"url(#clip360)\" style=\"stroke:#000000; stroke-width:4; stroke-opacity:1; fill:none\" points=\"\n",
       "  1293.49,1423.18 1293.49,1407.58 \n",
       "  \"/>\n",
       "<polyline clip-path=\"url(#clip360)\" style=\"stroke:#000000; stroke-width:4; stroke-opacity:1; fill:none\" points=\"\n",
       "  1793.17,1423.18 1793.17,1407.58 \n",
       "  \"/>\n",
       "<polyline clip-path=\"url(#clip360)\" style=\"stroke:#000000; stroke-width:4; stroke-opacity:1; fill:none\" points=\"\n",
       "  2292.85,1423.18 2292.85,1407.58 \n",
       "  \"/>\n",
       "<polyline clip-path=\"url(#clip360)\" style=\"stroke:#000000; stroke-width:4; stroke-opacity:1; fill:none\" points=\"\n",
       "  236.232,1408.16 261.63,1408.16 \n",
       "  \"/>\n",
       "<polyline clip-path=\"url(#clip360)\" style=\"stroke:#000000; stroke-width:4; stroke-opacity:1; fill:none\" points=\"\n",
       "  236.232,1133.87 261.63,1133.87 \n",
       "  \"/>\n",
       "<polyline clip-path=\"url(#clip360)\" style=\"stroke:#000000; stroke-width:4; stroke-opacity:1; fill:none\" points=\"\n",
       "  236.232,859.571 261.63,859.571 \n",
       "  \"/>\n",
       "<polyline clip-path=\"url(#clip360)\" style=\"stroke:#000000; stroke-width:4; stroke-opacity:1; fill:none\" points=\"\n",
       "  236.232,585.275 261.63,585.275 \n",
       "  \"/>\n",
       "<polyline clip-path=\"url(#clip360)\" style=\"stroke:#000000; stroke-width:4; stroke-opacity:1; fill:none\" points=\"\n",
       "  236.232,310.979 261.63,310.979 \n",
       "  \"/>\n",
       "<path clip-path=\"url(#clip360)\" d=\"M 0 0 M294.135 1445.17 Q290.524 1445.17 288.695 1448.74 Q286.889 1452.28 286.889 1459.41 Q286.889 1466.51 288.695 1470.08 Q290.524 1473.62 294.135 1473.62 Q297.769 1473.62 299.575 1470.08 Q301.403 1466.51 301.403 1459.41 Q301.403 1452.28 299.575 1448.74 Q297.769 1445.17 294.135 1445.17 M294.135 1441.47 Q299.945 1441.47 303.001 1446.07 Q306.079 1450.66 306.079 1459.41 Q306.079 1468.13 303.001 1472.74 Q299.945 1477.32 294.135 1477.32 Q288.325 1477.32 285.246 1472.74 Q282.19 1468.13 282.19 1459.41 Q282.19 1450.66 285.246 1446.07 Q288.325 1441.47 294.135 1441.47 Z\" fill=\"#000000\" fill-rule=\"evenodd\" fill-opacity=\"1\" /><path clip-path=\"url(#clip360)\" d=\"M 0 0 M761.951 1472.72 L778.271 1472.72 L778.271 1476.65 L756.326 1476.65 L756.326 1472.72 Q758.988 1469.96 763.572 1465.33 Q768.178 1460.68 769.359 1459.34 Q771.604 1456.81 772.484 1455.08 Q773.387 1453.32 773.387 1451.63 Q773.387 1448.87 771.442 1447.14 Q769.521 1445.4 766.419 1445.4 Q764.22 1445.4 761.766 1446.17 Q759.336 1446.93 756.558 1448.48 L756.558 1443.76 Q759.382 1442.62 761.836 1442.05 Q764.289 1441.47 766.326 1441.47 Q771.697 1441.47 774.891 1444.15 Q778.086 1446.84 778.086 1451.33 Q778.086 1453.46 777.275 1455.38 Q776.488 1457.28 774.382 1459.87 Q773.803 1460.54 770.701 1463.76 Q767.6 1466.95 761.951 1472.72 Z\" fill=\"#000000\" fill-rule=\"evenodd\" fill-opacity=\"1\" /><path clip-path=\"url(#clip360)\" d=\"M 0 0 M783.387 1442.09 L801.743 1442.09 L801.743 1446.03 L787.669 1446.03 L787.669 1454.5 Q788.687 1454.15 789.706 1453.99 Q790.724 1453.8 791.743 1453.8 Q797.53 1453.8 800.91 1456.98 Q804.289 1460.15 804.289 1465.56 Q804.289 1471.14 800.817 1474.24 Q797.345 1477.32 791.025 1477.32 Q788.849 1477.32 786.581 1476.95 Q784.336 1476.58 781.928 1475.84 L781.928 1471.14 Q784.011 1472.28 786.234 1472.83 Q788.456 1473.39 790.933 1473.39 Q794.937 1473.39 797.275 1471.28 Q799.613 1469.18 799.613 1465.56 Q799.613 1461.95 797.275 1459.85 Q794.937 1457.74 790.933 1457.74 Q789.058 1457.74 787.183 1458.16 Q785.331 1458.57 783.387 1459.45 L783.387 1442.09 Z\" fill=\"#000000\" fill-rule=\"evenodd\" fill-opacity=\"1\" /><path clip-path=\"url(#clip360)\" d=\"M 0 0 M819.359 1445.17 Q815.747 1445.17 813.919 1448.74 Q812.113 1452.28 812.113 1459.41 Q812.113 1466.51 813.919 1470.08 Q815.747 1473.62 819.359 1473.62 Q822.993 1473.62 824.798 1470.08 Q826.627 1466.51 826.627 1459.41 Q826.627 1452.28 824.798 1448.74 Q822.993 1445.17 819.359 1445.17 M819.359 1441.47 Q825.169 1441.47 828.224 1446.07 Q831.303 1450.66 831.303 1459.41 Q831.303 1468.13 828.224 1472.74 Q825.169 1477.32 819.359 1477.32 Q813.548 1477.32 810.47 1472.74 Q807.414 1468.13 807.414 1459.41 Q807.414 1450.66 810.47 1446.07 Q813.548 1441.47 819.359 1441.47 Z\" fill=\"#000000\" fill-rule=\"evenodd\" fill-opacity=\"1\" /><path clip-path=\"url(#clip360)\" d=\"M 0 0 M1256.76 1442.09 L1275.12 1442.09 L1275.12 1446.03 L1261.04 1446.03 L1261.04 1454.5 Q1262.06 1454.15 1263.08 1453.99 Q1264.1 1453.8 1265.12 1453.8 Q1270.9 1453.8 1274.28 1456.98 Q1277.66 1460.15 1277.66 1465.56 Q1277.66 1471.14 1274.19 1474.24 Q1270.72 1477.32 1264.4 1477.32 Q1262.22 1477.32 1259.95 1476.95 Q1257.71 1476.58 1255.3 1475.84 L1255.3 1471.14 Q1257.38 1472.28 1259.61 1472.83 Q1261.83 1473.39 1264.3 1473.39 Q1268.31 1473.39 1270.65 1471.28 Q1272.99 1469.18 1272.99 1465.56 Q1272.99 1461.95 1270.65 1459.85 Q1268.31 1457.74 1264.3 1457.74 Q1262.43 1457.74 1260.55 1458.16 Q1258.7 1458.57 1256.76 1459.45 L1256.76 1442.09 Z\" fill=\"#000000\" fill-rule=\"evenodd\" fill-opacity=\"1\" /><path clip-path=\"url(#clip360)\" d=\"M 0 0 M1292.73 1445.17 Q1289.12 1445.17 1287.29 1448.74 Q1285.49 1452.28 1285.49 1459.41 Q1285.49 1466.51 1287.29 1470.08 Q1289.12 1473.62 1292.73 1473.62 Q1296.36 1473.62 1298.17 1470.08 Q1300 1466.51 1300 1459.41 Q1300 1452.28 1298.17 1448.74 Q1296.36 1445.17 1292.73 1445.17 M1292.73 1441.47 Q1298.54 1441.47 1301.6 1446.07 Q1304.68 1450.66 1304.68 1459.41 Q1304.68 1468.13 1301.6 1472.74 Q1298.54 1477.32 1292.73 1477.32 Q1286.92 1477.32 1283.84 1472.74 Q1280.79 1468.13 1280.79 1459.41 Q1280.79 1450.66 1283.84 1446.07 Q1286.92 1441.47 1292.73 1441.47 Z\" fill=\"#000000\" fill-rule=\"evenodd\" fill-opacity=\"1\" /><path clip-path=\"url(#clip360)\" d=\"M 0 0 M1319.74 1445.17 Q1316.13 1445.17 1314.3 1448.74 Q1312.5 1452.28 1312.5 1459.41 Q1312.5 1466.51 1314.3 1470.08 Q1316.13 1473.62 1319.74 1473.62 Q1323.38 1473.62 1325.18 1470.08 Q1327.01 1466.51 1327.01 1459.41 Q1327.01 1452.28 1325.18 1448.74 Q1323.38 1445.17 1319.74 1445.17 M1319.74 1441.47 Q1325.55 1441.47 1328.61 1446.07 Q1331.69 1450.66 1331.69 1459.41 Q1331.69 1468.13 1328.61 1472.74 Q1325.55 1477.32 1319.74 1477.32 Q1313.93 1477.32 1310.86 1472.74 Q1307.8 1468.13 1307.8 1459.41 Q1307.8 1450.66 1310.86 1446.07 Q1313.93 1441.47 1319.74 1441.47 Z\" fill=\"#000000\" fill-rule=\"evenodd\" fill-opacity=\"1\" /><path clip-path=\"url(#clip360)\" d=\"M 0 0 M1755.55 1442.09 L1777.77 1442.09 L1777.77 1444.08 L1765.22 1476.65 L1760.34 1476.65 L1772.14 1446.03 L1755.55 1446.03 L1755.55 1442.09 Z\" fill=\"#000000\" fill-rule=\"evenodd\" fill-opacity=\"1\" /><path clip-path=\"url(#clip360)\" d=\"M 0 0 M1782.89 1442.09 L1801.24 1442.09 L1801.24 1446.03 L1787.17 1446.03 L1787.17 1454.5 Q1788.19 1454.15 1789.2 1453.99 Q1790.22 1453.8 1791.24 1453.8 Q1797.03 1453.8 1800.41 1456.98 Q1803.79 1460.15 1803.79 1465.56 Q1803.79 1471.14 1800.32 1474.24 Q1796.84 1477.32 1790.52 1477.32 Q1788.35 1477.32 1786.08 1476.95 Q1783.83 1476.58 1781.43 1475.84 L1781.43 1471.14 Q1783.51 1472.28 1785.73 1472.83 Q1787.95 1473.39 1790.43 1473.39 Q1794.44 1473.39 1796.77 1471.28 Q1799.11 1469.18 1799.11 1465.56 Q1799.11 1461.95 1796.77 1459.85 Q1794.44 1457.74 1790.43 1457.74 Q1788.56 1457.74 1786.68 1458.16 Q1784.83 1458.57 1782.89 1459.45 L1782.89 1442.09 Z\" fill=\"#000000\" fill-rule=\"evenodd\" fill-opacity=\"1\" /><path clip-path=\"url(#clip360)\" d=\"M 0 0 M1818.86 1445.17 Q1815.25 1445.17 1813.42 1448.74 Q1811.61 1452.28 1811.61 1459.41 Q1811.61 1466.51 1813.42 1470.08 Q1815.25 1473.62 1818.86 1473.62 Q1822.49 1473.62 1824.3 1470.08 Q1826.13 1466.51 1826.13 1459.41 Q1826.13 1452.28 1824.3 1448.74 Q1822.49 1445.17 1818.86 1445.17 M1818.86 1441.47 Q1824.67 1441.47 1827.72 1446.07 Q1830.8 1450.66 1830.8 1459.41 Q1830.8 1468.13 1827.72 1472.74 Q1824.67 1477.32 1818.86 1477.32 Q1813.05 1477.32 1809.97 1472.74 Q1806.91 1468.13 1806.91 1459.41 Q1806.91 1450.66 1809.97 1446.07 Q1813.05 1441.47 1818.86 1441.47 Z\" fill=\"#000000\" fill-rule=\"evenodd\" fill-opacity=\"1\" /><path clip-path=\"url(#clip360)\" d=\"M 0 0 M2242.72 1472.72 L2250.35 1472.72 L2250.35 1446.35 L2242.04 1448.02 L2242.04 1443.76 L2250.31 1442.09 L2254.98 1442.09 L2254.98 1472.72 L2262.62 1472.72 L2262.62 1476.65 L2242.72 1476.65 L2242.72 1472.72 Z\" fill=\"#000000\" fill-rule=\"evenodd\" fill-opacity=\"1\" /><path clip-path=\"url(#clip360)\" d=\"M 0 0 M2277.69 1445.17 Q2274.08 1445.17 2272.25 1448.74 Q2270.45 1452.28 2270.45 1459.41 Q2270.45 1466.51 2272.25 1470.08 Q2274.08 1473.62 2277.69 1473.62 Q2281.33 1473.62 2283.13 1470.08 Q2284.96 1466.51 2284.96 1459.41 Q2284.96 1452.28 2283.13 1448.74 Q2281.33 1445.17 2277.69 1445.17 M2277.69 1441.47 Q2283.5 1441.47 2286.56 1446.07 Q2289.64 1450.66 2289.64 1459.41 Q2289.64 1468.13 2286.56 1472.74 Q2283.5 1477.32 2277.69 1477.32 Q2271.88 1477.32 2268.8 1472.74 Q2265.75 1468.13 2265.75 1459.41 Q2265.75 1450.66 2268.8 1446.07 Q2271.88 1441.47 2277.69 1441.47 Z\" fill=\"#000000\" fill-rule=\"evenodd\" fill-opacity=\"1\" /><path clip-path=\"url(#clip360)\" d=\"M 0 0 M2304.71 1445.17 Q2301.09 1445.17 2299.27 1448.74 Q2297.46 1452.28 2297.46 1459.41 Q2297.46 1466.51 2299.27 1470.08 Q2301.09 1473.62 2304.71 1473.62 Q2308.34 1473.62 2310.15 1470.08 Q2311.97 1466.51 2311.97 1459.41 Q2311.97 1452.28 2310.15 1448.74 Q2308.34 1445.17 2304.71 1445.17 M2304.71 1441.47 Q2310.52 1441.47 2313.57 1446.07 Q2316.65 1450.66 2316.65 1459.41 Q2316.65 1468.13 2313.57 1472.74 Q2310.52 1477.32 2304.71 1477.32 Q2298.9 1477.32 2295.82 1472.74 Q2292.76 1468.13 2292.76 1459.41 Q2292.76 1450.66 2295.82 1446.07 Q2298.9 1441.47 2304.71 1441.47 Z\" fill=\"#000000\" fill-rule=\"evenodd\" fill-opacity=\"1\" /><path clip-path=\"url(#clip360)\" d=\"M 0 0 M2331.72 1445.17 Q2328.11 1445.17 2326.28 1448.74 Q2324.47 1452.28 2324.47 1459.41 Q2324.47 1466.51 2326.28 1470.08 Q2328.11 1473.62 2331.72 1473.62 Q2335.35 1473.62 2337.16 1470.08 Q2338.99 1466.51 2338.99 1459.41 Q2338.99 1452.28 2337.16 1448.74 Q2335.35 1445.17 2331.72 1445.17 M2331.72 1441.47 Q2337.53 1441.47 2340.59 1446.07 Q2343.66 1450.66 2343.66 1459.41 Q2343.66 1468.13 2340.59 1472.74 Q2337.53 1477.32 2331.72 1477.32 Q2325.91 1477.32 2322.83 1472.74 Q2319.78 1468.13 2319.78 1459.41 Q2319.78 1450.66 2322.83 1446.07 Q2325.91 1441.47 2331.72 1441.47 Z\" fill=\"#000000\" fill-rule=\"evenodd\" fill-opacity=\"1\" /><path clip-path=\"url(#clip360)\" d=\"M 0 0 M138.205 1393.96 Q134.593 1393.96 132.765 1397.53 Q130.959 1401.07 130.959 1408.2 Q130.959 1415.3 132.765 1418.87 Q134.593 1422.41 138.205 1422.41 Q141.839 1422.41 143.644 1418.87 Q145.473 1415.3 145.473 1408.2 Q145.473 1401.07 143.644 1397.53 Q141.839 1393.96 138.205 1393.96 M138.205 1390.26 Q144.015 1390.26 147.07 1394.86 Q150.149 1399.45 150.149 1408.2 Q150.149 1416.92 147.07 1421.53 Q144.015 1426.11 138.205 1426.11 Q132.394 1426.11 129.316 1421.53 Q126.26 1416.92 126.26 1408.2 Q126.26 1399.45 129.316 1394.86 Q132.394 1390.26 138.205 1390.26 Z\" fill=\"#000000\" fill-rule=\"evenodd\" fill-opacity=\"1\" /><path clip-path=\"url(#clip360)\" d=\"M 0 0 M155.218 1419.56 L160.103 1419.56 L160.103 1425.44 L155.218 1425.44 L155.218 1419.56 Z\" fill=\"#000000\" fill-rule=\"evenodd\" fill-opacity=\"1\" /><path clip-path=\"url(#clip360)\" d=\"M 0 0 M163.991 1390.88 L186.214 1390.88 L186.214 1392.87 L173.667 1425.44 L168.783 1425.44 L180.589 1394.82 L163.991 1394.82 L163.991 1390.88 Z\" fill=\"#000000\" fill-rule=\"evenodd\" fill-opacity=\"1\" /><path clip-path=\"url(#clip360)\" d=\"M 0 0 M191.329 1390.88 L209.686 1390.88 L209.686 1394.82 L195.612 1394.82 L195.612 1403.29 Q196.63 1402.94 197.649 1402.78 Q198.667 1402.59 199.686 1402.59 Q205.473 1402.59 208.852 1405.77 Q212.232 1408.94 212.232 1414.35 Q212.232 1419.93 208.76 1423.03 Q205.288 1426.11 198.968 1426.11 Q196.792 1426.11 194.524 1425.74 Q192.278 1425.37 189.871 1424.63 L189.871 1419.93 Q191.954 1421.07 194.176 1421.62 Q196.399 1422.18 198.876 1422.18 Q202.88 1422.18 205.218 1420.07 Q207.556 1417.96 207.556 1414.35 Q207.556 1410.74 205.218 1408.64 Q202.88 1406.53 198.876 1406.53 Q197.001 1406.53 195.126 1406.95 Q193.274 1407.36 191.329 1408.24 L191.329 1390.88 Z\" fill=\"#000000\" fill-rule=\"evenodd\" fill-opacity=\"1\" /><path clip-path=\"url(#clip360)\" d=\"M 0 0 M128.343 1147.21 L135.982 1147.21 L135.982 1120.85 L127.672 1122.51 L127.672 1118.25 L135.936 1116.59 L140.612 1116.59 L140.612 1147.21 L148.251 1147.21 L148.251 1151.15 L128.343 1151.15 L128.343 1147.21 Z\" fill=\"#000000\" fill-rule=\"evenodd\" fill-opacity=\"1\" /><path clip-path=\"url(#clip360)\" d=\"M 0 0 M153.32 1145.27 L158.204 1145.27 L158.204 1151.15 L153.32 1151.15 L153.32 1145.27 Z\" fill=\"#000000\" fill-rule=\"evenodd\" fill-opacity=\"1\" /><path clip-path=\"url(#clip360)\" d=\"M 0 0 M173.274 1119.66 Q169.663 1119.66 167.834 1123.23 Q166.028 1126.77 166.028 1133.9 Q166.028 1141.01 167.834 1144.57 Q169.663 1148.11 173.274 1148.11 Q176.908 1148.11 178.714 1144.57 Q180.542 1141.01 180.542 1133.9 Q180.542 1126.77 178.714 1123.23 Q176.908 1119.66 173.274 1119.66 M173.274 1115.96 Q179.084 1115.96 182.139 1120.57 Q185.218 1125.15 185.218 1133.9 Q185.218 1142.63 182.139 1147.23 Q179.084 1151.82 173.274 1151.82 Q167.464 1151.82 164.385 1147.23 Q161.329 1142.63 161.329 1133.9 Q161.329 1125.15 164.385 1120.57 Q167.464 1115.96 173.274 1115.96 Z\" fill=\"#000000\" fill-rule=\"evenodd\" fill-opacity=\"1\" /><path clip-path=\"url(#clip360)\" d=\"M 0 0 M200.288 1119.66 Q196.676 1119.66 194.848 1123.23 Q193.042 1126.77 193.042 1133.9 Q193.042 1141.01 194.848 1144.57 Q196.676 1148.11 200.288 1148.11 Q203.922 1148.11 205.727 1144.57 Q207.556 1141.01 207.556 1133.9 Q207.556 1126.77 205.727 1123.23 Q203.922 1119.66 200.288 1119.66 M200.288 1115.96 Q206.098 1115.96 209.153 1120.57 Q212.232 1125.15 212.232 1133.9 Q212.232 1142.63 209.153 1147.23 Q206.098 1151.82 200.288 1151.82 Q194.477 1151.82 191.399 1147.23 Q188.343 1142.63 188.343 1133.9 Q188.343 1125.15 191.399 1120.57 Q194.477 1115.96 200.288 1115.96 Z\" fill=\"#000000\" fill-rule=\"evenodd\" fill-opacity=\"1\" /><path clip-path=\"url(#clip360)\" d=\"M 0 0 M130.936 872.915 L138.575 872.915 L138.575 846.55 L130.265 848.216 L130.265 843.957 L138.529 842.291 L143.205 842.291 L143.205 872.915 L150.843 872.915 L150.843 876.851 L130.936 876.851 L130.936 872.915 Z\" fill=\"#000000\" fill-rule=\"evenodd\" fill-opacity=\"1\" /><path clip-path=\"url(#clip360)\" d=\"M 0 0 M155.913 870.971 L160.797 870.971 L160.797 876.851 L155.913 876.851 L155.913 870.971 Z\" fill=\"#000000\" fill-rule=\"evenodd\" fill-opacity=\"1\" /><path clip-path=\"url(#clip360)\" d=\"M 0 0 M169.894 872.915 L186.214 872.915 L186.214 876.851 L164.269 876.851 L164.269 872.915 Q166.931 870.161 171.515 865.531 Q176.121 860.878 177.302 859.536 Q179.547 857.013 180.427 855.277 Q181.329 853.517 181.329 851.828 Q181.329 849.073 179.385 847.337 Q177.464 845.601 174.362 845.601 Q172.163 845.601 169.709 846.365 Q167.278 847.128 164.501 848.679 L164.501 843.957 Q167.325 842.823 169.778 842.244 Q172.232 841.666 174.269 841.666 Q179.64 841.666 182.834 844.351 Q186.028 847.036 186.028 851.527 Q186.028 853.656 185.218 855.578 Q184.431 857.476 182.325 860.068 Q181.746 860.74 178.644 863.957 Q175.542 867.152 169.894 872.915 Z\" fill=\"#000000\" fill-rule=\"evenodd\" fill-opacity=\"1\" /><path clip-path=\"url(#clip360)\" d=\"M 0 0 M191.329 842.291 L209.686 842.291 L209.686 846.226 L195.612 846.226 L195.612 854.698 Q196.63 854.351 197.649 854.189 Q198.667 854.003 199.686 854.003 Q205.473 854.003 208.852 857.175 Q212.232 860.346 212.232 865.763 Q212.232 871.341 208.76 874.443 Q205.288 877.522 198.968 877.522 Q196.792 877.522 194.524 877.151 Q192.278 876.781 189.871 876.04 L189.871 871.341 Q191.954 872.476 194.176 873.031 Q196.399 873.587 198.876 873.587 Q202.88 873.587 205.218 871.48 Q207.556 869.374 207.556 865.763 Q207.556 862.152 205.218 860.045 Q202.88 857.939 198.876 857.939 Q197.001 857.939 195.126 858.355 Q193.274 858.772 191.329 859.652 L191.329 842.291 Z\" fill=\"#000000\" fill-rule=\"evenodd\" fill-opacity=\"1\" /><path clip-path=\"url(#clip360)\" d=\"M 0 0 M129.339 598.62 L136.978 598.62 L136.978 572.254 L128.668 573.921 L128.668 569.662 L136.931 567.995 L141.607 567.995 L141.607 598.62 L149.246 598.62 L149.246 602.555 L129.339 602.555 L129.339 598.62 Z\" fill=\"#000000\" fill-rule=\"evenodd\" fill-opacity=\"1\" /><path clip-path=\"url(#clip360)\" d=\"M 0 0 M154.316 596.675 L159.2 596.675 L159.2 602.555 L154.316 602.555 L154.316 596.675 Z\" fill=\"#000000\" fill-rule=\"evenodd\" fill-opacity=\"1\" /><path clip-path=\"url(#clip360)\" d=\"M 0 0 M164.316 567.995 L182.672 567.995 L182.672 571.93 L168.598 571.93 L168.598 580.402 Q169.616 580.055 170.635 579.893 Q171.653 579.708 172.672 579.708 Q178.459 579.708 181.839 582.879 Q185.218 586.05 185.218 591.467 Q185.218 597.046 181.746 600.148 Q178.274 603.226 171.954 603.226 Q169.778 603.226 167.51 602.856 Q165.265 602.486 162.857 601.745 L162.857 597.046 Q164.941 598.18 167.163 598.736 Q169.385 599.291 171.862 599.291 Q175.866 599.291 178.204 597.185 Q180.542 595.078 180.542 591.467 Q180.542 587.856 178.204 585.75 Q175.866 583.643 171.862 583.643 Q169.987 583.643 168.112 584.06 Q166.26 584.476 164.316 585.356 L164.316 567.995 Z\" fill=\"#000000\" fill-rule=\"evenodd\" fill-opacity=\"1\" /><path clip-path=\"url(#clip360)\" d=\"M 0 0 M200.288 571.074 Q196.676 571.074 194.848 574.638 Q193.042 578.18 193.042 585.31 Q193.042 592.416 194.848 595.981 Q196.676 599.523 200.288 599.523 Q203.922 599.523 205.727 595.981 Q207.556 592.416 207.556 585.31 Q207.556 578.18 205.727 574.638 Q203.922 571.074 200.288 571.074 M200.288 567.37 Q206.098 567.37 209.153 571.976 Q212.232 576.56 212.232 585.31 Q212.232 594.037 209.153 598.643 Q206.098 603.226 200.288 603.226 Q194.477 603.226 191.399 598.643 Q188.343 594.037 188.343 585.31 Q188.343 576.56 191.399 571.976 Q194.477 567.37 200.288 567.37 Z\" fill=\"#000000\" fill-rule=\"evenodd\" fill-opacity=\"1\" /><path clip-path=\"url(#clip360)\" d=\"M 0 0 M130.242 324.324 L137.88 324.324 L137.88 297.959 L129.57 299.625 L129.57 295.366 L137.834 293.699 L142.51 293.699 L142.51 324.324 L150.149 324.324 L150.149 328.259 L130.242 328.259 L130.242 324.324 Z\" fill=\"#000000\" fill-rule=\"evenodd\" fill-opacity=\"1\" /><path clip-path=\"url(#clip360)\" d=\"M 0 0 M155.218 322.38 L160.103 322.38 L160.103 328.259 L155.218 328.259 L155.218 322.38 Z\" fill=\"#000000\" fill-rule=\"evenodd\" fill-opacity=\"1\" /><path clip-path=\"url(#clip360)\" d=\"M 0 0 M163.991 293.699 L186.214 293.699 L186.214 295.69 L173.667 328.259 L168.783 328.259 L180.589 297.635 L163.991 297.635 L163.991 293.699 Z\" fill=\"#000000\" fill-rule=\"evenodd\" fill-opacity=\"1\" /><path clip-path=\"url(#clip360)\" d=\"M 0 0 M191.329 293.699 L209.686 293.699 L209.686 297.635 L195.612 297.635 L195.612 306.107 Q196.63 305.76 197.649 305.598 Q198.667 305.412 199.686 305.412 Q205.473 305.412 208.852 308.584 Q212.232 311.755 212.232 317.172 Q212.232 322.75 208.76 325.852 Q205.288 328.931 198.968 328.931 Q196.792 328.931 194.524 328.56 Q192.278 328.19 189.871 327.449 L189.871 322.75 Q191.954 323.884 194.176 324.44 Q196.399 324.996 198.876 324.996 Q202.88 324.996 205.218 322.889 Q207.556 320.783 207.556 317.172 Q207.556 313.56 205.218 311.454 Q202.88 309.348 198.876 309.348 Q197.001 309.348 195.126 309.764 Q193.274 310.181 191.329 311.06 L191.329 293.699 Z\" fill=\"#000000\" fill-rule=\"evenodd\" fill-opacity=\"1\" /><path clip-path=\"url(#clip360)\" d=\"M 0 0 M632.151 12.096 L670.391 12.096 L670.391 18.9825 L640.334 18.9825 L640.334 36.8875 L669.136 36.8875 L669.136 43.7741 L640.334 43.7741 L640.334 65.6895 L671.121 65.6895 L671.121 72.576 L632.151 72.576 L632.151 12.096 Z\" fill=\"#000000\" fill-rule=\"evenodd\" fill-opacity=\"1\" /><path clip-path=\"url(#clip360)\" d=\"M 0 0 M673.592 27.2059 L681.491 27.2059 L695.669 65.2844 L709.847 27.2059 L717.746 27.2059 L700.733 72.576 L690.605 72.576 L673.592 27.2059 Z\" fill=\"#000000\" fill-rule=\"evenodd\" fill-opacity=\"1\" /><path clip-path=\"url(#clip360)\" d=\"M 0 0 M743.146 32.4315 Q737.15 32.4315 733.666 37.1306 Q730.183 41.7891 730.183 49.9314 Q730.183 58.0738 733.626 62.7728 Q737.11 67.4314 743.146 67.4314 Q749.1 67.4314 752.584 62.7323 Q756.068 58.0333 756.068 49.9314 Q756.068 41.8701 752.584 37.1711 Q749.1 32.4315 743.146 32.4315 M743.146 26.1121 Q752.868 26.1121 758.418 32.4315 Q763.967 38.7509 763.967 49.9314 Q763.967 61.0714 758.418 67.4314 Q752.868 73.7508 743.146 73.7508 Q733.383 73.7508 727.833 67.4314 Q722.324 61.0714 722.324 49.9314 Q722.324 38.7509 727.833 32.4315 Q733.383 26.1121 743.146 26.1121 Z\" fill=\"#000000\" fill-rule=\"evenodd\" fill-opacity=\"1\" /><path clip-path=\"url(#clip360)\" d=\"M 0 0 M771.785 9.54393 L779.239 9.54393 L779.239 72.576 L771.785 72.576 L771.785 9.54393 Z\" fill=\"#000000\" fill-rule=\"evenodd\" fill-opacity=\"1\" /><path clip-path=\"url(#clip360)\" d=\"M 0 0 M786.288 54.671 L786.288 27.2059 L793.741 27.2059 L793.741 54.3874 Q793.741 60.8284 796.253 64.0691 Q798.765 67.2693 803.788 67.2693 Q809.823 67.2693 813.307 63.421 Q816.832 59.5726 816.832 52.9291 L816.832 27.2059 L824.285 27.2059 L824.285 72.576 L816.832 72.576 L816.832 65.6084 Q814.117 69.7404 810.512 71.7658 Q806.947 73.7508 802.208 73.7508 Q794.39 73.7508 790.339 68.8897 Q786.288 64.0286 786.288 54.671 M805.043 26.1121 L805.043 26.1121 Z\" fill=\"#000000\" fill-rule=\"evenodd\" fill-opacity=\"1\" /><path clip-path=\"url(#clip360)\" d=\"M 0 0 M839.476 14.324 L839.476 27.2059 L854.829 27.2059 L854.829 32.9987 L839.476 32.9987 L839.476 57.6282 Q839.476 63.1779 840.975 64.7578 Q842.514 66.3376 847.173 66.3376 L854.829 66.3376 L854.829 72.576 L847.173 72.576 Q838.544 72.576 835.263 69.3758 Q831.982 66.1351 831.982 57.6282 L831.982 32.9987 L826.513 32.9987 L826.513 27.2059 L831.982 27.2059 L831.982 14.324 L839.476 14.324 Z\" fill=\"#000000\" fill-rule=\"evenodd\" fill-opacity=\"1\" /><path clip-path=\"url(#clip360)\" d=\"M 0 0 M862.647 27.2059 L870.101 27.2059 L870.101 72.576 L862.647 72.576 L862.647 27.2059 M862.647 9.54393 L870.101 9.54393 L870.101 18.9825 L862.647 18.9825 L862.647 9.54393 Z\" fill=\"#000000\" fill-rule=\"evenodd\" fill-opacity=\"1\" /><path clip-path=\"url(#clip360)\" d=\"M 0 0 M895.5 32.4315 Q889.505 32.4315 886.021 37.1306 Q882.537 41.7891 882.537 49.9314 Q882.537 58.0738 885.98 62.7728 Q889.464 67.4314 895.5 67.4314 Q901.455 67.4314 904.939 62.7323 Q908.422 58.0333 908.422 49.9314 Q908.422 41.8701 904.939 37.1711 Q901.455 32.4315 895.5 32.4315 M895.5 26.1121 Q905.222 26.1121 910.772 32.4315 Q916.322 38.7509 916.322 49.9314 Q916.322 61.0714 910.772 67.4314 Q905.222 73.7508 895.5 73.7508 Q885.737 73.7508 880.188 67.4314 Q874.678 61.0714 874.678 49.9314 Q874.678 38.7509 880.188 32.4315 Q885.737 26.1121 895.5 26.1121 Z\" fill=\"#000000\" fill-rule=\"evenodd\" fill-opacity=\"1\" /><path clip-path=\"url(#clip360)\" d=\"M 0 0 M961.854 45.1919 L961.854 72.576 L954.4 72.576 L954.4 45.4349 Q954.4 38.994 951.889 35.7938 Q949.377 32.5936 944.354 32.5936 Q938.318 32.5936 934.834 36.4419 Q931.351 40.2903 931.351 46.9338 L931.351 72.576 L923.856 72.576 L923.856 27.2059 L931.351 27.2059 L931.351 34.2544 Q934.024 30.163 937.63 28.1376 Q941.275 26.1121 946.015 26.1121 Q953.833 26.1121 957.844 30.9732 Q961.854 35.7938 961.854 45.1919 Z\" fill=\"#000000\" fill-rule=\"evenodd\" fill-opacity=\"1\" /><path clip-path=\"url(#clip360)\" d=\"M 0 0 M1025.9 34.0924 L1025.9 9.54393 L1033.35 9.54393 L1033.35 72.576 L1025.9 72.576 L1025.9 65.7705 Q1023.55 69.8214 1019.94 71.8063 Q1016.38 73.7508 1011.36 73.7508 Q1003.13 73.7508 997.947 67.1883 Q992.803 60.6258 992.803 49.9314 Q992.803 39.2371 997.947 32.6746 Q1003.13 26.1121 1011.36 26.1121 Q1016.38 26.1121 1019.94 28.0971 Q1023.55 30.0415 1025.9 34.0924 M1000.5 49.9314 Q1000.5 58.1548 1003.86 62.8538 Q1007.26 67.5124 1013.18 67.5124 Q1019.09 67.5124 1022.5 62.8538 Q1025.9 58.1548 1025.9 49.9314 Q1025.9 41.7081 1022.5 37.0496 Q1019.09 32.3505 1013.18 32.3505 Q1007.26 32.3505 1003.86 37.0496 Q1000.5 41.7081 1000.5 49.9314 Z\" fill=\"#000000\" fill-rule=\"evenodd\" fill-opacity=\"1\" /><path clip-path=\"url(#clip360)\" d=\"M 0 0 M1079.98 48.0275 L1079.98 51.6733 L1045.71 51.6733 Q1046.19 59.3701 1050.33 63.421 Q1054.5 67.4314 1061.91 67.4314 Q1066.21 67.4314 1070.22 66.3781 Q1074.27 65.3249 1078.24 63.2184 L1078.24 70.267 Q1074.23 71.9684 1070.01 72.8596 Q1065.8 73.7508 1061.47 73.7508 Q1050.61 73.7508 1044.25 67.4314 Q1037.93 61.1119 1037.93 50.3365 Q1037.93 39.1965 1043.93 32.6746 Q1049.96 26.1121 1060.17 26.1121 Q1069.32 26.1121 1074.63 32.0264 Q1079.98 37.9003 1079.98 48.0275 M1072.52 45.84 Q1072.44 39.7232 1069.08 36.0774 Q1065.76 32.4315 1060.25 32.4315 Q1054.01 32.4315 1050.24 35.9558 Q1046.52 39.4801 1045.95 45.8805 L1072.52 45.84 Z\" fill=\"#000000\" fill-rule=\"evenodd\" fill-opacity=\"1\" /><path clip-path=\"url(#clip360)\" d=\"M 0 0 M1114.17 9.54393 L1121.62 9.54393 L1121.62 72.576 L1114.17 72.576 L1114.17 9.54393 Z\" fill=\"#000000\" fill-rule=\"evenodd\" fill-opacity=\"1\" /><path clip-path=\"url(#clip360)\" d=\"M 0 0 M1150.06 49.7694 Q1141.03 49.7694 1137.54 51.8354 Q1134.06 53.9013 1134.06 58.8839 Q1134.06 62.8538 1136.65 65.2034 Q1139.28 67.5124 1143.78 67.5124 Q1149.98 67.5124 1153.7 63.1374 Q1157.47 58.7219 1157.47 51.4303 L1157.47 49.7694 L1150.06 49.7694 M1164.93 46.6907 L1164.93 72.576 L1157.47 72.576 L1157.47 65.6895 Q1154.92 69.8214 1151.11 71.8063 Q1147.3 73.7508 1141.8 73.7508 Q1134.83 73.7508 1130.7 69.8619 Q1126.6 65.9325 1126.6 59.3701 Q1126.6 51.7138 1131.71 47.825 Q1136.85 43.9361 1147.02 43.9361 L1157.47 43.9361 L1157.47 43.2069 Q1157.47 38.0623 1154.07 35.2672 Q1150.71 32.4315 1144.59 32.4315 Q1140.7 32.4315 1137.02 33.3632 Q1133.33 34.295 1129.93 36.1584 L1129.93 29.2718 Q1134.02 27.692 1137.87 26.9223 Q1141.71 26.1121 1145.36 26.1121 Q1155.2 26.1121 1160.06 31.2163 Q1164.93 36.3204 1164.93 46.6907 Z\" fill=\"#000000\" fill-rule=\"evenodd\" fill-opacity=\"1\" /><path clip-path=\"url(#clip360)\" d=\"M 0 0 M1222.08 9.54393 L1222.08 15.7418 L1214.95 15.7418 Q1210.94 15.7418 1209.36 17.3622 Q1207.82 18.9825 1207.82 23.1955 L1207.82 27.2059 L1220.1 27.2059 L1220.1 32.9987 L1207.82 32.9987 L1207.82 72.576 L1200.33 72.576 L1200.33 32.9987 L1193.2 32.9987 L1193.2 27.2059 L1200.33 27.2059 L1200.33 24.0462 Q1200.33 16.471 1203.85 13.0277 Q1207.38 9.54393 1215.04 9.54393 L1222.08 9.54393 Z\" fill=\"#000000\" fill-rule=\"evenodd\" fill-opacity=\"1\" /><path clip-path=\"url(#clip360)\" d=\"M 0 0 M1229.9 27.2059 L1237.36 27.2059 L1237.36 72.576 L1229.9 72.576 L1229.9 27.2059 M1229.9 9.54393 L1237.36 9.54393 L1237.36 18.9825 L1229.9 18.9825 L1229.9 9.54393 Z\" fill=\"#000000\" fill-rule=\"evenodd\" fill-opacity=\"1\" /><path clip-path=\"url(#clip360)\" d=\"M 0 0 M1252.55 14.324 L1252.55 27.2059 L1267.9 27.2059 L1267.9 32.9987 L1252.55 32.9987 L1252.55 57.6282 Q1252.55 63.1779 1254.05 64.7578 Q1255.58 66.3376 1260.24 66.3376 L1267.9 66.3376 L1267.9 72.576 L1260.24 72.576 Q1251.62 72.576 1248.33 69.3758 Q1245.05 66.1351 1245.05 57.6282 L1245.05 32.9987 L1239.58 32.9987 L1239.58 27.2059 L1245.05 27.2059 L1245.05 14.324 L1252.55 14.324 Z\" fill=\"#000000\" fill-rule=\"evenodd\" fill-opacity=\"1\" /><path clip-path=\"url(#clip360)\" d=\"M 0 0 M1313.43 45.1919 L1313.43 72.576 L1305.98 72.576 L1305.98 45.4349 Q1305.98 38.994 1303.47 35.7938 Q1300.96 32.5936 1295.93 32.5936 Q1289.9 32.5936 1286.41 36.4419 Q1282.93 40.2903 1282.93 46.9338 L1282.93 72.576 L1275.43 72.576 L1275.43 27.2059 L1282.93 27.2059 L1282.93 34.2544 Q1285.6 30.163 1289.21 28.1376 Q1292.85 26.1121 1297.59 26.1121 Q1305.41 26.1121 1309.42 30.9732 Q1313.43 35.7938 1313.43 45.1919 Z\" fill=\"#000000\" fill-rule=\"evenodd\" fill-opacity=\"1\" /><path clip-path=\"url(#clip360)\" d=\"M 0 0 M1360.06 48.0275 L1360.06 51.6733 L1325.79 51.6733 Q1326.27 59.3701 1330.41 63.421 Q1334.58 67.4314 1341.99 67.4314 Q1346.28 67.4314 1350.3 66.3781 Q1354.35 65.3249 1358.32 63.2184 L1358.32 70.267 Q1354.31 71.9684 1350.09 72.8596 Q1345.88 73.7508 1341.55 73.7508 Q1330.69 73.7508 1324.33 67.4314 Q1318.01 61.1119 1318.01 50.3365 Q1318.01 39.1965 1324 32.6746 Q1330.04 26.1121 1340.25 26.1121 Q1349.4 26.1121 1354.71 32.0264 Q1360.06 37.9003 1360.06 48.0275 M1352.6 45.84 Q1352.52 39.7232 1349.16 36.0774 Q1345.84 32.4315 1340.33 32.4315 Q1334.09 32.4315 1330.32 35.9558 Q1326.6 39.4801 1326.03 45.8805 L1352.6 45.84 Z\" fill=\"#000000\" fill-rule=\"evenodd\" fill-opacity=\"1\" /><path clip-path=\"url(#clip360)\" d=\"M 0 0 M1396.8 28.5427 L1396.8 35.5912 Q1393.64 33.9709 1390.24 33.1607 Q1386.83 32.3505 1383.19 32.3505 Q1377.64 32.3505 1374.84 34.0519 Q1372.09 35.7533 1372.09 39.156 Q1372.09 41.7486 1374.07 43.2475 Q1376.06 44.7058 1382.05 46.0426 L1384.61 46.6097 Q1392.55 48.3111 1395.87 51.4303 Q1399.23 54.509 1399.23 60.0587 Q1399.23 66.3781 1394.21 70.0644 Q1389.22 73.7508 1380.47 73.7508 Q1376.83 73.7508 1372.86 73.0216 Q1368.93 72.3329 1364.55 70.9151 L1364.55 63.2184 Q1368.69 65.3654 1372.7 66.4591 Q1376.71 67.5124 1380.64 67.5124 Q1385.9 67.5124 1388.74 65.73 Q1391.57 63.9071 1391.57 60.6258 Q1391.57 57.5877 1389.51 55.9673 Q1387.48 54.3469 1380.56 52.8481 L1377.96 52.2405 Q1371.04 50.7821 1367.96 47.7845 Q1364.88 44.7463 1364.88 39.4801 Q1364.88 33.0797 1369.42 29.5959 Q1373.95 26.1121 1382.3 26.1121 Q1386.43 26.1121 1390.07 26.7198 Q1393.72 27.3274 1396.8 28.5427 Z\" fill=\"#000000\" fill-rule=\"evenodd\" fill-opacity=\"1\" /><path clip-path=\"url(#clip360)\" d=\"M 0 0 M1435.97 28.5427 L1435.97 35.5912 Q1432.81 33.9709 1429.41 33.1607 Q1426.01 32.3505 1422.36 32.3505 Q1416.81 32.3505 1414.02 34.0519 Q1411.26 35.7533 1411.26 39.156 Q1411.26 41.7486 1413.25 43.2475 Q1415.23 44.7058 1421.23 46.0426 L1423.78 46.6097 Q1431.72 48.3111 1435.04 51.4303 Q1438.4 54.509 1438.4 60.0587 Q1438.4 66.3781 1433.38 70.0644 Q1428.4 73.7508 1419.65 73.7508 Q1416 73.7508 1412.03 73.0216 Q1408.1 72.3329 1403.73 70.9151 L1403.73 63.2184 Q1407.86 65.3654 1411.87 66.4591 Q1415.88 67.5124 1419.81 67.5124 Q1425.07 67.5124 1427.91 65.73 Q1430.75 63.9071 1430.75 60.6258 Q1430.75 57.5877 1428.68 55.9673 Q1426.65 54.3469 1419.73 52.8481 L1417.14 52.2405 Q1410.21 50.7821 1407.13 47.7845 Q1404.05 44.7463 1404.05 39.4801 Q1404.05 33.0797 1408.59 29.5959 Q1413.12 26.1121 1421.47 26.1121 Q1425.6 26.1121 1429.25 26.7198 Q1432.89 27.3274 1435.97 28.5427 Z\" fill=\"#000000\" fill-rule=\"evenodd\" fill-opacity=\"1\" /><path clip-path=\"url(#clip360)\" d=\"M 0 0 M1479.8 65.7705 L1479.8 89.8329 L1472.31 89.8329 L1472.31 27.2059 L1479.8 27.2059 L1479.8 34.0924 Q1482.15 30.0415 1485.72 28.0971 Q1489.32 26.1121 1494.3 26.1121 Q1502.57 26.1121 1507.71 32.6746 Q1512.9 39.2371 1512.9 49.9314 Q1512.9 60.6258 1507.71 67.1883 Q1502.57 73.7508 1494.3 73.7508 Q1489.32 73.7508 1485.72 71.8063 Q1482.15 69.8214 1479.8 65.7705 M1505.16 49.9314 Q1505.16 41.7081 1501.76 37.0496 Q1498.4 32.3505 1492.48 32.3505 Q1486.57 32.3505 1483.16 37.0496 Q1479.8 41.7081 1479.8 49.9314 Q1479.8 58.1548 1483.16 62.8538 Q1486.57 67.5124 1492.48 67.5124 Q1498.4 67.5124 1501.76 62.8538 Q1505.16 58.1548 1505.16 49.9314 Z\" fill=\"#000000\" fill-rule=\"evenodd\" fill-opacity=\"1\" /><path clip-path=\"url(#clip360)\" d=\"M 0 0 M1538.3 32.4315 Q1532.3 32.4315 1528.82 37.1306 Q1525.33 41.7891 1525.33 49.9314 Q1525.33 58.0738 1528.78 62.7728 Q1532.26 67.4314 1538.3 67.4314 Q1544.25 67.4314 1547.74 62.7323 Q1551.22 58.0333 1551.22 49.9314 Q1551.22 41.8701 1547.74 37.1711 Q1544.25 32.4315 1538.3 32.4315 M1538.3 26.1121 Q1548.02 26.1121 1553.57 32.4315 Q1559.12 38.7509 1559.12 49.9314 Q1559.12 61.0714 1553.57 67.4314 Q1548.02 73.7508 1538.3 73.7508 Q1528.53 73.7508 1522.99 67.4314 Q1517.48 61.0714 1517.48 49.9314 Q1517.48 38.7509 1522.99 32.4315 Q1528.53 26.1121 1538.3 26.1121 Z\" fill=\"#000000\" fill-rule=\"evenodd\" fill-opacity=\"1\" /><path clip-path=\"url(#clip360)\" d=\"M 0 0 M1566.17 54.671 L1566.17 27.2059 L1573.62 27.2059 L1573.62 54.3874 Q1573.62 60.8284 1576.13 64.0691 Q1578.64 67.2693 1583.67 67.2693 Q1589.7 67.2693 1593.19 63.421 Q1596.71 59.5726 1596.71 52.9291 L1596.71 27.2059 L1604.17 27.2059 L1604.17 72.576 L1596.71 72.576 L1596.71 65.6084 Q1594 69.7404 1590.39 71.7658 Q1586.83 73.7508 1582.09 73.7508 Q1574.27 73.7508 1570.22 68.8897 Q1566.17 64.0286 1566.17 54.671 M1584.92 26.1121 L1584.92 26.1121 Z\" fill=\"#000000\" fill-rule=\"evenodd\" fill-opacity=\"1\" /><path clip-path=\"url(#clip360)\" d=\"M 0 0 M1638.27 34.1734 Q1637.02 33.4443 1635.52 33.1202 Q1634.06 32.7556 1632.28 32.7556 Q1625.96 32.7556 1622.56 36.8875 Q1619.19 40.9789 1619.19 48.6757 L1619.19 72.576 L1611.7 72.576 L1611.7 27.2059 L1619.19 27.2059 L1619.19 34.2544 Q1621.54 30.1225 1625.31 28.1376 Q1629.08 26.1121 1634.47 26.1121 Q1635.24 26.1121 1636.17 26.2337 Q1637.1 26.3147 1638.23 26.5172 L1638.27 34.1734 Z\" fill=\"#000000\" fill-rule=\"evenodd\" fill-opacity=\"1\" /><path clip-path=\"url(#clip360)\" d=\"M 0 0 M1718.08 16.7545 L1718.08 25.383 Q1713.94 21.5346 1709.25 19.6307 Q1704.59 17.7268 1699.32 17.7268 Q1688.95 17.7268 1683.44 24.0867 Q1677.93 30.4061 1677.93 42.3968 Q1677.93 54.3469 1683.44 60.7069 Q1688.95 67.0263 1699.32 67.0263 Q1704.59 67.0263 1709.25 65.1223 Q1713.94 63.2184 1718.08 59.3701 L1718.08 67.9175 Q1713.78 70.8341 1708.96 72.2924 Q1704.18 73.7508 1698.83 73.7508 Q1685.1 73.7508 1677.2 65.3654 Q1669.3 56.9395 1669.3 42.3968 Q1669.3 27.8135 1677.2 19.4281 Q1685.1 11.0023 1698.83 11.0023 Q1704.26 11.0023 1709.04 12.4606 Q1713.86 13.8784 1718.08 16.7545 Z\" fill=\"#000000\" fill-rule=\"evenodd\" fill-opacity=\"1\" /><path clip-path=\"url(#clip360)\" d=\"M 0 0 M1726.22 12.096 L1738.41 12.096 L1753.85 53.2532 L1769.36 12.096 L1781.55 12.096 L1781.55 72.576 L1773.57 72.576 L1773.57 19.4686 L1757.98 60.9499 L1749.75 60.9499 L1734.16 19.4686 L1734.16 72.576 L1726.22 72.576 L1726.22 12.096 Z\" fill=\"#000000\" fill-rule=\"evenodd\" fill-opacity=\"1\" /><path clip-path=\"url(#clip360)\" d=\"M 0 0 M1809.91 20.1573 L1798.81 50.2555 L1821.05 50.2555 L1809.91 20.1573 M1805.29 12.096 L1814.57 12.096 L1837.62 72.576 L1829.11 72.576 L1823.6 57.061 L1796.34 57.061 L1790.83 72.576 L1782.2 72.576 L1805.29 12.096 Z\" fill=\"#000000\" fill-rule=\"evenodd\" fill-opacity=\"1\" /><path clip-path=\"url(#clip360)\" d=\"M 0 0 M1839.85 46.5287 L1861.68 46.5287 L1861.68 53.1722 L1839.85 53.1722 L1839.85 46.5287 Z\" fill=\"#000000\" fill-rule=\"evenodd\" fill-opacity=\"1\" /><path clip-path=\"url(#clip360)\" d=\"M 0 0 M1869.82 12.096 L1908.06 12.096 L1908.06 18.9825 L1878.01 18.9825 L1878.01 36.8875 L1906.81 36.8875 L1906.81 43.7741 L1878.01 43.7741 L1878.01 65.6895 L1908.79 65.6895 L1908.79 72.576 L1869.82 72.576 L1869.82 12.096 Z\" fill=\"#000000\" fill-rule=\"evenodd\" fill-opacity=\"1\" /><path clip-path=\"url(#clip360)\" d=\"M 0 0 M1953.19 14.0809 L1953.19 22.0612 Q1948.53 19.8332 1944.4 18.7395 Q1940.27 17.6457 1936.42 17.6457 Q1929.74 17.6457 1926.09 20.2383 Q1922.49 22.8309 1922.49 27.611 Q1922.49 31.6214 1924.88 33.6873 Q1927.31 35.7128 1934.03 36.9686 L1938.97 37.9813 Q1948.13 39.7232 1952.46 44.1387 Q1956.84 48.5136 1956.84 55.8863 Q1956.84 64.6767 1950.92 69.2137 Q1945.05 73.7508 1933.67 73.7508 Q1929.37 73.7508 1924.51 72.7785 Q1919.69 71.8063 1914.51 69.9024 L1914.51 61.4765 Q1919.49 64.2716 1924.27 65.6895 Q1929.05 67.1073 1933.67 67.1073 Q1940.67 67.1073 1944.48 64.3527 Q1948.29 61.598 1948.29 56.4939 Q1948.29 52.0379 1945.53 49.5264 Q1942.82 47.0148 1936.58 45.759 L1931.6 44.7868 Q1922.44 42.9639 1918.35 39.075 Q1914.26 35.1862 1914.26 28.2591 Q1914.26 20.2383 1919.89 15.6203 Q1925.56 11.0023 1935.49 11.0023 Q1939.74 11.0023 1944.16 11.7719 Q1948.57 12.5416 1953.19 14.0809 Z\" fill=\"#000000\" fill-rule=\"evenodd\" fill-opacity=\"1\" /><path clip-path=\"url(#clip360)\" d=\"M 0 0 M1169.9 1549.26 L1169.9 1536.5 L1159.4 1536.5 L1159.4 1531.22 L1176.27 1531.22 L1176.27 1551.62 Q1172.54 1554.26 1168.06 1555.63 Q1163.57 1556.97 1158.47 1556.97 Q1147.33 1556.97 1141.03 1550.47 Q1134.76 1543.95 1134.76 1532.33 Q1134.76 1520.68 1141.03 1514.19 Q1147.33 1507.66 1158.47 1507.66 Q1163.12 1507.66 1167.29 1508.81 Q1171.49 1509.96 1175.03 1512.18 L1175.03 1519.03 Q1171.46 1516 1167.45 1514.48 Q1163.44 1512.95 1159.02 1512.95 Q1150.29 1512.95 1145.9 1517.82 Q1141.54 1522.69 1141.54 1532.33 Q1141.54 1541.94 1145.9 1546.81 Q1150.29 1551.68 1159.02 1551.68 Q1162.42 1551.68 1165.1 1551.11 Q1167.77 1550.51 1169.9 1549.26 Z\" fill=\"#000000\" fill-rule=\"evenodd\" fill-opacity=\"1\" /><path clip-path=\"url(#clip360)\" d=\"M 0 0 M1212.9 1536.76 L1212.9 1539.62 L1185.97 1539.62 Q1186.36 1545.67 1189.6 1548.85 Q1192.88 1552 1198.71 1552 Q1202.08 1552 1205.23 1551.17 Q1208.41 1550.35 1211.53 1548.69 L1211.53 1554.23 Q1208.38 1555.57 1205.07 1556.27 Q1201.76 1556.97 1198.36 1556.97 Q1189.83 1556.97 1184.83 1552 Q1179.86 1547.04 1179.86 1538.57 Q1179.86 1529.82 1184.57 1524.69 Q1189.32 1519.54 1197.34 1519.54 Q1204.53 1519.54 1208.7 1524.18 Q1212.9 1528.8 1212.9 1536.76 M1207.05 1535.04 Q1206.98 1530.23 1204.34 1527.37 Q1201.73 1524.5 1197.4 1524.5 Q1192.5 1524.5 1189.54 1527.27 Q1186.61 1530.04 1186.17 1535.07 L1207.05 1535.04 M1201.41 1503.91 L1207.75 1503.91 L1197.37 1515.88 L1192.5 1515.88 L1201.41 1503.91 Z\" fill=\"#000000\" fill-rule=\"evenodd\" fill-opacity=\"1\" /><path clip-path=\"url(#clip360)\" d=\"M 0 0 M1248.68 1534.53 L1248.68 1556.04 L1242.82 1556.04 L1242.82 1534.72 Q1242.82 1529.66 1240.85 1527.14 Q1238.87 1524.63 1234.93 1524.63 Q1230.18 1524.63 1227.45 1527.65 Q1224.71 1530.68 1224.71 1535.9 L1224.71 1556.04 L1218.82 1556.04 L1218.82 1520.4 L1224.71 1520.4 L1224.71 1525.93 Q1226.81 1522.72 1229.64 1521.13 Q1232.51 1519.54 1236.23 1519.54 Q1242.37 1519.54 1245.53 1523.36 Q1248.68 1527.14 1248.68 1534.53 Z\" fill=\"#000000\" fill-rule=\"evenodd\" fill-opacity=\"1\" /><path clip-path=\"url(#clip360)\" d=\"M 0 0 M1285.31 1536.76 L1285.31 1539.62 L1258.38 1539.62 Q1258.77 1545.67 1262.01 1548.85 Q1265.29 1552 1271.12 1552 Q1274.49 1552 1277.64 1551.17 Q1280.82 1550.35 1283.94 1548.69 L1283.94 1554.23 Q1280.79 1555.57 1277.48 1556.27 Q1274.17 1556.97 1270.77 1556.97 Q1262.24 1556.97 1257.24 1552 Q1252.27 1547.04 1252.27 1538.57 Q1252.27 1529.82 1256.98 1524.69 Q1261.73 1519.54 1269.75 1519.54 Q1276.94 1519.54 1281.11 1524.18 Q1285.31 1528.8 1285.31 1536.76 M1279.45 1535.04 Q1279.39 1530.23 1276.75 1527.37 Q1274.14 1524.5 1269.81 1524.5 Q1264.91 1524.5 1261.95 1527.27 Q1259.02 1530.04 1258.58 1535.07 L1279.45 1535.04 M1273.82 1503.91 L1280.16 1503.91 L1269.78 1515.88 L1264.91 1515.88 L1273.82 1503.91 Z\" fill=\"#000000\" fill-rule=\"evenodd\" fill-opacity=\"1\" /><path clip-path=\"url(#clip360)\" d=\"M 0 0 M1312.11 1525.87 Q1311.12 1525.3 1309.95 1525.04 Q1308.8 1524.76 1307.4 1524.76 Q1302.44 1524.76 1299.76 1528 Q1297.12 1531.22 1297.12 1537.27 L1297.12 1556.04 L1291.23 1556.04 L1291.23 1520.4 L1297.12 1520.4 L1297.12 1525.93 Q1298.97 1522.69 1301.93 1521.13 Q1304.89 1519.54 1309.12 1519.54 Q1309.72 1519.54 1310.46 1519.63 Q1311.19 1519.7 1312.08 1519.85 L1312.11 1525.87 Z\" fill=\"#000000\" fill-rule=\"evenodd\" fill-opacity=\"1\" /><path clip-path=\"url(#clip360)\" d=\"M 0 0 M1334.45 1538.12 Q1327.36 1538.12 1324.62 1539.75 Q1321.88 1541.37 1321.88 1545.29 Q1321.88 1548.4 1323.92 1550.25 Q1325.99 1552.07 1329.52 1552.07 Q1334.39 1552.07 1337.32 1548.63 Q1340.28 1545.16 1340.28 1539.43 L1340.28 1538.12 L1334.45 1538.12 M1346.14 1535.71 L1346.14 1556.04 L1340.28 1556.04 L1340.28 1550.63 Q1338.27 1553.88 1335.28 1555.44 Q1332.29 1556.97 1327.96 1556.97 Q1322.49 1556.97 1319.24 1553.91 Q1316.03 1550.82 1316.03 1545.67 Q1316.03 1539.65 1320.04 1536.6 Q1324.08 1533.54 1332.07 1533.54 L1340.28 1533.54 L1340.28 1532.97 Q1340.28 1528.93 1337.61 1526.73 Q1334.96 1524.5 1330.16 1524.5 Q1327.1 1524.5 1324.21 1525.23 Q1321.31 1525.97 1318.64 1527.43 L1318.64 1522.02 Q1321.85 1520.78 1324.87 1520.17 Q1327.9 1519.54 1330.76 1519.54 Q1338.5 1519.54 1342.32 1523.55 Q1346.14 1527.56 1346.14 1535.71 Z\" fill=\"#000000\" fill-rule=\"evenodd\" fill-opacity=\"1\" /><path clip-path=\"url(#clip360)\" d=\"M 0 0 M1358.07 1510.27 L1358.07 1520.4 L1370.13 1520.4 L1370.13 1524.95 L1358.07 1524.95 L1358.07 1544.3 Q1358.07 1548.66 1359.25 1549.9 Q1360.46 1551.14 1364.12 1551.14 L1370.13 1551.14 L1370.13 1556.04 L1364.12 1556.04 Q1357.34 1556.04 1354.76 1553.53 Q1352.18 1550.98 1352.18 1544.3 L1352.18 1524.95 L1347.89 1524.95 L1347.89 1520.4 L1352.18 1520.4 L1352.18 1510.27 L1358.07 1510.27 Z\" fill=\"#000000\" fill-rule=\"evenodd\" fill-opacity=\"1\" /><path clip-path=\"url(#clip360)\" d=\"M 0 0 M1376.28 1520.4 L1382.13 1520.4 L1382.13 1556.04 L1376.28 1556.04 L1376.28 1520.4 M1376.28 1506.52 L1382.13 1506.52 L1382.13 1513.93 L1376.28 1513.93 L1376.28 1506.52 Z\" fill=\"#000000\" fill-rule=\"evenodd\" fill-opacity=\"1\" /><path clip-path=\"url(#clip360)\" d=\"M 0 0 M1402.09 1524.5 Q1397.38 1524.5 1394.64 1528.19 Q1391.91 1531.85 1391.91 1538.25 Q1391.91 1544.65 1394.61 1548.34 Q1397.35 1552 1402.09 1552 Q1406.77 1552 1409.51 1548.31 Q1412.24 1544.62 1412.24 1538.25 Q1412.24 1531.92 1409.51 1528.23 Q1406.77 1524.5 1402.09 1524.5 M1402.09 1519.54 Q1409.73 1519.54 1414.09 1524.5 Q1418.45 1529.47 1418.45 1538.25 Q1418.45 1547 1414.09 1552 Q1409.73 1556.97 1402.09 1556.97 Q1394.42 1556.97 1390.06 1552 Q1385.73 1547 1385.73 1538.25 Q1385.73 1529.47 1390.06 1524.5 Q1394.42 1519.54 1402.09 1519.54 Z\" fill=\"#000000\" fill-rule=\"evenodd\" fill-opacity=\"1\" /><path clip-path=\"url(#clip360)\" d=\"M 0 0 M1454.23 1534.53 L1454.23 1556.04 L1448.37 1556.04 L1448.37 1534.72 Q1448.37 1529.66 1446.4 1527.14 Q1444.42 1524.63 1440.48 1524.63 Q1435.73 1524.63 1433 1527.65 Q1430.26 1530.68 1430.26 1535.9 L1430.26 1556.04 L1424.37 1556.04 L1424.37 1520.4 L1430.26 1520.4 L1430.26 1525.93 Q1432.36 1522.72 1435.19 1521.13 Q1438.06 1519.54 1441.78 1519.54 Q1447.92 1519.54 1451.07 1523.36 Q1454.23 1527.14 1454.23 1534.53 Z\" fill=\"#000000\" fill-rule=\"evenodd\" fill-opacity=\"1\" /><path clip-path=\"url(#clip360)\" d=\"M 0 0 M40.4842 1158.16 L40.4842 1130.86 L45.895 1130.86 L45.895 1151.74 L59.8996 1151.74 L59.8996 1132.89 L65.3104 1132.89 L65.3104 1151.74 L88.0042 1151.74 L88.0042 1158.16 L40.4842 1158.16 Z\" fill=\"#000000\" fill-rule=\"evenodd\" fill-opacity=\"1\" /><path clip-path=\"url(#clip360)\" d=\"M 0 0 M52.3562 1129.46 L52.3562 1123.6 L88.0042 1123.6 L88.0042 1129.46 L52.3562 1129.46 M38.479 1129.46 L38.479 1123.6 L45.895 1123.6 L45.895 1129.46 L38.479 1129.46 Z\" fill=\"#000000\" fill-rule=\"evenodd\" fill-opacity=\"1\" /><path clip-path=\"url(#clip360)\" d=\"M 0 0 M42.2347 1111.66 L52.3562 1111.66 L52.3562 1099.6 L56.9077 1099.6 L56.9077 1111.66 L76.2594 1111.66 Q80.6199 1111.66 81.8613 1110.49 Q83.1026 1109.28 83.1026 1105.62 L83.1026 1099.6 L88.0042 1099.6 L88.0042 1105.62 Q88.0042 1112.4 85.4897 1114.97 Q82.9434 1117.55 76.2594 1117.55 L56.9077 1117.55 L56.9077 1121.85 L52.3562 1121.85 L52.3562 1117.55 L42.2347 1117.55 L42.2347 1111.66 Z\" fill=\"#000000\" fill-rule=\"evenodd\" fill-opacity=\"1\" /><path clip-path=\"url(#clip360)\" d=\"M 0 0 M66.4881 1063.83 L88.0042 1063.83 L88.0042 1069.68 L66.679 1069.68 Q61.6183 1069.68 59.1038 1071.65 Q56.5894 1073.63 56.5894 1077.57 Q56.5894 1082.32 59.6131 1085.05 Q62.6368 1087.79 67.8567 1087.79 L88.0042 1087.79 L88.0042 1093.68 L52.3562 1093.68 L52.3562 1087.79 L57.8944 1087.79 Q54.6797 1085.69 53.0883 1082.86 Q51.4968 1079.99 51.4968 1076.27 Q51.4968 1070.13 55.3163 1066.98 Q59.1038 1063.83 66.4881 1063.83 Z\" fill=\"#000000\" fill-rule=\"evenodd\" fill-opacity=\"1\" /><path clip-path=\"url(#clip360)\" d=\"M 0 0 M68.7161 1027.19 L71.5806 1027.19 L71.5806 1054.12 Q77.6281 1053.74 80.8109 1050.49 Q83.9619 1047.21 83.9619 1041.39 Q83.9619 1038.01 83.1344 1034.86 Q82.3069 1031.68 80.6518 1028.56 L86.1899 1028.56 Q87.5267 1031.71 88.227 1035.02 Q88.9272 1038.33 88.9272 1041.74 Q88.9272 1050.27 83.9619 1055.26 Q78.9967 1060.23 70.5303 1060.23 Q61.7774 1060.23 56.6531 1055.52 Q51.4968 1050.78 51.4968 1042.75 Q51.4968 1035.56 56.1438 1031.39 Q60.7589 1027.19 68.7161 1027.19 M66.9973 1033.05 Q62.1912 1033.11 59.3266 1035.75 Q56.4621 1038.36 56.4621 1042.69 Q56.4621 1047.59 59.2312 1050.55 Q62.0002 1053.48 67.0292 1053.93 L66.9973 1033.05 Z\" fill=\"#000000\" fill-rule=\"evenodd\" fill-opacity=\"1\" /><path clip-path=\"url(#clip360)\" d=\"M 0 0 M53.4065 998.322 L58.9447 998.322 Q57.6716 1000.8 57.035 1003.48 Q56.3984 1006.15 56.3984 1009.02 Q56.3984 1013.38 57.7352 1015.57 Q59.072 1017.74 61.7456 1017.74 Q63.7826 1017.74 64.9603 1016.18 Q66.1061 1014.62 67.1565 1009.91 L67.6021 1007.9 Q68.9389 1001.66 71.3897 999.054 Q73.8086 996.412 78.1691 996.412 Q83.1344 996.412 86.0308 1000.36 Q88.9272 1004.27 88.9272 1011.15 Q88.9272 1014.01 88.3543 1017.13 Q87.8132 1020.22 86.6992 1023.66 L80.6518 1023.66 Q82.3387 1020.41 83.198 1017.26 Q84.0256 1014.11 84.0256 1011.02 Q84.0256 1006.88 82.6251 1004.66 Q81.1929 1002.43 78.6147 1002.43 Q76.2276 1002.43 74.9545 1004.05 Q73.6813 1005.64 72.5037 1011.09 L72.0262 1013.12 Q70.8804 1018.56 68.5251 1020.98 Q66.138 1023.4 62.0002 1023.4 Q56.9713 1023.4 54.2341 1019.84 Q51.4968 1016.27 51.4968 1009.72 Q51.4968 1006.47 51.9743 1003.61 Q52.4517 1000.74 53.4065 998.322 Z\" fill=\"#000000\" fill-rule=\"evenodd\" fill-opacity=\"1\" /><path clip-path=\"url(#clip360)\" d=\"M 0 0 M53.4065 967.544 L58.9447 967.544 Q57.6716 970.026 57.035 972.7 Q56.3984 975.374 56.3984 978.238 Q56.3984 982.599 57.7352 984.795 Q59.072 986.959 61.7456 986.959 Q63.7826 986.959 64.9603 985.4 Q66.1061 983.84 67.1565 979.129 L67.6021 977.124 Q68.9389 970.886 71.3897 968.276 Q73.8086 965.634 78.1691 965.634 Q83.1344 965.634 86.0308 969.581 Q88.9272 973.496 88.9272 980.371 Q88.9272 983.235 88.3543 986.354 Q87.8132 989.442 86.6992 992.879 L80.6518 992.879 Q82.3387 989.633 83.198 986.482 Q84.0256 983.331 84.0256 980.243 Q84.0256 976.106 82.6251 973.878 Q81.1929 971.65 78.6147 971.65 Q76.2276 971.65 74.9545 973.273 Q73.6813 974.864 72.5037 980.307 L72.0262 982.344 Q70.8804 987.787 68.5251 990.206 Q66.138 992.625 62.0002 992.625 Q56.9713 992.625 54.2341 989.06 Q51.4968 985.495 51.4968 978.938 Q51.4968 975.692 51.9743 972.827 Q52.4517 969.963 53.4065 967.544 Z\" fill=\"#000000\" fill-rule=\"evenodd\" fill-opacity=\"1\" /><path clip-path=\"url(#clip360)\" d=\"M 0 0 M57.7671 915.313 L38.479 915.313 L38.479 909.457 L88.0042 909.457 L88.0042 915.313 L82.657 915.313 Q85.8398 917.159 87.3994 919.992 Q88.9272 922.793 88.9272 926.74 Q88.9272 933.201 83.771 937.275 Q78.6147 941.317 70.212 941.317 Q61.8093 941.317 56.6531 937.275 Q51.4968 933.201 51.4968 926.74 Q51.4968 922.793 53.0564 919.992 Q54.5842 917.159 57.7671 915.313 M70.212 935.27 Q76.6732 935.27 80.3653 932.628 Q84.0256 929.954 84.0256 925.307 Q84.0256 920.66 80.3653 917.987 Q76.6732 915.313 70.212 915.313 Q63.7508 915.313 60.0905 917.987 Q56.3984 920.66 56.3984 925.307 Q56.3984 929.954 60.0905 932.628 Q63.7508 935.27 70.212 935.27 Z\" fill=\"#000000\" fill-rule=\"evenodd\" fill-opacity=\"1\" /><path clip-path=\"url(#clip360)\" d=\"M 0 0 M73.9359 903.918 L52.3562 903.918 L52.3562 898.062 L73.7131 898.062 Q78.7739 898.062 81.3202 896.089 Q83.8346 894.115 83.8346 890.169 Q83.8346 885.426 80.8109 882.689 Q77.7872 879.92 72.5673 879.92 L52.3562 879.92 L52.3562 874.063 L88.0042 874.063 L88.0042 879.92 L82.5296 879.92 Q85.7762 882.052 87.3676 884.885 Q88.9272 887.686 88.9272 891.41 Q88.9272 897.553 85.1078 900.736 Q81.2883 903.918 73.9359 903.918 M51.4968 889.182 L51.4968 889.182 Z\" fill=\"#000000\" fill-rule=\"evenodd\" fill-opacity=\"1\" /><path clip-path=\"url(#clip360)\" d=\"M 0 0 M59.1993 819.446 Q55.2526 817.249 53.3747 814.194 Q51.4968 811.138 51.4968 807.001 Q51.4968 801.431 55.4117 798.407 Q59.2948 795.383 66.4881 795.383 L88.0042 795.383 L88.0042 801.271 L66.679 801.271 Q61.5546 801.271 59.072 803.086 Q56.5894 804.9 56.5894 808.624 Q56.5894 813.175 59.6131 815.817 Q62.6368 818.459 67.8567 818.459 L88.0042 818.459 L88.0042 824.347 L66.679 824.347 Q61.5228 824.347 59.072 826.161 Q56.5894 827.976 56.5894 831.763 Q56.5894 836.251 59.6449 838.893 Q62.6686 841.535 67.8567 841.535 L88.0042 841.535 L88.0042 847.423 L52.3562 847.423 L52.3562 841.535 L57.8944 841.535 Q54.616 839.529 53.0564 836.728 Q51.4968 833.928 51.4968 830.076 Q51.4968 826.193 53.4702 823.488 Q55.4436 820.75 59.1993 819.446 Z\" fill=\"#000000\" fill-rule=\"evenodd\" fill-opacity=\"1\" /><path clip-path=\"url(#clip360)\" d=\"M 0 0 M68.7161 758.749 L71.5806 758.749 L71.5806 785.675 Q77.6281 785.294 80.8109 782.047 Q83.9619 778.769 83.9619 772.944 Q83.9619 769.57 83.1344 766.419 Q82.3069 763.236 80.6518 760.117 L86.1899 760.117 Q87.5267 763.268 88.227 766.578 Q88.9272 769.889 88.9272 773.294 Q88.9272 781.824 83.9619 786.821 Q78.9967 791.787 70.5303 791.787 Q61.7774 791.787 56.6531 787.076 Q51.4968 782.333 51.4968 774.313 Q51.4968 767.119 56.1438 762.95 Q60.7589 758.749 68.7161 758.749 M66.9973 764.605 Q62.1912 764.669 59.3266 767.31 Q56.4621 769.92 56.4621 774.249 Q56.4621 779.151 59.2312 782.111 Q62.0002 785.039 67.0292 785.484 L66.9973 764.605 Z\" fill=\"#000000\" fill-rule=\"evenodd\" fill-opacity=\"1\" /><path clip-path=\"url(#clip360)\" d=\"M 0 0 M52.3562 752.606 L52.3562 746.749 L88.0042 746.749 L88.0042 752.606 L52.3562 752.606 M38.479 752.606 L38.479 746.749 L45.895 746.749 L45.895 752.606 L38.479 752.606 Z\" fill=\"#000000\" fill-rule=\"evenodd\" fill-opacity=\"1\" /><path clip-path=\"url(#clip360)\" d=\"M 0 0 M38.479 740.606 L38.479 734.75 L88.0042 734.75 L88.0042 740.606 L38.479 740.606 Z\" fill=\"#000000\" fill-rule=\"evenodd\" fill-opacity=\"1\" /><path clip-path=\"url(#clip360)\" d=\"M 0 0 M38.479 728.607 L38.479 722.75 L88.0042 722.75 L88.0042 728.607 L38.479 728.607 Z\" fill=\"#000000\" fill-rule=\"evenodd\" fill-opacity=\"1\" /><path clip-path=\"url(#clip360)\" d=\"M 0 0 M68.7161 686.116 L71.5806 686.116 L71.5806 713.043 Q77.6281 712.661 80.8109 709.414 Q83.9619 706.136 83.9619 700.311 Q83.9619 696.938 83.1344 693.786 Q82.3069 690.604 80.6518 687.484 L86.1899 687.484 Q87.5267 690.635 88.227 693.946 Q88.9272 697.256 88.9272 700.661 Q88.9272 709.191 83.9619 714.189 Q78.9967 719.154 70.5303 719.154 Q61.7774 719.154 56.6531 714.443 Q51.4968 709.701 51.4968 701.68 Q51.4968 694.487 56.1438 690.317 Q60.7589 686.116 68.7161 686.116 M66.9973 691.972 Q62.1912 692.036 59.3266 694.678 Q56.4621 697.288 56.4621 701.616 Q56.4621 706.518 59.2312 709.478 Q62.0002 712.406 67.0292 712.852 L66.9973 691.972 Z\" fill=\"#000000\" fill-rule=\"evenodd\" fill-opacity=\"1\" /><path clip-path=\"url(#clip360)\" d=\"M 0 0 M73.9359 680.578 L52.3562 680.578 L52.3562 674.721 L73.7131 674.721 Q78.7739 674.721 81.3202 672.748 Q83.8346 670.774 83.8346 666.828 Q83.8346 662.085 80.8109 659.348 Q77.7872 656.579 72.5673 656.579 L52.3562 656.579 L52.3562 650.722 L88.0042 650.722 L88.0042 656.579 L82.5296 656.579 Q85.7762 658.711 87.3676 661.544 Q88.9272 664.345 88.9272 668.069 Q88.9272 674.212 85.1078 677.395 Q81.2883 680.578 73.9359 680.578 M51.4968 665.841 L51.4968 665.841 Z\" fill=\"#000000\" fill-rule=\"evenodd\" fill-opacity=\"1\" /><path clip-path=\"url(#clip360)\" d=\"M 0 0 M57.8307 623.923 Q57.2578 624.91 57.0032 626.087 Q56.7167 627.233 56.7167 628.633 Q56.7167 633.599 59.9632 636.272 Q63.1779 638.914 69.2253 638.914 L88.0042 638.914 L88.0042 644.802 L52.3562 644.802 L52.3562 638.914 L57.8944 638.914 Q54.6479 637.068 53.0883 634.108 Q51.4968 631.148 51.4968 626.915 Q51.4968 626.31 51.5923 625.578 Q51.656 624.846 51.8151 623.955 L57.8307 623.923 Z\" fill=\"#000000\" fill-rule=\"evenodd\" fill-opacity=\"1\" /><path clip-path=\"url(#clip360)\" d=\"M 0 0 M52.3562 597.06 L52.3562 591.203 L88.0042 591.203 L88.0042 597.06 L52.3562 597.06 M38.479 597.06 L38.479 591.203 L45.895 591.203 L45.895 597.06 L38.479 597.06 Z\" fill=\"#000000\" fill-rule=\"evenodd\" fill-opacity=\"1\" /><path clip-path=\"url(#clip360)\" d=\"M 0 0 M66.4881 555.428 L88.0042 555.428 L88.0042 561.284 L66.679 561.284 Q61.6183 561.284 59.1038 563.258 Q56.5894 565.231 56.5894 569.178 Q56.5894 573.92 59.6131 576.657 Q62.6368 579.395 67.8567 579.395 L88.0042 579.395 L88.0042 585.283 L52.3562 585.283 L52.3562 579.395 L57.8944 579.395 Q54.6797 577.294 53.0883 574.461 Q51.4968 571.597 51.4968 567.873 Q51.4968 561.73 55.3163 558.579 Q59.1038 555.428 66.4881 555.428 Z\" fill=\"#000000\" fill-rule=\"evenodd\" fill-opacity=\"1\" /><path clip-path=\"url(#clip360)\" d=\"M 0 0 M57.7671 525.827 L38.479 525.827 L38.479 519.971 L88.0042 519.971 L88.0042 525.827 L82.657 525.827 Q85.8398 527.673 87.3994 530.506 Q88.9272 533.307 88.9272 537.254 Q88.9272 543.715 83.771 547.789 Q78.6147 551.831 70.212 551.831 Q61.8093 551.831 56.6531 547.789 Q51.4968 543.715 51.4968 537.254 Q51.4968 533.307 53.0564 530.506 Q54.5842 527.673 57.7671 525.827 M70.212 545.784 Q76.6732 545.784 80.3653 543.142 Q84.0256 540.468 84.0256 535.821 Q84.0256 531.175 80.3653 528.501 Q76.6732 525.827 70.212 525.827 Q63.7508 525.827 60.0905 528.501 Q56.3984 531.175 56.3984 535.821 Q56.3984 540.468 60.0905 543.142 Q63.7508 545.784 70.212 545.784 Z\" fill=\"#000000\" fill-rule=\"evenodd\" fill-opacity=\"1\" /><path clip-path=\"url(#clip360)\" d=\"M 0 0 M52.3562 513.828 L52.3562 507.972 L88.0042 507.972 L88.0042 513.828 L52.3562 513.828 M38.479 513.828 L38.479 507.972 L45.895 507.972 L45.895 513.828 L38.479 513.828 Z\" fill=\"#000000\" fill-rule=\"evenodd\" fill-opacity=\"1\" /><path clip-path=\"url(#clip360)\" d=\"M 0 0 M52.3562 506.03 L52.3562 499.823 L82.275 488.683 L52.3562 477.543 L52.3562 471.337 L88.0042 484.705 L88.0042 492.662 L52.3562 506.03 Z\" fill=\"#000000\" fill-rule=\"evenodd\" fill-opacity=\"1\" /><path clip-path=\"url(#clip360)\" d=\"M 0 0 M52.3562 465.194 L52.3562 459.338 L88.0042 459.338 L88.0042 465.194 L52.3562 465.194 M38.479 465.194 L38.479 459.338 L45.895 459.338 L45.895 465.194 L38.479 465.194 Z\" fill=\"#000000\" fill-rule=\"evenodd\" fill-opacity=\"1\" /><path clip-path=\"url(#clip360)\" d=\"M 0 0 M57.7671 429.737 L38.479 429.737 L38.479 423.881 L88.0042 423.881 L88.0042 429.737 L82.657 429.737 Q85.8398 431.583 87.3994 434.416 Q88.9272 437.217 88.9272 441.163 Q88.9272 447.625 83.771 451.699 Q78.6147 455.741 70.212 455.741 Q61.8093 455.741 56.6531 451.699 Q51.4968 447.625 51.4968 441.163 Q51.4968 437.217 53.0564 434.416 Q54.5842 431.583 57.7671 429.737 M70.212 449.693 Q76.6732 449.693 80.3653 447.052 Q84.0256 444.378 84.0256 439.731 Q84.0256 435.084 80.3653 432.411 Q76.6732 429.737 70.212 429.737 Q63.7508 429.737 60.0905 432.411 Q56.3984 435.084 56.3984 439.731 Q56.3984 444.378 60.0905 447.052 Q63.7508 449.693 70.212 449.693 Z\" fill=\"#000000\" fill-rule=\"evenodd\" fill-opacity=\"1\" /><path clip-path=\"url(#clip360)\" d=\"M 0 0 M73.9359 418.342 L52.3562 418.342 L52.3562 412.486 L73.7131 412.486 Q78.7739 412.486 81.3202 410.513 Q83.8346 408.539 83.8346 404.592 Q83.8346 399.85 80.8109 397.113 Q77.7872 394.344 72.5673 394.344 L52.3562 394.344 L52.3562 388.487 L88.0042 388.487 L88.0042 394.344 L82.5296 394.344 Q85.7762 396.476 87.3676 399.309 Q88.9272 402.11 88.9272 405.834 Q88.9272 411.977 85.1078 415.16 Q81.2883 418.342 73.9359 418.342 M51.4968 403.606 L51.4968 403.606 Z\" fill=\"#000000\" fill-rule=\"evenodd\" fill-opacity=\"1\" /><polyline clip-path=\"url(#clip362)\" style=\"stroke:#009af9; stroke-width:4; stroke-opacity:1; fill:none\" points=\"\n",
       "  296.134,160.256 298.132,160.256 300.131,160.256 302.13,160.256 304.128,160.256 306.127,160.256 308.126,160.256 310.125,160.256 312.123,160.256 314.122,160.256 \n",
       "  316.121,160.256 318.119,160.256 320.118,160.256 322.117,160.256 324.116,160.256 326.114,160.256 328.113,160.256 330.112,160.256 332.11,160.256 334.109,160.256 \n",
       "  336.108,600.085 338.107,1386.4 340.105,160.256 342.104,1386.4 344.103,160.256 346.102,1386.4 348.1,1386.4 350.099,1386.4 352.098,1386.4 354.096,1386.4 \n",
       "  356.095,160.256 358.094,160.256 360.093,160.256 362.091,160.256 364.09,160.256 366.089,160.256 368.087,160.256 370.086,160.256 372.085,160.256 374.084,160.256 \n",
       "  376.082,160.256 378.081,160.256 380.08,160.256 382.078,160.256 384.077,160.256 386.076,160.256 388.075,160.256 390.073,160.256 392.072,160.256 394.071,160.256 \n",
       "  396.07,160.256 398.068,160.256 400.067,160.256 402.066,160.256 404.064,160.256 406.063,160.256 408.062,160.256 410.061,160.256 412.059,160.256 414.058,160.256 \n",
       "  416.057,160.256 418.055,160.256 420.054,160.256 422.053,160.256 424.052,160.256 426.05,160.256 428.049,160.256 430.048,160.256 432.046,160.256 434.045,160.256 \n",
       "  436.044,160.256 438.043,160.256 440.041,160.256 442.04,160.256 444.039,160.256 446.038,160.256 448.036,160.256 450.035,160.256 452.034,160.256 454.032,160.256 \n",
       "  456.031,160.256 458.03,160.256 460.029,160.256 462.027,160.256 464.026,160.256 466.025,160.256 468.023,160.256 470.022,160.256 472.021,160.256 474.02,160.256 \n",
       "  476.018,160.256 478.017,160.256 480.016,160.256 482.014,160.256 484.013,160.256 486.012,160.256 488.011,160.256 490.009,160.256 492.008,160.256 494.007,160.256 \n",
       "  496.005,160.256 498.004,160.256 500.003,160.256 502.002,160.256 504,160.256 505.999,160.256 507.998,160.256 509.997,160.256 511.995,160.256 513.994,160.256 \n",
       "  515.993,160.256 517.991,160.256 519.99,160.256 521.989,1386.4 523.988,1386.4 525.986,1386.4 527.985,1386.4 529.984,1386.4 531.982,1386.4 533.981,1386.4 \n",
       "  535.98,1386.4 537.979,1386.4 539.977,1386.4 541.976,1386.4 543.975,1386.4 545.973,1386.4 547.972,1386.4 549.971,1386.4 551.97,1386.4 553.968,1386.4 \n",
       "  555.967,1386.4 557.966,1386.4 559.965,1386.4 561.963,1386.4 563.962,1386.4 565.961,1386.4 567.959,1386.4 569.958,1386.4 571.957,1386.4 573.956,1386.4 \n",
       "  575.954,1386.4 577.953,1386.4 579.952,1386.4 581.95,1386.4 583.949,1386.4 585.948,1386.4 587.947,1386.4 589.945,1386.4 591.944,1386.4 593.943,1386.4 \n",
       "  595.941,1386.4 597.94,1386.4 599.939,1386.4 601.938,1386.4 603.936,1233.41 605.935,1386.4 607.934,1386.4 609.932,1386.4 611.931,1386.4 613.93,1386.4 \n",
       "  615.929,1386.4 617.927,1386.4 619.926,1386.4 621.925,1386.4 623.924,1386.4 625.922,1386.4 627.921,1386.4 629.92,1386.4 631.918,1386.4 633.917,1386.4 \n",
       "  635.916,1386.4 637.915,1386.4 639.913,1386.4 641.912,1386.4 643.911,1386.4 645.909,1386.4 647.908,1386.4 649.907,1386.4 651.906,1386.4 653.904,1386.4 \n",
       "  655.903,1386.4 657.902,1386.4 659.9,1386.4 661.899,1386.36 663.898,1386.4 665.897,1386.4 667.895,1386.4 669.894,1386.4 671.893,1386.4 673.892,1386.4 \n",
       "  675.89,1386.4 677.889,1386.4 679.888,1386.4 681.886,1386.4 683.885,1386.4 685.884,1386.4 687.883,1386.4 689.881,1386.4 691.88,1386.4 693.879,1386.4 \n",
       "  695.877,1386.4 697.876,1386.4 699.875,1386.4 701.874,1386.4 703.872,1386.4 705.871,1386.4 707.87,1386.4 709.868,1386.4 711.867,1386.4 713.866,1386.4 \n",
       "  715.865,1386.4 717.863,1386.4 719.862,1386.4 721.861,1386.4 723.86,1386.4 725.858,1386.4 727.857,1386.4 729.856,1386.4 731.854,1386.4 733.853,1386.4 \n",
       "  735.852,1386.4 737.851,1386.4 739.849,1386.4 741.848,1386.4 743.847,1386.4 745.845,1386.4 747.844,1386.4 749.843,1386.4 751.842,1386.4 753.84,1386.4 \n",
       "  755.839,1386.4 757.838,1386.4 759.836,1386.4 761.835,1386.4 763.834,1386.4 765.833,1386.4 767.831,1386.4 769.83,1386.4 771.829,1386.4 773.827,1386.4 \n",
       "  775.826,1386.4 777.825,1386.4 779.824,1386.4 781.822,1386.4 783.821,1386.4 785.82,1386.4 787.819,1386.4 789.817,1386.4 791.816,1386.4 793.815,1386.4 \n",
       "  795.813,1386.4 797.812,1386.4 799.811,1386.4 801.81,1386.4 803.808,1386.4 805.807,1386.4 807.806,1386.4 809.804,1386.4 811.803,1386.4 813.802,1386.4 \n",
       "  815.801,1386.4 817.799,1386.4 819.798,1386.4 821.797,1386.4 823.795,1386.4 825.794,1386.4 827.793,1386.4 829.792,1386.4 831.79,1386.4 833.789,1386.4 \n",
       "  835.788,1386.4 837.787,1386.4 839.785,1386.4 841.784,1386.4 843.783,1386.4 845.781,1386.4 847.78,1386.4 849.779,1386.4 851.778,1386.4 853.776,1386.4 \n",
       "  855.775,1386.4 857.774,1386.4 859.772,1386.4 861.771,1386.4 863.77,1386.4 865.769,1386.4 867.767,1386.4 869.766,1386.4 871.765,1386.4 873.763,1386.4 \n",
       "  875.762,1386.4 877.761,1386.4 879.76,1386.4 881.758,1386.4 883.757,1386.4 885.756,1386.4 887.755,1386.4 889.753,1386.4 891.752,1386.4 893.751,1386.4 \n",
       "  895.749,1386.4 897.748,1386.4 899.747,1386.4 901.746,1386.4 903.744,1386.4 905.743,1386.4 907.742,1386.4 909.74,1386.4 911.739,1386.4 913.738,1386.4 \n",
       "  915.737,1386.4 917.735,1386.4 919.734,1386.4 921.733,1386.4 923.731,1386.4 925.73,1386.4 927.729,1386.4 929.728,1386.4 931.726,1386.4 933.725,1386.4 \n",
       "  935.724,1386.4 937.722,1386.4 939.721,1386.4 941.72,1386.4 943.719,1386.4 945.717,1386.4 947.716,1386.4 949.715,1386.4 951.714,1386.4 953.712,1386.4 \n",
       "  955.711,1386.4 957.71,1386.4 959.708,1386.4 961.707,1386.4 963.706,1386.4 965.705,1386.4 967.703,1386.4 969.702,1386.4 971.701,1386.4 973.699,1386.4 \n",
       "  975.698,1386.4 977.697,1386.4 979.696,1386.4 981.694,1386.4 983.693,1386.4 985.692,1386.4 987.69,1386.4 989.689,1386.4 991.688,1386.4 993.687,1386.4 \n",
       "  995.685,1386.4 997.684,1386.4 999.683,1386.4 1001.68,1386.4 1003.68,1386.4 1005.68,1386.4 1007.68,1386.4 1009.68,1386.4 1011.68,1386.4 1013.67,1386.4 \n",
       "  1015.67,1386.4 1017.67,1386.4 1019.67,1386.4 1021.67,1386.4 1023.67,1386.4 1025.67,1386.4 1027.66,1386.4 1029.66,1386.4 1031.66,1386.4 1033.66,1386.4 \n",
       "  1035.66,1386.4 1037.66,1386.4 1039.66,1386.4 1041.66,1386.4 1043.65,1386.4 1045.65,1386.4 1047.65,1386.4 1049.65,1386.4 1051.65,1386.4 1053.65,1386.4 \n",
       "  1055.65,1386.4 1057.65,1386.4 1059.64,1386.4 1061.64,1386.4 1063.64,1386.4 1065.64,1386.4 1067.64,1386.4 1069.64,1386.4 1071.64,1386.4 1073.64,1386.4 \n",
       "  1075.63,1386.4 1077.63,1386.4 1079.63,1386.4 1081.63,1386.4 1083.63,1386.4 1085.63,1386.4 1087.63,1386.4 1089.63,1386.4 1091.62,1386.4 1093.62,1386.4 \n",
       "  1095.62,1386.4 1097.62,1386.4 1099.62,1386.4 1101.62,1386.4 1103.62,1386.4 1105.61,1386.4 1107.61,1386.4 1109.61,1386.4 1111.61,1386.4 1113.61,1386.4 \n",
       "  1115.61,1386.4 1117.61,160.256 1119.61,160.256 1121.6,1386.4 1123.6,160.256 1125.6,1386.4 1127.6,1338.43 1129.6,1386.4 1131.6,160.256 1133.6,160.256 \n",
       "  1135.6,160.256 1137.59,160.256 1139.59,1386.4 1141.59,160.256 1143.59,160.256 1145.59,160.256 1147.59,160.256 1149.59,160.256 1151.59,1386.4 1153.58,1386.4 \n",
       "  1155.58,1386.4 1157.58,1386.4 1159.58,1386.4 1161.58,160.256 1163.58,1386.4 1165.58,1386.4 1167.58,1386.4 1169.57,1386.4 1171.57,1386.4 1173.57,1386.4 \n",
       "  1175.57,1386.4 1177.57,1386.4 1179.57,1386.4 1181.57,1386.4 1183.56,1386.4 1185.56,1386.4 1187.56,1386.4 1189.56,1386.4 1191.56,1386.4 1193.56,1386.4 \n",
       "  1195.56,1386.4 1197.56,1386.4 1199.55,1386.4 1201.55,1386.4 1203.55,1386.4 1205.55,1386.4 1207.55,1386.4 1209.55,1386.4 1211.55,1386.4 1213.55,1386.4 \n",
       "  1215.54,1386.4 1217.54,1386.4 1219.54,1386.4 1221.54,1386.4 1223.54,1386.4 1225.54,1386.4 1227.54,1386.4 1229.54,1386.4 1231.53,1386.4 1233.53,1386.4 \n",
       "  1235.53,1386.4 1237.53,1386.4 1239.53,1386.4 1241.53,1386.4 1243.53,1386.4 1245.53,1386.4 1247.52,1386.4 1249.52,1386.4 1251.52,1386.4 1253.52,1386.4 \n",
       "  1255.52,1386.4 1257.52,1386.4 1259.52,1386.4 1261.52,1386.4 1263.51,1386.4 1265.51,1386.4 1267.51,1386.4 1269.51,1386.4 1271.51,1386.4 1273.51,1386.4 \n",
       "  1275.51,1386.4 1277.5,1386.4 1279.5,1386.4 1281.5,1386.4 1283.5,1386.4 1285.5,1386.4 1287.5,1386.4 1289.5,1386.4 1291.5,1386.4 1293.49,1386.4 \n",
       "  1295.49,1386.4 1297.49,1386.4 1299.49,1386.4 1301.49,1386.4 1303.49,1386.4 1305.49,1386.4 1307.49,1386.4 1309.48,1386.4 1311.48,1386.4 1313.48,1386.4 \n",
       "  1315.48,1386.4 1317.48,1386.4 1319.48,1386.4 1321.48,1386.4 1323.48,1386.4 1325.47,1386.4 1327.47,1386.4 1329.47,1386.4 1331.47,1386.4 1333.47,1386.4 \n",
       "  1335.47,1386.4 1337.47,1386.4 1339.47,1386.4 1341.46,1386.4 1343.46,1386.4 1345.46,1386.4 1347.46,1386.4 1349.46,1386.4 1351.46,1386.4 1353.46,1386.4 \n",
       "  1355.45,1386.4 1357.45,1386.4 1359.45,1386.4 1361.45,1386.4 1363.45,1386.4 1365.45,1386.4 1367.45,1386.4 1369.45,1386.4 1371.44,1386.4 1373.44,1386.4 \n",
       "  1375.44,1386.4 1377.44,1386.4 1379.44,1386.4 1381.44,1386.4 1383.44,1386.4 1385.44,1386.4 1387.43,1386.4 1389.43,1386.4 1391.43,1386.4 1393.43,1386.4 \n",
       "  1395.43,1386.4 1397.43,1386.4 1399.43,1386.4 1401.43,1386.4 1403.42,1386.4 1405.42,1386.4 1407.42,1386.4 1409.42,1386.4 1411.42,1386.4 1413.42,1386.4 \n",
       "  1415.42,1386.4 1417.42,1386.4 1419.41,1386.4 1421.41,1386.4 1423.41,1386.4 1425.41,1386.4 1427.41,1386.4 1429.41,1386.4 1431.41,1386.4 1433.4,1386.4 \n",
       "  1435.4,1386.4 1437.4,1386.4 1439.4,1386.4 1441.4,1386.4 1443.4,1386.4 1445.4,1386.4 1447.4,1386.4 1449.39,1386.4 1451.39,1386.4 1453.39,1386.4 \n",
       "  1455.39,1386.4 1457.39,1386.4 1459.39,1386.4 1461.39,1386.4 1463.39,1386.4 1465.38,1386.4 1467.38,1386.4 1469.38,1386.4 1471.38,1386.4 1473.38,1386.4 \n",
       "  1475.38,1386.4 1477.38,1386.4 1479.38,1386.4 1481.37,1386.4 1483.37,1386.4 1485.37,1386.4 1487.37,1386.4 1489.37,1386.4 1491.37,1386.4 1493.37,1386.4 \n",
       "  1495.37,1386.4 1497.36,1386.4 1499.36,1386.4 1501.36,1386.4 1503.36,1386.4 1505.36,1386.4 1507.36,1386.4 1509.36,1386.4 1511.35,1386.4 1513.35,1386.4 \n",
       "  1515.35,1386.4 1517.35,1386.4 1519.35,1386.4 1521.35,1386.4 1523.35,1386.4 1525.35,1386.4 1527.34,1386.4 1529.34,1386.4 1531.34,1386.4 1533.34,1386.4 \n",
       "  1535.34,1386.4 1537.34,1386.4 1539.34,1386.4 1541.34,1386.4 1543.33,1386.4 1545.33,1386.4 1547.33,1386.4 1549.33,1386.4 1551.33,1386.4 1553.33,1386.4 \n",
       "  1555.33,1386.4 1557.33,1386.4 1559.32,1386.4 1561.32,1386.4 1563.32,1386.4 1565.32,1386.4 1567.32,1386.4 1569.32,1386.4 1571.32,1386.4 1573.32,1386.4 \n",
       "  1575.31,1386.4 1577.31,1386.4 1579.31,1386.4 1581.31,1386.4 1583.31,1386.4 1585.31,1386.4 1587.31,1386.4 1589.31,1386.4 1591.3,1386.4 1593.3,1386.4 \n",
       "  1595.3,1386.4 1597.3,1386.4 1599.3,1386.4 1601.3,1386.4 1603.3,1386.4 1605.29,1386.4 1607.29,1386.4 1609.29,1386.4 1611.29,1386.4 1613.29,1386.4 \n",
       "  1615.29,1386.4 1617.29,1386.4 1619.29,1386.4 1621.28,1386.4 1623.28,1386.4 1625.28,1386.4 1627.28,1386.4 1629.28,1386.4 1631.28,1386.4 1633.28,1386.4 \n",
       "  1635.28,1386.4 1637.27,1386.4 1639.27,1386.4 1641.27,1386.4 1643.27,1386.4 1645.27,1386.4 1647.27,1386.4 1649.27,1386.4 1651.27,1386.4 1653.26,1386.4 \n",
       "  1655.26,1386.4 1657.26,1386.4 1659.26,1386.4 1661.26,1386.4 1663.26,1386.4 1665.26,1386.4 1667.26,1386.4 1669.25,1386.4 1671.25,1386.4 1673.25,1386.4 \n",
       "  1675.25,1386.4 1677.25,1386.4 1679.25,1386.4 1681.25,1386.4 1683.24,1386.4 1685.24,1386.4 1687.24,1386.4 1689.24,1386.4 1691.24,1386.4 1693.24,1386.4 \n",
       "  1695.24,1386.4 1697.24,1386.4 1699.23,1386.4 1701.23,1386.4 1703.23,1386.4 1705.23,1386.4 1707.23,1386.4 1709.23,1386.4 1711.23,1386.4 1713.23,1386.4 \n",
       "  1715.22,1386.4 1717.22,1386.4 1719.22,1386.4 1721.22,1386.4 1723.22,1386.4 1725.22,1386.4 1727.22,1386.4 1729.22,1386.4 1731.21,1386.4 1733.21,1386.4 \n",
       "  1735.21,1386.4 1737.21,1386.4 1739.21,1386.4 1741.21,1386.4 1743.21,1386.4 1745.21,1386.4 1747.2,1386.4 1749.2,1386.4 1751.2,1386.4 1753.2,1386.4 \n",
       "  1755.2,1386.4 1757.2,1386.4 1759.2,1386.4 1761.19,1386.4 1763.19,1386.4 1765.19,1386.4 1767.19,1386.4 1769.19,1386.4 1771.19,1386.4 1773.19,1386.4 \n",
       "  1775.19,1386.4 1777.18,1386.4 1779.18,1386.4 1781.18,1386.4 1783.18,1386.4 1785.18,1386.4 1787.18,1386.4 1789.18,1386.4 1791.18,1386.4 1793.17,1386.4 \n",
       "  1795.17,1386.4 1797.17,1386.4 1799.17,1386.4 1801.17,1386.4 1803.17,1386.4 1805.17,1386.4 1807.17,1386.4 1809.16,1386.4 1811.16,1386.4 1813.16,1386.4 \n",
       "  1815.16,1386.4 1817.16,1386.4 1819.16,1386.4 1821.16,1386.4 1823.16,1386.4 1825.15,1386.4 1827.15,1386.4 1829.15,1386.4 1831.15,1386.4 1833.15,1386.4 \n",
       "  1835.15,1386.4 1837.15,1386.4 1839.14,1386.4 1841.14,1386.4 1843.14,1386.4 1845.14,1386.4 1847.14,1386.4 1849.14,1386.4 1851.14,1386.4 1853.14,1386.4 \n",
       "  1855.13,1386.4 1857.13,1386.4 1859.13,1386.4 1861.13,1386.4 1863.13,1386.4 1865.13,1386.4 1867.13,1386.4 1869.13,1386.4 1871.12,1386.4 1873.12,1386.4 \n",
       "  1875.12,1386.4 1877.12,1386.4 1879.12,1386.4 1881.12,1386.4 1883.12,1386.4 1885.12,1386.4 1887.11,1386.4 1889.11,1386.4 1891.11,1386.4 1893.11,1386.4 \n",
       "  1895.11,1386.4 1897.11,1386.4 1899.11,1386.4 1901.11,1386.4 1903.1,1386.4 1905.1,1386.4 1907.1,1386.4 1909.1,1386.4 1911.1,1386.4 1913.1,1386.4 \n",
       "  1915.1,1386.4 1917.1,1386.4 1919.09,1386.4 1921.09,1386.4 1923.09,1386.4 1925.09,1386.4 1927.09,1386.4 1929.09,1386.4 1931.09,1386.4 1933.08,1386.4 \n",
       "  1935.08,1386.4 1937.08,1386.4 1939.08,1386.4 1941.08,1386.4 1943.08,1386.4 1945.08,1386.4 1947.08,1386.4 1949.07,1386.4 1951.07,1386.4 1953.07,1386.4 \n",
       "  1955.07,1386.4 1957.07,1386.4 1959.07,1386.4 1961.07,1386.4 1963.07,1386.4 1965.06,1386.4 1967.06,1386.4 1969.06,1386.4 1971.06,1386.4 1973.06,1386.4 \n",
       "  1975.06,1386.4 1977.06,1386.4 1979.06,1386.4 1981.05,1386.4 1983.05,1386.4 1985.05,1386.4 1987.05,1386.4 1989.05,1386.4 1991.05,1386.4 1993.05,1386.4 \n",
       "  1995.05,1386.4 1997.04,1386.4 1999.04,1386.4 2001.04,1386.4 2003.04,1386.4 2005.04,1386.4 2007.04,1386.4 2009.04,1386.4 2011.03,1386.4 2013.03,1386.4 \n",
       "  2015.03,1386.4 2017.03,1386.4 2019.03,1386.4 2021.03,1386.4 2023.03,1386.4 2025.03,1386.4 2027.02,1386.4 2029.02,1386.4 2031.02,1386.4 2033.02,1386.4 \n",
       "  2035.02,1386.4 2037.02,1386.4 2039.02,1386.4 2041.02,1386.4 2043.01,1386.4 2045.01,1386.4 2047.01,1386.4 2049.01,1386.4 2051.01,1386.4 2053.01,1386.4 \n",
       "  2055.01,1386.4 2057.01,1386.4 2059,1386.4 2061,1386.4 2063,1386.4 2065,1386.4 2067,1386.4 2069,1386.4 2071,1386.4 2073,1386.4 \n",
       "  2074.99,1386.4 2076.99,1386.4 2078.99,1386.4 2080.99,1386.4 2082.99,1386.4 2084.99,1386.4 2086.99,1386.4 2088.98,1386.4 2090.98,1386.4 2092.98,1386.4 \n",
       "  2094.98,1386.4 2096.98,1386.4 2098.98,1386.4 2100.98,1386.4 2102.98,1386.4 2104.97,1386.4 2106.97,1386.4 2108.97,1386.4 2110.97,1386.4 2112.97,1386.4 \n",
       "  2114.97,1386.4 2116.97,1386.4 2118.97,1386.4 2120.96,1386.4 2122.96,1386.4 2124.96,1386.4 2126.96,1386.4 2128.96,1386.4 2130.96,1386.4 2132.96,1386.4 \n",
       "  2134.96,1386.4 2136.95,1386.4 2138.95,1386.4 2140.95,1386.4 2142.95,1386.4 2144.95,1386.4 2146.95,1386.4 2148.95,1386.4 2150.95,1386.4 2152.94,1386.4 \n",
       "  2154.94,1386.4 2156.94,1386.4 2158.94,1386.4 2160.94,1386.4 2162.94,1386.4 2164.94,1386.4 2166.93,1386.4 2168.93,1386.4 2170.93,1386.4 2172.93,1386.4 \n",
       "  2174.93,1386.4 2176.93,1386.4 2178.93,1386.4 2180.93,1386.4 2182.92,1386.4 2184.92,1386.4 2186.92,1386.4 2188.92,1386.4 2190.92,1386.4 2192.92,1386.4 \n",
       "  2194.92,1386.4 2196.92,1386.4 2198.91,1386.4 2200.91,1386.4 2202.91,1386.4 2204.91,1386.4 2206.91,1386.4 2208.91,1386.4 2210.91,1386.4 2212.91,1386.4 \n",
       "  2214.9,1386.4 2216.9,1386.4 2218.9,1386.4 2220.9,1386.4 2222.9,1386.4 2224.9,1386.4 2226.9,1386.4 2228.9,1386.4 2230.89,1386.4 2232.89,1386.4 \n",
       "  2234.89,1386.4 2236.89,1386.4 2238.89,1386.4 2240.89,1386.4 2242.89,1386.4 2244.89,1386.4 2246.88,1386.4 2248.88,1386.4 2250.88,1386.4 2252.88,1386.4 \n",
       "  2254.88,1386.4 2256.88,1386.4 2258.88,1386.4 2260.87,1386.4 2262.87,1386.4 2264.87,1386.4 2266.87,1386.4 2268.87,1386.4 2270.87,1386.4 2272.87,1386.4 \n",
       "  2274.87,1386.4 2276.86,1386.4 2278.86,1386.4 2280.86,1386.4 2282.86,1386.4 2284.86,1386.4 2286.86,1386.4 2288.86,1386.4 2290.86,1386.4 2292.85,1386.4 \n",
       "  \n",
       "  \"/>\n",
       "<path clip-path=\"url(#clip360)\" d=\"\n",
       "M1989.74 327.952 L2280.76 327.952 L2280.76 206.992 L1989.74 206.992  Z\n",
       "  \" fill=\"#ffffff\" fill-rule=\"evenodd\" fill-opacity=\"1\"/>\n",
       "<polyline clip-path=\"url(#clip360)\" style=\"stroke:#000000; stroke-width:4; stroke-opacity:1; fill:none\" points=\"\n",
       "  1989.74,327.952 2280.76,327.952 2280.76,206.992 1989.74,206.992 1989.74,327.952 \n",
       "  \"/>\n",
       "<polyline clip-path=\"url(#clip360)\" style=\"stroke:#009af9; stroke-width:4; stroke-opacity:1; fill:none\" points=\"\n",
       "  2013.74,267.472 2157.74,267.472 \n",
       "  \"/>\n",
       "<path clip-path=\"url(#clip360)\" d=\"M 0 0 M2195.58 287.16 Q2193.77 291.789 2192.06 293.201 Q2190.35 294.613 2187.48 294.613 L2184.08 294.613 L2184.08 291.048 L2186.58 291.048 Q2188.33 291.048 2189.31 290.215 Q2190.28 289.382 2191.46 286.28 L2192.22 284.335 L2181.74 258.826 L2186.25 258.826 L2194.35 279.104 L2202.46 258.826 L2206.97 258.826 L2195.58 287.16 Z\" fill=\"#000000\" fill-rule=\"evenodd\" fill-opacity=\"1\" /><path clip-path=\"url(#clip360)\" d=\"M 0 0 M2212.85 280.817 L2220.49 280.817 L2220.49 254.451 L2212.18 256.118 L2212.18 251.859 L2220.44 250.192 L2225.12 250.192 L2225.12 280.817 L2232.76 280.817 L2232.76 284.752 L2212.85 284.752 L2212.85 280.817 Z\" fill=\"#000000\" fill-rule=\"evenodd\" fill-opacity=\"1\" /></svg>\n"
      ]
     },
     "execution_count": 15,
     "metadata": {},
     "output_type": "execute_result"
    }
   ],
   "source": [
    "fz(x, y) = objective([x, y])\n",
    "my_guess, liste_generations, liste_fitness = not_plot_obj_cmaes(1000)\n",
    "\n",
    "println(-1*evaluate_bird(my_guess))\n",
    "println(my_guess)\n",
    "\n",
    "plot(liste_generations, liste_fitness, title = \"Evolution de la fitness pour CMA-ES\")\n",
    "xlabel!(\"Génération\")\n",
    "ylabel!(\"Fitness du meilleur individu\")"
   ]
  },
  {
   "cell_type": "markdown",
   "metadata": {},
   "source": [
    "\n",
    "\n",
    "## II. ES (mu/signam, lambda)\n"
   ]
  },
  {
   "cell_type": "code",
   "execution_count": 16,
   "metadata": {},
   "outputs": [
    {
     "data": {
      "text/plain": [
       "2-element Array{Float64,1}:\n",
       "  3.237780058502901\n",
       " -0.339561512484326"
      ]
     },
     "execution_count": 16,
     "metadata": {},
     "output_type": "execute_result"
    }
   ],
   "source": [
    "npop = 50     # population size\n",
    "sigma = 0.1   # noise standard deviation\n",
    "alpha = 0.001 # step size\n",
    "x = randn(2)  # initial expert"
   ]
  },
  {
   "cell_type": "code",
   "execution_count": 17,
   "metadata": {},
   "outputs": [
    {
     "data": {
      "text/plain": [
       "step_es (generic function with 1 method)"
      ]
     },
     "execution_count": 17,
     "metadata": {},
     "output_type": "execute_result"
    }
   ],
   "source": [
    "xs = -5.0:0.1:5.0\n",
    "ys = -5.0:0.1:5.0\n",
    "#fz(x, y) = objective([x, y]);\n",
    "\n",
    "function step_es(x::Array{Float64}; npop=50, sigma=0.1, alpha=0.01, visualize=false, anim=Nothing)\n",
    "    N = randn(npop, 2)\n",
    "    P = repeat(x, 1, npop)' .+ sigma .* N\n",
    "    R = zeros(npop)\n",
    "    for i in eachindex(R)\n",
    "        R[i] = objective(P[i, :]) #evaluation\n",
    "    end\n",
    "    A = (R .- mean(R)) ./ std(R) #the selection is done here: we are giving a higher porbability to individuals that did well\n",
    "    \n",
    "    if visualize\n",
    "        plot(xs, ys, fz, st=:contour)\n",
    "        scatter!(P[:, 1], P[:, 2], xlims=(-5, 5), ylims=(-5, 5), zcolor=R)\n",
    "        scatter!([x[1]], [x[2]], legend=:none, color=:black, marker=:rect)\n",
    "        frame(anim)\n",
    "    end\n",
    "    \n",
    "    x .+ alpha/(npop * sigma) .* [dot(N[:, i], A) for i in 1:size(N, 2)] #modification step: changing the center of gravity\n",
    "end"
   ]
  },
  {
   "cell_type": "code",
   "execution_count": 18,
   "metadata": {},
   "outputs": [
    {
     "data": {
      "text/plain": [
       "plot_obj_es (generic function with 1 method)"
      ]
     },
     "execution_count": 18,
     "metadata": {},
     "output_type": "execute_result"
    }
   ],
   "source": [
    "function plot_obj_es()\n",
    "    x = randn(2) #initial population: which is a single point\n",
    "    println(\"x initial: \", x)\n",
    "    anim = Animation()\n",
    "    for i in 1:500\n",
    "        v = mod(i, 10) == 0\n",
    "        x = step_es(x, npop=50, sigma=0.1, alpha=0.001, visualize=v, anim=anim)\n",
    "    end\n",
    "    println(\"x final: \", x)\n",
    "    gif(anim)\n",
    "end"
   ]
  },
  {
   "cell_type": "code",
   "execution_count": 19,
   "metadata": {},
   "outputs": [
    {
     "ename": "UndefVarError",
     "evalue": "UndefVarError: solution not defined",
     "output_type": "error",
     "traceback": [
      "UndefVarError: solution not defined",
      "",
      "Stacktrace:",
      " [1] top-level scope at In[19]:3"
     ]
    }
   ],
   "source": [
    "xs = -5.0:0.1:5.0\n",
    "ys = -5.0:0.1:5.0\n",
    "\n",
    "#fz(x, y) = objective_es([x, y])\n",
    "println(solution) # optimal for sphere and rastrigin\n",
    "#plot_obj_cmaes()"
   ]
  }
 ],
 "metadata": {
  "@webio": {
   "lastCommId": null,
   "lastKernelId": null
  },
  "kernelspec": {
   "display_name": "Julia 1.3.1",
   "language": "julia",
   "name": "julia-1.3"
  },
  "language_info": {
   "file_extension": ".jl",
   "mimetype": "application/julia",
   "name": "julia",
   "version": "1.3.1"
  }
 },
 "nbformat": 4,
 "nbformat_minor": 2
}
