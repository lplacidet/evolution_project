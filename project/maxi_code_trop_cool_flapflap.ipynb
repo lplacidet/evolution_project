{
 "cells": [
  {
   "cell_type": "code",
<<<<<<< HEAD
   "execution_count": 18,
=======
   "execution_count": null,
>>>>>>> origin/louise_tests
   "metadata": {},
   "outputs": [],
   "source": [
    "using Random\n",
    "using LinearAlgebra\n",
    "using Statistics\n",
    "using Plots\n",
    "import Base.isless\n",
    "\n",
    "using Cxx, Libdl"
   ]
  },
  {
   "cell_type": "code",
   "execution_count": null,
   "metadata": {},
   "outputs": [],
   "source": [
    "const path_to_lib = pwd()\n",
    "addHeaderDir(path_to_lib*\"/world/\", kind=C_System)\n",
    "cxxinclude(\"runWorld.h\")"
   ]
  },
  {
   "cell_type": "code",
   "execution_count": null,
   "metadata": {},
   "outputs": [],
   "source": [
    "mutable struct Bird\n",
    "    genes::Array{Float64}\n",
    "    fitness::Float64\n",
    "end\n",
    "\n",
    "function Bird(;dim=5)\n",
    "    genes = randn(dim)\n",
    "    fitness = 0.0\n",
    "    Bird(genes, fitness)\n",
    "end \n",
    "\n",
    "function isless(b1::Bird, b2::Bird)\n",
    "    b1.fitness < b2.fitness\n",
    "end"
   ]
  },
  {
   "cell_type": "code",
   "execution_count": null,
   "metadata": {},
   "outputs": [],
   "source": [
    "#test\n",
    "flappy = Bird()\n",
    "println(flappy)"
   ]
  },
  {
   "cell_type": "code",
   "execution_count": null,
   "metadata": {},
   "outputs": [],
   "source": [
    "cxx\"\"\"\n",
    "\n",
    "static double evaluate_bird(float g1, float g2, float g3, float g4, float g5) {\n",
    "float ind[5] = {g1,g2,g3,g4,g5};\n",
    "\n",
    "\tconst int NRUN = 3;\n",
    "\tauto &g = ind;\n",
    "\tdouble d = 0;\n",
    "\tfor (int r = 0; r < NRUN; ++r) {\n",
    "\t\tWorld world;\n",
    "\t\tworld.gen.seed(r * 100);\n",
    "\t\twhile (world.bestiau.vivant) {\n",
    "\n",
    "            world.update();\n",
    "            // update inputs\n",
    "            float birdY = world.bestiau.y;\n",
    "            float birdVY = world.bestiau.vit;\n",
    "            float obsX;\n",
    "            float obsY;\n",
    "            if (world.obstacles.size() > 0) {\n",
    "                const auto &o = world.obstacles.front();\n",
    "                obsY = o.y + world.hauteurPassage * 0.5;\n",
    "                obsX = o.x / world.W;\n",
    "            } else {\n",
    "                obsY = world.H * 0.5;\n",
    "                obsX = 1000.0;\n",
    "            }\n",
    "            double dd = world.dist;\n",
    "            //if ((g[0]*birdY+g[1]*birdVY+g[2]*obsX+g[3]*obsY)>1.0) world.bestiauUp();\n",
    "            //if ((g[0]*(birdY-obsY)+g[1]*birdY+g[2]*obsX+g[3]*birdVY)>1.0) world.bestiauUp();\n",
    "            //if ((g[0]*(birdY-obmsY)+g[1]*birdY+g[2]*obsX+g[3]*birdVY+g[4]*dd)>1.0) world.bestiauUp();\n",
    "            if ((g[0]*(birdY-obsY)+g[1]*birdY+g[2]*obsX+g[3]*birdVY+g[4]*world.vitesseDefilement)>1.0) world.bestiauUp();\n",
    "        }\n",
    "        d += world.dist;\n",
    "        d -= 0.001*abs(world.bestiau.y-world.obstacles.front().y);\n",
    "    }\n",
    "    return d;\n",
    "}\n",
    "\"\"\""
   ]
  },
  {
   "cell_type": "code",
   "execution_count": null,
   "metadata": {},
   "outputs": [],
   "source": [
    "cpptojulia(g1::Float64, g2::Float64, g3::Float64, g4::Float64, g5::Float64) = @cxx evaluate_bird(g1,g2,g3,g4,g5)\n",
    "function evaluate_bird(g::Array{Float64})\n",
    "    cpptojulia(g[1],g[2],g[3],g[4],g[5])\n",
    "end"
   ]
  },
  {
   "cell_type": "code",
   "execution_count": 7,
   "metadata": {},
   "outputs": [
    {
     "data": {
      "text/plain": [
       "evaluate! (generic function with 1 method)"
      ]
     },
     "execution_count": 7,
     "metadata": {},
     "output_type": "execute_result"
    }
   ],
   "source": [
    "function evaluate!(flappy::Bird)\n",
    "    g=flappy.genes\n",
    "    flappy.fitness = evaluate_bird(g)\n",
    "end"
   ]
  },
  {
   "cell_type": "code",
   "execution_count": 8,
   "metadata": {},
   "outputs": [
    {
     "name": "stdout",
     "output_type": "stream",
     "text": [
      "Bird([0.2622793562854866, 0.633446967742429, 0.6305322892650664, -1.0543301119654822, 1.4463478000389243], 0.0)\n",
      "0.6082772753933049\n",
      "Bird([0.2622793562854866, 0.633446967742429, 0.6305322892650664, -1.0543301119654822, 1.4463478000389243], 0.6082772753933049)\n",
      "_____2nd______\n",
      "Bird([-3.72, -0.46, -0.227, -1.9, 0.0], 0.0)\n",
      "310.75271993426566\n",
      "Bird([-3.72, -0.46, -0.227, -1.9, 0.0], 310.75271993426566)\n",
      "isless false\n",
      "isless true\n"
     ]
    }
   ],
   "source": [
    "# test\n",
    "\n",
    "flappy = Bird()\n",
    "println(flappy)\n",
    "g = flappy.genes\n",
    "ev = evaluate_bird(g)\n",
    "println(ev)\n",
    "evaluate!(flappy)\n",
    "println(flappy)\n",
    "\n",
    "println(\"_____2nd______\")\n",
    "flappy2 = Bird()\n",
    "flappy2.genes = [-3.72, -0.46, -0.227, -1.90, 0.0] #param pour {deltaY, bY, oX, bVY} >1.0\n",
    "println(flappy2)\n",
    "ev2 = evaluate_bird(flappy2.genes)\n",
    "println(ev2)\n",
    "evaluate!(flappy2)\n",
    "println(flappy2)\n",
    "\n",
    "\n",
    "println(\"isless \", flappy>flappy2)\n",
    "println(\"isless \", flappy<flappy2)\n",
    "\n"
   ]
  },
  {
   "cell_type": "markdown",
   "metadata": {},
   "source": [
    "\n",
    "\n",
    "#  _________________________ES 1___\n",
    "\n",
    "\n"
   ]
  },
  {
   "cell_type": "code",
   "execution_count": 9,
   "metadata": {},
   "outputs": [
    {
     "data": {
      "text/plain": [
       "step_birds (generic function with 1 method)"
      ]
     },
     "execution_count": 9,
     "metadata": {},
     "output_type": "execute_result"
    }
   ],
   "source": [
    "function step_birds(best::Array{Float64};dim=5, npop=50, sigma=0.1, alpha=sigma/10)\n",
    "    N = randn(npop,dim)\n",
    "    P = repeat(best, 1, npop)' .+  sigma.* N #[N[i,:].*sigma for i in 1:npop]\n",
    "\n",
    "    R = zeros(npop)\n",
    "    for i in eachindex(R)\n",
    "        R[i] = objective(P[i, :]) #evaluation\n",
    "    end\n",
    "    \n",
    "    \n",
    "    #println(\"  R    :\", R)\n",
    "    \n",
    "    A = (R .- mean(R)) ./ std(R)\n",
    "    #println(\"____________________\")\n",
    "    #println(\" A :\", A)\n",
    "    #println(\"____________________\")\n",
    "    #println(\" N : \", N[:,1])\n",
    "    \n",
    "    test = dot(N[:, 1], A)\n",
    "    #println(\" test :\", test)\n",
    "    if isnan(test)\n",
    "        println(\"failed\")\n",
    "    end\n",
    "    mat = [dot(N[:, i], A) for i in 1:size(N, 2)]\n",
    "    #println(\"mat : \", mat)\n",
    "    #println(alpha/(npop * sigma) .* mat)\n",
    "    w = alpha/(npop * sigma) .* mat#[dot(N[:, i], A) for i in 1:size(N, dim)]\n",
    "    #println(\" w : \", w)\n",
    "    best = best .+ w #modification step: changing the center of gravity\n",
    "    best\n",
    "end"
   ]
  },
  {
   "cell_type": "code",
   "execution_count": 10,
   "metadata": {},
   "outputs": [
    {
     "data": {
      "text/plain": [
       "run_es_bird (generic function with 1 method)"
      ]
     },
     "execution_count": 10,
     "metadata": {},
     "output_type": "execute_result"
    }
   ],
   "source": [
    "function run_es_bird(;Nstep=500, Npop=100, Sigma=0.1)\n",
    "    dim = 5\n",
    "    #best = randn(dim)\n",
    "    #best = [-4.991793690362872, -1.0548510731723693, -0.46613776158659587, -2.281903602732939, -0.0011843804167953435]\n",
    "    best = [-3.7801608774814435, -0.3807797572729434, -0.1904445735415997, -2.0321882891336522, -0.067457035171137]\n",
    "    \n",
    "    println(\"best initial: \", best)\n",
    "    first_fitness = evaluate_bird(best)\n",
    "    println(\"best initial fitness:\", first_fitness)\n",
    "    \n",
    "    dist = zeros(Nstep)\n",
    "    for i in 1:Nstep\n",
    "        best = step_birds(best, dim=dim, npop=Npop, sigma=Sigma)\n",
    "        #println(\"best: \", best)\n",
    "        #println(\"best norm: \", norm(best))\n",
    "        #println(\"dist max :\" , objective(best))\n",
    "        dist[i] = objective(best)\n",
    "        #if dist[i]>300\n",
    "         #   Sigma = 0.01\n",
    "        #end\n",
    "    end\n",
    "    println(\"best final: \", best)\n",
    "    println(\"best final dist: \", objective(best))\n",
    "    #best\n",
    "    dist\n",
    "end"
   ]
  },
  {
   "cell_type": "code",
   "execution_count": null,
   "metadata": {
    "scrolled": false
   },
   "outputs": [],
   "source": [
    "objective = evaluate_bird\n",
    "Npop = 1000\n",
    "Ngen = 100\n",
    "sig = 0.1\n",
    "res = run_es_bird(Nstep=Ngen, Npop=Npop, Sigma=sig)\n",
    "distances = res\n",
    "plot(distances)\n",
    "xaxis!(\"Ngen\")\n",
    "yaxis!(\"distance\")\n",
    "title!(\"Evolution de la fitness pour l'ES\")"
   ]
  },
  {
   "cell_type": "code",
   "execution_count": null,
   "metadata": {
    "scrolled": true
   },
   "outputs": [],
   "source": [
    "objective = evaluate_bird\n",
    "Npop = 200\n",
    "Ngen = 500\n",
    "sig = 0.001\n",
    "res = run_es_bird(Nstep=Ngen, Npop=Npop, Sigma=sig)\n",
    "distances = res\n",
    "plot(distances,legend=:outertopright)\n",
    "xaxis!(\"Ngen\")\n",
    "yaxis!(\"distance\")\n",
    "title!(\"Evolution de la fitness pour l'ES\")\n",
    "\n",
    "for i in 1:10\n",
    "    res = run_es_bird(Nstep=Ngen, Npop=Npop, Sigma=sig)\n",
    "    distances = res\n",
    "    plot!(distances)\n",
    "end\n",
    "\n",
    "current()\n",
    "\n",
    "#####avec Npop = 200, Ngen = 500, sig = 0.1\n",
    "#best initial: [0.19507200551351175, -0.08498603878178577, 0.9501283764216036, 0.20293169509199305, 0.9760144556650499]\n",
    "#best initial fitness:0.29995407539330476\n",
    "#best final: [-3.7801608774814435, -0.3807797572729434, -0.1904445735415997, -2.0321882891336522, -0.067457035171137]\n",
    "#best final dist: 358.579500125548"
   ]
  },
  {
   "cell_type": "markdown",
   "metadata": {},
   "source": [
    "# ___ ES __ 1 __ Cumulatif"
   ]
  },
  {
   "cell_type": "code",
   "execution_count": null,
   "metadata": {},
   "outputs": [],
   "source": [
    "function run_es_bird_cumu(;Nstep=500, Npop=100, Sigma=0.1)\n",
    "    dim = 5\n",
    "    \n",
    "    best = randn(dim)\n",
    "    #best = [-4.991793690362872, -1.0548510731723693, -0.46613776158659587, -2.281903602732939, -0.0011843804167953435]\n",
    "    #best = [-3.7801608774814435, -0.3807797572729434, -0.1904445735415997, -2.0321882891336522, -0.067457035171137]\n",
    "    \n",
    "    \n",
    "    println(\"best initial: \", best)\n",
    "    first_fitness = evaluate_bird(best)\n",
    "    println(\"best initial fitness:\", first_fitness)\n",
    "    cumul_fitness = first_fitness\n",
    "    \n",
    "    dist = zeros(Nstep)\n",
    "    for i in 1:Nstep\n",
    "        best = step_birds(best, dim=dim, npop=Npop, sigma=Sigma)\n",
    "\n",
    "        if (objective(best) > cumul_fitness)\n",
    "            cumul_fitness = objective(best)\n",
    "        end\n",
    "        \n",
    "        dist[i] = cumul_fitness\n",
    "\n",
    "    end\n",
    "    println(\"best final: \", best)\n",
    "    println(\"best final dist: \", objective(best))\n",
    "    #best\n",
    "    dist\n",
    "end"
   ]
  },
  {
   "cell_type": "code",
   "execution_count": null,
   "metadata": {
    "scrolled": false
   },
   "outputs": [],
   "source": [
    "objective = evaluate_bird\n",
    "Npop = 200\n",
    "Ngen = 500\n",
    "sig = 0.01\n",
    "\n",
    "res = run_es_bird_cumu(Nstep=Ngen, Npop=Npop, Sigma=sig)\n",
    "distances = res\n",
    "plot(distances,legend=:outertopright)\n",
    "xaxis!(\"Ngen\")\n",
    "yaxis!(\"distance\")\n",
    "title!(\"Evolution de la fitness pour l'ES\")\n",
    "\n",
    "for i in 1:5\n",
    "    res = run_es_bird_cumu(Nstep=Ngen, Npop=Npop, Sigma=sig)\n",
    "    distances = res\n",
    "    plot!(distances)\n",
    "end\n",
    "\n",
    "current()\n",
    "\n",
    "#####avec Npop = 200, Ngen = 500, sig = 0.1\n",
    "#best initial: [0.19507200551351175, -0.08498603878178577, 0.9501283764216036, 0.20293169509199305, 0.9760144556650499]\n",
    "#best initial fitness:0.29995407539330476\n",
    "#best final: [-3.7801608774814435, -0.3807797572729434, -0.1904445735415997, -2.0321882891336522, -0.067457035171137]\n",
    "#best final dist: 358.579500125548"
   ]
  },
  {
   "cell_type": "markdown",
   "metadata": {},
   "source": [
    "\n",
    "\n",
    "\n",
    "#  _________________________ES________________\n",
    "\n",
    "\n"
   ]
  },
  {
   "cell_type": "code",
   "execution_count": null,
   "metadata": {},
   "outputs": [],
   "source": [
    "mutable struct Obj_es\n",
    "    center::Bird\n",
    "    best::Array{Bird}\n",
    "end\n",
    "\n",
    "function Obj_es(;mu=5)\n",
    "    center = Bird()\n",
    "    evaluate!(center)\n",
    "    best = Array{Bird}(undef, mu)\n",
    "    for i in eachindex(best)\n",
    "        best[i] = Bird()\n",
    "        evaluate!(best[i])\n",
    "    end\n",
    "    Obj_es(center, best)\n",
    "end "
   ]
  },
  {
   "cell_type": "code",
   "execution_count": null,
   "metadata": {},
   "outputs": [],
   "source": [
    "function es_step!(obj::Obj_es; npop=50, sigma=0.01, alpha=sigma/10)\n",
    "    x = obj.center\n",
    "    best = obj.best\n",
    "    \n",
    "    mu = length(best)\n",
    "    #dim = length(Bird)\n",
    "    #println(mu)\n",
    "    #println(dim)\n",
    "    dim=5\n",
    "    \n",
    "    N = randn(npop,dim) \n",
    "    Pop = Array{Bird}(undef, npop)\n",
    "    R = zeros(npop)\n",
    "    for i in eachindex(N[1:npop-mu,1])\n",
    "        Pop[i] = Bird()\n",
    "        Pop[i].genes = x.genes .+ sigma .* N[i]\n",
    "        evaluate!(Pop[i])\n",
    "        R[i] = Pop[i].fitness\n",
    "    end\n",
    "    for i in eachindex(best)\n",
    "        Pop[npop-mu+i] = Bird()\n",
    "        Pop[npop-mu+i] = best[i]\n",
    "        R[npop-mu+i] = best[i].fitness\n",
    "        \n",
    "        N[npop-mu+i,:] = (best[i].genes-x.genes)./sigma\n",
    "    end\n",
    "    \n",
    "    #println(\"_____________________\")\n",
    "    #for i in eachindex(Pop)\n",
    "    #    print(\"   \",Pop[i].fitness)\n",
    "    #end\n",
    "    \n",
    "    Pop2 = sort(Pop, rev=true)\n",
    "        \n",
    "    #println(\"_____________________\")\n",
    "    #for i in eachindex(Pop2)\n",
    "    #    print(\"   \",Pop2[i].fitness)\n",
    "    #end\n",
    "    #println(\"_____________________\")\n",
    "    \n",
    "    #println(\"  R    :\", R)\n",
    "    \n",
    "    A = (R .- mean(R)) ./ std(R)\n",
    "    #println(\"____________________\")\n",
    "    #println(\" A :\", A)\n",
    "    #println(\"____________________\")\n",
    "    #println(\" N : \", N[:,1])\n",
    "    \n",
    "    test = dot(N[:, 1], A)\n",
    "    #println(\" test :\", test)\n",
    "    if isnan(test)\n",
    "        println(\"failed\")\n",
    "    end\n",
    "    mat = [dot(N[:, i], A) for i in 1:size(N, 2)]\n",
    "    #println(\"mat : \", mat)\n",
    "    #println(alpha/(npop * sigma) .* mat)\n",
    "    w = alpha/(npop * sigma) .* mat#[dot(N[:, i], A) for i in 1:size(N, dim)]\n",
    "    #println(\" w : \", w)\n",
    "    \n",
    "    \n",
    "    x.genes = x.genes .+ w #modification step: changing the center of gravity\n",
    "    evaluate!(x)\n",
    "    best = Array{Bird}(undef,mu)\n",
    "    for i in eachindex(best)\n",
    "        best[i] = Bird()\n",
    "        best[i].genes = Pop2[i].genes\n",
    "        best[i].fitness = Pop2[i].fitness\n",
    "    end\n",
    "    \n",
    "    obj.center = x\n",
    "    obj.best = best\n",
    "end"
   ]
  },
  {
   "cell_type": "code",
   "execution_count": null,
   "metadata": {},
   "outputs": [],
   "source": [
    "flappyX = Bird()\n",
    "evaluate!(flappyX)\n",
    "flappies = Array{Bird}(undef, 5)\n",
    "for i in eachindex(flappies)\n",
    "    flappies[i] = Bird()\n",
    "    evaluate!(flappies[i])\n",
    "end\n",
    "\n",
    "obj = Obj_es()\n",
    "flappyX = obj.center\n",
    "flappies = obj.best\n",
    "\n",
    "println(\" X1 : \", flappyX)\n",
    "println(\" best1 : \", flappies)\n",
    "\n",
    "#es_step!(flappyX, flappies, npop=10)\n",
    "es_step!(obj,npop=10)\n",
    "flappyX = obj.center\n",
    "flappies = obj.best\n",
    "\n",
    "println(\" X2 : \", flappyX)\n",
    "#println(\" best2 : \", flappies)\n",
    "println(\"_____________________best2____\")\n",
    "for i in eachindex(flappies)\n",
    "    print(\"   \",flappies[i].fitness)\n",
    "end\n",
    "\n",
    "println(\"-------------______________--------------------------\")\n",
    "\n",
    "#es_step!(flappyX, flappies, npop=10)\n",
    "es_step!(obj,npop=10)\n",
    "flappyX = obj.center\n",
    "flappies = obj.best\n",
    "\n",
    "println(\" X3 : \", flappyX)\n",
    "#println(\" best2 : \", flappies)\n",
    "println(\"_____________________best3___\")\n",
    "for i in eachindex(flappies)\n",
    "    print(\"   \",flappies[i].fitness)\n",
    "end"
   ]
  },
  {
   "cell_type": "code",
   "execution_count": null,
   "metadata": {},
   "outputs": [],
   "source": [
    "function run_es_bird(;Nstep=500, Npop=100, Sigma=0.1, mu=5)\n",
    "    \n",
    "    obj = Obj_es(mu=mu)\n",
    "    \n",
    "    println(\"initial X: \", obj.center)\n",
    "    println(\"initial best: \", obj.best)\n",
    "    \n",
    "    dist = zeros(Nstep)\n",
    "    for i in 1:Nstep\n",
    "        es_step!(obj, npop=Npop, sigma=Sigma)\n",
    "        #println(\"best: \", best)\n",
    "        #println(\"best norm: \", norm(best))\n",
    "        #println(\"dist max :\" , objective(best))\n",
    "        dist[i] = objective(obj.center.genes)\n",
    "        #if dist[i]>300\n",
    "         #   Sigma = 0.01\n",
    "        #end\n",
    "    end\n",
    "    println(\"best final: \", obj.center)\n",
    "    println(\"best final dist: \", objective(obj.center.genes))\n",
    "    #best\n",
    "    dist\n",
    "end"
   ]
  },
  {
   "cell_type": "code",
   "execution_count": null,
   "metadata": {
    "scrolled": true
   },
   "outputs": [],
   "source": [
    "objective = evaluate_bird\n",
    "Npop = 200\n",
    "Ngen = 1000\n",
    "sigma = 0.1\n",
    "mu = 5\n",
    "\n",
    "distances = run_es_bird(Nstep=Ngen, Npop=Npop, Sigma=sigma, mu=mu )\n",
    "plot(distances,legend=:outertopright)\n",
    "xaxis!(\"Ngen\")\n",
    "yaxis!(\"distance\")\n",
    "title!(\"Evolution de la fitness pour l'ES\")\n",
    "max distances = \n",
    "for i in 1:5\n",
    "    res = run_es_bird(Nstep=Ngen, Npop=Npop, Sigma=sigma, mu=mu )\n",
    "    distances = res\n",
    "    plot!(distances)\n",
    "end\n",
    "\n",
    "current()"
   ]
  },
  {
   "cell_type": "markdown",
   "metadata": {},
   "source": [
    "# ____ ES ____ Cumulatif _____"
   ]
  },
  {
   "cell_type": "code",
   "execution_count": null,
   "metadata": {},
   "outputs": [],
   "source": [
    "function run_es_bird_cumul(;Nstep=500, Npop=100, Sigma=0.1, mu=5)\n",
    "    \n",
    "    obj = Obj_es(mu=mu)\n",
    "    \n",
    "    println(\"initial X: \", obj.center)\n",
    "    println(\"initial best: \", obj.best)\n",
    "    \n",
    "    cumul_fitness = objective(obj.center.genes)\n",
    "    \n",
    "    dist = zeros(Nstep)\n",
    "    for i in 1:Nstep\n",
    "        es_step!(obj, npop=Npop, sigma=Sigma)\n",
    "\n",
    "        if(objective(obj.center.genes) > cumul_fitness)\n",
    "            cumul_fitness = objective(obj.center.genes)\n",
    "        end\n",
    "        dist[i] = cumul_fitness\n",
    "        #if dist[i]>300\n",
    "         #   Sigma = 0.01\n",
    "        #end\n",
    "    end\n",
    "    println(\"best final: \", obj.center)\n",
    "    println(\"best final dist: \", objective(obj.center.genes))\n",
    "    #best\n",
    "    dist\n",
    "end"
   ]
  },
  {
   "cell_type": "code",
   "execution_count": null,
   "metadata": {
    "scrolled": true
   },
   "outputs": [],
   "source": [
    "objective = evaluate_bird\n",
    "Npop = 150\n",
    "Ngen = 700\n",
    "sigma = 0.1\n",
    "mu = 5\n",
    "\n",
    "distances = run_es_bird_cumul(Nstep=Ngen, Npop=Npop, Sigma=sigma, mu=mu )\n",
    "plot(distances,legend=:outertopright)\n",
    "xaxis!(\"Ngen\")\n",
    "yaxis!(\"distance\")\n",
    "title!(\"Evolution de la fitness pour l'ES\")\n",
    "\n",
    "\n",
    "for i in 1:10\n",
    "    res = run_es_bird_cumul(Nstep=Ngen, Npop=Npop, Sigma=sigma, mu=mu )\n",
    "    distances = res\n",
    "    plot!(distances)\n",
    "end\n",
    "\n",
    "current()"
   ]
  },
  {
   "cell_type": "markdown",
   "metadata": {},
   "source": [
    "\n",
    "\n",
    "# _______________________________ CMAES __________________________________________\n",
    "\n"
   ]
  },
  {
   "cell_type": "code",
   "execution_count": null,
   "metadata": {},
   "outputs": [],
   "source": [
    "mutable struct CMAES\n",
    "    N::Int\n",
    "    μ::Int\n",
    "    λ::Int\n",
    "    τ::Float64\n",
    "    τ_c::Float64\n",
    "    τ_σ::Float64\n",
    "    population::Array{Array{Float64}}\n",
    "    offspring::Array{Array{Float64}}\n",
    "    F_μ::Array{Float64}\n",
    "    F_λ::Array{Float64}\n",
    "    C::Array{Float64}\n",
    "    s::Array{Float64}\n",
    "    s_σ::Array{Float64}\n",
    "    σ::Float64\n",
    "    E::Array{Float64}\n",
    "    W::Array{Float64}\n",
    "    x::Array{Float64}\n",
    "end"
   ]
  },
  {
   "cell_type": "code",
   "execution_count": null,
   "metadata": {},
   "outputs": [],
   "source": [
    "function CMAES(;N=N_value, μ=mu, λ=lambda, τ=sqrt(N), τ_c=N^2, τ_σ=sqrt(N))\n",
    "    x = randn(N)\n",
    "    population = fill(x, µ)\n",
    "    offspring = Array{Array{Float64}}(undef, λ)\n",
    "    F_µ = Inf .* ones(µ)\n",
    "    F_λ = Inf .* ones(λ)\n",
    "    C = Array(Diagonal{Float64}(I, N))\n",
    "    s = zeros(N)\n",
    "    s_σ = zeros(N)\n",
    "    σ = 1.0\n",
    "    E = zeros(N, λ)\n",
    "    W = zeros(N, λ);\n",
    "    CMAES(N, μ, λ, τ, τ_c, τ_σ, population, offspring, F_µ, F_λ, C, s, s_σ, σ, E, W, x)\n",
    "end"
   ]
  },
  {
   "cell_type": "code",
   "execution_count": null,
   "metadata": {},
   "outputs": [],
   "source": [
    "function step_cmaes!(c::CMAES; obj=objective)\n",
    "    # L1\n",
    "    sqrt_c = cholesky((c.C + c.C') / 2.0).U\n",
    "    for i in 1:c.λ\n",
    "        c.E[:,i] = randn(c.N)\n",
    "        c.W[:,i] = c.σ * (sqrt_c * c.E[:,i])\n",
    "        c.offspring[i] = c.x + c.W[:,i]\n",
    "        c.F_λ[i] =  obj(c.offspring[i])\n",
    "    end    \n",
    "    # Select new parent population\n",
    "    idx = sortperm(c.F_λ)[1:c.μ]\n",
    "    for i in 1:c.μ\n",
    "        c.population[i] = c.offspring[idx[i]]\n",
    "        c.F_μ[i] = c.F_λ[idx[i]]\n",
    "    end    \n",
    "    # L2\n",
    "    w = vec(mean(c.W[:,idx], dims=2))##################################################\n",
    "    c.x += w\n",
    "    # L3\n",
    "    c.s = (1.0 - 1.0/c.τ)*c.s + (sqrt(c.μ/c.τ * (2.0 - 1.0/c.τ))/c.σ)*w   \n",
    "    # L4\n",
    "    c.C = (1.0 - 1.0/c.τ_c).*c.C + (c.s./c.τ_c)*c.s'    \n",
    "    # L5\n",
    "    ɛ = vec(mean(c.E[:,idx], dims=2))##################################################\n",
    "    c.s_σ = (1.0 - 1.0/c.τ_σ)*c.s_σ + sqrt(c.μ/c.τ_σ*(2.0 - 1.0/c.τ_σ))*ɛ    \n",
    "    # L6\n",
    "    c.σ = c.σ*exp(((c.s_σ'*c.s_σ)[1] - c.N)/(2*c.N*sqrt(c.N)))\n",
    "    \n",
    "    if c.σ>1.0\n",
    "        c.σ = 1.0\n",
    "    end\n",
    "    #if c.σ<0.0005\n",
    "    #    c.σ = 0.0005\n",
    "    #end\n",
    "    \n",
    "    c\n",
    "end"
   ]
  },
  {
   "cell_type": "code",
   "execution_count": null,
   "metadata": {
    "scrolled": true
   },
   "outputs": [],
   "source": [
    "function objective_cma(g::Array{Float64})\n",
    "    -1*evaluate_bird(g)\n",
    "end\n",
    "\n",
    "N_value = 5\n",
    "mu = 5\n",
    "lambda = 10\n",
    "c = CMAES()\n",
    "println(c.population[1])\n",
    "println(evaluate_bird(c.population[1]))\n",
    "step_cmaes!(c, obj=objective_cma)\n",
    "println(c.population[1])\n",
    "println(evaluate_bird(c.population[1]))\n",
    "step_cmaes!(c, obj=objective_cma)\n",
    "println(c.population[1])\n",
    "println(evaluate_bird(c.population[1]))\n",
    "step_cmaes!(c, obj=objective_cma)\n",
    "println(c.population[1])\n",
    "println(evaluate_bird(c.population[1]))"
   ]
  },
  {
   "cell_type": "code",
<<<<<<< HEAD
   "execution_count": 5,
   "metadata": {},
   "outputs": [
    {
     "data": {
      "text/plain": [
       "run_cmaes (generic function with 1 method)"
      ]
     },
     "execution_count": 5,
     "metadata": {},
     "output_type": "execute_result"
    }
   ],
=======
   "execution_count": null,
   "metadata": {},
   "outputs": [],
>>>>>>> origin/louise_tests
   "source": [
    "function run_cmaes(;Nstep=500, mu=5, lambda=10)\n",
    "    c = CMAES()\n",
    "    sigs = zeros(Nstep)\n",
    "    dist = zeros(Nstep)\n",
    "    for i in 1:Nstep\n",
    "        step_cmaes!(c,obj=objective_cma)\n",
    "        sigs[i] = c.σ\n",
    "        dist[i] = evaluate_bird(c.x)\n",
    "    end\n",
    "    [c.x, sigs, dist]\n",
    "end\n",
    "    "
   ]
  },
  {
   "cell_type": "code",
   "execution_count": null,
   "metadata": {},
   "outputs": [],
   "source": [
    "Nstep = 500\n",
    "mu = 1\n",
    "lambda = 50\n",
    "\n",
    "flappy_boss = Bird()\n",
    "res = run_cmaes(Nstep=Nstep, mu=mu, lambda=lambda)\n",
    "flappy_boss.genes = res[1]\n",
    "evaluate!(flappy_boss)\n",
    "println(flappy_boss)\n",
    "\n",
    "sigs = res[2]\n",
    "p1 = plot(sigs)\n",
    "xaxis!(\"ngen\")\n",
    "yaxis!(\"sig\")\n",
    "\n",
    "dist = res[3]\n",
    "p2 = plot(dist)\n",
    "xaxis!(\"ngen\")\n",
    "yaxis!(\"dist\")\n",
    "\n",
    "plot(p1, p2, layout=(2,1))\n",
    "\n",
    "#Bird([-4.991793690362872, -1.0548510731723693, -0.46613776158659587, -2.281903602732939, -0.0011843804167953435], 332.30109957667014)"
   ]
  },
  {
   "cell_type": "code",
   "execution_count": null,
   "metadata": {},
   "outputs": [],
   "source": [
    "Nrun=10\n",
    "Nstep = 1000\n",
    "mu=5\n",
    "lambda= 50\n",
    "\n",
    "distances = zeros(Nstep, Nrun)\n",
    "birds = Array{Bird}(undef, Nrun)\n",
    "for i in 1:Nrun\n",
    "    res = run_cmaes(Nstep=Nstep, mu=mu, lambda=lambda)\n",
    "    distances[:,i] = res[3]\n",
    "    birds[i] = Bird()\n",
    "    birds[i].genes = res[1]\n",
    "    evaluate!(birds[i])\n",
    "end\n",
    "\n",
    "println(birds)\n",
    "plot(distances)\n",
    "xaxis!(\"Ngen\")\n",
    "yaxis!(\"distance\")\n",
    "title!(\"Evolution de la fitness avec CMA-ES\")"
   ]
  },
  {
   "cell_type": "markdown",
   "metadata": {},
   "source": [
    "# ____ CMA-ES Cumulatif ____"
   ]
  },
  {
   "cell_type": "code",
   "execution_count": null,
   "metadata": {},
   "outputs": [],
   "source": [
    "function run_cmaes_cumul(;Nstep=500, mu=5, lambda=10)\n",
    "    c = CMAES()\n",
    "    sigs = zeros(Nstep)\n",
    "    dist = zeros(Nstep)\n",
    "    fitness_cumu = 0\n",
    "    \n",
    "    for i in 1:Nstep\n",
    "        step_cmaes!(c,obj=objective_cma)\n",
    "        sigs[i] = c.σ\n",
    "        if(evaluate_bird(c.x) > fitness_cumu)\n",
    "            fitness_cumu = evaluate_bird(c.x)\n",
    "        end\n",
    "        dist[i] = fitness_cumu\n",
    "    end\n",
    "    [c.x, sigs, dist]\n",
    "end\n",
    "    "
   ]
  },
  {
   "cell_type": "code",
   "execution_count": null,
   "metadata": {},
   "outputs": [],
   "source": [
    "Nrun=10\n",
    "Nstep = 100\n",
    "mu=25\n",
    "lambda= 50\n",
    "\n",
    "distances = zeros(Nstep, Nrun)\n",
    "birds = Array{Bird}(undef, Nrun)\n",
    "for i in 1:Nrun\n",
    "    res = run_cmaes_cumul(Nstep=Nstep, mu=mu, lambda=lambda)\n",
    "    distances[:,i] = res[3]\n",
    "    birds[i] = Bird()\n",
    "    birds[i].genes = res[1]\n",
    "    evaluate!(birds[i])\n",
    "end\n",
    "\n",
    "println(birds)\n",
    "plot(distances,legend=:outertopright)\n",
    "xaxis!(\"Ngen\")\n",
    "yaxis!(\"distance\")\n",
    "title!(\"Evolution de la fitness avec CMA-ES\")"
   ]
  },
  {
   "cell_type": "markdown",
   "metadata": {},
   "source": [
    "# Comparaison des deux algorithmes"
   ]
  },
  {
   "cell_type": "code",
   "execution_count": null,
   "metadata": {},
   "outputs": [],
   "source": [
    "### ES MU+LAMBDA #####\n",
    "\n",
    "objective = evaluate_bird\n",
    "Nrun=10\n",
    "Npop = 150\n",
    "lambda = 50\n",
    "Ngen =00\n",
    "Ngen = 200\n",
    "sigma = 0.1\n",
    "mu = 5\n",
    "\n",
    "distances = run_es_bird_cumul(Nstep=Ngen, Npop=Npop, Sigma=sigma, mu=mu )\n",
    "plot(distances,legend=:outertopright)\n",
    "xaxis!(\"Ngen\")\n",
    "yaxis!(\"distance\")\n",
    "title!(\"Evolution de la fitness pour l'ES\")\n",
    "\n",
    "\n",
    "for i in 1:NRUN\n",
    "    res = run_es_bird_cumul(Nstep=Ngen, Npop=Npop, Sigma=sigma, mu=mu )\n",
    "    distances = res\n",
    "    plot!(distances)\n",
    "end\n",
    "\n",
    "current()\n",
    "\n",
    "\n",
    "#### CMAES #######\n",
    "\n",
    "\n",
    "\n",
    "Nstep = 100\n",
    "mu=25\n",
    "lambda= 50\n",
    "\n",
    "distances = zeros(Nstep, Nrun)\n",
    "birds = Array{Bird}(undef, Nrun)\n",
    "for i in 1:Nrun\n",
    "    res = run_cmaes_cumul(Nstep=Nstep, mu=mu, lambda=lambda)\n",
    "    distances[:,i] = res[3]\n",
    "    birds[i] = Bird()\n",
    "    birds[i].genes = res[1]\n",
    "    evaluate!(birds[i])\n",
    "end\n",
    "\n",
    "println(birds)\n",
    "plot(distances,legend=:outertopright)\n",
    "xaxis!(\"Ngen\")\n",
    "yaxis!(\"distance\")\n",
    "title!(\"Evolution de la fitness avec CMA-ES\")"
   ]
  },
  {
   "cell_type": "markdown",
   "metadata": {},
   "source": [
    "# Petits tests bêtes pour comprendre la base"
   ]
  },
  {
   "cell_type": "code",
   "execution_count": null,
   "metadata": {},
   "outputs": [],
   "source": [
    "pop = Array{Bird}(undef, 5)\n",
    "\n",
    "for i in eachindex(pop)\n",
    "    pop[i] = Bird()\n",
    "    evaluate!(pop[i])\n",
    "end\n",
    "println(pop)\n",
    "\n",
    "pop2 = sort(pop, rev=true)"
   ]
  },
  {
   "cell_type": "code",
   "execution_count": null,
   "metadata": {},
   "outputs": [],
   "source": [
    "N = ones(3,2)\n",
    "println(N)\n",
    "S = [5,10]\n",
    "#println(N.*S)\n",
    "#println(S.*N)\n",
    "#println(dot(S,N))\n",
    "#println(dot(N,S))\n",
    "#res1 = [dot(N[:, i]) for i in 1:size(N, 2)]\n",
    "#println(\"res1 \",res1)\n",
    "\n",
    "res2 = reshape([N[i,:].*S for i in 1:3],3,2)\n",
    "println(\"res2 \",res2)\n",
    "\n",
    "x = [2.0,4.0]\n",
    "P = repeat(x,1,3)\n",
    "println(P')\n",
    "\n",
    "println(P'.+N)\n",
    "println(P'.+res2)"
   ]
  },
  {
   "cell_type": "code",
   "execution_count": 67,
   "metadata": {},
<<<<<<< HEAD
   "outputs": [
    {
     "data": {
      "text/plain": [
       "histogram_birds (generic function with 3 methods)"
      ]
     },
     "execution_count": 67,
     "metadata": {},
     "output_type": "execute_result"
    }
   ],
   "source": [
    "function histogram_birds(method::Function, thresholds::Array{Int}, nTests::Int)\n",
    "    list_res = zeros(nTests)\n",
    "    max_found = 0\n",
    "    for i in 1:nTests\n",
    "        println(\"Test n.\",i,\" started ...\")\n",
    "        res = method()\n",
    "        list_res[i] = res\n",
    "        if res>max_found\n",
    "            max_found=res\n",
    "        end\n",
    "    end\n",
    "    println(\"Plotting ... max found = \", max_found)\n",
    "    arr = zeros(length(thresholds)+2)\n",
    "    arr[1] = 0\n",
    "    for k in 1:length(thresholds)\n",
    "        arr[k+1]=thresholds[k]\n",
    "    end\n",
    "    arr[length(thresholds)+2] = max_found+1\n",
    "    histogram(list_res, bins=arr)\n",
    "end"
   ]
  },
  {
   "cell_type": "code",
   "execution_count": 68,
   "metadata": {},
   "outputs": [
    {
     "data": {
      "text/plain": [
       "histogram_birds (generic function with 3 methods)"
      ]
     },
     "execution_count": 68,
     "metadata": {},
     "output_type": "execute_result"
    }
   ],
   "source": [
    "function histogram_birds()\n",
    "    histogram_birds(method, thresholds, nTests)\n",
    "end"
   ]
  },
  {
   "cell_type": "code",
   "execution_count": 16,
   "metadata": {},
   "outputs": [
    {
     "data": {
      "text/plain": [
       "random_unif (generic function with 2 methods)"
      ]
     },
     "execution_count": 16,
     "metadata": {},
     "output_type": "execute_result"
    }
   ],
   "source": [
    "function random_unif(limit::Float64)\n",
    "    rand()*limit\n",
    "end\n",
    "\n",
    "function random_unif()\n",
    "    random_unif(500.0)\n",
    "end"
   ]
  },
  {
   "cell_type": "code",
   "execution_count": 72,
   "metadata": {},
   "outputs": [
    {
     "name": "stdout",
     "output_type": "stream",
     "text": [
      "Test n.1 started ...\n",
      "Test n.2 started ...\n",
      "Test n.3 started ...\n",
      "Test n.4 started ...\n",
      "Test n.5 started ...\n",
      "Test n.6 started ...\n",
      "Test n.7 started ...\n",
      "Test n.8 started ...\n",
      "Test n.9 started ...\n",
      "Test n.10 started ...\n",
      "Test n.11 started ...\n",
      "Test n.12 started ...\n",
      "Test n.13 started ...\n",
      "Test n.14 started ...\n",
      "Test n.15 started ...\n",
      "Test n.16 started ...\n",
      "Test n.17 started ...\n",
      "Test n.18 started ...\n",
      "Test n.19 started ...\n",
      "Test n.20 started ...\n",
      "Plotting ... max found = 412.7902937897372\n"
     ]
    },
    {
     "data": {
      "image/svg+xml": [
       "<?xml version=\"1.0\" encoding=\"utf-8\"?>\n",
       "<svg xmlns=\"http://www.w3.org/2000/svg\" xmlns:xlink=\"http://www.w3.org/1999/xlink\" width=\"600\" height=\"400\" viewBox=\"0 0 2400 1600\">\n",
       "<defs>\n",
       "  <clipPath id=\"clip160\">\n",
       "    <rect x=\"0\" y=\"0\" width=\"2400\" height=\"1600\"/>\n",
       "  </clipPath>\n",
       "</defs>\n",
       "<path clip-path=\"url(#clip160)\" d=\"\n",
       "M0 1600 L2400 1600 L2400 0 L0 0  Z\n",
       "  \" fill=\"#ffffff\" fill-rule=\"evenodd\" fill-opacity=\"1\"/>\n",
       "<defs>\n",
       "  <clipPath id=\"clip161\">\n",
       "    <rect x=\"480\" y=\"0\" width=\"1681\" height=\"1600\"/>\n",
       "  </clipPath>\n",
       "</defs>\n",
       "<path clip-path=\"url(#clip160)\" d=\"\n",
       "M171.552 1486.45 L2352.76 1486.45 L2352.76 47.2441 L171.552 47.2441  Z\n",
       "  \" fill=\"#ffffff\" fill-rule=\"evenodd\" fill-opacity=\"1\"/>\n",
       "<defs>\n",
       "  <clipPath id=\"clip162\">\n",
       "    <rect x=\"171\" y=\"47\" width=\"2182\" height=\"1440\"/>\n",
       "  </clipPath>\n",
       "</defs>\n",
       "<polyline clip-path=\"url(#clip162)\" style=\"stroke:#000000; stroke-width:2; stroke-opacity:0.1; fill:none\" points=\"\n",
       "  291.522,1486.45 291.522,47.2441 \n",
       "  \"/>\n",
       "<polyline clip-path=\"url(#clip162)\" style=\"stroke:#000000; stroke-width:2; stroke-opacity:0.1; fill:none\" points=\"\n",
       "  760.664,1486.45 760.664,47.2441 \n",
       "  \"/>\n",
       "<polyline clip-path=\"url(#clip162)\" style=\"stroke:#000000; stroke-width:2; stroke-opacity:0.1; fill:none\" points=\"\n",
       "  1229.81,1486.45 1229.81,47.2441 \n",
       "  \"/>\n",
       "<polyline clip-path=\"url(#clip162)\" style=\"stroke:#000000; stroke-width:2; stroke-opacity:0.1; fill:none\" points=\"\n",
       "  1698.95,1486.45 1698.95,47.2441 \n",
       "  \"/>\n",
       "<polyline clip-path=\"url(#clip162)\" style=\"stroke:#000000; stroke-width:2; stroke-opacity:0.1; fill:none\" points=\"\n",
       "  2168.09,1486.45 2168.09,47.2441 \n",
       "  \"/>\n",
       "<polyline clip-path=\"url(#clip162)\" style=\"stroke:#000000; stroke-width:2; stroke-opacity:0.1; fill:none\" points=\"\n",
       "  171.552,1445.72 2352.76,1445.72 \n",
       "  \"/>\n",
       "<polyline clip-path=\"url(#clip162)\" style=\"stroke:#000000; stroke-width:2; stroke-opacity:0.1; fill:none\" points=\"\n",
       "  171.552,1106.28 2352.76,1106.28 \n",
       "  \"/>\n",
       "<polyline clip-path=\"url(#clip162)\" style=\"stroke:#000000; stroke-width:2; stroke-opacity:0.1; fill:none\" points=\"\n",
       "  171.552,766.846 2352.76,766.846 \n",
       "  \"/>\n",
       "<polyline clip-path=\"url(#clip162)\" style=\"stroke:#000000; stroke-width:2; stroke-opacity:0.1; fill:none\" points=\"\n",
       "  171.552,427.411 2352.76,427.411 \n",
       "  \"/>\n",
       "<polyline clip-path=\"url(#clip162)\" style=\"stroke:#000000; stroke-width:2; stroke-opacity:0.1; fill:none\" points=\"\n",
       "  171.552,87.9763 2352.76,87.9763 \n",
       "  \"/>\n",
       "<polyline clip-path=\"url(#clip160)\" style=\"stroke:#000000; stroke-width:4; stroke-opacity:1; fill:none\" points=\"\n",
       "  171.552,1486.45 2352.76,1486.45 \n",
       "  \"/>\n",
       "<polyline clip-path=\"url(#clip160)\" style=\"stroke:#000000; stroke-width:4; stroke-opacity:1; fill:none\" points=\"\n",
       "  171.552,1486.45 171.552,47.2441 \n",
       "  \"/>\n",
       "<polyline clip-path=\"url(#clip160)\" style=\"stroke:#000000; stroke-width:4; stroke-opacity:1; fill:none\" points=\"\n",
       "  291.522,1486.45 291.522,1469.18 \n",
       "  \"/>\n",
       "<polyline clip-path=\"url(#clip160)\" style=\"stroke:#000000; stroke-width:4; stroke-opacity:1; fill:none\" points=\"\n",
       "  760.664,1486.45 760.664,1469.18 \n",
       "  \"/>\n",
       "<polyline clip-path=\"url(#clip160)\" style=\"stroke:#000000; stroke-width:4; stroke-opacity:1; fill:none\" points=\"\n",
       "  1229.81,1486.45 1229.81,1469.18 \n",
       "  \"/>\n",
       "<polyline clip-path=\"url(#clip160)\" style=\"stroke:#000000; stroke-width:4; stroke-opacity:1; fill:none\" points=\"\n",
       "  1698.95,1486.45 1698.95,1469.18 \n",
       "  \"/>\n",
       "<polyline clip-path=\"url(#clip160)\" style=\"stroke:#000000; stroke-width:4; stroke-opacity:1; fill:none\" points=\"\n",
       "  2168.09,1486.45 2168.09,1469.18 \n",
       "  \"/>\n",
       "<polyline clip-path=\"url(#clip160)\" style=\"stroke:#000000; stroke-width:4; stroke-opacity:1; fill:none\" points=\"\n",
       "  171.552,1445.72 197.726,1445.72 \n",
       "  \"/>\n",
       "<polyline clip-path=\"url(#clip160)\" style=\"stroke:#000000; stroke-width:4; stroke-opacity:1; fill:none\" points=\"\n",
       "  171.552,1106.28 197.726,1106.28 \n",
       "  \"/>\n",
       "<polyline clip-path=\"url(#clip160)\" style=\"stroke:#000000; stroke-width:4; stroke-opacity:1; fill:none\" points=\"\n",
       "  171.552,766.846 197.726,766.846 \n",
       "  \"/>\n",
       "<polyline clip-path=\"url(#clip160)\" style=\"stroke:#000000; stroke-width:4; stroke-opacity:1; fill:none\" points=\"\n",
       "  171.552,427.411 197.726,427.411 \n",
       "  \"/>\n",
       "<polyline clip-path=\"url(#clip160)\" style=\"stroke:#000000; stroke-width:4; stroke-opacity:1; fill:none\" points=\"\n",
       "  171.552,87.9763 197.726,87.9763 \n",
       "  \"/>\n",
       "<path clip-path=\"url(#clip160)\" d=\"M 0 0 M291.522 1508.44 Q287.911 1508.44 286.082 1512 Q284.277 1515.55 284.277 1522.67 Q284.277 1529.78 286.082 1533.35 Q287.911 1536.89 291.522 1536.89 Q295.156 1536.89 296.962 1533.35 Q298.79 1529.78 298.79 1522.67 Q298.79 1515.55 296.962 1512 Q295.156 1508.44 291.522 1508.44 M291.522 1504.73 Q297.332 1504.73 300.388 1509.34 Q303.466 1513.92 303.466 1522.67 Q303.466 1531.4 300.388 1536.01 Q297.332 1540.59 291.522 1540.59 Q285.712 1540.59 282.633 1536.01 Q279.578 1531.4 279.578 1522.67 Q279.578 1513.92 282.633 1509.34 Q285.712 1504.73 291.522 1504.73 Z\" fill=\"#000000\" fill-rule=\"evenodd\" fill-opacity=\"1\" /><path clip-path=\"url(#clip160)\" d=\"M 0 0 M724.032 1535.98 L731.671 1535.98 L731.671 1509.62 L723.361 1511.29 L723.361 1507.03 L731.625 1505.36 L736.301 1505.36 L736.301 1535.98 L743.939 1535.98 L743.939 1539.92 L724.032 1539.92 L724.032 1535.98 Z\" fill=\"#000000\" fill-rule=\"evenodd\" fill-opacity=\"1\" /><path clip-path=\"url(#clip160)\" d=\"M 0 0 M759.009 1508.44 Q755.398 1508.44 753.569 1512 Q751.763 1515.55 751.763 1522.67 Q751.763 1529.78 753.569 1533.35 Q755.398 1536.89 759.009 1536.89 Q762.643 1536.89 764.449 1533.35 Q766.277 1529.78 766.277 1522.67 Q766.277 1515.55 764.449 1512 Q762.643 1508.44 759.009 1508.44 M759.009 1504.73 Q764.819 1504.73 767.875 1509.34 Q770.953 1513.92 770.953 1522.67 Q770.953 1531.4 767.875 1536.01 Q764.819 1540.59 759.009 1540.59 Q753.199 1540.59 750.12 1536.01 Q747.064 1531.4 747.064 1522.67 Q747.064 1513.92 750.12 1509.34 Q753.199 1504.73 759.009 1504.73 Z\" fill=\"#000000\" fill-rule=\"evenodd\" fill-opacity=\"1\" /><path clip-path=\"url(#clip160)\" d=\"M 0 0 M786.023 1508.44 Q782.411 1508.44 780.583 1512 Q778.777 1515.55 778.777 1522.67 Q778.777 1529.78 780.583 1533.35 Q782.411 1536.89 786.023 1536.89 Q789.657 1536.89 791.462 1533.35 Q793.291 1529.78 793.291 1522.67 Q793.291 1515.55 791.462 1512 Q789.657 1508.44 786.023 1508.44 M786.023 1504.73 Q791.833 1504.73 794.888 1509.34 Q797.967 1513.92 797.967 1522.67 Q797.967 1531.4 794.888 1536.01 Q791.833 1540.59 786.023 1540.59 Q780.212 1540.59 777.134 1536.01 Q774.078 1531.4 774.078 1522.67 Q774.078 1513.92 777.134 1509.34 Q780.212 1504.73 786.023 1504.73 Z\" fill=\"#000000\" fill-rule=\"evenodd\" fill-opacity=\"1\" /><path clip-path=\"url(#clip160)\" d=\"M 0 0 M1197.44 1535.98 L1213.76 1535.98 L1213.76 1539.92 L1191.82 1539.92 L1191.82 1535.98 Q1194.48 1533.23 1199.07 1528.6 Q1203.67 1523.95 1204.85 1522.61 Q1207.1 1520.08 1207.98 1518.35 Q1208.88 1516.59 1208.88 1514.9 Q1208.88 1512.14 1206.94 1510.41 Q1205.01 1508.67 1201.91 1508.67 Q1199.71 1508.67 1197.26 1509.43 Q1194.83 1510.2 1192.05 1511.75 L1192.05 1507.03 Q1194.88 1505.89 1197.33 1505.31 Q1199.78 1504.73 1201.82 1504.73 Q1207.19 1504.73 1210.38 1507.42 Q1213.58 1510.11 1213.58 1514.6 Q1213.58 1516.73 1212.77 1518.65 Q1211.98 1520.54 1209.88 1523.14 Q1209.3 1523.81 1206.19 1527.03 Q1203.09 1530.22 1197.44 1535.98 Z\" fill=\"#000000\" fill-rule=\"evenodd\" fill-opacity=\"1\" /><path clip-path=\"url(#clip160)\" d=\"M 0 0 M1228.83 1508.44 Q1225.22 1508.44 1223.39 1512 Q1221.59 1515.55 1221.59 1522.67 Q1221.59 1529.78 1223.39 1533.35 Q1225.22 1536.89 1228.83 1536.89 Q1232.47 1536.89 1234.27 1533.35 Q1236.1 1529.78 1236.1 1522.67 Q1236.1 1515.55 1234.27 1512 Q1232.47 1508.44 1228.83 1508.44 M1228.83 1504.73 Q1234.64 1504.73 1237.7 1509.34 Q1240.78 1513.92 1240.78 1522.67 Q1240.78 1531.4 1237.7 1536.01 Q1234.64 1540.59 1228.83 1540.59 Q1223.02 1540.59 1219.94 1536.01 Q1216.89 1531.4 1216.89 1522.67 Q1216.89 1513.92 1219.94 1509.34 Q1223.02 1504.73 1228.83 1504.73 Z\" fill=\"#000000\" fill-rule=\"evenodd\" fill-opacity=\"1\" /><path clip-path=\"url(#clip160)\" d=\"M 0 0 M1255.85 1508.44 Q1252.24 1508.44 1250.41 1512 Q1248.6 1515.55 1248.6 1522.67 Q1248.6 1529.78 1250.41 1533.35 Q1252.24 1536.89 1255.85 1536.89 Q1259.48 1536.89 1261.29 1533.35 Q1263.12 1529.78 1263.12 1522.67 Q1263.12 1515.55 1261.29 1512 Q1259.48 1508.44 1255.85 1508.44 M1255.85 1504.73 Q1261.66 1504.73 1264.71 1509.34 Q1267.79 1513.92 1267.79 1522.67 Q1267.79 1531.4 1264.71 1536.01 Q1261.66 1540.59 1255.85 1540.59 Q1250.04 1540.59 1246.96 1536.01 Q1243.9 1531.4 1243.9 1522.67 Q1243.9 1513.92 1246.96 1509.34 Q1250.04 1504.73 1255.85 1504.73 Z\" fill=\"#000000\" fill-rule=\"evenodd\" fill-opacity=\"1\" /><path clip-path=\"url(#clip160)\" d=\"M 0 0 M1676.18 1521.29 Q1679.54 1522 1681.41 1524.27 Q1683.31 1526.54 1683.31 1529.87 Q1683.31 1534.99 1679.79 1537.79 Q1676.27 1540.59 1669.79 1540.59 Q1667.62 1540.59 1665.3 1540.15 Q1663.01 1539.73 1660.56 1538.88 L1660.56 1534.36 Q1662.5 1535.5 1664.82 1536.08 Q1667.13 1536.66 1669.65 1536.66 Q1674.05 1536.66 1676.34 1534.92 Q1678.66 1533.18 1678.66 1529.87 Q1678.66 1526.82 1676.51 1525.11 Q1674.38 1523.37 1670.56 1523.37 L1666.53 1523.37 L1666.53 1519.53 L1670.74 1519.53 Q1674.19 1519.53 1676.02 1518.16 Q1677.85 1516.77 1677.85 1514.18 Q1677.85 1511.52 1675.95 1510.11 Q1674.08 1508.67 1670.56 1508.67 Q1668.64 1508.67 1666.44 1509.09 Q1664.24 1509.5 1661.6 1510.38 L1661.6 1506.22 Q1664.26 1505.48 1666.58 1505.11 Q1668.91 1504.73 1670.97 1504.73 Q1676.3 1504.73 1679.4 1507.17 Q1682.5 1509.57 1682.5 1513.69 Q1682.5 1516.56 1680.86 1518.55 Q1679.21 1520.52 1676.18 1521.29 Z\" fill=\"#000000\" fill-rule=\"evenodd\" fill-opacity=\"1\" /><path clip-path=\"url(#clip160)\" d=\"M 0 0 M1698.38 1508.44 Q1694.77 1508.44 1692.94 1512 Q1691.14 1515.55 1691.14 1522.67 Q1691.14 1529.78 1692.94 1533.35 Q1694.77 1536.89 1698.38 1536.89 Q1702.01 1536.89 1703.82 1533.35 Q1705.65 1529.78 1705.65 1522.67 Q1705.65 1515.55 1703.82 1512 Q1702.01 1508.44 1698.38 1508.44 M1698.38 1504.73 Q1704.19 1504.73 1707.25 1509.34 Q1710.33 1513.92 1710.33 1522.67 Q1710.33 1531.4 1707.25 1536.01 Q1704.19 1540.59 1698.38 1540.59 Q1692.57 1540.59 1689.49 1536.01 Q1686.44 1531.4 1686.44 1522.67 Q1686.44 1513.92 1689.49 1509.34 Q1692.57 1504.73 1698.38 1504.73 Z\" fill=\"#000000\" fill-rule=\"evenodd\" fill-opacity=\"1\" /><path clip-path=\"url(#clip160)\" d=\"M 0 0 M1725.39 1508.44 Q1721.78 1508.44 1719.95 1512 Q1718.15 1515.55 1718.15 1522.67 Q1718.15 1529.78 1719.95 1533.35 Q1721.78 1536.89 1725.39 1536.89 Q1729.03 1536.89 1730.83 1533.35 Q1732.66 1529.78 1732.66 1522.67 Q1732.66 1515.55 1730.83 1512 Q1729.03 1508.44 1725.39 1508.44 M1725.39 1504.73 Q1731.2 1504.73 1734.26 1509.34 Q1737.34 1513.92 1737.34 1522.67 Q1737.34 1531.4 1734.26 1536.01 Q1731.2 1540.59 1725.39 1540.59 Q1719.58 1540.59 1716.51 1536.01 Q1713.45 1531.4 1713.45 1522.67 Q1713.45 1513.92 1716.51 1509.34 Q1719.58 1504.73 1725.39 1504.73 Z\" fill=\"#000000\" fill-rule=\"evenodd\" fill-opacity=\"1\" /><path clip-path=\"url(#clip160)\" d=\"M 0 0 M2144.09 1509.43 L2132.28 1527.88 L2144.09 1527.88 L2144.09 1509.43 M2142.86 1505.36 L2148.74 1505.36 L2148.74 1527.88 L2153.67 1527.88 L2153.67 1531.77 L2148.74 1531.77 L2148.74 1539.92 L2144.09 1539.92 L2144.09 1531.77 L2128.48 1531.77 L2128.48 1527.26 L2142.86 1505.36 Z\" fill=\"#000000\" fill-rule=\"evenodd\" fill-opacity=\"1\" /><path clip-path=\"url(#clip160)\" d=\"M 0 0 M2168.74 1508.44 Q2165.13 1508.44 2163.3 1512 Q2161.49 1515.55 2161.49 1522.67 Q2161.49 1529.78 2163.3 1533.35 Q2165.13 1536.89 2168.74 1536.89 Q2172.37 1536.89 2174.18 1533.35 Q2176.01 1529.78 2176.01 1522.67 Q2176.01 1515.55 2174.18 1512 Q2172.37 1508.44 2168.74 1508.44 M2168.74 1504.73 Q2174.55 1504.73 2177.6 1509.34 Q2180.68 1513.92 2180.68 1522.67 Q2180.68 1531.4 2177.6 1536.01 Q2174.55 1540.59 2168.74 1540.59 Q2162.93 1540.59 2159.85 1536.01 Q2156.79 1531.4 2156.79 1522.67 Q2156.79 1513.92 2159.85 1509.34 Q2162.93 1504.73 2168.74 1504.73 Z\" fill=\"#000000\" fill-rule=\"evenodd\" fill-opacity=\"1\" /><path clip-path=\"url(#clip160)\" d=\"M 0 0 M2195.75 1508.44 Q2192.14 1508.44 2190.31 1512 Q2188.51 1515.55 2188.51 1522.67 Q2188.51 1529.78 2190.31 1533.35 Q2192.14 1536.89 2195.75 1536.89 Q2199.39 1536.89 2201.19 1533.35 Q2203.02 1529.78 2203.02 1522.67 Q2203.02 1515.55 2201.19 1512 Q2199.39 1508.44 2195.75 1508.44 M2195.75 1504.73 Q2201.56 1504.73 2204.62 1509.34 Q2207.7 1513.92 2207.7 1522.67 Q2207.7 1531.4 2204.62 1536.01 Q2201.56 1540.59 2195.75 1540.59 Q2189.94 1540.59 2186.86 1536.01 Q2183.81 1531.4 2183.81 1522.67 Q2183.81 1513.92 2186.86 1509.34 Q2189.94 1504.73 2195.75 1504.73 Z\" fill=\"#000000\" fill-rule=\"evenodd\" fill-opacity=\"1\" /><path clip-path=\"url(#clip160)\" d=\"M 0 0 M98.6401 1431.51 Q95.029 1431.51 93.2003 1435.08 Q91.3948 1438.62 91.3948 1445.75 Q91.3948 1452.86 93.2003 1456.42 Q95.029 1459.96 98.6401 1459.96 Q102.274 1459.96 104.08 1456.42 Q105.909 1452.86 105.909 1445.75 Q105.909 1438.62 104.08 1435.08 Q102.274 1431.51 98.6401 1431.51 M98.6401 1427.81 Q104.45 1427.81 107.506 1432.42 Q110.584 1437 110.584 1445.75 Q110.584 1454.48 107.506 1459.08 Q104.45 1463.67 98.6401 1463.67 Q92.8299 1463.67 89.7512 1459.08 Q86.6957 1454.48 86.6957 1445.75 Q86.6957 1437 89.7512 1432.42 Q92.8299 1427.81 98.6401 1427.81 Z\" fill=\"#000000\" fill-rule=\"evenodd\" fill-opacity=\"1\" /><path clip-path=\"url(#clip160)\" d=\"M 0 0 M115.654 1457.12 L120.538 1457.12 L120.538 1463 L115.654 1463 L115.654 1457.12 Z\" fill=\"#000000\" fill-rule=\"evenodd\" fill-opacity=\"1\" /><path clip-path=\"url(#clip160)\" d=\"M 0 0 M135.607 1431.51 Q131.996 1431.51 130.168 1435.08 Q128.362 1438.62 128.362 1445.75 Q128.362 1452.86 130.168 1456.42 Q131.996 1459.96 135.607 1459.96 Q139.242 1459.96 141.047 1456.42 Q142.876 1452.86 142.876 1445.75 Q142.876 1438.62 141.047 1435.08 Q139.242 1431.51 135.607 1431.51 M135.607 1427.81 Q141.418 1427.81 144.473 1432.42 Q147.552 1437 147.552 1445.75 Q147.552 1454.48 144.473 1459.08 Q141.418 1463.67 135.607 1463.67 Q129.797 1463.67 126.719 1459.08 Q123.663 1454.48 123.663 1445.75 Q123.663 1437 126.719 1432.42 Q129.797 1427.81 135.607 1427.81 Z\" fill=\"#000000\" fill-rule=\"evenodd\" fill-opacity=\"1\" /><path clip-path=\"url(#clip160)\" d=\"M 0 0 M95.2605 1119.63 L111.58 1119.63 L111.58 1123.56 L89.6355 1123.56 L89.6355 1119.63 Q92.2975 1116.87 96.8808 1112.24 Q101.487 1107.59 102.668 1106.25 Q104.913 1103.72 105.793 1101.99 Q106.696 1100.23 106.696 1098.54 Q106.696 1095.78 104.751 1094.05 Q102.83 1092.31 99.728 1092.31 Q97.529 1092.31 95.0753 1093.07 Q92.6447 1093.84 89.867 1095.39 L89.867 1090.67 Q92.691 1089.53 95.1447 1088.95 Q97.5984 1088.38 99.6354 1088.38 Q105.006 1088.38 108.2 1091.06 Q111.395 1093.75 111.395 1098.24 Q111.395 1100.37 110.584 1102.29 Q109.797 1104.19 107.691 1106.78 Q107.112 1107.45 104.01 1110.67 Q100.909 1113.86 95.2605 1119.63 Z\" fill=\"#000000\" fill-rule=\"evenodd\" fill-opacity=\"1\" /><path clip-path=\"url(#clip160)\" d=\"M 0 0 M116.649 1117.68 L121.533 1117.68 L121.533 1123.56 L116.649 1123.56 L116.649 1117.68 Z\" fill=\"#000000\" fill-rule=\"evenodd\" fill-opacity=\"1\" /><path clip-path=\"url(#clip160)\" d=\"M 0 0 M126.649 1089 L145.006 1089 L145.006 1092.94 L130.932 1092.94 L130.932 1101.41 Q131.95 1101.06 132.969 1100.9 Q133.987 1100.71 135.006 1100.71 Q140.793 1100.71 144.172 1103.89 Q147.552 1107.06 147.552 1112.47 Q147.552 1118.05 144.08 1121.15 Q140.607 1124.23 134.288 1124.23 Q132.112 1124.23 129.844 1123.86 Q127.598 1123.49 125.191 1122.75 L125.191 1118.05 Q127.274 1119.19 129.496 1119.74 Q131.719 1120.3 134.195 1120.3 Q138.2 1120.3 140.538 1118.19 Q142.876 1116.08 142.876 1112.47 Q142.876 1108.86 140.538 1106.76 Q138.2 1104.65 134.195 1104.65 Q132.32 1104.65 130.445 1105.07 Q128.594 1105.48 126.649 1106.36 L126.649 1089 Z\" fill=\"#000000\" fill-rule=\"evenodd\" fill-opacity=\"1\" /><path clip-path=\"url(#clip160)\" d=\"M 0 0 M89.6818 749.566 L108.038 749.566 L108.038 753.501 L93.9642 753.501 L93.9642 761.973 Q94.9827 761.626 96.0012 761.464 Q97.0197 761.279 98.0382 761.279 Q103.825 761.279 107.205 764.45 Q110.584 767.621 110.584 773.038 Q110.584 778.617 107.112 781.719 Q103.64 784.797 97.3206 784.797 Q95.1447 784.797 92.8762 784.427 Q90.6309 784.057 88.2235 783.316 L88.2235 778.617 Q90.3068 779.751 92.529 780.307 Q94.7512 780.862 97.2281 780.862 Q101.233 780.862 103.571 778.756 Q105.909 776.649 105.909 773.038 Q105.909 769.427 103.571 767.321 Q101.233 765.214 97.2281 765.214 Q95.3531 765.214 93.4781 765.631 Q91.6262 766.047 89.6818 766.927 L89.6818 749.566 Z\" fill=\"#000000\" fill-rule=\"evenodd\" fill-opacity=\"1\" /><path clip-path=\"url(#clip160)\" d=\"M 0 0 M115.654 778.246 L120.538 778.246 L120.538 784.126 L115.654 784.126 L115.654 778.246 Z\" fill=\"#000000\" fill-rule=\"evenodd\" fill-opacity=\"1\" /><path clip-path=\"url(#clip160)\" d=\"M 0 0 M135.607 752.645 Q131.996 752.645 130.168 756.209 Q128.362 759.751 128.362 766.881 Q128.362 773.987 130.168 777.552 Q131.996 781.094 135.607 781.094 Q139.242 781.094 141.047 777.552 Q142.876 773.987 142.876 766.881 Q142.876 759.751 141.047 756.209 Q139.242 752.645 135.607 752.645 M135.607 748.941 Q141.418 748.941 144.473 753.547 Q147.552 758.131 147.552 766.881 Q147.552 775.608 144.473 780.214 Q141.418 784.797 135.607 784.797 Q129.797 784.797 126.719 780.214 Q123.663 775.608 123.663 766.881 Q123.663 758.131 126.719 753.547 Q129.797 748.941 135.607 748.941 Z\" fill=\"#000000\" fill-rule=\"evenodd\" fill-opacity=\"1\" /><path clip-path=\"url(#clip160)\" d=\"M 0 0 M89.3577 410.131 L111.58 410.131 L111.58 412.122 L99.0336 444.691 L94.1494 444.691 L105.955 414.066 L89.3577 414.066 L89.3577 410.131 Z\" fill=\"#000000\" fill-rule=\"evenodd\" fill-opacity=\"1\" /><path clip-path=\"url(#clip160)\" d=\"M 0 0 M116.649 438.812 L121.533 438.812 L121.533 444.691 L116.649 444.691 L116.649 438.812 Z\" fill=\"#000000\" fill-rule=\"evenodd\" fill-opacity=\"1\" /><path clip-path=\"url(#clip160)\" d=\"M 0 0 M126.649 410.131 L145.006 410.131 L145.006 414.066 L130.932 414.066 L130.932 422.538 Q131.95 422.191 132.969 422.029 Q133.987 421.844 135.006 421.844 Q140.793 421.844 144.172 425.015 Q147.552 428.187 147.552 433.603 Q147.552 439.182 144.08 442.284 Q140.607 445.362 134.288 445.362 Q132.112 445.362 129.844 444.992 Q127.598 444.622 125.191 443.881 L125.191 439.182 Q127.274 440.316 129.496 440.872 Q131.719 441.427 134.195 441.427 Q138.2 441.427 140.538 439.321 Q142.876 437.214 142.876 433.603 Q142.876 429.992 140.538 427.886 Q138.2 425.779 134.195 425.779 Q132.32 425.779 130.445 426.196 Q128.594 426.613 126.649 427.492 L126.649 410.131 Z\" fill=\"#000000\" fill-rule=\"evenodd\" fill-opacity=\"1\" /><path clip-path=\"url(#clip160)\" d=\"M 0 0 M63.6634 101.321 L71.3023 101.321 L71.3023 74.9555 L62.9921 76.6222 L62.9921 72.3629 L71.256 70.6963 L75.9319 70.6963 L75.9319 101.321 L83.5707 101.321 L83.5707 105.256 L63.6634 105.256 L63.6634 101.321 Z\" fill=\"#000000\" fill-rule=\"evenodd\" fill-opacity=\"1\" /><path clip-path=\"url(#clip160)\" d=\"M 0 0 M98.6401 73.775 Q95.029 73.775 93.2003 77.3398 Q91.3948 80.8814 91.3948 88.011 Q91.3948 95.1174 93.2003 98.6822 Q95.029 102.224 98.6401 102.224 Q102.274 102.224 104.08 98.6822 Q105.909 95.1174 105.909 88.011 Q105.909 80.8814 104.08 77.3398 Q102.274 73.775 98.6401 73.775 M98.6401 70.0713 Q104.45 70.0713 107.506 74.6777 Q110.584 79.261 110.584 88.011 Q110.584 96.7378 107.506 101.344 Q104.45 105.928 98.6401 105.928 Q92.8299 105.928 89.7512 101.344 Q86.6957 96.7378 86.6957 88.011 Q86.6957 79.261 89.7512 74.6777 Q92.8299 70.0713 98.6401 70.0713 Z\" fill=\"#000000\" fill-rule=\"evenodd\" fill-opacity=\"1\" /><path clip-path=\"url(#clip160)\" d=\"M 0 0 M115.654 99.3767 L120.538 99.3767 L120.538 105.256 L115.654 105.256 L115.654 99.3767 Z\" fill=\"#000000\" fill-rule=\"evenodd\" fill-opacity=\"1\" /><path clip-path=\"url(#clip160)\" d=\"M 0 0 M135.607 73.775 Q131.996 73.775 130.168 77.3398 Q128.362 80.8814 128.362 88.011 Q128.362 95.1174 130.168 98.6822 Q131.996 102.224 135.607 102.224 Q139.242 102.224 141.047 98.6822 Q142.876 95.1174 142.876 88.011 Q142.876 80.8814 141.047 77.3398 Q139.242 73.775 135.607 73.775 M135.607 70.0713 Q141.418 70.0713 144.473 74.6777 Q147.552 79.261 147.552 88.011 Q147.552 96.7378 144.473 101.344 Q141.418 105.928 135.607 105.928 Q129.797 105.928 126.719 101.344 Q123.663 96.7378 123.663 88.011 Q123.663 79.261 126.719 74.6777 Q129.797 70.0713 135.607 70.0713 Z\" fill=\"#000000\" fill-rule=\"evenodd\" fill-opacity=\"1\" /><path clip-path=\"url(#clip162)\" d=\"\n",
       "M291.522 1445.72 L291.522 1445.72 L338.436 1445.72 L338.436 1445.72 L291.522 1445.72 L291.522 1445.72  Z\n",
       "  \" fill=\"#009af9\" fill-rule=\"evenodd\" fill-opacity=\"1\"/>\n",
       "<polyline clip-path=\"url(#clip162)\" style=\"stroke:#000000; stroke-width:4; stroke-opacity:1; fill:none\" points=\"\n",
       "  291.522,1445.72 291.522,1445.72 338.436,1445.72 291.522,1445.72 \n",
       "  \"/>\n",
       "<path clip-path=\"url(#clip162)\" d=\"\n",
       "M338.436 1174.17 L338.436 1445.72 L666.836 1445.72 L666.836 1174.17 L338.436 1174.17 L338.436 1174.17  Z\n",
       "  \" fill=\"#009af9\" fill-rule=\"evenodd\" fill-opacity=\"1\"/>\n",
       "<polyline clip-path=\"url(#clip162)\" style=\"stroke:#000000; stroke-width:4; stroke-opacity:1; fill:none\" points=\"\n",
       "  338.436,1174.17 338.436,1445.72 666.836,1445.72 666.836,1174.17 338.436,1174.17 \n",
       "  \"/>\n",
       "<path clip-path=\"url(#clip162)\" d=\"\n",
       "M666.836 87.9763 L666.836 1445.72 L1511.29 1445.72 L1511.29 87.9763 L666.836 87.9763 L666.836 87.9763  Z\n",
       "  \" fill=\"#009af9\" fill-rule=\"evenodd\" fill-opacity=\"1\"/>\n",
       "<polyline clip-path=\"url(#clip162)\" style=\"stroke:#000000; stroke-width:4; stroke-opacity:1; fill:none\" points=\"\n",
       "  666.836,87.9763 666.836,1445.72 1511.29,1445.72 1511.29,87.9763 666.836,87.9763 \n",
       "  \"/>\n",
       "<path clip-path=\"url(#clip162)\" d=\"\n",
       "M1511.29 359.524 L1511.29 1445.72 L2232.79 1445.72 L2232.79 359.524 L1511.29 359.524 L1511.29 359.524  Z\n",
       "  \" fill=\"#009af9\" fill-rule=\"evenodd\" fill-opacity=\"1\"/>\n",
       "<polyline clip-path=\"url(#clip162)\" style=\"stroke:#000000; stroke-width:4; stroke-opacity:1; fill:none\" points=\"\n",
       "  1511.29,359.524 1511.29,1445.72 2232.79,1445.72 2232.79,359.524 1511.29,359.524 \n",
       "  \"/>\n",
       "<path clip-path=\"url(#clip160)\" d=\"\n",
       "M1989.74 251.724 L2280.76 251.724 L2280.76 130.764 L1989.74 130.764  Z\n",
       "  \" fill=\"#ffffff\" fill-rule=\"evenodd\" fill-opacity=\"1\"/>\n",
       "<polyline clip-path=\"url(#clip160)\" style=\"stroke:#000000; stroke-width:4; stroke-opacity:1; fill:none\" points=\"\n",
       "  1989.74,251.724 2280.76,251.724 2280.76,130.764 1989.74,130.764 1989.74,251.724 \n",
       "  \"/>\n",
       "<path clip-path=\"url(#clip160)\" d=\"\n",
       "M2013.74 215.436 L2157.74 215.436 L2157.74 167.052 L2013.74 167.052 L2013.74 215.436  Z\n",
       "  \" fill=\"#009af9\" fill-rule=\"evenodd\" fill-opacity=\"1\"/>\n",
       "<polyline clip-path=\"url(#clip160)\" style=\"stroke:#000000; stroke-width:4; stroke-opacity:1; fill:none\" points=\"\n",
       "  2013.74,215.436 2157.74,215.436 2157.74,167.052 2013.74,167.052 2013.74,215.436 \n",
       "  \"/>\n",
       "<path clip-path=\"url(#clip160)\" d=\"M 0 0 M2195.58 210.931 Q2193.77 215.561 2192.06 216.973 Q2190.35 218.385 2187.48 218.385 L2184.08 218.385 L2184.08 214.82 L2186.58 214.82 Q2188.33 214.82 2189.31 213.987 Q2190.28 213.154 2191.46 210.052 L2192.22 208.107 L2181.74 182.598 L2186.25 182.598 L2194.35 202.876 L2202.46 182.598 L2206.97 182.598 L2195.58 210.931 Z\" fill=\"#000000\" fill-rule=\"evenodd\" fill-opacity=\"1\" /><path clip-path=\"url(#clip160)\" d=\"M 0 0 M2212.85 204.589 L2220.49 204.589 L2220.49 178.223 L2212.18 179.89 L2212.18 175.631 L2220.44 173.964 L2225.12 173.964 L2225.12 204.589 L2232.76 204.589 L2232.76 208.524 L2212.85 208.524 L2212.85 204.589 Z\" fill=\"#000000\" fill-rule=\"evenodd\" fill-opacity=\"1\" /></svg>\n"
      ]
     },
     "execution_count": 72,
     "metadata": {},
     "output_type": "execute_result"
    }
   ],
   "source": [
    "method = random_unif # l'algo doit renvoyer la distance en fin d'évolution\n",
    "thresholds = [10, 80, 260] # les délimitations des cases où ranger les résultats\n",
    "nTests = 20 # nombre de tests à effectuer\n",
    "\n",
    "histogram_birds()"
=======
   "outputs": [],
   "source": [
    "list = [41,42,444,569,1,-3]\n",
    "a = 0\n",
    "for i in list\n",
    "    println(\"i:\",i)\n",
    "    if (max(a,i)!= a)\n",
    "        a = i\n",
    "        println(\"new a:\",a)\n",
    "    end\n",
    "end\n",
    "a"
>>>>>>> origin/louise_tests
   ]
  }
 ],
 "metadata": {
  "kernelspec": {
   "display_name": "Julia 1.3.1",
   "language": "julia",
   "name": "julia-1.3"
  },
  "language_info": {
   "file_extension": ".jl",
   "mimetype": "application/julia",
   "name": "julia",
   "version": "1.3.1"
  }
 },
 "nbformat": 4,
 "nbformat_minor": 2
}
